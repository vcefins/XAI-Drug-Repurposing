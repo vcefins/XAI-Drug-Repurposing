{
 "cells": [
  {
   "cell_type": "code",
   "execution_count": 2,
   "id": "fbc99259",
   "metadata": {},
   "outputs": [],
   "source": [
    "import numpy as np\n",
    "import pandas as pd\n",
    "import os\n",
    "\n",
    "import csv\n",
    "import yaml\n",
    "\n",
    "from rdflib import Graph, Literal, RDF, URIRef\n",
    "from rdflib.namespace import Namespace\n",
    "\n",
    "from tqdm import tqdm"
   ]
  },
  {
   "cell_type": "markdown",
   "id": "c0360359",
   "metadata": {},
   "source": [
    "# Import Data"
   ]
  },
  {
   "cell_type": "markdown",
   "id": "ec32f2d7",
   "metadata": {},
   "source": [
    "## Import DRKG (with rdflib.Graph) -- outdated"
   ]
  },
  {
   "cell_type": "code",
   "execution_count": 2,
   "id": "528d3905",
   "metadata": {},
   "outputs": [],
   "source": [
    "drkg_path = \"data/drkg/drkg.tsv\"\n",
    "ns = Namespace(\"http://drkg.org/graph/\")"
   ]
  },
  {
   "cell_type": "code",
   "execution_count": 3,
   "id": "2d2eec24",
   "metadata": {},
   "outputs": [
    {
     "name": "stdout",
     "output_type": "stream",
     "text": [
      "Loading DRKG database from tsv...\n"
     ]
    }
   ],
   "source": [
    "drkg = Graph()\n",
    "\n",
    "print(\"Loading DRKG database from tsv...\")\n",
    "with open(drkg_path, 'r') as tsv_file:\n",
    "    reader = csv.reader(tsv_file, delimiter='\\t')\n",
    "    for row in reader:\n",
    "        if len(row) == 3:\n",
    "            subject = ns[row[0].replace(' ', '_').replace('|', '_')]\n",
    "            predicate = ns[row[1].replace(' ', '_').replace('>', '_')]\n",
    "            # Determine if object is a URI or a Literal\n",
    "            object = URIRef(row[2].replace(' ', '_').replace('|', '_')) if row[2].startswith('http') else Literal(row[2].replace(' ', '_').replace('|', '_'))\n",
    "            drkg.add((subject, predicate, object))\n",
    "            #print(f'Added:\\n {subject}, \\n {predicate}, \\n {object}.')"
   ]
  },
  {
   "cell_type": "code",
   "execution_count": 46,
   "id": "437051ab",
   "metadata": {},
   "outputs": [],
   "source": [
    "cnt = 0\n",
    "\n",
    "def raw2str(row):\n",
    "    # remove uri and clean predicate\n",
    "    s,p,o = row\n",
    "    if \"drkg\" in s:\n",
    "        return str(s).split(\"/\")[-1], clean_pred(str(p).split(\"/\")[-1]), str(o).split(\"/\")[-1]\n",
    "    else:\n",
    "        return str(s).split(\"/\")[-1], str(p).split(\"/\")[-1], str(o).split(\"/\")[-1]\n",
    "\n",
    "def clean_pred(p):\n",
    "    return str(p).split(\"::\")[1]    # 0 - source, 1 - predicate, 2 - head & tail entity types"
   ]
  },
  {
   "cell_type": "code",
   "execution_count": null,
   "id": "c4434d2d",
   "metadata": {},
   "outputs": [],
   "source": [
    "# Test\n",
    "for row in drkg:\n",
    "    s,p,o = raw2str(row)\n",
    "\n",
    "    if \"MESH\" in s or \"MESH\" in o:\n",
    "        print(s,p,o)\n",
    "        cnt += 1\n",
    "    if cnt > 50: break"
   ]
  },
  {
   "cell_type": "markdown",
   "id": "fb98ac50",
   "metadata": {},
   "source": [
    "## Import DRKG (with pandas)\n",
    "Source: https://github.com/gnn4dr/DRKG/blob/master/raw_graph_analysis/Jaccard_scores_among_all_edge_types_in_DRKG.ipynb"
   ]
  },
  {
   "cell_type": "code",
   "execution_count": null,
   "id": "ac285fb0",
   "metadata": {},
   "outputs": [],
   "source": [
    "drkg_file = 'data/drkg/drkg.tsv'\n",
    "drkg_df = pd.read_csv(drkg_file, sep=\"\\t\", header=None)     # header fix to original code\n",
    "drkg_triplets = drkg_df.values.tolist()"
   ]
  },
  {
   "cell_type": "code",
   "execution_count": 94,
   "id": "d1bf574f",
   "metadata": {},
   "outputs": [
    {
     "data": {
      "text/html": [
       "<div>\n",
       "<style scoped>\n",
       "    .dataframe tbody tr th:only-of-type {\n",
       "        vertical-align: middle;\n",
       "    }\n",
       "\n",
       "    .dataframe tbody tr th {\n",
       "        vertical-align: top;\n",
       "    }\n",
       "\n",
       "    .dataframe thead th {\n",
       "        text-align: right;\n",
       "    }\n",
       "</style>\n",
       "<table border=\"1\" class=\"dataframe\">\n",
       "  <thead>\n",
       "    <tr style=\"text-align: right;\">\n",
       "      <th></th>\n",
       "      <th>0</th>\n",
       "      <th>1</th>\n",
       "      <th>2</th>\n",
       "    </tr>\n",
       "  </thead>\n",
       "  <tbody>\n",
       "    <tr>\n",
       "      <th>5874256</th>\n",
       "      <td>Gene::29099</td>\n",
       "      <td>STRING::REACTION::Gene:Gene</td>\n",
       "      <td>Gene::1643</td>\n",
       "    </tr>\n",
       "    <tr>\n",
       "      <th>5874257</th>\n",
       "      <td>Gene::51645</td>\n",
       "      <td>STRING::REACTION::Gene:Gene</td>\n",
       "      <td>Gene::3183</td>\n",
       "    </tr>\n",
       "    <tr>\n",
       "      <th>5874258</th>\n",
       "      <td>Gene::865</td>\n",
       "      <td>STRING::CATALYSIS::Gene:Gene</td>\n",
       "      <td>Gene::983</td>\n",
       "    </tr>\n",
       "    <tr>\n",
       "      <th>5874259</th>\n",
       "      <td>Gene::1066</td>\n",
       "      <td>STRING::BINDING::Gene:Gene</td>\n",
       "      <td>Gene::7365</td>\n",
       "    </tr>\n",
       "    <tr>\n",
       "      <th>5874260</th>\n",
       "      <td>Gene::6118</td>\n",
       "      <td>STRING::BINDING::Gene:Gene</td>\n",
       "      <td>Gene::1111</td>\n",
       "    </tr>\n",
       "  </tbody>\n",
       "</table>\n",
       "</div>"
      ],
      "text/plain": [
       "                   0                             1           2\n",
       "5874256  Gene::29099   STRING::REACTION::Gene:Gene  Gene::1643\n",
       "5874257  Gene::51645   STRING::REACTION::Gene:Gene  Gene::3183\n",
       "5874258    Gene::865  STRING::CATALYSIS::Gene:Gene   Gene::983\n",
       "5874259   Gene::1066    STRING::BINDING::Gene:Gene  Gene::7365\n",
       "5874260   Gene::6118    STRING::BINDING::Gene:Gene  Gene::1111"
      ]
     },
     "execution_count": 94,
     "metadata": {},
     "output_type": "execute_result"
    }
   ],
   "source": [
    "drkg_df.tail()"
   ]
  },
  {
   "cell_type": "markdown",
   "id": "d6cf7242",
   "metadata": {},
   "source": [
    "### Entity dictionary\n",
    "Dictionary format:  {**keys**: Entity Type (str), **values**: Dict{}}\n",
    "\n",
    "Sub-dictionary format: {**keys**: Entity Name (str), **values**: Entity Index (int)}\n",
    "\n",
    "Example: *Gene {'Gene::2157': 0, 'Gene::5264': 1, 'Gene::2158': 2, 'Gene::3309': 3, 'Gene::28912': 4, ...}*"
   ]
  },
  {
   "cell_type": "code",
   "execution_count": 9,
   "id": "03dc7c6b",
   "metadata": {},
   "outputs": [],
   "source": [
    "drkg_entity_dictionary={}\n",
    "def insert_entry(entry,ent_type,dic):\n",
    "    if ent_type not in dic:\n",
    "        dic[ent_type]={}\n",
    "    ent_n_id=len(dic[ent_type])\n",
    "    if entry not in dic[ent_type]:\n",
    "         dic[ent_type][entry]=ent_n_id\n",
    "    return dic\n",
    "\n",
    "for triple in drkg_triplets:\n",
    "    src = triple[0]\n",
    "    split_src=src.split('::')\n",
    "    src_type=split_src[0]\n",
    "    dest = triple[2]\n",
    "    split_dest=dest.split('::')\n",
    "    dest_type=split_dest[0]\n",
    "    insert_entry(src,src_type,drkg_entity_dictionary)\n",
    "    insert_entry(dest,dest_type,drkg_entity_dictionary)"
   ]
  },
  {
   "cell_type": "code",
   "execution_count": 127,
   "id": "7fcb12fd",
   "metadata": {},
   "outputs": [
    {
     "name": "stdout",
     "output_type": "stream",
     "text": [
      "{Gene {Gene::2157-0, Gene::5264-1, Gene::2158-2, Gene::3309-3, ... }}\n",
      "{Compound {Compound::DB02573-0, Compound::DB05105-1, Compound::DB00244-2, Compound::DB00684-3, ... }}\n",
      "{Disease {Disease::SARS-CoV2 E-0, Disease::SARS-CoV2 M-1, Disease::SARS-CoV2 N-2, Disease::SARS-CoV2 Spike-3, ... }}\n",
      "{Atc {Atc::B01AE02-0, Atc::L01XC06-1, Atc::R05CB13-2, Atc::L01XX29-3, ... }}\n",
      "{Tax {Tax::10090-0, Tax::10116-1, Tax::9913-2, Tax::4932-3, ... }}\n",
      "{Biological Process {Biological Process::GO:0071357-0, Biological Process::GO:0098780-1, Biological Process::GO:0055088-2, Biological Process::GO:0010243-3, ... }}\n",
      "{Symptom {Symptom::D007383-0, Symptom::D021501-1, Symptom::D010146-2, Symptom::D013064-3, ... }}\n",
      "{Anatomy {Anatomy::UBERON:0002110-0, Anatomy::UBERON:0001980-1, Anatomy::UBERON:0001760-2, Anatomy::UBERON:0002360-3, ... }}\n",
      "{Molecular Function {Molecular Function::GO:0042803-0, Molecular Function::GO:0016274-1, Molecular Function::GO:0015179-2, Molecular Function::GO:0005085-3, ... }}\n",
      "{Pharmacologic Class {Pharmacologic Class::N0000175732-0, Pharmacologic Class::N0000185503-1, Pharmacologic Class::N0000191267-2, Pharmacologic Class::N0000181819-3, ... }}\n",
      "{Cellular Component {Cellular Component::GO:0005913-0, Cellular Component::GO:0043025-1, Cellular Component::GO:0005874-2, Cellular Component::GO:0031253-3, ... }}\n",
      "{Pathway {Pathway::PC7_6941-0, Pathway::PC7_5330-1, Pathway::PC7_6994-2, Pathway::PC7_2926-3, ... }}\n",
      "{Side Effect {Side Effect::C0032584-0, Side Effect::C0424024-1, Side Effect::C0235309-2, Side Effect::C0014724-3, ... }}\n"
     ]
    }
   ],
   "source": [
    "# DEBUG entity dict\n",
    "for k,v in drkg_entity_dictionary.items():\n",
    "    # print(k,v)\n",
    "    string = \"{\"+k+\" {\"\n",
    "    for a,tuple in enumerate(v.items()):\n",
    "        ent, eid = tuple\n",
    "        string = string + f\"{ent}-{eid}\"\n",
    "        if a == 3: break\n",
    "        string += \", \"\n",
    "    print(string + \", ... }}\")\n",
    "        "
   ]
  },
  {
   "cell_type": "markdown",
   "id": "142c0fcf",
   "metadata": {},
   "source": [
    "### Node & Edge dictionary\n",
    "Edge dictionary format: {*keys*: Predicate Type (str), *values*: List **[** head Entity Index (int), tail Entity Index (int) **]**}\n",
    "\n",
    "Node dictionary format: {*keys*: Entity Type (str), *values*: Set **(** Entity Index* (int) **)**}  \n",
    "**head and tail entity index added separately*"
   ]
  },
  {
   "cell_type": "code",
   "execution_count": null,
   "id": "ac265086",
   "metadata": {},
   "outputs": [
    {
     "name": "stdout",
     "output_type": "stream",
     "text": [
      "Number of unique edge types: 107\n"
     ]
    }
   ],
   "source": [
    "edge_dictionary={}\n",
    "node_dictionary={}\n",
    "for triple in drkg_triplets:\n",
    "    src = triple[0]\n",
    "    split_src=src.split('::')\n",
    "    src_type=split_src[0]\n",
    "    dest = triple[2]\n",
    "    split_dest=dest.split('::')\n",
    "    dest_type=split_dest[0]\n",
    "    \n",
    "    src_int_id=drkg_entity_dictionary[src_type][src]\n",
    "    dest_int_id=drkg_entity_dictionary[dest_type][dest]\n",
    "    \n",
    "    pair=[(src_int_id,dest_int_id)]\n",
    "    etype=triple[1]\n",
    "    if etype in edge_dictionary:\n",
    "        edge_dictionary[etype]+=pair\n",
    "    else:\n",
    "        edge_dictionary[etype]=pair\n",
    "    if etype in node_dictionary:\n",
    "        node_dictionary[etype].add(src_int_id)\n",
    "        node_dictionary[etype].add(dest_int_id)\n",
    "    else:\n",
    "        node_dictionary[etype]=set()   \n",
    "        node_dictionary[etype].add(src_int_id)\n",
    "        node_dictionary[etype].add(dest_int_id)\n",
    "\n",
    "print(f\"Number of unique edge types: {len(edge_dictionary)}\")"
   ]
  },
  {
   "cell_type": "code",
   "execution_count": null,
   "id": "5f86379a",
   "metadata": {},
   "outputs": [],
   "source": [
    "for k,v in node_dictionary.items():\n",
    "    print(type(k),type(v))\n",
    "    print(k)\n",
    "    for a in v:\n",
    "        print(a)\n",
    "print(len(edge_dictionary))"
   ]
  },
  {
   "cell_type": "markdown",
   "id": "3df7f7a0",
   "metadata": {},
   "source": [
    "## Import DrugMechDB (with rdflib.Graph) --outdated"
   ]
  },
  {
   "cell_type": "code",
   "execution_count": null,
   "id": "a7348b10",
   "metadata": {},
   "outputs": [
    {
     "name": "stdout",
     "output_type": "stream",
     "text": [
      "YAML loaded\n",
      "[4846, 33009, 32641]\n"
     ]
    }
   ],
   "source": [
    "dmdb_path = \"data/drugmech/drugmechdb.yaml\"\n",
    "ns = Namespace(\"http://drugmech.org/graph/\")\n",
    "\n",
    "dmdb = Graph()\n",
    "\n",
    "with open(dmdb_path, 'r') as yaml_file:\n",
    "    data = yaml.safe_load(yaml_file)\n",
    "    print('YAML loaded')\n",
    "\n",
    "    count = [0,0,0]\n",
    "    \n",
    "    for entry in data:\n",
    "        # graph_id = entry['graph']['_id']\n",
    "\n",
    "        for node in entry['nodes']:\n",
    "            node_id = ns[node['id']]\n",
    "            label = Literal(node['label'])\n",
    "            name = Literal(node['name'])\n",
    "            dmdb.add((node_id, RDF.type, URIRef(ns + 'Node')))\n",
    "            dmdb.add((node_id, URIRef(ns + 'label'), label))\n",
    "            dmdb.add((node_id, URIRef(ns + 'name'), name))\n",
    "            count[1] += 1\n",
    "            # print('Node :', node)\n",
    "            \n",
    "        for link in entry['links']:\n",
    "            source = URIRef(ns + link['source'])\n",
    "            target = URIRef(ns + link['target'])\n",
    "            predicate = URIRef(ns + link['key'].replace(\" \", \"_\"))\n",
    "            dmdb.add((source, predicate, target))\n",
    "            count[2] += 1\n",
    "            # print('Link :', link)\n",
    "        count[0] += 1\n",
    "        # print('Entry :', entry)\n",
    "    print(count)"
   ]
  },
  {
   "cell_type": "markdown",
   "id": "2c4db41e",
   "metadata": {},
   "source": [
    "### Step 1\n",
    "How much overlap between DMDB and DRKG entities?"
   ]
  },
  {
   "cell_type": "code",
   "execution_count": 39,
   "id": "fef17be8",
   "metadata": {},
   "outputs": [
    {
     "name": "stdout",
     "output_type": "stream",
     "text": [
      "Number of MESH-coded entities in DrugMechDB: 2539 / 27228\n"
     ]
    }
   ],
   "source": [
    "dmdb_mesh = set()\n",
    "\n",
    "for row in dmdb:\n",
    "    s,p,o = raw2str(row)\n",
    "\n",
    "    if \"MESH\" in s:\n",
    "        dmdb_mesh.add(s)\n",
    "    elif \"MESH\" in o:\n",
    "        dmdb_mesh.add(o)\n",
    "\n",
    "print(\"Number of MESH-coded entities in DrugMechDB:\", len(dmdb_mesh), \"/\", len(dmdb))"
   ]
  },
  {
   "cell_type": "code",
   "execution_count": null,
   "id": "e8227dda",
   "metadata": {},
   "outputs": [
    {
     "name": "stdout",
     "output_type": "stream",
     "text": [
      "Number of MESH-coded entities in DRKG: 239803 / 5874258\n"
     ]
    }
   ],
   "source": [
    "common_mesh = set()\n",
    "\n",
    "\n",
    "drkg_mesh_cnt = 0\n",
    "for row in drkg:\n",
    "    s,p,o = raw2str(row)\n",
    "\n",
    "    if \"MESH\" in s:\n",
    "        drkg_mesh_cnt += 1\n",
    "        if s in dmdb_mesh:\n",
    "            common_mesh.add(s)\n",
    "    elif \"MESH\" in o:\n",
    "        drkg_mesh_cnt += 1\n",
    "        if o in dmdb_mesh:\n",
    "            common_mesh.add(o)\n",
    "print(\"Number of MESH-coded entities in DRKG:\", drkg_mesh_cnt, \"/\", len(drkg))"
   ]
  },
  {
   "cell_type": "code",
   "execution_count": 34,
   "id": "e1a43c3d",
   "metadata": {},
   "outputs": [
    {
     "name": "stdout",
     "output_type": "stream",
     "text": [
      "14767\n"
     ]
    }
   ],
   "source": [
    "for i in common_mesh:\n",
    "    print(i)\n",
    "\n",
    "print(len(dmdb_mesh))"
   ]
  },
  {
   "cell_type": "markdown",
   "id": "0f78bcd8",
   "metadata": {},
   "source": [
    "### Getting Unique Entities"
   ]
  },
  {
   "cell_type": "code",
   "execution_count": 51,
   "id": "1fb13d41",
   "metadata": {},
   "outputs": [
    {
     "name": "stderr",
     "output_type": "stream",
     "text": [
      "100%|██████████| 5874258/5874258 [00:39<00:00, 148673.11it/s]"
     ]
    },
    {
     "name": "stdout",
     "output_type": "stream",
     "text": [
      "Number of stored unique entities: 97238\n"
     ]
    },
    {
     "name": "stderr",
     "output_type": "stream",
     "text": [
      "\n"
     ]
    }
   ],
   "source": [
    "# Get DRKG's unique entities\n",
    "drkg_entities = set()\n",
    "\n",
    "for row in tqdm(drkg):\n",
    "    s,p,o = raw2str(row)\n",
    "\n",
    "    for ent in [s,o]:\n",
    "        if not isinstance(ent, Literal):\n",
    "            drkg_entities.add(ent)\n",
    "\n",
    "print(f\"Number of stored unique entities: {len(drkg_entities)}\")\n"
   ]
  },
  {
   "cell_type": "code",
   "execution_count": 56,
   "id": "ccc2d790",
   "metadata": {},
   "outputs": [
    {
     "name": "stderr",
     "output_type": "stream",
     "text": [
      "100%|██████████| 27228/27228 [00:00<00:00, 246468.18it/s]"
     ]
    },
    {
     "name": "stdout",
     "output_type": "stream",
     "text": [
      "Number of stored unique entities: 10962\n"
     ]
    },
    {
     "name": "stderr",
     "output_type": "stream",
     "text": [
      "\n"
     ]
    }
   ],
   "source": [
    "# Get DMDB's Unique entities\n",
    "dmdb_entities = set()\n",
    "\n",
    "for row in tqdm(dmdb):\n",
    "    s,p,o = raw2str(row)\n",
    "\n",
    "    for ent in [s,o]:\n",
    "        if not isinstance(ent, Literal):\n",
    "            # print(ent)\n",
    "            dmdb_entities.add(ent)\n",
    "\n",
    "print(f\"Number of stored unique entities: {len(dmdb_entities)}\")"
   ]
  },
  {
   "cell_type": "code",
   "execution_count": null,
   "id": "0d425a15",
   "metadata": {},
   "outputs": [
    {
     "name": "stdout",
     "output_type": "stream",
     "text": [
      "vitamin C\n",
      "purine nucleotide biosynthetic process\n",
      "Wheezing\n",
      "MESH:D001943\n",
      "Chloramphenicol\n",
      "MESH:C536777\n",
      "Paroxysmal nocturnal hemoglobinuria\n",
      "Cytokine production\n",
      "MESH:D003907\n",
      "Protein Kinase C\n",
      "Cataract\n",
      "imipenem\n",
      "Streptococcal infectious disease\n",
      "Giant Cell Arteritis\n",
      "Pneumococcal meningitis\n",
      "UniProt:P0DJD9\n",
      "MESH:D056806\n",
      "MESH:D002177\n",
      "UniProt:P00488\n",
      "MESH:D003607\n",
      "Rosuvastatin\n",
      "UniProt:Q8ZB62\n",
      "DB:DB01430\n",
      "Abnormality of temperature regulation\n",
      "MESH:D008118\n",
      "Cytokine receptor common subunit gamma\n",
      "5-hydroxytryptamine receptor 1D\n",
      "regulation of synaptic transmission, dopaminergic\n",
      "Lymphoma, Mantle-Cell\n",
      "Diazepam\n",
      "Magnesium\n"
     ]
    }
   ],
   "source": [
    "# DEBUG         TODO : Literals in entities?\n",
    "for idx, i in enumerate(dmdb_entities):\n",
    "    print(i)\n",
    "    if idx == 30: break"
   ]
  },
  {
   "cell_type": "code",
   "execution_count": null,
   "id": "e677acbb",
   "metadata": {},
   "outputs": [
    {
     "name": "stderr",
     "output_type": "stream",
     "text": [
      "Comparison in progress: 100%|██████████| 10962/10962 [00:00<00:00, 1811867.92it/s]"
     ]
    },
    {
     "name": "stdout",
     "output_type": "stream",
     "text": [
      "Number of common entities: 10962 / 119162\n"
     ]
    },
    {
     "name": "stderr",
     "output_type": "stream",
     "text": [
      "\n"
     ]
    }
   ],
   "source": [
    "# Comparing unique entity sets\n",
    "common_entities = set()\n",
    "\n",
    "for elem in tqdm(dmdb_entities, desc=\"Comparison in progress\"):\n",
    "    if elem in drkg_entities:\n",
    "        common_entities.add(elem)\n",
    "\n",
    "print(\"Number of common entities:\", len(common_entities), \"/\", (len(drkg_entities) + len(dmdb_entities)))\n",
    "\n",
    "cnt = 0\n",
    "\n",
    "for idx, i in enumerate(common_entities):\n",
    "    if \"MESH\" in i: cnt += 1       # hard-coded filter...\n",
    "print(cnt)"
   ]
  },
  {
   "cell_type": "code",
   "execution_count": null,
   "id": "3a38d12e",
   "metadata": {},
   "outputs": [],
   "source": [
    "# Inefficient entity comparison\n",
    "common_entities = set()\n",
    "\n",
    "for row in tqdm(dmdb, desc=\"Hour-long comparison in progress...\"):\n",
    "    s,p,o = raw2str(row)\n",
    "\n",
    "    for row2 in drkg:\n",
    "        s2,p2,o2 = raw2str(row2)\n",
    "\n",
    "        if s in s2 or s in o2:\n",
    "            common_entities.add(s)\n",
    "        if o in s2 or o in o2:\n",
    "            common_entities.add(o)\n",
    "\n",
    "print(\"Number of common entities:\", len(common_entities), \"/\", (len(drkg) + len(dmdb)))"
   ]
  },
  {
   "cell_type": "markdown",
   "id": "4b896fb4",
   "metadata": {},
   "source": [
    "## Import DrugMechDB (with pandas.Dataframe)\n",
    "\n",
    "Source: https://github.com/SuLab/DrugMechDB/blob/main/data_analysis/figures_DMDB_manuscript.ipynb"
   ]
  },
  {
   "cell_type": "code",
   "execution_count": 35,
   "id": "e4255a31",
   "metadata": {},
   "outputs": [],
   "source": [
    "drugmech_path = \"data/drugmech/drugmechdb.yaml\"\n",
    "\n",
    "with open(drugmech_path, 'r') as fh:\n",
    "        ind = yaml.safe_load(fh)"
   ]
  },
  {
   "cell_type": "code",
   "execution_count": 41,
   "id": "eb6bb0f6",
   "metadata": {},
   "outputs": [],
   "source": [
    "from dmdb_data_tools_analysis import *\n",
    "from collections import defaultdict"
   ]
  },
  {
   "cell_type": "code",
   "execution_count": 39,
   "id": "26206b64",
   "metadata": {},
   "outputs": [],
   "source": [
    "all_metapath_nodes = get_metapath_node(ind)\n",
    "all_metapath_edges = get_metapath_edges(ind)"
   ]
  },
  {
   "cell_type": "code",
   "execution_count": 44,
   "id": "8437e23b",
   "metadata": {},
   "outputs": [],
   "source": [
    "basic_stats = defaultdict(list)\n",
    "all_metaedges = []\n",
    "all_parings = []\n",
    "all_targets = []\n",
    "unique_metaedges = []\n",
    "first_edge_type = []\n",
    "all_nodes = []\n",
    "\n",
    "id_to_name = {}\n",
    "id_to_label = {}\n",
    "\n",
    "for i, p in enumerate(ind):\n",
    "    _id = (p[\"graph\"][\"_id\"])\n",
    "    drug_id, dis_id = path_to_tup(p)\n",
    "    paths = get_all_paths(p)\n",
    "    G = path_to_G(p)\n",
    "    \n",
    "    G = add_metaedges(G)\n",
    "    G = add_meanode_pairs(G)\n",
    "    \n",
    "    basic_stats['idx'].append(i) #index\n",
    "    basic_stats['id'].append(p['graph']['_id']) #DrugMechDB id\n",
    "    basic_stats['drug'].append(drug_id) #Drug id\n",
    "    basic_stats['disease'].append(dis_id)#Disease id\n",
    "    basic_stats['nodes'].append((G.nodes)) #nodes in metapath\n",
    "    basic_stats['n_nodes'].append(len(G.nodes)) # number of nodes in metapath\n",
    "    basic_stats['n_edges'].append(len(G.edges)) #number of edges in metapath\n",
    "    basic_stats['n_paths'].append(len(all_metapath_nodes[_id])) #number of paths\n",
    "    basic_stats['metapath'].append(all_metapath_nodes[_id])\n",
    "    basic_stats['metapath_with_edges'].append(all_metapath_edges[_id])\n",
    "\n",
    "    \n",
    "    this_metaedges = [G.edges[e]['metaedge'] for e in G.edges]\n",
    "    \n",
    "    all_metaedges += this_metaedges\n",
    "    unique_metaedges += list(set(this_metaedges))\n",
    "    \n",
    "    all_parings += [G.edges[e]['mn_pair'] for e in G.edges]\n",
    "    all_targets += get_targets(G)\n",
    "    first_edge_type += get_target_metaedges(G)\n",
    "    all_nodes += list(G.nodes)\n",
    "    \n",
    "    id_to_label = {**id_to_label, **get_id_to_type(G)}\n",
    "    id_to_name = {**id_to_name, **get_id_to_name(G)}\n",
    "    \n",
    "dmdb_df = pd.DataFrame(basic_stats)"
   ]
  },
  {
   "cell_type": "code",
   "execution_count": 114,
   "id": "e60077e7",
   "metadata": {},
   "outputs": [
    {
     "data": {
      "text/html": [
       "<div>\n",
       "<style scoped>\n",
       "    .dataframe tbody tr th:only-of-type {\n",
       "        vertical-align: middle;\n",
       "    }\n",
       "\n",
       "    .dataframe tbody tr th {\n",
       "        vertical-align: top;\n",
       "    }\n",
       "\n",
       "    .dataframe thead th {\n",
       "        text-align: right;\n",
       "    }\n",
       "</style>\n",
       "<table border=\"1\" class=\"dataframe\">\n",
       "  <thead>\n",
       "    <tr style=\"text-align: right;\">\n",
       "      <th></th>\n",
       "      <th>idx</th>\n",
       "      <th>id</th>\n",
       "      <th>drug</th>\n",
       "      <th>disease</th>\n",
       "      <th>nodes</th>\n",
       "      <th>n_nodes</th>\n",
       "      <th>n_edges</th>\n",
       "      <th>n_paths</th>\n",
       "      <th>metapath</th>\n",
       "      <th>metapath_with_edges</th>\n",
       "    </tr>\n",
       "  </thead>\n",
       "  <tbody>\n",
       "    <tr>\n",
       "      <th>0</th>\n",
       "      <td>0</td>\n",
       "      <td>DB00619_MESH_D015464_1</td>\n",
       "      <td>DB:DB00619</td>\n",
       "      <td>MESH:D015464</td>\n",
       "      <td>(MESH:D000068877, UniProt:P00519, MESH:D015464)</td>\n",
       "      <td>3</td>\n",
       "      <td>2</td>\n",
       "      <td>1</td>\n",
       "      <td>[Drug - Protein - Disease]</td>\n",
       "      <td>[Drug - decreases activity of - Protein - caus...</td>\n",
       "    </tr>\n",
       "    <tr>\n",
       "      <th>1</th>\n",
       "      <td>1</td>\n",
       "      <td>DB00619_MESH_D034721_1</td>\n",
       "      <td>DB:DB00619</td>\n",
       "      <td>MESH:D034721</td>\n",
       "      <td>(MESH:D000068877, UniProt:P10721, UniProt:P162...</td>\n",
       "      <td>5</td>\n",
       "      <td>5</td>\n",
       "      <td>1</td>\n",
       "      <td>[Drug - Protein - BiologicalProcess - Disease]</td>\n",
       "      <td>[Drug - decreases activity of - Protein - posi...</td>\n",
       "    </tr>\n",
       "    <tr>\n",
       "      <th>2</th>\n",
       "      <td>2</td>\n",
       "      <td>DB00316_MESH_D010146_1</td>\n",
       "      <td>DB:DB00316</td>\n",
       "      <td>MESH:D010146</td>\n",
       "      <td>(MESH:D000082, UniProt:P23219, UniProt:P35354,...</td>\n",
       "      <td>7</td>\n",
       "      <td>8</td>\n",
       "      <td>1</td>\n",
       "      <td>[Drug - Protein - BiologicalProcess - Chemical...</td>\n",
       "      <td>[Drug - decreases activity of - Protein - posi...</td>\n",
       "    </tr>\n",
       "    <tr>\n",
       "      <th>3</th>\n",
       "      <td>3</td>\n",
       "      <td>DB00316_MESH_D005334_1</td>\n",
       "      <td>DB:DB00316</td>\n",
       "      <td>MESH:D005334</td>\n",
       "      <td>(MESH:D000082, reactome:R-HSA-2162123, UBERON:...</td>\n",
       "      <td>5</td>\n",
       "      <td>4</td>\n",
       "      <td>1</td>\n",
       "      <td>[Drug - Pathway - GrossAnatomicalStructure - B...</td>\n",
       "      <td>[Drug - negatively regulates - Pathway - occur...</td>\n",
       "    </tr>\n",
       "    <tr>\n",
       "      <th>4</th>\n",
       "      <td>4</td>\n",
       "      <td>DB00945_MESH_D010146_1</td>\n",
       "      <td>DB:DB00945</td>\n",
       "      <td>MESH:D010146</td>\n",
       "      <td>(MESH:D001241, UniProt:P23219, UniProt:P35354,...</td>\n",
       "      <td>7</td>\n",
       "      <td>7</td>\n",
       "      <td>1</td>\n",
       "      <td>[Drug - Protein - BiologicalProcess - Disease]</td>\n",
       "      <td>[Drug - decreases activity of - Protein - posi...</td>\n",
       "    </tr>\n",
       "  </tbody>\n",
       "</table>\n",
       "</div>"
      ],
      "text/plain": [
       "   idx                      id        drug       disease  \\\n",
       "0    0  DB00619_MESH_D015464_1  DB:DB00619  MESH:D015464   \n",
       "1    1  DB00619_MESH_D034721_1  DB:DB00619  MESH:D034721   \n",
       "2    2  DB00316_MESH_D010146_1  DB:DB00316  MESH:D010146   \n",
       "3    3  DB00316_MESH_D005334_1  DB:DB00316  MESH:D005334   \n",
       "4    4  DB00945_MESH_D010146_1  DB:DB00945  MESH:D010146   \n",
       "\n",
       "                                               nodes  n_nodes  n_edges  \\\n",
       "0    (MESH:D000068877, UniProt:P00519, MESH:D015464)        3        2   \n",
       "1  (MESH:D000068877, UniProt:P10721, UniProt:P162...        5        5   \n",
       "2  (MESH:D000082, UniProt:P23219, UniProt:P35354,...        7        8   \n",
       "3  (MESH:D000082, reactome:R-HSA-2162123, UBERON:...        5        4   \n",
       "4  (MESH:D001241, UniProt:P23219, UniProt:P35354,...        7        7   \n",
       "\n",
       "   n_paths                                           metapath  \\\n",
       "0        1                         [Drug - Protein - Disease]   \n",
       "1        1     [Drug - Protein - BiologicalProcess - Disease]   \n",
       "2        1  [Drug - Protein - BiologicalProcess - Chemical...   \n",
       "3        1  [Drug - Pathway - GrossAnatomicalStructure - B...   \n",
       "4        1     [Drug - Protein - BiologicalProcess - Disease]   \n",
       "\n",
       "                                 metapath_with_edges  \n",
       "0  [Drug - decreases activity of - Protein - caus...  \n",
       "1  [Drug - decreases activity of - Protein - posi...  \n",
       "2  [Drug - decreases activity of - Protein - posi...  \n",
       "3  [Drug - negatively regulates - Pathway - occur...  \n",
       "4  [Drug - decreases activity of - Protein - posi...  "
      ]
     },
     "execution_count": 114,
     "metadata": {},
     "output_type": "execute_result"
    }
   ],
   "source": [
    "dmdb_df.head()"
   ]
  },
  {
   "cell_type": "code",
   "execution_count": 125,
   "id": "2197ad37",
   "metadata": {},
   "outputs": [
    {
     "name": "stdout",
     "output_type": "stream",
     "text": [
      "Number of ['drug'] column drug IDs matching ['nodes'] column drug ID: 166/4846\n",
      "\n",
      "Drug\n",
      "decreases activity of\n",
      "Protein\n",
      "causes\n",
      "Disease\n"
     ]
    }
   ],
   "source": [
    "# P.S Careful with drug ID, DrugBank ID in drug, MESH ID in nodes\n",
    "# Also 'metapath's are a list with one element \n",
    "# And also the metapath is confusing (e.g Protein X and Y tie Drug D to Disease Di, D - X - Di + D - Y - Di, and metapaths only map Drug - Protein - Disease)\n",
    "\n",
    "def compare_ids(row):\n",
    "    return row['drug'] == list(row['nodes'])[0]\n",
    "\n",
    "result = dmdb_df.apply(compare_ids, axis=1)\n",
    "cnt = 0\n",
    "for res in result:\n",
    "    if res:\n",
    "        cnt += 1\n",
    "        # print(res)\n",
    "print(f\"Number of ['drug'] column drug IDs matching ['nodes'] column drug ID: {cnt}/{len(result)}\\n\")\n",
    "\n",
    "for elem in dmdb_df.loc[0,'metapath_with_edges'][0].split(\" - \"):   # metapath testing\n",
    "    print(elem)\n",
    "\n"
   ]
  },
  {
   "cell_type": "code",
   "execution_count": null,
   "id": "04af9f77",
   "metadata": {},
   "outputs": [
    {
     "name": "stdout",
     "output_type": "stream",
     "text": [
      "0 3 MESH:D000068877 ['Drug', 'Protein', 'Disease'] ['MESH:D000068877', 'UniProt:P00519', 'MESH:D015464'] ['Drug', 'decreases activity of', 'Protein', 'causes', 'Disease']\n",
      "1 3 UniProt:P00519 ['Drug', 'Protein', 'Disease'] ['MESH:D000068877', 'UniProt:P00519', 'MESH:D015464'] ['Drug', 'decreases activity of', 'Protein', 'causes', 'Disease']\n",
      "2 3 MESH:D015464 ['Drug', 'Protein', 'Disease'] ['MESH:D000068877', 'UniProt:P00519', 'MESH:D015464'] ['Drug', 'decreases activity of', 'Protein', 'causes', 'Disease']\n",
      "0 4 MESH:D000068877 ['Drug', 'Protein', 'BiologicalProcess', 'Disease'] ['MESH:D000068877', 'UniProt:P10721', 'UniProt:P16234', 'GO:0008283', 'MESH:D034721'] ['Drug', 'decreases activity of', 'Protein', 'positively regulates', 'BiologicalProcess', 'causes', 'Disease']\n",
      "1 4 UniProt:P10721 ['Drug', 'Protein', 'BiologicalProcess', 'Disease'] ['MESH:D000068877', 'UniProt:P10721', 'UniProt:P16234', 'GO:0008283', 'MESH:D034721'] ['Drug', 'decreases activity of', 'Protein', 'positively regulates', 'BiologicalProcess', 'causes', 'Disease']\n",
      "2 4 UniProt:P16234 ['Drug', 'Protein', 'BiologicalProcess', 'Disease'] ['MESH:D000068877', 'UniProt:P10721', 'UniProt:P16234', 'GO:0008283', 'MESH:D034721'] ['Drug', 'decreases activity of', 'Protein', 'positively regulates', 'BiologicalProcess', 'causes', 'Disease']\n",
      "3 4 GO:0008283 ['Drug', 'Protein', 'BiologicalProcess', 'Disease'] ['MESH:D000068877', 'UniProt:P10721', 'UniProt:P16234', 'GO:0008283', 'MESH:D034721'] ['Drug', 'decreases activity of', 'Protein', 'positively regulates', 'BiologicalProcess', 'causes', 'Disease']\n",
      "4 4 MESH:D034721 ['Drug', 'Protein', 'BiologicalProcess', 'Disease'] ['MESH:D000068877', 'UniProt:P10721', 'UniProt:P16234', 'GO:0008283', 'MESH:D034721'] ['Drug', 'decreases activity of', 'Protein', 'positively regulates', 'BiologicalProcess', 'causes', 'Disease']\n"
     ]
    },
    {
     "ename": "IndexError",
     "evalue": "list index out of range",
     "output_type": "error",
     "traceback": [
      "\u001b[31m---------------------------------------------------------------------------\u001b[39m",
      "\u001b[31mIndexError\u001b[39m                                Traceback (most recent call last)",
      "\u001b[36mCell\u001b[39m\u001b[36m \u001b[39m\u001b[32mIn[118]\u001b[39m\u001b[32m, line 15\u001b[39m\n\u001b[32m     13\u001b[39m what = row[\u001b[33m'\u001b[39m\u001b[33mmetapath_with_edges\u001b[39m\u001b[33m'\u001b[39m][\u001b[32m0\u001b[39m].split(\u001b[33m\"\u001b[39m\u001b[33m - \u001b[39m\u001b[33m\"\u001b[39m)\n\u001b[32m     14\u001b[39m \u001b[38;5;28mprint\u001b[39m(n_id, \u001b[38;5;28mlen\u001b[39m(templist), ent, templist, \u001b[38;5;28mlist\u001b[39m(row[\u001b[33m'\u001b[39m\u001b[33mnodes\u001b[39m\u001b[33m'\u001b[39m]), what)\n\u001b[32m---> \u001b[39m\u001b[32m15\u001b[39m ent_type = \u001b[43mtemplist\u001b[49m\u001b[43m[\u001b[49m\u001b[43mn_id\u001b[49m\u001b[43m]\u001b[49m\n\u001b[32m     16\u001b[39m insert_entry(ent,ent_type,dmdb_entity_dictionary)\n",
      "\u001b[31mIndexError\u001b[39m: list index out of range"
     ]
    }
   ],
   "source": [
    "# TODO : fix ONLY IF needed\n",
    "\n",
    "dmdb_entity_dictionary={}\n",
    "def insert_entry(entry,ent_type,dic):\n",
    "    if ent_type not in dic:\n",
    "        dic[ent_type]={}\n",
    "    ent_n_id=len(dic[ent_type])\n",
    "    if entry not in dic[ent_type]:\n",
    "         dic[ent_type][entry]=ent_n_id\n",
    "    return dic\n",
    "\n",
    "for idx, row in dmdb_df.iterrows():\n",
    "    for n_id, ent in enumerate(list(row['nodes'])):\n",
    "        templist = row['metapath'][0].split(\" - \")\n",
    "        what = row['metapath_with_edges'][0].split(\" - \")\n",
    "        print(n_id, len(templist), ent, templist, list(row['nodes']), what)\n",
    "        ent_type = templist[n_id]\n",
    "        insert_entry(ent,ent_type,dmdb_entity_dictionary)"
   ]
  },
  {
   "cell_type": "code",
   "execution_count": 122,
   "id": "00e92238",
   "metadata": {},
   "outputs": [
    {
     "name": "stdout",
     "output_type": "stream",
     "text": [
      "Number of unique entities in dmdb: 5128\n"
     ]
    }
   ],
   "source": [
    "dmdb_entity_set = set()\n",
    "\n",
    "for idx, row in dmdb_df.iterrows():\n",
    "    for n_id, ent in enumerate(list(row['nodes'])):\n",
    "        dmdb_entity_set.add(ent)\n",
    "\n",
    "print(\"Number of unique entities in dmdb:\", len(dmdb_entity_set))"
   ]
  },
  {
   "cell_type": "markdown",
   "id": "1f67e78a",
   "metadata": {},
   "source": [
    "# Analysis"
   ]
  },
  {
   "cell_type": "markdown",
   "id": "9559a3c5",
   "metadata": {},
   "source": [
    "## Step 1: Compare Entities"
   ]
  },
  {
   "cell_type": "code",
   "execution_count": null,
   "id": "3980a3e6",
   "metadata": {},
   "outputs": [
    {
     "name": "stderr",
     "output_type": "stream",
     "text": [
      "100%|██████████| 13/13 [00:00<00:00, 447.65it/s]"
     ]
    },
    {
     "name": "stdout",
     "output_type": "stream",
     "text": [
      "Number of hits: 1653\n",
      "(279) Compound ['MESH:C026098', 'CHEBI:15356', 'CHEBI:15889', 'CHEBI:16134', 'CHEBI:16136', 'CHEBI:16412', 'CHEBI:16991', 'CHEBI:17234', 'CHEBI:17855', 'CHEBI:25029', 'CHEBI:26333', 'CHEBI:28044', 'CHEBI:28300', 'CHEBI:35143', 'CHEBI:35366', 'CHEBI:36500', 'MESH:D000728', 'MESH:D001224', 'MESH:D001647', 'MESH:D002216', 'MESH:D003520', 'MESH:D006497', 'MESH:D010710', 'MESH:D012313', 'MESH:D012964', 'MESH:D013256', 'MESH:D016559', 'MESH:D018698', 'MESH:C000599293', 'MESH:C001652', 'MESH:C005435', 'MESH:C006632', 'MESH:C018279', 'MESH:C019248', 'MESH:C020243', 'MESH:C026116', 'MESH:C026563', 'MESH:C029256', 'MESH:C029620', 'MESH:C030852', 'MESH:C032302', 'MESH:C035133', 'MESH:C036619', 'MESH:C036901', 'MESH:C036944', 'MESH:C037178', 'MESH:C041359', 'MESH:C041877', 'MESH:C042734', 'MESH:C043211', 'MESH:C043877', 'MESH:C045463', 'MESH:C045645', 'MESH:C047246', 'MESH:C047781', 'MESH:C048107', 'MESH:C048833', 'MESH:C055122', 'MESH:C055603', 'MESH:C056493', 'MESH:C059205', 'MESH:C059500', 'MESH:C060142', 'MESH:C061333', 'MESH:C064276', 'MESH:C065180', 'MESH:C065757', 'MESH:C066340', 'MESH:C069156', 'MESH:C071542', 'MESH:C073007', 'MESH:C074679', 'MESH:C076731', 'MESH:C076946', 'MESH:C078006', 'MESH:C081309', 'MESH:C084555', 'MESH:C084588', 'MESH:C086232', 'MESH:C086648', 'MESH:C088327', 'MESH:C088408', 'MESH:C088482', 'MESH:C088658', 'MESH:C089032', 'MESH:C095105', 'MESH:C099150', 'MESH:C102786', 'MESH:C103274', 'MESH:C105171', 'MESH:C111237', 'MESH:C116664', 'MESH:C118667', 'MESH:C121905', 'MESH:C414210', 'MESH:C415250', 'MESH:C418863', 'MESH:C419708', 'MESH:C467566', 'MESH:C467567', 'MESH:C471405', 'MESH:C473478', 'MESH:C487779', 'MESH:C488833', 'MESH:C495575', 'MESH:C496932', 'MESH:C498826', 'MESH:C502012', 'MESH:C502994', 'MESH:C503700', 'MESH:C523979', 'MESH:C529054', 'MESH:C534526', 'MESH:C534891', 'MESH:C540278', 'MESH:C540383', 'MESH:C546918', 'MESH:C551803', 'MESH:C557874', 'MESH:C557982', 'MESH:C572045', 'MESH:C579035', 'MESH:C585405', 'MESH:C588260', 'MESH:D000305', 'MESH:D000658', 'MESH:D000803', 'MESH:D000804', 'MESH:D000967', 'MESH:D001085', 'MESH:D001639', 'MESH:D002112', 'MESH:D002217', 'MESH:D002230', 'MESH:D002434', 'MESH:D002442', 'MESH:D002506', 'MESH:D002515', 'MESH:D003061', 'MESH:D003871', 'MESH:D004295', 'MESH:D004318', 'MESH:D004967', 'MESH:D005227', 'MESH:D005230', 'MESH:D005839', 'MESH:D005963', 'MESH:D006003', 'MESH:D006025', 'MESH:D006028', 'MESH:D006418', 'MESH:D007610', 'MESH:D008543', 'MESH:D008610', 'MESH:D008750', 'MESH:D008751', 'MESH:D009478', 'MESH:D009496', 'MESH:D009569', 'MESH:D010118', 'MESH:D010281', 'MESH:D010423', 'MESH:D010665', 'MESH:D011453', 'MESH:D011729', 'MESH:D013004', 'MESH:D013107', 'MESH:D013373', 'MESH:D013806', 'MESH:D013831', 'MESH:D013866', 'MESH:D013928', 'MESH:D014147', 'MESH:D014222', 'MESH:D014280', 'MESH:D014740', 'MESH:D014801', 'MESH:D014810', 'MESH:D014812', 'MESH:D015122', 'MESH:D015289', 'MESH:D015378', 'MESH:D015773', 'MESH:D017706', 'MESH:D017984', 'MESH:D019343', 'MESH:D019344', 'MESH:D019469', 'MESH:D020110', 'MESH:D020738', 'MESH:D020849', 'CHEBI:16040', 'CHEBI:26523', 'CHEBI:64645', 'MESH:D002122', 'MESH:D064704', 'MESH:C000589335', 'MESH:C000599459', 'MESH:C003321', 'MESH:C003330', 'MESH:C005312', 'MESH:C005900', 'MESH:C007084', 'MESH:C007088', 'MESH:C007133', 'MESH:C007734', 'MESH:C008729', 'MESH:C008976', 'MESH:C010893', 'MESH:C011175', 'MESH:C011585', 'MESH:C011819', 'MESH:C011825', 'MESH:C012255', 'MESH:C012776', 'MESH:C017610', 'MESH:C024262', 'MESH:C025314', 'MESH:C034635', 'MESH:C036006', 'MESH:C042382', 'MESH:C043265', 'MESH:C043266', 'MESH:C044919', 'MESH:C047360', 'MESH:C052018', 'MESH:C053267', 'MESH:C054920', 'MESH:C056814', 'MESH:C057710', 'MESH:C072042', 'MESH:C072630', 'MESH:C078049', 'MESH:C099245', 'MESH:C102070', 'MESH:C105196', 'MESH:C417268', 'MESH:C427248', 'MESH:C442442', 'MESH:C446479', 'MESH:C486592', 'MESH:C493250', 'MESH:C494355', 'MESH:C509700', 'MESH:C519076', 'MESH:C540393', 'MESH:C542859', 'MESH:C552956', 'MESH:C554127', 'MESH:C573971', 'MESH:C579652', 'MESH:C584679', 'MESH:C586094', 'MESH:D000112', 'MESH:D001084', 'MESH:D002433', 'MESH:D003009', 'MESH:D004083', 'MESH:D004205', 'MESH:D004456', 'MESH:D004966', 'MESH:D005840', 'MESH:D006024', 'MESH:D008525', 'MESH:D008535', 'MESH:D009171', 'MESH:D010401', 'MESH:D010402', 'MESH:D010878', 'MESH:D012676', 'MESH:D013963', 'MESH:D014238', 'MESH:D015643', 'MESH:D017323', 'MESH:D019355', 'MESH:D019357', 'MESH:D020682', 'MESH:D057073', 'MESH:D064699']\n",
      "(724) Disease ['MESH:D003550', 'MESH:D013167', 'MESH:D017497', 'MESH:D001171', 'MESH:D011565', 'MESH:D015535', 'MESH:D017511', 'MESH:D001172', 'MESH:D013262', 'MESH:D054058', 'MESH:D013927', 'MESH:D001943', 'MESH:D011629', 'MESH:D004715', 'MESH:D010146', 'MESH:D007889', 'MESH:D019694', 'MESH:D011655', 'MESH:D000740', 'MESH:D006333', 'MESH:D006934', 'MESH:D010024', 'MESH:D019698', 'MESH:D008545', 'MESH:D054198', 'MESH:D013964', 'MESH:D006470', 'MESH:D006467', 'MESH:D056587', 'MESH:D015451', 'MESH:D003920', 'MESH:D003922', 'MESH:D053158', 'MESH:D011141', 'MESH:D013921', 'MESH:D007003', 'MESH:D012798', 'MESH:D007006', 'MESH:D003924', 'MESH:D010411', 'MESH:D033461', 'MESH:D003424', 'MESH:D012778', 'MESH:D005776', 'MESH:D015470', 'MESH:D020529', 'MESH:C531816', 'MESH:D011704', 'MESH:D006967', 'MESH:D012769', 'MESH:D003093', 'MESH:D020528', 'MESH:D008224', 'MESH:D016403', 'MESH:D008228', 'MESH:D010392', 'MESH:D017192', 'MESH:D000172', 'MESH:D003027', 'MESH:D009128', 'MESH:D014549', 'MESH:D003967', 'MESH:D010188', 'MESH:D000744', 'MESH:D011471', 'MESH:D008059', 'MESH:D003876', 'MESH:D018856', 'MESH:D009404', 'MESH:D012393', 'MESH:D014605', 'MESH:D002836', 'MESH:D012883', 'MESH:D000795', 'MESH:D007943', 'MESH:D012514', 'MESH:D006473', 'MESH:D018357', 'MESH:D000752', 'MESH:D014806', 'MESH:D022124', 'MESH:D007018', 'MESH:D004393', 'MESH:D010911', 'MESH:D056806', 'MESH:D006962', 'MESH:D006996', 'MESH:D008881', 'MESH:D013832', 'MESH:D014802', 'MESH:D020250', 'MESH:D026681', 'MESH:D006952', 'MESH:D006937', 'MESH:D006949', 'MESH:D009203', 'MESH:D020521', 'MESH:D015228', 'MESH:D052018', 'MESH:D003865', 'MESH:D009771', 'MESH:D003928', 'MESH:D006973', 'MESH:D065631', 'MESH:D001249', 'MESH:D018771', 'MESH:D063806', 'MESH:D013036', 'MESH:D001289', 'MESH:D009765', 'MESH:D009290', 'MESH:D059350', 'MESH:C536914', 'MESH:D014987', 'MESH:D000430', 'MESH:D001007', 'MESH:D001008', 'MESH:D014839', 'MESH:D007319', 'MESH:D013035', 'MESH:D016584', 'MESH:D013226', 'MESH:D001281', 'MESH:D013617', 'MESH:D020522', 'MESH:D009101', 'MESH:D010300', 'MESH:D010301', 'MESH:D059787', 'MESH:D061686', 'MESH:D009798', 'MESH:D058387', 'MESH:D002177', 'MESH:D003047', 'MESH:D009181', 'MESH:D011537', 'MESH:D016919', 'MESH:D002181', 'MESH:D007251', 'MESH:D000152', 'MESH:D002602', 'MESH:D011014', 'MESH:D004165', 'MESH:D004894', 'MESH:D018589', 'MESH:D006100', 'MESH:D008088', 'MESH:D008219', 'MESH:D014526', 'MESH:D014917', 'MESH:D012141', 'MESH:D013207', 'MESH:D013587', 'MESH:D006261', 'MESH:D012131', 'MESH:D018781', 'MESH:D007172', 'MESH:D008288', 'MESH:D014123', 'MESH:D011618', 'MESH:D003234', 'MESH:D012852', 'MESH:D010612', 'MESH:D014069', 'MESH:D004403', 'MESH:D007024', 'MESH:D005764', 'MESH:D006356', 'MESH:D015043', 'MESH:D004487', 'MESH:D000856', 'MESH:D013313', 'MESH:D065446', 'MESH:D001991', 'MESH:D010930', 'MESH:D002179', 'MESH:D015658', 'MESH:D012871', 'MESH:D005356', 'MESH:D009437', 'MESH:D012640', 'MESH:D051474', 'MESH:D014010', 'MESH:D014008', 'MESH:D020734', 'MESH:D012559', 'MESH:D001714', 'MESH:D006966', 'MESH:D003874', 'MESH:D007918', 'MESH:D003233', 'MESH:D000196', 'MESH:D001474', 'MESH:D002006', 'MESH:D002771', 'MESH:D003015', 'MESH:D006069', 'MESH:D004927', 'MESH:D005892', 'MESH:D009956', 'MESH:D011778', 'MESH:D012061', 'MESH:D012373', 'MESH:C536773', 'MESH:D004405', 'MESH:D014141', 'MESH:D014406', 'MESH:D014438', 'MESH:D014552', 'MESH:D015001', 'MESH:D054559', 'MESH:D001254', 'MESH:D005909', 'MESH:D009182', 'MESH:D000787', 'MESH:D013958', 'MESH:D000437', 'MESH:D065768', 'MESH:D019964', 'MESH:D004830', 'MESH:D016084', 'MESH:D006980', 'MESH:D007037', 'MESH:D006042', 'MESH:D009230', 'MESH:D010001', 'MESH:D000799', 'MESH:D014581', 'MESH:D003139', 'MESH:D059268', 'MESH:D006689', 'MESH:D010051', 'MESH:D010412', 'MESH:D013736', 'MESH:D008258', 'MESH:D015210', 'MESH:D000305', 'MESH:D000506', 'MESH:D001607', 'MESH:D000312', 'MESH:D003882', 'MESH:D008179', 'MESH:D001929', 'MESH:D013716', 'MESH:D007627', 'MESH:D009335', 'MESH:D009879', 'MESH:D010003', 'MESH:D013585', 'MESH:D008180', 'MESH:D013700', 'MESH:D014235', 'MESH:D014390', 'MESH:D013717', 'MESH:D003873', 'MESH:D008010', 'MESH:D006560', 'MESH:D054179', 'MESH:D004716', 'MESH:D001749', 'MESH:D002289', 'MESH:D005334', 'MESH:D003371', 'MESH:D010538', 'MESH:D043183', 'MESH:D053206', 'MESH:C031967', 'MESH:D002062', 'MESH:D004374', 'MESH:D052256', 'MESH:D014397', 'MESH:D001986', 'MESH:D029424', 'MESH:D012221', 'MESH:D009293', 'MESH:D005879', 'MESH:D014820', 'MESH:D004381', 'MESH:D013276', 'MESH:D009377', 'MESH:D006255', 'MESH:D000788', 'MESH:D006976', 'MESH:D011470', 'MESH:D020176', 'MESH:D004827', 'MESH:D000505', 'MESH:D059413', 'MESH:D010019', 'MESH:D001170', 'MESH:D002690', 'MESH:D003235', 'MESH:D008585', 'MESH:D009617', 'MESH:D010661', 'MESH:D004938', 'MESH:D012509', 'MESH:D004415', 'MESH:D005756', 'MESH:D010437', 'MESH:D009325', 'MESH:D016889', 'MESH:D008595', 'MESH:D015663', 'MESH:D007022', 'MESH:D012713', 'MESH:D017726', 'MESH:D003866', 'MESH:D019584', 'MESH:D001480', 'MESH:D006484', 'MESH:D012770', 'MESH:D012223', 'MESH:D008796', 'MESH:D000568', 'MESH:D007247', 'MESH:D046152', 'MESH:D014006', 'MESH:D014009', 'MESH:D007169', 'MESH:D005902', 'MESH:D015812', 'MESH:D016920', 'MESH:D014435', 'MESH:D000881', 'MESH:D004697', 'MESH:D012541', 'MESH:D001201', 'MESH:D007008', 'MESH:D006929', 'MESH:D013742', 'MESH:D003556', 'MESH:D001750', 'MESH:D004761', 'MESH:D006562', 'MESH:D006558', 'MESH:D012532', 'MESH:D016849', 'MESH:D000707', 'MESH:D006073', 'MESH:D009450', 'MESH:D008223', 'MESH:D016460', 'MESH:D003320', 'MESH:D011928', 'MESH:D016778', 'MESH:D001416', 'MESH:D017118', 'MESH:D019958', 'MESH:D013203', 'MESH:D004412', 'MESH:D018410', 'MESH:D006816', 'MESH:D001196', 'MESH:D003457', 'MESH:D005873', 'MESH:D014257', 'MESH:D013274', 'MESH:D009447', 'MESH:D055752', 'MESH:D018784', 'MESH:D011538', 'MESH:D006561', 'MESH:D002051', 'MESH:D015464', 'MESH:D012512', 'MESH:D008175', 'MESH:D009157', 'MESH:D010673', 'MESH:D012175', 'MESH:D012208', 'MESH:D031901', 'MESH:D009396', 'MESH:D055623', 'MESH:D003110', 'MESH:D003248', 'MESH:D015473', 'MESH:D009103', 'MESH:D012148', 'MESH:D020261', 'MESH:D011472', 'MESH:D020246', 'MESH:D006391', 'MESH:D002312', 'MESH:D054537', 'MESH:D048949', 'MESH:D012220', 'MESH:D003586', 'MESH:D002644', 'MESH:D006501', 'MESH:D010149', 'MESH:D029481', 'MESH:D004832', 'MESH:D013345', 'MESH:D007815', 'MESH:D009855', 'MESH:D012507', 'MESH:D018879', 'MESH:D012282', 'MESH:D007177', 'MESH:C580364', 'MESH:D017681', 'MESH:D009196', 'MESH:D018223', 'MESH:D034721', 'MESH:D003877', 'MESH:D000224', 'MESH:D004892', 'MESH:D011628', 'MESH:D050197', 'MESH:D010383', 'MESH:D001361', 'MESH:D006950', 'MESH:D002707', 'MESH:D001229', 'MESH:D011015', 'MESH:D002825', 'MESH:D007634', 'MESH:D014391', 'MESH:D000542', 'MESH:D015863', 'MESH:D007500', 'MESH:D011657', 'MESH:D011111', 'MESH:D011658', 'MESH:D012214', 'MESH:D012859', 'MESH:D013966', 'MESH:D017229', 'MESH:D013322', 'MESH:D014120', 'MESH:D002180', 'MESH:D005494', 'MESH:D000544', 'MESH:D003704', 'MESH:D010032', 'MESH:D014590', 'MESH:D014693', 'MESH:D008193', 'MESH:D012480', 'MESH:D006660', 'MESH:D007896', 'MESH:D016921', 'MESH:D007897', 'MESH:D007898', 'MESH:D013923', 'MESH:D004915', 'MESH:D007948', 'MESH:D014653', 'MESH:D003218', 'MESH:D009041', 'MESH:D014717', 'MESH:D000690', 'MESH:D002833', 'MESH:D019190', 'MESH:D000562', 'MESH:D007710', 'MESH:D006111', 'MESH:D015266', 'MESH:D020803', 'MESH:D001168', 'MESH:D014098', 'MESH:D011349', 'MESH:D005499', 'MESH:D005667', 'MESH:D007637', 'MESH:D012628', 'MESH:D007383', 'MESH:D011656', 'MESH:D003555', 'MESH:D006943', 'MESH:D003554', 'MESH:D002294', 'MESH:D006527', 'MESH:D007752', 'MESH:D005891', 'MESH:D010518', 'MESH:D011087', 'MESH:D014606', 'MESH:D016585', 'MESH:D014245', 'MESH:D001922', 'MESH:D008169', 'MESH:D008581', 'MESH:D008100', 'MESH:D016055', 'MESH:D000308', 'MESH:D006528', 'MESH:D008575', 'MESH:D001752', 'MESH:D000141', 'MESH:D006947', 'MESH:D013920', 'MESH:D000755', 'MESH:D000858', 'MESH:D006475', 'MESH:D001759', 'MESH:C536777', 'MESH:D002862', 'MESH:D010229', 'MESH:D013281', 'MESH:D000686', 'MESH:D001906', 'MESH:D011906', 'MESH:D010326', 'MESH:D004948', 'MESH:D012552', 'MESH:D006323', 'MESH:D005076', 'MESH:D016780', 'MESH:D004211', 'MESH:D003963', 'MESH:D015523', 'MESH:D020301', 'MESH:D011654', 'MESH:D001228', 'MESH:D011008', 'MESH:D016574', 'MESH:D013746', 'MESH:D005058', 'MESH:D001932', 'MESH:D009298', 'MESH:D006457', 'MESH:D055744', 'MESH:D009091', 'MESH:D003930', 'MESH:D008268', 'MESH:D016532', 'MESH:D009087', 'MESH:D054218', 'MESH:D000309', 'MESH:D012594', 'MESH:D018805', 'MESH:D000138', 'MESH:D010505', 'MESH:D014277', 'MESH:D005348', 'MESH:D008105', 'MESH:D018798', 'MESH:D015352', 'MESH:D001744', 'MESH:D004485', 'MESH:D015466', 'MESH:D020018', 'MESH:D006504', 'MESH:D016891', 'MESH:D006712', 'MESH:C538139', 'MESH:D014648', 'MESH:D008060', 'MESH:D018088', 'MESH:D006961', 'MESH:D016773', 'MESH:D005871', 'MESH:D052497', 'MESH:D009085', 'MESH:D029242', 'MESH:D001660', 'MESH:D004831', 'MESH:D003456', 'MESH:D014860', 'MESH:D007010', 'MESH:D015212', 'MESH:D002764', 'MESH:D008708', 'MESH:D004886', 'MESH:D004887', 'MESH:D014211', 'MESH:D010874', 'MESH:D017674', 'MESH:D008548', 'MESH:D015223', 'MESH:D015624', 'MESH:D017449', 'MESH:D009134', 'MESH:D009472', 'MESH:D007787', 'MESH:D005910', 'MESH:D055371', 'MESH:D002292', 'MESH:D006930', 'MESH:D008113', 'MESH:D016649', 'MESH:D009410', 'MESH:D017202', 'MESH:D046351', 'MESH:C537345', 'MESH:D006258', 'MESH:D006009', 'MESH:D001161', 'MESH:D002561', 'MESH:D002769', 'MESH:D005705', 'MESH:D008101', 'MESH:D013610', 'MESH:D014652', 'MESH:D020915', 'MESH:D001206', 'MESH:D003409', 'MESH:D006043', 'MESH:D005901', 'MESH:D006946', 'MESH:D011218', 'MESH:D019294', 'MESH:D001327', 'MESH:D008171', 'MESH:D050031', 'MESH:D004828', 'MESH:D001321', 'MESH:D004417', 'MESH:D016411', 'MESH:D020388', 'MESH:D008286', 'MESH:D008586', 'MESH:D013290', 'MESH:D008118', 'MESH:D001987', 'MESH:D011018', 'MESH:D007890', 'MESH:D062025', 'MESH:D002295', 'MESH:D007011', 'MESH:D020773', 'MESH:D005128', 'MESH:D001017', 'MESH:D016491', 'MESH:C535694', 'MESH:D007635', 'MESH:D012216', 'MESH:D052556', 'MESH:D001064', 'MESH:D002303', 'MESH:C536657', 'MESH:C562390', 'MESH:D013915', 'MESH:D011559', 'MESH:D000741', 'MESH:D002761', 'MESH:D004617', 'MESH:D009140', 'MESH:D015823', 'MESH:D017439', 'MESH:D020019', 'MESH:D014353', 'MESH:D017086', 'MESH:D007713', 'MESH:D014424', 'MESH:D018633', 'MESH:D003453', 'MESH:D029503', 'MESH:D012536', 'MESH:D046150', 'MESH:D061387', 'MESH:D009634', 'MESH:D053098', 'MESH:D015508', 'MESH:D007638', 'MESH:D009889', 'MESH:D000724', 'MESH:C536227', 'MESH:D012080', 'MESH:D015878', 'MESH:D014355', 'MESH:D009494', 'MESH:D010243', 'MESH:D059373', 'MESH:D004443', 'MESH:D001437', 'MESH:D020078', 'MESH:D013919', 'MESH:D007418', 'MESH:D011019', 'MESH:D020435', 'MESH:D008271', 'MESH:D002012', 'MESH:D014842', 'MESH:D004756', 'MESH:D011023', 'MESH:D007946', 'MESH:D048909', 'MESH:D015479', 'MESH:D013771', 'MESH:D000532', 'MESH:C536392', 'MESH:D053159', 'MESH:D008080', 'MESH:D016410', 'MESH:D004414', 'MESH:D060585', 'MESH:D014402', 'MESH:D010304', 'MESH:D014029', 'MESH:D016464', 'MESH:D004760', 'MESH:D012226', 'MESH:D007340', 'MESH:D006969', 'MESH:D008584', 'MESH:D020766', 'MESH:D012279', 'MESH:D014808', 'MESH:D010284', 'MESH:D012612', 'MESH:D004942', 'MESH:D014848', 'MESH:D056006', 'MESH:D046768', 'MESH:D012488', 'MESH:D016724', 'MESH:D016868', 'MESH:D009999', 'MESH:D013590', 'MESH:D013592', 'MESH:D014125', 'MESH:D003607', 'MESH:D010547', 'MESH:D008303', 'MESH:D007014', 'MESH:D054078', 'MESH:D018270', 'MESH:D052456', 'MESH:D004604', 'MESH:C537592', 'MESH:D014811']\n",
      "(501) Biological Process ['GO:0006898', 'GO:0008015', 'GO:0006470', 'GO:0043647', 'GO:0001508', 'GO:0045823', 'GO:0006412', 'GO:0007600', 'GO:0055072', 'GO:0030282', 'GO:0016567', 'GO:0006974', 'GO:0006096', 'GO:0006006', 'GO:0007268', 'GO:0061028', 'GO:0019369', 'GO:0007041', 'GO:0001570', 'GO:0014832', 'GO:0090280', 'GO:0043066', 'GO:0008285', 'GO:0016042', 'GO:0006959', 'GO:0000280', 'GO:0003006', 'GO:0060326', 'GO:0048870', 'GO:0042110', 'GO:0045766', 'GO:0039663', 'GO:0008283', 'GO:0000086', 'GO:0086010', 'GO:0008610', 'GO:0006281', 'GO:0007193', 'GO:0042060', 'GO:0055117', 'GO:0016032', 'GO:0043161', 'GO:0051301', 'GO:0050817', 'GO:0042773', 'GO:0006936', 'GO:0006816', 'GO:0055074', 'GO:0006979', 'GO:0000278', 'GO:0007169', 'GO:0019933', 'GO:0006633', 'GO:0043043', 'GO:0006414', 'GO:0006694', 'GO:0045727', 'GO:0007596', 'GO:0040007', 'GO:0001525', 'GO:0019221', 'GO:0002062', 'GO:0008284', 'GO:0016477', 'GO:0099536', 'GO:0002437', 'GO:0042451', 'GO:0050728', 'GO:0006260', 'GO:0046034', 'GO:0030218', 'GO:0006027', 'GO:1902850', 'GO:0032869', 'GO:0005975', 'GO:0060047', 'GO:0050673', 'GO:0055062', 'GO:1903779', 'GO:1901998', 'GO:0006954', 'GO:0007266', 'GO:0008203', 'GO:0007269', 'GO:0006306', 'GO:0006874', 'GO:0050671', 'GO:0019228', 'GO:0046651', 'GO:0001503', 'GO:0045907', 'GO:0000305', 'GO:0071347', 'GO:0007283', 'GO:0042775', 'GO:0045454', 'GO:0042593', 'GO:0043627', 'GO:0008213', 'GO:0090503', 'GO:0016049', 'GO:0008299', 'GO:0086001', 'GO:0006352', 'GO:0006813', 'GO:0030593', 'GO:0043631', 'GO:0006182', 'GO:0090559', 'GO:0019233', 'GO:0050900', 'GO:0000724', 'GO:0051607', 'GO:0045471', 'GO:0006283', 'GO:0018393', 'GO:0008654', 'GO:0034599', 'GO:0043473', 'GO:0043616', 'GO:0015711', 'GO:0042098', 'GO:0071897', 'GO:0001816', 'GO:0006090', 'GO:0034381', 'GO:0035264', 'GO:0051934', 'GO:0006302', 'GO:0007159', 'GO:0071385', 'GO:0030316', 'GO:0061337', 'GO:0010460', 'GO:0030574', 'GO:0043476', 'GO:0071391', 'GO:0090075', 'GO:0071158', 'GO:0032649', 'GO:0097237', 'GO:0019433', 'GO:0006164', 'GO:0001504', 'GO:0043576', 'GO:0060048', 'GO:0002438', 'GO:0050806', 'GO:0031424', 'GO:0032680', 'GO:0046718', 'GO:0007613', 'GO:0002456', 'GO:0007214', 'GO:0010466', 'GO:0007271', 'GO:0022900', 'GO:0008584', 'GO:0038110', 'GO:0042102', 'GO:0072676', 'GO:0030101', 'GO:0086003', 'GO:0008217', 'GO:0019430', 'GO:0098868', 'GO:0032673', 'GO:0072378', 'GO:1902305', 'GO:0030432', 'GO:0034383', 'GO:0006814', 'GO:0070661', 'GO:0019432', 'GO:0045187', 'GO:1902656', 'GO:0038061', 'GO:0030183', 'GO:0051262', 'GO:0006939', 'GO:0019882', 'GO:0032098', 'GO:0006094', 'GO:0019370', 'GO:0070268', 'GO:0006821', 'GO:0045136', 'GO:0019068', 'GO:0006305', 'GO:0035855', 'GO:0007597', 'GO:0070741', 'GO:0070588', 'GO:0099565', 'GO:0046654', 'GO:0030521', 'GO:0050795', 'GO:0043303', 'GO:0043243', 'GO:0032943', 'GO:0060083', 'GO:0030488', 'GO:1990266', 'GO:0060073', 'GO:0070509', 'GO:0007263', 'GO:0070293', 'GO:0070884', 'GO:0016126', 'GO:0033280', 'GO:0010669', 'GO:0043039', 'GO:0022410', 'GO:0006703', 'GO:0042541', 'GO:0000028', 'GO:1902600', 'GO:0030073', 'GO:0070265', 'GO:0007259', 'GO:0051225', 'GO:0060396', 'GO:0007249', 'GO:0014829', 'GO:0035791', 'GO:0050892', 'GO:0034379', 'GO:0019363', 'GO:0019371', 'GO:0016052', 'GO:0006970', 'GO:0014047', 'GO:0006590', 'GO:0030641', 'GO:0030728', 'GO:0035235', 'GO:0050883', 'GO:0042311', 'GO:0051209', 'GO:0051899', 'GO:0060402', 'GO:0006754', 'GO:0031929', 'GO:0006704', 'GO:0061370', 'GO:0042402', 'GO:0006198', 'GO:0060742', 'GO:0006695', 'GO:0030518', 'GO:0019915', 'GO:0006826', 'GO:0046849', 'GO:0046541', 'GO:0072677', 'GO:0060081', 'GO:0019226', 'GO:0009650', 'GO:0006702', 'GO:0071392', 'GO:0045777', 'GO:0007585', 'GO:0035725', 'GO:0032613', 'GO:0051402', 'GO:0002407', 'GO:1904019', 'GO:0007213', 'GO:0098810', 'GO:0000380', 'GO:0043312', 'GO:0006171', 'GO:0006261', 'GO:0071354', 'GO:0032743', 'GO:0007253', 'GO:0019227', 'GO:0050853', 'GO:0006919', 'GO:0045851', 'GO:0001659', 'GO:0071377', 'GO:1904659', 'GO:0007588', 'GO:0006635', 'GO:0002076', 'GO:0060004', 'GO:0046622', 'GO:0007603', 'GO:0050968', 'GO:0007631', 'GO:0042310', 'GO:1903333', 'GO:0055078', 'GO:0007189', 'GO:0046479', 'GO:0007616', 'GO:0032640', 'GO:0042135', 'GO:0006833', 'GO:0071394', 'GO:0061737', 'GO:0046544', 'GO:0042100', 'GO:0048008', 'GO:0007168', 'GO:0030220', 'GO:0010737', 'GO:0001783', 'GO:0035249', 'GO:0030431', 'GO:0033344', 'GO:0006183', 'GO:0097284', 'GO:0032470', 'GO:0030263', 'GO:0002158', 'GO:0045453', 'GO:0015701', 'GO:0009113', 'GO:0060612', 'GO:0030520', 'GO:0007274', 'GO:0032663', 'GO:0038003', 'GO:0001516', 'GO:0046855', 'GO:0061534', 'GO:0044241', 'GO:0000737', 'GO:0001963', 'GO:0043691', 'GO:0043114', 'GO:0006221', 'GO:0032225', 'GO:0032674', 'GO:0006956', 'GO:0070997', 'GO:0046785', 'GO:0007190', 'GO:0039694', 'GO:0042730', 'GO:0016575', 'GO:0019079', 'GO:0006069', 'GO:0070474', 'GO:0051823', 'GO:0001821', 'GO:0070527', 'GO:0071871', 'GO:0001951', 'GO:0002003', 'GO:1903350', 'GO:0036376', 'GO:0071420', 'GO:0042178', 'GO:0006309', 'GO:0086013', 'GO:0007195', 'GO:0007197', 'GO:0032637', 'GO:0032609', 'GO:0008292', 'GO:0042092', 'GO:0006265', 'GO:0042088', 'GO:0034651', 'GO:0014009', 'GO:0006235', 'GO:0006972', 'GO:0071349', 'GO:0032100', 'GO:0031296', 'GO:0071442', 'GO:0032612', 'GO:0044256', 'GO:0046323', 'GO:0009299', 'GO:0042167', 'GO:0036037', 'GO:0043308', 'GO:0030252', 'GO:0015874', 'GO:0002029', 'GO:0098870', 'GO:0035811', 'GO:0038166', 'GO:0042438', 'GO:0042373', 'GO:0032099', 'GO:0051583', 'GO:0014824', 'GO:0086009', 'GO:0070102', 'GO:0036473', 'GO:0030322', 'GO:0033387', 'GO:0061436', 'GO:0043117', 'GO:0032635', 'GO:0050482', 'GO:0043116', 'GO:0086046', 'GO:0043129', 'GO:0060075', 'GO:0050847', 'GO:0042546', 'GO:0070498', 'GO:0035810', 'GO:0051584', 'GO:0034380', 'GO:0035722', 'GO:0014808', 'GO:0070294', 'GO:0035773', 'GO:0032606', 'GO:0050798', 'GO:0032623', 'GO:0033028', 'GO:0051932', 'GO:0032275', 'GO:0023041', 'GO:0015747', 'GO:0048245', 'GO:0048144', 'GO:0098856', 'GO:0035482', 'GO:0044245', 'GO:0032782', 'GO:0044557', 'GO:0002018', 'GO:0060087', 'GO:0061535', 'GO:0070254', 'GO:0003095', 'GO:0060558', 'GO:0001913', 'GO:0046061', 'GO:1904116', 'GO:0086012', 'GO:0070295', 'GO:0030222', 'GO:0046069', 'GO:0055070', 'GO:0042421', 'GO:0032224', 'GO:0019076', 'GO:0014051', 'GO:0038155', 'GO:0048807', 'GO:0032310', 'GO:0006572', 'GO:0035483', 'GO:0070942', 'GO:0032274', 'GO:0001820', 'GO:0090494', 'GO:0001507', 'GO:0015842', 'GO:0034776', 'GO:0035726', 'GO:0019249', 'GO:0006231', 'GO:0010573', 'GO:1904058', 'GO:0042420', 'GO:0097070', 'GO:0001696', 'GO:0019856', 'GO:0034699', 'GO:0042427', 'GO:0070561', 'GO:0035701', 'GO:0006701', 'GO:0090118', 'GO:0097325', 'GO:0035988', 'GO:0006707', 'GO:0032342', 'GO:1990000', 'GO:0048681', 'GO:0009450', 'GO:0038169', 'GO:0051610', 'GO:0051208', 'GO:0030223', 'GO:0002553', 'GO:0070075', 'GO:0006581', 'GO:0043084', 'GO:0038109', 'GO:0002534', 'GO:0038060', 'GO:0048808', 'GO:0019064', 'GO:0098703', 'GO:1990523', 'GO:0097272', 'GO:0002418', 'GO:0043307', 'GO:0002441']\n",
      "(45) Anatomy ['UBERON:0002110', 'UBERON:0000178', 'UBERON:0000955', 'UBERON:0001003', 'UBERON:0000992', 'UBERON:0002439', 'UBERON:0001017', 'UBERON:0002371', 'UBERON:0001013', 'UBERON:0002097', 'UBERON:0001235', 'UBERON:0002107', 'UBERON:0001981', 'UBERON:0002046', 'UBERON:0000970', 'UBERON:0002240', 'UBERON:0001637', 'UBERON:0001796', 'UBERON:0001896', 'UBERON:0001135', 'UBERON:0000995', 'UBERON:0001645', 'UBERON:0001769', 'UBERON:0002299', 'UBERON:0001737', 'UBERON:0000007', 'UBERON:0000966', 'UBERON:0002113', 'UBERON:0001044', 'UBERON:0000948', 'UBERON:0001707', 'UBERON:0002048', 'UBERON:0000964', 'UBERON:0001295', 'UBERON:0002067', 'UBERON:0002282', 'UBERON:0002018', 'UBERON:0000004', 'UBERON:0000043', 'UBERON:0001768', 'UBERON:0002185', 'UBERON:0000013', 'UBERON:0000054', 'UBERON:0001910', 'UBERON:0001866']\n",
      "(77) Molecular Function ['GO:0004674', 'GO:0004115', 'GO:0016209', 'GO:0004857', 'GO:0003916', 'GO:0022803', 'GO:0016298', 'GO:0004935', 'GO:0016616', 'GO:0004197', 'GO:0008236', 'GO:0016491', 'GO:0004714', 'GO:0005244', 'GO:0005249', 'GO:0008237', 'GO:0004713', 'GO:0004969', 'GO:0005254', 'GO:0008900', 'GO:0003899', 'GO:0016176', 'GO:0005267', 'GO:0015057', 'GO:0005245', 'GO:0005262', 'GO:0004252', 'GO:0004908', 'GO:0004972', 'GO:0001631', 'GO:0004129', 'GO:0004993', 'GO:0034701', 'GO:0033764', 'GO:0004687', 'GO:0004089', 'GO:0004948', 'GO:0004936', 'GO:0005237', 'GO:0022848', 'GO:0004016', 'GO:0035240', 'GO:0004679', 'GO:0003746', 'GO:0004977', 'GO:0004890', 'GO:0004697', 'GO:0003964', 'GO:0005528', 'GO:0008511', 'GO:0004611', 'GO:0015464', 'GO:0004558', 'GO:0004383', 'GO:0004938', 'GO:0048763', 'GO:0004952', 'GO:0005248', 'GO:0016917', 'GO:0003887', 'GO:0061731', 'GO:0005219', 'GO:0042132', 'GO:0070577', 'GO:0004971', 'GO:0003943', 'GO:0004854', 'GO:0004308', 'GO:0030284', 'GO:0019767', 'GO:0003990', 'GO:0004505', 'GO:0015272', 'GO:0004939', 'GO:0004991', 'GO:0003968', 'GO:0004346']\n",
      "(27) Cellular Component ['GO:0043025', 'GO:0005874', 'GO:0098793', 'GO:0032993', 'GO:0031012', 'GO:0000785', 'GO:0005840', 'GO:0045202', 'GO:0015935', 'GO:0005764', 'GO:0005839', 'GO:0031594', 'GO:0015934', 'GO:0044391', 'GO:0035861', 'GO:0042613', 'GO:0005747', 'GO:0005947', 'GO:1990454', 'GO:0030313', 'GO:0043083', 'GO:0005955', 'GO:0060077', 'GO:0005890', 'GO:0005618', 'GO:0009331', 'GO:0071159']\n",
      "DEBUG total 1653\n"
     ]
    },
    {
     "name": "stderr",
     "output_type": "stream",
     "text": [
      "\n"
     ]
    }
   ],
   "source": [
    "cnt = 0\n",
    "common_dict = {}\n",
    "for e_type,dict in tqdm(drkg_entity_dictionary.items()):\n",
    "    for elem,eid in dict.items():\n",
    "        e_type, e_name = elem.split(\"::\")     # TODO : This is just an integer for some classes\n",
    "        # print(elem)\n",
    "        if e_name in dmdb_entity_set:\n",
    "            # print(\"Common element found: \", elem)\n",
    "            cnt += 1\n",
    "            if e_type in common_dict:\n",
    "                common_dict[e_type]+=[str(e_name)]\n",
    "            else:\n",
    "                common_dict[e_type]=[e_name]\n",
    "\n",
    "print(\"Number of hits:\", cnt)\n",
    "\n",
    "total = 0\n",
    "for v,i in common_dict.items():\n",
    "    print(f\"({len(i)})\", v, i)\n",
    "    total += len(i)\n",
    "print(\"DEBUG Total:\", total)"
   ]
  },
  {
   "cell_type": "code",
   "execution_count": null,
   "id": "cb86d455",
   "metadata": {},
   "outputs": [],
   "source": []
  },
  {
   "cell_type": "markdown",
   "id": "ffc4a0be",
   "metadata": {},
   "source": [
    "# Step 2: Compare Predicates"
   ]
  },
  {
   "cell_type": "code",
   "execution_count": null,
   "id": "b1e7fc1c",
   "metadata": {},
   "outputs": [],
   "source": [
    "# Manual alignment of relationships"
   ]
  },
  {
   "cell_type": "code",
   "execution_count": null,
   "id": "6408a069",
   "metadata": {},
   "outputs": [],
   "source": []
  }
 ],
 "metadata": {
  "kernelspec": {
   "display_name": "analysis-env",
   "language": "python",
   "name": "python3"
  },
  "language_info": {
   "codemirror_mode": {
    "name": "ipython",
    "version": 3
   },
   "file_extension": ".py",
   "mimetype": "text/x-python",
   "name": "python",
   "nbconvert_exporter": "python",
   "pygments_lexer": "ipython3",
   "version": "3.13.5"
  }
 },
 "nbformat": 4,
 "nbformat_minor": 5
}
