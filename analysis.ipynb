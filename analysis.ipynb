{
 "cells": [
  {
   "cell_type": "code",
   "execution_count": 2,
   "id": "fbc99259",
   "metadata": {},
   "outputs": [],
   "source": [
    "import numpy as np\n",
    "import pandas as pd\n",
    "import os\n",
    "\n",
    "import csv\n",
    "import yaml\n",
    "\n",
    "from rdflib import Graph, Literal, RDF, URIRef\n",
    "from rdflib.namespace import Namespace\n",
    "\n",
    "from tqdm import tqdm"
   ]
  },
  {
   "cell_type": "markdown",
   "id": "ec32f2d7",
   "metadata": {},
   "source": [
    "## Import DRKG (with rdflib.Graph) -- outdated"
   ]
  },
  {
   "cell_type": "code",
   "execution_count": 2,
   "id": "528d3905",
   "metadata": {},
   "outputs": [],
   "source": [
    "drkg_path = \"data/drkg/drkg.tsv\"\n",
    "ns = Namespace(\"http://drkg.org/graph/\")"
   ]
  },
  {
   "cell_type": "code",
   "execution_count": 3,
   "id": "2d2eec24",
   "metadata": {},
   "outputs": [
    {
     "name": "stdout",
     "output_type": "stream",
     "text": [
      "Loading DRKG database from tsv...\n"
     ]
    }
   ],
   "source": [
    "drkg = Graph()\n",
    "\n",
    "print(\"Loading DRKG database from tsv...\")\n",
    "with open(drkg_path, 'r') as tsv_file:\n",
    "    reader = csv.reader(tsv_file, delimiter='\\t')\n",
    "    for row in reader:\n",
    "        if len(row) == 3:\n",
    "            subject = ns[row[0].replace(' ', '_').replace('|', '_')]\n",
    "            predicate = ns[row[1].replace(' ', '_').replace('>', '_')]\n",
    "            # Determine if object is a URI or a Literal\n",
    "            object = URIRef(row[2].replace(' ', '_').replace('|', '_')) if row[2].startswith('http') else Literal(row[2].replace(' ', '_').replace('|', '_'))\n",
    "            drkg.add((subject, predicate, object))\n",
    "            #print(f'Added:\\n {subject}, \\n {predicate}, \\n {object}.')"
   ]
  },
  {
   "cell_type": "code",
   "execution_count": 46,
   "id": "437051ab",
   "metadata": {},
   "outputs": [],
   "source": [
    "cnt = 0\n",
    "\n",
    "def raw2str(row):\n",
    "    # remove uri and clean predicate\n",
    "    s,p,o = row\n",
    "    if \"drkg\" in s:\n",
    "        return str(s).split(\"/\")[-1], clean_pred(str(p).split(\"/\")[-1]), str(o).split(\"/\")[-1]\n",
    "    else:\n",
    "        return str(s).split(\"/\")[-1], str(p).split(\"/\")[-1], str(o).split(\"/\")[-1]\n",
    "\n",
    "def clean_pred(p):\n",
    "    return str(p).split(\"::\")[1]    # 0 - source, 1 - predicate, 2 - head & tail entity types"
   ]
  },
  {
   "cell_type": "code",
   "execution_count": null,
   "id": "c4434d2d",
   "metadata": {},
   "outputs": [],
   "source": [
    "# Test\n",
    "for row in drkg:\n",
    "    s,p,o = raw2str(row)\n",
    "\n",
    "    if \"MESH\" in s or \"MESH\" in o:\n",
    "        print(s,p,o)\n",
    "        cnt += 1\n",
    "    if cnt > 50: break"
   ]
  },
  {
   "cell_type": "markdown",
   "id": "fb98ac50",
   "metadata": {},
   "source": [
    "## Import DRKG (with pandas)\n",
    "Source: https://github.com/gnn4dr/DRKG/blob/master/raw_graph_analysis/Jaccard_scores_among_all_edge_types_in_DRKG.ipynb"
   ]
  },
  {
   "cell_type": "code",
   "execution_count": null,
   "id": "ac285fb0",
   "metadata": {},
   "outputs": [],
   "source": [
    "drkg_file = 'data/drkg/drkg.tsv'\n",
    "drkg_df = pd.read_csv(drkg_file, sep=\"\\t\", header=None)     # header fix to original code\n",
    "drkg_triplets = drkg_df.values.tolist()"
   ]
  },
  {
   "cell_type": "code",
   "execution_count": 73,
   "id": "d1bf574f",
   "metadata": {},
   "outputs": [
    {
     "data": {
      "text/html": [
       "<div>\n",
       "<style scoped>\n",
       "    .dataframe tbody tr th:only-of-type {\n",
       "        vertical-align: middle;\n",
       "    }\n",
       "\n",
       "    .dataframe tbody tr th {\n",
       "        vertical-align: top;\n",
       "    }\n",
       "\n",
       "    .dataframe thead th {\n",
       "        text-align: right;\n",
       "    }\n",
       "</style>\n",
       "<table border=\"1\" class=\"dataframe\">\n",
       "  <thead>\n",
       "    <tr style=\"text-align: right;\">\n",
       "      <th></th>\n",
       "      <th>0</th>\n",
       "      <th>1</th>\n",
       "      <th>2</th>\n",
       "    </tr>\n",
       "  </thead>\n",
       "  <tbody>\n",
       "    <tr>\n",
       "      <th>5874256</th>\n",
       "      <td>Gene::29099</td>\n",
       "      <td>STRING::REACTION::Gene:Gene</td>\n",
       "      <td>Gene::1643</td>\n",
       "    </tr>\n",
       "    <tr>\n",
       "      <th>5874257</th>\n",
       "      <td>Gene::51645</td>\n",
       "      <td>STRING::REACTION::Gene:Gene</td>\n",
       "      <td>Gene::3183</td>\n",
       "    </tr>\n",
       "    <tr>\n",
       "      <th>5874258</th>\n",
       "      <td>Gene::865</td>\n",
       "      <td>STRING::CATALYSIS::Gene:Gene</td>\n",
       "      <td>Gene::983</td>\n",
       "    </tr>\n",
       "    <tr>\n",
       "      <th>5874259</th>\n",
       "      <td>Gene::1066</td>\n",
       "      <td>STRING::BINDING::Gene:Gene</td>\n",
       "      <td>Gene::7365</td>\n",
       "    </tr>\n",
       "    <tr>\n",
       "      <th>5874260</th>\n",
       "      <td>Gene::6118</td>\n",
       "      <td>STRING::BINDING::Gene:Gene</td>\n",
       "      <td>Gene::1111</td>\n",
       "    </tr>\n",
       "  </tbody>\n",
       "</table>\n",
       "</div>"
      ],
      "text/plain": [
       "                   0                             1           2\n",
       "5874256  Gene::29099   STRING::REACTION::Gene:Gene  Gene::1643\n",
       "5874257  Gene::51645   STRING::REACTION::Gene:Gene  Gene::3183\n",
       "5874258    Gene::865  STRING::CATALYSIS::Gene:Gene   Gene::983\n",
       "5874259   Gene::1066    STRING::BINDING::Gene:Gene  Gene::7365\n",
       "5874260   Gene::6118    STRING::BINDING::Gene:Gene  Gene::1111"
      ]
     },
     "execution_count": 73,
     "metadata": {},
     "output_type": "execute_result"
    }
   ],
   "source": [
    "drkg_df.tail()"
   ]
  },
  {
   "cell_type": "markdown",
   "id": "d6cf7242",
   "metadata": {},
   "source": [
    "### Entity dictionary\n",
    "Dictionary format:  {**keys**: Entity Type (str), **values**: Dict{}}\n",
    "\n",
    "Sub-dictionary format: {**keys**: Entity Name (str), **values**: Entity Index (int)}\n",
    "\n",
    "Example: *Gene {'Gene::2157': 0, 'Gene::5264': 1, 'Gene::2158': 2, 'Gene::3309': 3, 'Gene::28912': 4, ...}*"
   ]
  },
  {
   "cell_type": "code",
   "execution_count": 9,
   "id": "03dc7c6b",
   "metadata": {},
   "outputs": [],
   "source": [
    "drkg_entity_dictionary={}\n",
    "def insert_entry(entry,ent_type,dic):\n",
    "    if ent_type not in dic:\n",
    "        dic[ent_type]={}\n",
    "    ent_n_id=len(dic[ent_type])\n",
    "    if entry not in dic[ent_type]:\n",
    "         dic[ent_type][entry]=ent_n_id\n",
    "    return dic\n",
    "\n",
    "for triple in drkg_triplets:\n",
    "    src = triple[0]\n",
    "    split_src=src.split('::')\n",
    "    src_type=split_src[0]\n",
    "    dest = triple[2]\n",
    "    split_dest=dest.split('::')\n",
    "    dest_type=split_dest[0]\n",
    "    insert_entry(src,src_type,drkg_entity_dictionary)\n",
    "    insert_entry(dest,dest_type,drkg_entity_dictionary)"
   ]
  },
  {
   "cell_type": "code",
   "execution_count": 49,
   "id": "7fcb12fd",
   "metadata": {},
   "outputs": [
    {
     "name": "stdout",
     "output_type": "stream",
     "text": [
      "{Gene {Gene::2157:0, Gene::5264:1, Gene::2158:2, Gene::3309:3, ... }}\n",
      "{Compound {Compound::DB02573:0, Compound::DB05105:1, Compound::DB00244:2, Compound::DB00684:3, ... }}\n",
      "{Disease {Disease::SARS-CoV2 E:0, Disease::SARS-CoV2 M:1, Disease::SARS-CoV2 N:2, Disease::SARS-CoV2 Spike:3, ... }}\n",
      "{Atc {Atc::B01AE02:0, Atc::L01XC06:1, Atc::R05CB13:2, Atc::L01XX29:3, ... }}\n",
      "{Tax {Tax::10090:0, Tax::10116:1, Tax::9913:2, Tax::4932:3, ... }}\n",
      "{Biological Process {Biological Process::GO:0071357:0, Biological Process::GO:0098780:1, Biological Process::GO:0055088:2, Biological Process::GO:0010243:3, ... }}\n",
      "{Symptom {Symptom::D007383:0, Symptom::D021501:1, Symptom::D010146:2, Symptom::D013064:3, ... }}\n",
      "{Anatomy {Anatomy::UBERON:0002110:0, Anatomy::UBERON:0001980:1, Anatomy::UBERON:0001760:2, Anatomy::UBERON:0002360:3, ... }}\n",
      "{Molecular Function {Molecular Function::GO:0042803:0, Molecular Function::GO:0016274:1, Molecular Function::GO:0015179:2, Molecular Function::GO:0005085:3, ... }}\n",
      "{Pharmacologic Class {Pharmacologic Class::N0000175732:0, Pharmacologic Class::N0000185503:1, Pharmacologic Class::N0000191267:2, Pharmacologic Class::N0000181819:3, ... }}\n",
      "{Cellular Component {Cellular Component::GO:0005913:0, Cellular Component::GO:0043025:1, Cellular Component::GO:0005874:2, Cellular Component::GO:0031253:3, ... }}\n",
      "{Pathway {Pathway::PC7_6941:0, Pathway::PC7_5330:1, Pathway::PC7_6994:2, Pathway::PC7_2926:3, ... }}\n",
      "{Side Effect {Side Effect::C0032584:0, Side Effect::C0424024:1, Side Effect::C0235309:2, Side Effect::C0014724:3, ... }}\n"
     ]
    }
   ],
   "source": [
    "# DEBUG entity dict\n",
    "for k,v in drkg_entity_dictionary.items():\n",
    "    # print(k,v)\n",
    "    string = \"{\"+k+\" {\"\n",
    "    for a,b in enumerate(v.items()):\n",
    "        c,d = b\n",
    "        string = string + f\"{c}:{d}\"\n",
    "        if a == 3: break\n",
    "        string += \", \"\n",
    "    print(string + \", ... }}\")\n",
    "        "
   ]
  },
  {
   "cell_type": "markdown",
   "id": "142c0fcf",
   "metadata": {},
   "source": [
    "### Node & Edge dictionary\n",
    "Edge dictionary format: {*keys*: Predicate Type (str), *values*: List **[** head entity index (int), tail entity index (int) **]**}\n",
    "\n",
    "Node dictionary format: {*keys*: Entity Type (str), *values*: Set **(** Entity Index* (int) **)**}  \n",
    "**head and tail entity index added separately*"
   ]
  },
  {
   "cell_type": "code",
   "execution_count": null,
   "id": "ac265086",
   "metadata": {},
   "outputs": [
    {
     "name": "stdout",
     "output_type": "stream",
     "text": [
      "Number of unique edge types: 107\n"
     ]
    }
   ],
   "source": [
    "edge_dictionary={}\n",
    "node_dictionary={}\n",
    "for triple in drkg_triplets:\n",
    "    src = triple[0]\n",
    "    split_src=src.split('::')\n",
    "    src_type=split_src[0]\n",
    "    dest = triple[2]\n",
    "    split_dest=dest.split('::')\n",
    "    dest_type=split_dest[0]\n",
    "    \n",
    "    src_int_id=drkg_entity_dictionary[src_type][src]\n",
    "    dest_int_id=drkg_entity_dictionary[dest_type][dest]\n",
    "    \n",
    "    pair=[(src_int_id,dest_int_id)]\n",
    "    etype=triple[1]\n",
    "    if etype in edge_dictionary:\n",
    "        edge_dictionary[etype]+=pair\n",
    "    else:\n",
    "        edge_dictionary[etype]=pair\n",
    "    if etype in node_dictionary:\n",
    "        node_dictionary[etype].add(src_int_id)\n",
    "        node_dictionary[etype].add(dest_int_id)\n",
    "    else:\n",
    "        node_dictionary[etype]=set()   \n",
    "        node_dictionary[etype].add(src_int_id)\n",
    "        node_dictionary[etype].add(dest_int_id)\n",
    "\n",
    "print(f\"Number of unique edge types: {len(edge_dictionary)}\")"
   ]
  },
  {
   "cell_type": "code",
   "execution_count": null,
   "id": "5f86379a",
   "metadata": {},
   "outputs": [],
   "source": [
    "for k,v in node_dictionary.items():\n",
    "    print(type(k),type(v))\n",
    "    print(k)\n",
    "    for a in v:\n",
    "        print(a)\n",
    "print(len(edge_dictionary))"
   ]
  },
  {
   "cell_type": "markdown",
   "id": "3df7f7a0",
   "metadata": {},
   "source": [
    "## Import DrugMechDB (with rdflib.Graph) --outdated"
   ]
  },
  {
   "cell_type": "code",
   "execution_count": null,
   "id": "a7348b10",
   "metadata": {},
   "outputs": [
    {
     "name": "stdout",
     "output_type": "stream",
     "text": [
      "YAML loaded\n",
      "[4846, 33009, 32641]\n"
     ]
    }
   ],
   "source": [
    "dmdb_path = \"data/drugmech/drugmechdb.yaml\"\n",
    "ns = Namespace(\"http://drugmech.org/graph/\")\n",
    "\n",
    "dmdb = Graph()\n",
    "\n",
    "with open(dmdb_path, 'r') as yaml_file:\n",
    "    data = yaml.safe_load(yaml_file)\n",
    "    print('YAML loaded')\n",
    "\n",
    "    count = [0,0,0]\n",
    "    \n",
    "    for entry in data:\n",
    "        # graph_id = entry['graph']['_id']\n",
    "\n",
    "        for node in entry['nodes']:\n",
    "            node_id = ns[node['id']]\n",
    "            label = Literal(node['label'])\n",
    "            name = Literal(node['name'])\n",
    "            dmdb.add((node_id, RDF.type, URIRef(ns + 'Node')))\n",
    "            dmdb.add((node_id, URIRef(ns + 'label'), label))\n",
    "            dmdb.add((node_id, URIRef(ns + 'name'), name))\n",
    "            count[1] += 1\n",
    "            # print('Node :', node)\n",
    "            \n",
    "        for link in entry['links']:\n",
    "            source = URIRef(ns + link['source'])\n",
    "            target = URIRef(ns + link['target'])\n",
    "            predicate = URIRef(ns + link['key'].replace(\" \", \"_\"))\n",
    "            dmdb.add((source, predicate, target))\n",
    "            count[2] += 1\n",
    "            # print('Link :', link)\n",
    "        count[0] += 1\n",
    "        # print('Entry :', entry)\n",
    "    print(count)"
   ]
  },
  {
   "cell_type": "markdown",
   "id": "2c4db41e",
   "metadata": {},
   "source": [
    "### Step 1\n",
    "How much overlap between DMDB and DRKG entities?"
   ]
  },
  {
   "cell_type": "code",
   "execution_count": 39,
   "id": "fef17be8",
   "metadata": {},
   "outputs": [
    {
     "name": "stdout",
     "output_type": "stream",
     "text": [
      "Number of MESH-coded entities in DrugMechDB: 2539 / 27228\n"
     ]
    }
   ],
   "source": [
    "dmdb_mesh = set()\n",
    "\n",
    "for row in dmdb:\n",
    "    s,p,o = raw2str(row)\n",
    "\n",
    "    if \"MESH\" in s:\n",
    "        dmdb_mesh.add(s)\n",
    "    elif \"MESH\" in o:\n",
    "        dmdb_mesh.add(o)\n",
    "\n",
    "print(\"Number of MESH-coded entities in DrugMechDB:\", len(dmdb_mesh), \"/\", len(dmdb))"
   ]
  },
  {
   "cell_type": "code",
   "execution_count": null,
   "id": "e8227dda",
   "metadata": {},
   "outputs": [
    {
     "name": "stdout",
     "output_type": "stream",
     "text": [
      "Number of MESH-coded entities in DRKG: 239803 / 5874258\n"
     ]
    }
   ],
   "source": [
    "common_mesh = set()\n",
    "\n",
    "\n",
    "drkg_mesh_cnt = 0\n",
    "for row in drkg:\n",
    "    s,p,o = raw2str(row)\n",
    "\n",
    "    if \"MESH\" in s:\n",
    "        drkg_mesh_cnt += 1\n",
    "        if s in dmdb_mesh:\n",
    "            common_mesh.add(s)\n",
    "    elif \"MESH\" in o:\n",
    "        drkg_mesh_cnt += 1\n",
    "        if o in dmdb_mesh:\n",
    "            common_mesh.add(o)\n",
    "print(\"Number of MESH-coded entities in DRKG:\", drkg_mesh_cnt, \"/\", len(drkg))"
   ]
  },
  {
   "cell_type": "code",
   "execution_count": 34,
   "id": "e1a43c3d",
   "metadata": {},
   "outputs": [
    {
     "name": "stdout",
     "output_type": "stream",
     "text": [
      "14767\n"
     ]
    }
   ],
   "source": [
    "for i in common_mesh:\n",
    "    print(i)\n",
    "\n",
    "print(len(dmdb_mesh))"
   ]
  },
  {
   "cell_type": "markdown",
   "id": "0f78bcd8",
   "metadata": {},
   "source": [
    "### Getting Unique Entities"
   ]
  },
  {
   "cell_type": "code",
   "execution_count": 51,
   "id": "1fb13d41",
   "metadata": {},
   "outputs": [
    {
     "name": "stderr",
     "output_type": "stream",
     "text": [
      "100%|██████████| 5874258/5874258 [00:39<00:00, 148673.11it/s]"
     ]
    },
    {
     "name": "stdout",
     "output_type": "stream",
     "text": [
      "Number of stored unique entities: 97238\n"
     ]
    },
    {
     "name": "stderr",
     "output_type": "stream",
     "text": [
      "\n"
     ]
    }
   ],
   "source": [
    "# Get DRKG's unique entities\n",
    "drkg_entities = set()\n",
    "\n",
    "for row in tqdm(drkg):\n",
    "    s,p,o = raw2str(row)\n",
    "\n",
    "    for ent in [s,o]:\n",
    "        if not isinstance(ent, Literal):\n",
    "            drkg_entities.add(ent)\n",
    "\n",
    "print(f\"Number of stored unique entities: {len(drkg_entities)}\")\n"
   ]
  },
  {
   "cell_type": "code",
   "execution_count": 56,
   "id": "ccc2d790",
   "metadata": {},
   "outputs": [
    {
     "name": "stderr",
     "output_type": "stream",
     "text": [
      "100%|██████████| 27228/27228 [00:00<00:00, 246468.18it/s]"
     ]
    },
    {
     "name": "stdout",
     "output_type": "stream",
     "text": [
      "Number of stored unique entities: 10962\n"
     ]
    },
    {
     "name": "stderr",
     "output_type": "stream",
     "text": [
      "\n"
     ]
    }
   ],
   "source": [
    "# Get DMDB's Unique entities\n",
    "dmdb_entities = set()\n",
    "\n",
    "for row in tqdm(dmdb):\n",
    "    s,p,o = raw2str(row)\n",
    "\n",
    "    for ent in [s,o]:\n",
    "        if not isinstance(ent, Literal):\n",
    "            # print(ent)\n",
    "            dmdb_entities.add(ent)\n",
    "\n",
    "print(f\"Number of stored unique entities: {len(dmdb_entities)}\")"
   ]
  },
  {
   "cell_type": "code",
   "execution_count": null,
   "id": "0d425a15",
   "metadata": {},
   "outputs": [
    {
     "name": "stdout",
     "output_type": "stream",
     "text": [
      "vitamin C\n",
      "purine nucleotide biosynthetic process\n",
      "Wheezing\n",
      "MESH:D001943\n",
      "Chloramphenicol\n",
      "MESH:C536777\n",
      "Paroxysmal nocturnal hemoglobinuria\n",
      "Cytokine production\n",
      "MESH:D003907\n",
      "Protein Kinase C\n",
      "Cataract\n",
      "imipenem\n",
      "Streptococcal infectious disease\n",
      "Giant Cell Arteritis\n",
      "Pneumococcal meningitis\n",
      "UniProt:P0DJD9\n",
      "MESH:D056806\n",
      "MESH:D002177\n",
      "UniProt:P00488\n",
      "MESH:D003607\n",
      "Rosuvastatin\n",
      "UniProt:Q8ZB62\n",
      "DB:DB01430\n",
      "Abnormality of temperature regulation\n",
      "MESH:D008118\n",
      "Cytokine receptor common subunit gamma\n",
      "5-hydroxytryptamine receptor 1D\n",
      "regulation of synaptic transmission, dopaminergic\n",
      "Lymphoma, Mantle-Cell\n",
      "Diazepam\n",
      "Magnesium\n"
     ]
    }
   ],
   "source": [
    "# DEBUG         TODO : Literals in entities?\n",
    "for idx, i in enumerate(dmdb_entities):\n",
    "    print(i)\n",
    "    if idx == 30: break"
   ]
  },
  {
   "cell_type": "code",
   "execution_count": null,
   "id": "e677acbb",
   "metadata": {},
   "outputs": [
    {
     "name": "stderr",
     "output_type": "stream",
     "text": [
      "Comparison in progress: 100%|██████████| 10962/10962 [00:00<00:00, 1811867.92it/s]"
     ]
    },
    {
     "name": "stdout",
     "output_type": "stream",
     "text": [
      "Number of common entities: 10962 / 119162\n"
     ]
    },
    {
     "name": "stderr",
     "output_type": "stream",
     "text": [
      "\n"
     ]
    }
   ],
   "source": [
    "# Comparing unique entity sets\n",
    "common_entities = set()\n",
    "\n",
    "for elem in tqdm(dmdb_entities, desc=\"Comparison in progress\"):\n",
    "    if elem in drkg_entities:\n",
    "        common_entities.add(elem)\n",
    "\n",
    "print(\"Number of common entities:\", len(common_entities), \"/\", (len(drkg_entities) + len(dmdb_entities)))\n",
    "\n",
    "cnt = 0\n",
    "\n",
    "for idx, i in enumerate(common_entities):\n",
    "    if \"MESH\" in i: cnt += 1       # hard-coded filter...\n",
    "print(cnt)"
   ]
  },
  {
   "cell_type": "code",
   "execution_count": null,
   "id": "3a38d12e",
   "metadata": {},
   "outputs": [],
   "source": [
    "# Inefficient entity comparison\n",
    "common_entities = set()\n",
    "\n",
    "for row in tqdm(dmdb, desc=\"Hour-long comparison in progress...\"):\n",
    "    s,p,o = raw2str(row)\n",
    "\n",
    "    for row2 in drkg:\n",
    "        s2,p2,o2 = raw2str(row2)\n",
    "\n",
    "        if s in s2 or s in o2:\n",
    "            common_entities.add(s)\n",
    "        if o in s2 or o in o2:\n",
    "            common_entities.add(o)\n",
    "\n",
    "print(\"Number of common entities:\", len(common_entities), \"/\", (len(drkg) + len(dmdb)))"
   ]
  },
  {
   "cell_type": "markdown",
   "id": "4b896fb4",
   "metadata": {},
   "source": [
    "## Import DrugMechDB (with pandas.Dataframe)\n",
    "\n",
    "Source: https://github.com/SuLab/DrugMechDB/blob/main/data_analysis/figures_DMDB_manuscript.ipynb"
   ]
  },
  {
   "cell_type": "code",
   "execution_count": 35,
   "id": "e4255a31",
   "metadata": {},
   "outputs": [],
   "source": [
    "drugmech_path = \"data/drugmech/drugmechdb.yaml\"\n",
    "\n",
    "with open(drugmech_path, 'r') as fh:\n",
    "        ind = yaml.safe_load(fh)"
   ]
  },
  {
   "cell_type": "code",
   "execution_count": 41,
   "id": "eb6bb0f6",
   "metadata": {},
   "outputs": [],
   "source": [
    "from dmdb_data_tools_analysis import *\n",
    "from collections import defaultdict"
   ]
  },
  {
   "cell_type": "code",
   "execution_count": 39,
   "id": "26206b64",
   "metadata": {},
   "outputs": [],
   "source": [
    "all_metapath_nodes = get_metapath_node(ind)\n",
    "all_metapath_edges = get_metapath_edges(ind)"
   ]
  },
  {
   "cell_type": "code",
   "execution_count": 44,
   "id": "8437e23b",
   "metadata": {},
   "outputs": [],
   "source": [
    "basic_stats = defaultdict(list)\n",
    "all_metaedges = []\n",
    "all_parings = []\n",
    "all_targets = []\n",
    "unique_metaedges = []\n",
    "first_edge_type = []\n",
    "all_nodes = []\n",
    "\n",
    "id_to_name = {}\n",
    "id_to_label = {}\n",
    "\n",
    "for i, p in enumerate(ind):\n",
    "    _id = (p[\"graph\"][\"_id\"])\n",
    "    drug_id, dis_id = path_to_tup(p)\n",
    "    paths = get_all_paths(p)\n",
    "    G = path_to_G(p)\n",
    "    \n",
    "    G = add_metaedges(G)\n",
    "    G = add_meanode_pairs(G)\n",
    "    \n",
    "    basic_stats['idx'].append(i) #index\n",
    "    basic_stats['id'].append(p['graph']['_id']) #DrugMechDB id\n",
    "    basic_stats['drug'].append(drug_id) #Drug id\n",
    "    basic_stats['disease'].append(dis_id)#Disease id\n",
    "    basic_stats['nodes'].append((G.nodes)) #nodes in metapath\n",
    "    basic_stats['n_nodes'].append(len(G.nodes)) # number of nodes in metapath\n",
    "    basic_stats['n_edges'].append(len(G.edges)) #number of edges in metapath\n",
    "    basic_stats['n_paths'].append(len(all_metapath_nodes[_id])) #number of paths\n",
    "    basic_stats['metapath'].append(all_metapath_nodes[_id])\n",
    "    basic_stats['metapath_with_edges'].append(all_metapath_edges[_id])\n",
    "\n",
    "    \n",
    "    this_metaedges = [G.edges[e]['metaedge'] for e in G.edges]\n",
    "    \n",
    "    all_metaedges += this_metaedges\n",
    "    unique_metaedges += list(set(this_metaedges))\n",
    "    \n",
    "    all_parings += [G.edges[e]['mn_pair'] for e in G.edges]\n",
    "    all_targets += get_targets(G)\n",
    "    first_edge_type += get_target_metaedges(G)\n",
    "    all_nodes += list(G.nodes)\n",
    "    \n",
    "    id_to_label = {**id_to_label, **get_id_to_type(G)}\n",
    "    id_to_name = {**id_to_name, **get_id_to_name(G)}\n",
    "    \n",
    "dmdb_df = pd.DataFrame(basic_stats)"
   ]
  },
  {
   "cell_type": "code",
   "execution_count": 72,
   "id": "e60077e7",
   "metadata": {},
   "outputs": [
    {
     "data": {
      "text/html": [
       "<div>\n",
       "<style scoped>\n",
       "    .dataframe tbody tr th:only-of-type {\n",
       "        vertical-align: middle;\n",
       "    }\n",
       "\n",
       "    .dataframe tbody tr th {\n",
       "        vertical-align: top;\n",
       "    }\n",
       "\n",
       "    .dataframe thead th {\n",
       "        text-align: right;\n",
       "    }\n",
       "</style>\n",
       "<table border=\"1\" class=\"dataframe\">\n",
       "  <thead>\n",
       "    <tr style=\"text-align: right;\">\n",
       "      <th></th>\n",
       "      <th>idx</th>\n",
       "      <th>id</th>\n",
       "      <th>drug</th>\n",
       "      <th>disease</th>\n",
       "      <th>nodes</th>\n",
       "      <th>n_nodes</th>\n",
       "      <th>n_edges</th>\n",
       "      <th>n_paths</th>\n",
       "      <th>metapath</th>\n",
       "      <th>metapath_with_edges</th>\n",
       "    </tr>\n",
       "  </thead>\n",
       "  <tbody>\n",
       "    <tr>\n",
       "      <th>4841</th>\n",
       "      <td>4841</td>\n",
       "      <td>DB01234_MESH_D009404_1</td>\n",
       "      <td>DB:DB01234</td>\n",
       "      <td>MESH:D009404</td>\n",
       "      <td>(MESH:D003907, UniProt:P04150, InterPro:IPR001...</td>\n",
       "      <td>7</td>\n",
       "      <td>6</td>\n",
       "      <td>1</td>\n",
       "      <td>[Drug - Protein - GeneFamily - BiologicalProce...</td>\n",
       "      <td>[Drug - positively regulates - Protein - incre...</td>\n",
       "    </tr>\n",
       "    <tr>\n",
       "      <th>4842</th>\n",
       "      <td>4842</td>\n",
       "      <td>DB01234_MESH_C562390_1</td>\n",
       "      <td>DB:DB01234</td>\n",
       "      <td>MESH:C562390</td>\n",
       "      <td>(MESH:D003907, UniProt:P04150, InterPro:IPR001...</td>\n",
       "      <td>7</td>\n",
       "      <td>6</td>\n",
       "      <td>1</td>\n",
       "      <td>[Drug - Protein - GeneFamily - BiologicalProce...</td>\n",
       "      <td>[Drug - positively regulates - Protein - incre...</td>\n",
       "    </tr>\n",
       "    <tr>\n",
       "      <th>4843</th>\n",
       "      <td>4843</td>\n",
       "      <td>DB01234_MESH_D000312_1</td>\n",
       "      <td>DB:DB01234</td>\n",
       "      <td>MESH:D000312</td>\n",
       "      <td>(MESH:D003907, UniProt:P04150, GO:0006702, MES...</td>\n",
       "      <td>4</td>\n",
       "      <td>3</td>\n",
       "      <td>1</td>\n",
       "      <td>[Drug - Protein - BiologicalProcess - Disease]</td>\n",
       "      <td>[Drug - positively regulates - Protein - negat...</td>\n",
       "    </tr>\n",
       "    <tr>\n",
       "      <th>4844</th>\n",
       "      <td>4844</td>\n",
       "      <td>DB01234_MESH_D000224_1</td>\n",
       "      <td>DB:DB01234</td>\n",
       "      <td>MESH:D000224</td>\n",
       "      <td>(MESH:D003907, UniProt:P04150, GO:0034651, GO:...</td>\n",
       "      <td>5</td>\n",
       "      <td>5</td>\n",
       "      <td>1</td>\n",
       "      <td>[Drug - Protein - BiologicalProcess - Disease]</td>\n",
       "      <td>[Drug - positively regulates - Protein - posit...</td>\n",
       "    </tr>\n",
       "    <tr>\n",
       "      <th>4845</th>\n",
       "      <td>4845</td>\n",
       "      <td>DB01234_MESH_D000309_1</td>\n",
       "      <td>DB:DB01234</td>\n",
       "      <td>MESH:D000309</td>\n",
       "      <td>(MESH:D003907, UniProt:P04150, GO:0120178, MES...</td>\n",
       "      <td>4</td>\n",
       "      <td>3</td>\n",
       "      <td>1</td>\n",
       "      <td>[Drug - Protein - BiologicalProcess - Disease]</td>\n",
       "      <td>[Drug - positively regulates - Protein - posit...</td>\n",
       "    </tr>\n",
       "  </tbody>\n",
       "</table>\n",
       "</div>"
      ],
      "text/plain": [
       "       idx                      id        drug       disease  \\\n",
       "4841  4841  DB01234_MESH_D009404_1  DB:DB01234  MESH:D009404   \n",
       "4842  4842  DB01234_MESH_C562390_1  DB:DB01234  MESH:C562390   \n",
       "4843  4843  DB01234_MESH_D000312_1  DB:DB01234  MESH:D000312   \n",
       "4844  4844  DB01234_MESH_D000224_1  DB:DB01234  MESH:D000224   \n",
       "4845  4845  DB01234_MESH_D000309_1  DB:DB01234  MESH:D000309   \n",
       "\n",
       "                                                  nodes  n_nodes  n_edges  \\\n",
       "4841  (MESH:D003907, UniProt:P04150, InterPro:IPR001...        7        6   \n",
       "4842  (MESH:D003907, UniProt:P04150, InterPro:IPR001...        7        6   \n",
       "4843  (MESH:D003907, UniProt:P04150, GO:0006702, MES...        4        3   \n",
       "4844  (MESH:D003907, UniProt:P04150, GO:0034651, GO:...        5        5   \n",
       "4845  (MESH:D003907, UniProt:P04150, GO:0120178, MES...        4        3   \n",
       "\n",
       "      n_paths                                           metapath  \\\n",
       "4841        1  [Drug - Protein - GeneFamily - BiologicalProce...   \n",
       "4842        1  [Drug - Protein - GeneFamily - BiologicalProce...   \n",
       "4843        1     [Drug - Protein - BiologicalProcess - Disease]   \n",
       "4844        1     [Drug - Protein - BiologicalProcess - Disease]   \n",
       "4845        1     [Drug - Protein - BiologicalProcess - Disease]   \n",
       "\n",
       "                                    metapath_with_edges  \n",
       "4841  [Drug - positively regulates - Protein - incre...  \n",
       "4842  [Drug - positively regulates - Protein - incre...  \n",
       "4843  [Drug - positively regulates - Protein - negat...  \n",
       "4844  [Drug - positively regulates - Protein - posit...  \n",
       "4845  [Drug - positively regulates - Protein - posit...  "
      ]
     },
     "execution_count": 72,
     "metadata": {},
     "output_type": "execute_result"
    }
   ],
   "source": [
    "dmdb_df.tail()\n",
    "\n",
    "#  P.S Careful with drug ID, DrugBank ID in drug, MESH ID in nodes"
   ]
  },
  {
   "cell_type": "code",
   "execution_count": 71,
   "id": "2197ad37",
   "metadata": {},
   "outputs": [
    {
     "name": "stdout",
     "output_type": "stream",
     "text": [
      "Number of 'drug' column IDs matching 'nodes' column ID: 166/4846\n"
     ]
    }
   ],
   "source": [
    "def compare_ids(row):\n",
    "    # if row['drug'] == list(row['nodes'])[0]:\n",
    "    #     print(row['drug'], list(row['nodes'])[0])\n",
    "    return row['drug'] == list(row['nodes'])[0]\n",
    "\n",
    "result = dmdb_df.apply(compare_ids, axis=1)\n",
    "cnt = 0\n",
    "for res in result:\n",
    "    if res:\n",
    "        cnt += 1\n",
    "        # print(res)\n",
    "print(f\"Number of 'drug' column IDs matching 'nodes' column ID: {cnt}/{len(result)}\")"
   ]
  }
 ],
 "metadata": {
  "kernelspec": {
   "display_name": "analysis-env",
   "language": "python",
   "name": "python3"
  },
  "language_info": {
   "codemirror_mode": {
    "name": "ipython",
    "version": 3
   },
   "file_extension": ".py",
   "mimetype": "text/x-python",
   "name": "python",
   "nbconvert_exporter": "python",
   "pygments_lexer": "ipython3",
   "version": "3.13.5"
  }
 },
 "nbformat": 4,
 "nbformat_minor": 5
}
