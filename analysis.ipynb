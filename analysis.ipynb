{
 "cells": [
  {
   "cell_type": "code",
   "execution_count": 2,
   "id": "fbc99259",
   "metadata": {},
   "outputs": [],
   "source": [
    "import numpy as np\n",
    "import pandas as pd\n",
    "import os\n",
    "\n",
    "import csv\n",
    "import yaml\n",
    "\n",
    "from rdflib import Graph, Literal, RDF, URIRef\n",
    "from rdflib.namespace import Namespace\n",
    "\n",
    "from tqdm import tqdm"
   ]
  },
  {
   "cell_type": "markdown",
   "id": "ec32f2d7",
   "metadata": {},
   "source": [
    "## Import DRKG (with rdflib.Graph) -- outdated"
   ]
  },
  {
   "cell_type": "code",
   "execution_count": 2,
   "id": "528d3905",
   "metadata": {},
   "outputs": [],
   "source": [
    "drkg_path = \"data/drkg/drkg.tsv\"\n",
    "ns = Namespace(\"http://drkg.org/graph/\")"
   ]
  },
  {
   "cell_type": "code",
   "execution_count": 3,
   "id": "2d2eec24",
   "metadata": {},
   "outputs": [
    {
     "name": "stdout",
     "output_type": "stream",
     "text": [
      "Loading DRKG database from tsv...\n"
     ]
    }
   ],
   "source": [
    "drkg = Graph()\n",
    "\n",
    "print(\"Loading DRKG database from tsv...\")\n",
    "with open(drkg_path, 'r') as tsv_file:\n",
    "    reader = csv.reader(tsv_file, delimiter='\\t')\n",
    "    for row in reader:\n",
    "        if len(row) == 3:\n",
    "            subject = ns[row[0].replace(' ', '_').replace('|', '_')]\n",
    "            predicate = ns[row[1].replace(' ', '_').replace('>', '_')]\n",
    "            # Determine if object is a URI or a Literal\n",
    "            object = URIRef(row[2].replace(' ', '_').replace('|', '_')) if row[2].startswith('http') else Literal(row[2].replace(' ', '_').replace('|', '_'))\n",
    "            drkg.add((subject, predicate, object))\n",
    "            #print(f'Added:\\n {subject}, \\n {predicate}, \\n {object}.')"
   ]
  },
  {
   "cell_type": "code",
   "execution_count": 46,
   "id": "437051ab",
   "metadata": {},
   "outputs": [],
   "source": [
    "cnt = 0\n",
    "\n",
    "def raw2str(row):\n",
    "    # remove uri and clean predicate\n",
    "    s,p,o = row\n",
    "    if \"drkg\" in s:\n",
    "        return str(s).split(\"/\")[-1], clean_pred(str(p).split(\"/\")[-1]), str(o).split(\"/\")[-1]\n",
    "    else:\n",
    "        return str(s).split(\"/\")[-1], str(p).split(\"/\")[-1], str(o).split(\"/\")[-1]\n",
    "\n",
    "def clean_pred(p):\n",
    "    return str(p).split(\"::\")[1]    # 0 - source, 1 - predicate, 2 - head & tail entity types"
   ]
  },
  {
   "cell_type": "code",
   "execution_count": null,
   "id": "c4434d2d",
   "metadata": {},
   "outputs": [],
   "source": [
    "# Test\n",
    "for row in drkg:\n",
    "    s,p,o = raw2str(row)\n",
    "\n",
    "    if \"MESH\" in s or \"MESH\" in o:\n",
    "        print(s,p,o)\n",
    "        cnt += 1\n",
    "    if cnt > 50: break"
   ]
  },
  {
   "cell_type": "markdown",
   "id": "fb98ac50",
   "metadata": {},
   "source": [
    "## Import DRKG (with pandas.Dataframe)\n",
    "Source : https://github.com/gnn4dr/DRKG/blob/master/raw_graph_analysis/Jaccard_scores_among_all_edge_types_in_DRKG.ipynb"
   ]
  },
  {
   "cell_type": "code",
   "execution_count": 3,
   "id": "ac285fb0",
   "metadata": {},
   "outputs": [],
   "source": [
    "drkg_file = 'data/drkg/drkg.tsv'\n",
    "df = pd.read_csv(drkg_file, sep=\"\\t\")\n",
    "triplets = df.values.tolist()"
   ]
  },
  {
   "cell_type": "markdown",
   "id": "d6cf7242",
   "metadata": {},
   "source": [
    "### Entity dictionary\n",
    "Dictionary format:  {**keys**: Entity Type (str), **values**: Dict{}}\n",
    "\n",
    "Sub-dictionary format: {**keys**: Entity Name (str), **values**: Entity Index (int)}\n",
    "\n",
    "Example: *Gene {'Gene::2157': 0, 'Gene::5264': 1, 'Gene::2158': 2, 'Gene::3309': 3, 'Gene::28912': 4, ...}*"
   ]
  },
  {
   "cell_type": "code",
   "execution_count": 4,
   "id": "03dc7c6b",
   "metadata": {},
   "outputs": [],
   "source": [
    "entity_dictionary={}\n",
    "def insert_entry(entry,ent_type,dic):\n",
    "    if ent_type not in dic:\n",
    "        dic[ent_type]={}\n",
    "    ent_n_id=len(dic[ent_type])\n",
    "    if entry not in dic[ent_type]:\n",
    "         dic[ent_type][entry]=ent_n_id\n",
    "    return dic\n",
    "\n",
    "for triple in triplets:\n",
    "    src = triple[0]\n",
    "    split_src=src.split('::')\n",
    "    src_type=split_src[0]\n",
    "    dest = triple[2]\n",
    "    split_dest=dest.split('::')\n",
    "    dest_type=split_dest[0]\n",
    "    insert_entry(src,src_type,entity_dictionary)\n",
    "    insert_entry(dest,dest_type,entity_dictionary)"
   ]
  },
  {
   "cell_type": "code",
   "execution_count": null,
   "id": "7fcb12fd",
   "metadata": {},
   "outputs": [],
   "source": [
    "for k,v in entity_dictionary.items():\n",
    "    print(k,v)\n",
    "    for a,b in v.items():\n",
    "        print(type(a),type(b))\n",
    "    break"
   ]
  },
  {
   "cell_type": "markdown",
   "id": "142c0fcf",
   "metadata": {},
   "source": [
    "### Node & Edge dictionary\n",
    "Edge dictionary format: {*keys*: Predicate Type (str), *values*: List **[** head entity index (int), tail entity index (int) **]**}\n",
    "\n",
    "Node dictionary format: {*keys*: Entity Type (str), *values*: Set **(** Entity Index* (int) **)**}  \n",
    "**both head and tail entity index added*"
   ]
  },
  {
   "cell_type": "code",
   "execution_count": 12,
   "id": "ac265086",
   "metadata": {},
   "outputs": [
    {
     "name": "stdout",
     "output_type": "stream",
     "text": [
      "Number of unique edge types: 107\n"
     ]
    }
   ],
   "source": [
    "edge_dictionary={}\n",
    "node_dictionary={}\n",
    "for triple in triplets:\n",
    "    src = triple[0]\n",
    "    split_src=src.split('::')\n",
    "    src_type=split_src[0]\n",
    "    dest = triple[2]\n",
    "    split_dest=dest.split('::')\n",
    "    dest_type=split_dest[0]\n",
    "    \n",
    "    src_int_id=entity_dictionary[src_type][src]\n",
    "    dest_int_id=entity_dictionary[dest_type][dest]\n",
    "    \n",
    "    pair=[(src_int_id,dest_int_id)]\n",
    "    etype=triple[1]\n",
    "    if etype in edge_dictionary:\n",
    "        edge_dictionary[etype]+=pair\n",
    "    else:\n",
    "        edge_dictionary[etype]=pair\n",
    "    if etype in node_dictionary:\n",
    "        node_dictionary[etype].add(src_int_id)\n",
    "        node_dictionary[etype].add(dest_int_id)\n",
    "    else:\n",
    "        node_dictionary[etype]=set()   \n",
    "        node_dictionary[etype].add(src_int_id)\n",
    "        node_dictionary[etype].add(dest_int_id)\n",
    "\n",
    "print(f\"Number of unique edge types: {len(edge_dictionary)}\")"
   ]
  },
  {
   "cell_type": "code",
   "execution_count": null,
   "id": "5f86379a",
   "metadata": {},
   "outputs": [],
   "source": [
    "for k,v in node_dictionary.items():\n",
    "    print(type(k),type(v))\n",
    "    print(k)\n",
    "    for a in v:\n",
    "        print(a)\n",
    "print(len(edge_dictionary))"
   ]
  },
  {
   "cell_type": "markdown",
   "id": "3df7f7a0",
   "metadata": {},
   "source": [
    "## Import DrugMechDB (with rdflib.Graph)"
   ]
  },
  {
   "cell_type": "code",
   "execution_count": 5,
   "id": "f9546c0b",
   "metadata": {},
   "outputs": [],
   "source": [
    "dmdb_path = \"data/drugmech/drugmechdb.yaml\"\n",
    "ns = Namespace(\"http://drugmech.org/graph/\")"
   ]
  },
  {
   "cell_type": "code",
   "execution_count": 6,
   "id": "a7348b10",
   "metadata": {},
   "outputs": [
    {
     "name": "stdout",
     "output_type": "stream",
     "text": [
      "YAML loaded\n",
      "[4846, 33009, 32641]\n"
     ]
    }
   ],
   "source": [
    "dmdb = Graph()\n",
    "\n",
    "with open(dmdb_path, 'r') as yaml_file:\n",
    "    data = yaml.safe_load(yaml_file)\n",
    "    print('YAML loaded')\n",
    "\n",
    "    count = [0,0,0]\n",
    "    \n",
    "    for entry in data:\n",
    "        # graph_id = entry['graph']['_id']\n",
    "\n",
    "        for node in entry['nodes']:\n",
    "            node_id = ns[node['id']]\n",
    "            label = Literal(node['label'])\n",
    "            name = Literal(node['name'])\n",
    "            dmdb.add((node_id, RDF.type, URIRef(ns + 'Node')))\n",
    "            dmdb.add((node_id, URIRef(ns + 'label'), label))\n",
    "            dmdb.add((node_id, URIRef(ns + 'name'), name))\n",
    "            count[1] += 1\n",
    "            # print('Node :', node)\n",
    "            \n",
    "        for link in entry['links']:\n",
    "            source = URIRef(ns + link['source'])\n",
    "            target = URIRef(ns + link['target'])\n",
    "            predicate = URIRef(ns + link['key'].replace(\" \", \"_\"))\n",
    "            dmdb.add((source, predicate, target))\n",
    "            count[2] += 1\n",
    "            # print('Link :', link)\n",
    "        count[0] += 1\n",
    "        # print('Entry :', entry)\n",
    "    print(count)"
   ]
  },
  {
   "cell_type": "markdown",
   "id": "2c4db41e",
   "metadata": {},
   "source": [
    "### Step 1\n",
    "How much overlap between DMDB and DRKG entities?"
   ]
  },
  {
   "cell_type": "code",
   "execution_count": 39,
   "id": "fef17be8",
   "metadata": {},
   "outputs": [
    {
     "name": "stdout",
     "output_type": "stream",
     "text": [
      "Number of MESH-coded entities in DrugMechDB: 2539 / 27228\n"
     ]
    }
   ],
   "source": [
    "dmdb_mesh = set()\n",
    "\n",
    "for row in dmdb:\n",
    "    s,p,o = raw2str(row)\n",
    "\n",
    "    if \"MESH\" in s:\n",
    "        dmdb_mesh.add(s)\n",
    "    elif \"MESH\" in o:\n",
    "        dmdb_mesh.add(o)\n",
    "\n",
    "print(\"Number of MESH-coded entities in DrugMechDB:\", len(dmdb_mesh), \"/\", len(dmdb))"
   ]
  },
  {
   "cell_type": "code",
   "execution_count": null,
   "id": "e8227dda",
   "metadata": {},
   "outputs": [
    {
     "name": "stdout",
     "output_type": "stream",
     "text": [
      "Number of MESH-coded entities in DRKG: 239803 / 5874258\n"
     ]
    }
   ],
   "source": [
    "common_mesh = set()\n",
    "\n",
    "\n",
    "drkg_mesh_cnt = 0\n",
    "for row in drkg:\n",
    "    s,p,o = raw2str(row)\n",
    "\n",
    "    if \"MESH\" in s:\n",
    "        drkg_mesh_cnt += 1\n",
    "        if s in dmdb_mesh:\n",
    "            common_mesh.add(s)\n",
    "    elif \"MESH\" in o:\n",
    "        drkg_mesh_cnt += 1\n",
    "        if o in dmdb_mesh:\n",
    "            common_mesh.add(o)\n",
    "print(\"Number of MESH-coded entities in DRKG:\", drkg_mesh_cnt, \"/\", len(drkg))"
   ]
  },
  {
   "cell_type": "code",
   "execution_count": 34,
   "id": "e1a43c3d",
   "metadata": {},
   "outputs": [
    {
     "name": "stdout",
     "output_type": "stream",
     "text": [
      "14767\n"
     ]
    }
   ],
   "source": [
    "for i in common_mesh:\n",
    "    print(i)\n",
    "\n",
    "print(len(dmdb_mesh))"
   ]
  },
  {
   "cell_type": "markdown",
   "id": "0f78bcd8",
   "metadata": {},
   "source": [
    "### Getting Unique Entities"
   ]
  },
  {
   "cell_type": "code",
   "execution_count": 51,
   "id": "1fb13d41",
   "metadata": {},
   "outputs": [
    {
     "name": "stderr",
     "output_type": "stream",
     "text": [
      "100%|██████████| 5874258/5874258 [00:39<00:00, 148673.11it/s]"
     ]
    },
    {
     "name": "stdout",
     "output_type": "stream",
     "text": [
      "Number of stored unique entities: 97238\n"
     ]
    },
    {
     "name": "stderr",
     "output_type": "stream",
     "text": [
      "\n"
     ]
    }
   ],
   "source": [
    "# Get DRKG's unique entities\n",
    "drkg_entities = set()\n",
    "\n",
    "for row in tqdm(drkg):\n",
    "    s,p,o = raw2str(row)\n",
    "\n",
    "    for ent in [s,o]:\n",
    "        if not isinstance(ent, Literal):\n",
    "            drkg_entities.add(ent)\n",
    "\n",
    "print(f\"Number of stored unique entities: {len(drkg_entities)}\")\n"
   ]
  },
  {
   "cell_type": "code",
   "execution_count": null,
   "id": "fa186b60",
   "metadata": {},
   "outputs": [],
   "source": [
    "# DEBUG\n",
    "for idx, i in enumerate(drkg_entities):\n",
    "    print(i)\n",
    "    if idx == 30: break"
   ]
  },
  {
   "cell_type": "code",
   "execution_count": 56,
   "id": "ccc2d790",
   "metadata": {},
   "outputs": [
    {
     "name": "stderr",
     "output_type": "stream",
     "text": [
      "100%|██████████| 27228/27228 [00:00<00:00, 246468.18it/s]"
     ]
    },
    {
     "name": "stdout",
     "output_type": "stream",
     "text": [
      "Number of stored unique entities: 10962\n"
     ]
    },
    {
     "name": "stderr",
     "output_type": "stream",
     "text": [
      "\n"
     ]
    }
   ],
   "source": [
    "# Get DMDB's Unique entities\n",
    "dmdb_entities = set()\n",
    "\n",
    "for row in tqdm(dmdb):\n",
    "    s,p,o = raw2str(row)\n",
    "\n",
    "    for ent in [s,o]:\n",
    "        if not isinstance(ent, Literal):\n",
    "            # print(ent)\n",
    "            dmdb_entities.add(ent)\n",
    "\n",
    "print(f\"Number of stored unique entities: {len(dmdb_entities)}\")"
   ]
  },
  {
   "cell_type": "code",
   "execution_count": null,
   "id": "0d425a15",
   "metadata": {},
   "outputs": [
    {
     "name": "stdout",
     "output_type": "stream",
     "text": [
      "vitamin C\n",
      "purine nucleotide biosynthetic process\n",
      "Wheezing\n",
      "MESH:D001943\n",
      "Chloramphenicol\n",
      "MESH:C536777\n",
      "Paroxysmal nocturnal hemoglobinuria\n",
      "Cytokine production\n",
      "MESH:D003907\n",
      "Protein Kinase C\n",
      "Cataract\n",
      "imipenem\n",
      "Streptococcal infectious disease\n",
      "Giant Cell Arteritis\n",
      "Pneumococcal meningitis\n",
      "UniProt:P0DJD9\n",
      "MESH:D056806\n",
      "MESH:D002177\n",
      "UniProt:P00488\n",
      "MESH:D003607\n",
      "Rosuvastatin\n",
      "UniProt:Q8ZB62\n",
      "DB:DB01430\n",
      "Abnormality of temperature regulation\n",
      "MESH:D008118\n",
      "Cytokine receptor common subunit gamma\n",
      "5-hydroxytryptamine receptor 1D\n",
      "regulation of synaptic transmission, dopaminergic\n",
      "Lymphoma, Mantle-Cell\n",
      "Diazepam\n",
      "Magnesium\n"
     ]
    }
   ],
   "source": [
    "# DEBUG         TODO : Literals in entities?\n",
    "for idx, i in enumerate(dmdb_entities):\n",
    "    print(i)\n",
    "    if idx == 30: break"
   ]
  },
  {
   "cell_type": "code",
   "execution_count": null,
   "id": "e677acbb",
   "metadata": {},
   "outputs": [
    {
     "name": "stderr",
     "output_type": "stream",
     "text": [
      "Comparison in progress: 100%|██████████| 10962/10962 [00:00<00:00, 1811867.92it/s]"
     ]
    },
    {
     "name": "stdout",
     "output_type": "stream",
     "text": [
      "Number of common entities: 10962 / 119162\n"
     ]
    },
    {
     "name": "stderr",
     "output_type": "stream",
     "text": [
      "\n"
     ]
    }
   ],
   "source": [
    "# Comparing unique entity sets\n",
    "common_entities = set()\n",
    "\n",
    "for elem in tqdm(dmdb_entities, desc=\"Comparison in progress\"):\n",
    "    if elem in drkg_entities:\n",
    "        common_entities.add(elem)\n",
    "\n",
    "print(\"Number of common entities:\", len(common_entities), \"/\", (len(drkg_entities) + len(dmdb_entities)))"
   ]
  },
  {
   "cell_type": "code",
   "execution_count": 64,
   "id": "43c2b00b",
   "metadata": {},
   "outputs": [
    {
     "name": "stdout",
     "output_type": "stream",
     "text": [
      "2539\n"
     ]
    }
   ],
   "source": [
    "# DEBUG\n",
    "cnt = 0\n",
    "\n",
    "for idx, i in enumerate(common_entities):\n",
    "    if \"MESH\" in i:        # hard-coded filter...\n",
    "        cnt += 1\n",
    "print(cnt)"
   ]
  },
  {
   "cell_type": "code",
   "execution_count": null,
   "id": "3a38d12e",
   "metadata": {},
   "outputs": [],
   "source": [
    "# Inefficient entity comparison\n",
    "common_entities = set()\n",
    "\n",
    "for row in tqdm(dmdb, desc=\"Hour-long comparison in progress...\"):\n",
    "    s,p,o = raw2str(row)\n",
    "\n",
    "    for row2 in drkg:\n",
    "        s2,p2,o2 = raw2str(row2)\n",
    "\n",
    "        if s in s2 or s in o2:\n",
    "            common_entities.add(s)\n",
    "        if o in s2 or o in o2:\n",
    "            common_entities.add(o)\n",
    "\n",
    "print(\"Number of common entities:\", len(common_entities), \"/\", (len(drkg) + len(dmdb)))"
   ]
  },
  {
   "cell_type": "code",
   "execution_count": null,
   "id": "10e341cb",
   "metadata": {},
   "outputs": [],
   "source": []
  }
 ],
 "metadata": {
  "kernelspec": {
   "display_name": "analysis-env",
   "language": "python",
   "name": "python3"
  },
  "language_info": {
   "codemirror_mode": {
    "name": "ipython",
    "version": 3
   },
   "file_extension": ".py",
   "mimetype": "text/x-python",
   "name": "python",
   "nbconvert_exporter": "python",
   "pygments_lexer": "ipython3",
   "version": "3.13.5"
  }
 },
 "nbformat": 4,
 "nbformat_minor": 5
}
