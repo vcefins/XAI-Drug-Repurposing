{
 "cells": [
  {
   "cell_type": "code",
   "execution_count": 2,
   "id": "fbc99259",
   "metadata": {},
   "outputs": [],
   "source": [
    "import numpy as np\n",
    "import pandas as pd\n",
    "import os\n",
    "\n",
    "import csv\n",
    "import yaml\n",
    "\n",
    "from rdflib import Graph, Literal, RDF, URIRef\n",
    "from rdflib.namespace import Namespace\n",
    "\n",
    "from tqdm import tqdm"
   ]
  },
  {
   "cell_type": "markdown",
   "id": "c0360359",
   "metadata": {},
   "source": [
    "# Import Data"
   ]
  },
  {
   "cell_type": "code",
   "execution_count": 3,
   "id": "27876f17",
   "metadata": {},
   "outputs": [],
   "source": [
    "class stats_log():\n",
    "    def __init__(self):\n",
    "        self.entity = {'DRKG':[], 'DMDB':[]}\n",
    "        self.predicate = {'DRKG':[], 'DMDB':[]}\n",
    "        self.triple = {'DRKG':[], 'DMDB':[]}\n",
    "        self.common = []\n",
    "\n",
    "    def print(self):\n",
    "        print(\"===\\n Stats - Entity Logs \\n===\")\n",
    "        for src,entry in self.entity.items():\n",
    "            print(src)\n",
    "            print(entry)\n",
    "        print(\"\\n===\\nStats - Predicate Logs \\n===\")\n",
    "        for src,entry in self.predicate.items():\n",
    "            print(src)\n",
    "            print(entry)\n",
    "        print(\"\\n===\\nStats - Triple Logs \\n===\")\n",
    "        for src,entry in self.triple.items():\n",
    "            print(src)\n",
    "            print(entry)\n",
    "        print(\"\\n===\\nStats - Common Logs \\n===\")\n",
    "        for entry in self.common:\n",
    "            print(entry)\n",
    "\n",
    "stats = stats_log()"
   ]
  },
  {
   "cell_type": "markdown",
   "id": "fb98ac50",
   "metadata": {},
   "source": [
    "## Import DRKG (with pandas)\n",
    "Source: https://github.com/gnn4dr/DRKG/blob/master/raw_graph_analysis/Jaccard_scores_among_all_edge_types_in_DRKG.ipynb"
   ]
  },
  {
   "cell_type": "code",
   "execution_count": 4,
   "id": "ac285fb0",
   "metadata": {},
   "outputs": [],
   "source": [
    "drkg_file = 'data/drkg/drkg.tsv'\n",
    "drkg_df = pd.read_csv(drkg_file, sep=\"\\t\", header=None)     # header fix to original code\n",
    "drkg_triplets_list = drkg_df.values.tolist()"
   ]
  },
  {
   "cell_type": "code",
   "execution_count": 5,
   "id": "d1bf574f",
   "metadata": {},
   "outputs": [
    {
     "data": {
      "text/html": [
       "<div>\n",
       "<style scoped>\n",
       "    .dataframe tbody tr th:only-of-type {\n",
       "        vertical-align: middle;\n",
       "    }\n",
       "\n",
       "    .dataframe tbody tr th {\n",
       "        vertical-align: top;\n",
       "    }\n",
       "\n",
       "    .dataframe thead th {\n",
       "        text-align: right;\n",
       "    }\n",
       "</style>\n",
       "<table border=\"1\" class=\"dataframe\">\n",
       "  <thead>\n",
       "    <tr style=\"text-align: right;\">\n",
       "      <th></th>\n",
       "      <th>0</th>\n",
       "      <th>1</th>\n",
       "      <th>2</th>\n",
       "    </tr>\n",
       "  </thead>\n",
       "  <tbody>\n",
       "    <tr>\n",
       "      <th>5874256</th>\n",
       "      <td>Gene::29099</td>\n",
       "      <td>STRING::REACTION::Gene:Gene</td>\n",
       "      <td>Gene::1643</td>\n",
       "    </tr>\n",
       "    <tr>\n",
       "      <th>5874257</th>\n",
       "      <td>Gene::51645</td>\n",
       "      <td>STRING::REACTION::Gene:Gene</td>\n",
       "      <td>Gene::3183</td>\n",
       "    </tr>\n",
       "    <tr>\n",
       "      <th>5874258</th>\n",
       "      <td>Gene::865</td>\n",
       "      <td>STRING::CATALYSIS::Gene:Gene</td>\n",
       "      <td>Gene::983</td>\n",
       "    </tr>\n",
       "    <tr>\n",
       "      <th>5874259</th>\n",
       "      <td>Gene::1066</td>\n",
       "      <td>STRING::BINDING::Gene:Gene</td>\n",
       "      <td>Gene::7365</td>\n",
       "    </tr>\n",
       "    <tr>\n",
       "      <th>5874260</th>\n",
       "      <td>Gene::6118</td>\n",
       "      <td>STRING::BINDING::Gene:Gene</td>\n",
       "      <td>Gene::1111</td>\n",
       "    </tr>\n",
       "  </tbody>\n",
       "</table>\n",
       "</div>"
      ],
      "text/plain": [
       "                   0                             1           2\n",
       "5874256  Gene::29099   STRING::REACTION::Gene:Gene  Gene::1643\n",
       "5874257  Gene::51645   STRING::REACTION::Gene:Gene  Gene::3183\n",
       "5874258    Gene::865  STRING::CATALYSIS::Gene:Gene   Gene::983\n",
       "5874259   Gene::1066    STRING::BINDING::Gene:Gene  Gene::7365\n",
       "5874260   Gene::6118    STRING::BINDING::Gene:Gene  Gene::1111"
      ]
     },
     "execution_count": 5,
     "metadata": {},
     "output_type": "execute_result"
    }
   ],
   "source": [
    "drkg_df.tail()"
   ]
  },
  {
   "cell_type": "markdown",
   "id": "d6cf7242",
   "metadata": {},
   "source": [
    "### Entity dictionary\n",
    "Dictionary format:  {**keys**: Entity Type (str), **values**: Dict{}}\n",
    "\n",
    "Sub-dictionary format: {**keys**: Entity Name (str), **values**: Entity Index (int)}\n",
    "\n",
    "Example: *Gene {'Gene::2157': 0, 'Gene::5264': 1, 'Gene::2158': 2, 'Gene::3309': 3, 'Gene::28912': 4, ...}*"
   ]
  },
  {
   "cell_type": "code",
   "execution_count": 6,
   "id": "03dc7c6b",
   "metadata": {},
   "outputs": [],
   "source": [
    "drkg_entity_dictionary={}\n",
    "def insert_entry(entry,ent_type,dic):\n",
    "    if ent_type not in dic:\n",
    "        dic[ent_type]={}\n",
    "    ent_n_id=len(dic[ent_type])\n",
    "    if entry not in dic[ent_type]:\n",
    "         dic[ent_type][entry]=ent_n_id\n",
    "    return dic\n",
    "\n",
    "for triple in drkg_triplets_list:\n",
    "    src = triple[0]\n",
    "    split_src=src.split('::')\n",
    "    src_type=split_src[0]\n",
    "    dest = triple[2]\n",
    "    split_dest=dest.split('::')\n",
    "    dest_type=split_dest[0]\n",
    "    insert_entry(src,src_type,drkg_entity_dictionary)\n",
    "    insert_entry(dest,dest_type,drkg_entity_dictionary)"
   ]
  },
  {
   "cell_type": "code",
   "execution_count": 7,
   "id": "7fcb12fd",
   "metadata": {},
   "outputs": [
    {
     "name": "stdout",
     "output_type": "stream",
     "text": [
      "DRKG Entity Summary\n",
      "---\n",
      "{(39220) Gene :{Gene::2157-0, Gene::5264-1, Gene::2158-2, Gene::3309-3, ... }}\n",
      "{(24313) Compound :{Compound::DB02573-0, Compound::DB05105-1, Compound::DB00244-2, Compound::DB00684-3, ... }}\n",
      "{(11381) Biological Process :{Biological Process::GO:0071357-0, Biological Process::GO:0098780-1, Biological Process::GO:0055088-2, Biological Process::GO:0010243-3, ... }}\n",
      "{(5701) Side Effect :{Side Effect::C0032584-0, Side Effect::C0424024-1, Side Effect::C0235309-2, Side Effect::C0014724-3, ... }}\n",
      "{(5103) Disease :{Disease::SARS-CoV2 E-0, Disease::SARS-CoV2 M-1, Disease::SARS-CoV2 N-2, Disease::SARS-CoV2 Spike-3, ... }}\n",
      "{(4048) Atc :{Atc::B01AE02-0, Atc::L01XC06-1, Atc::R05CB13-2, Atc::L01XX29-3, ... }}\n",
      "{(2884) Molecular Function :{Molecular Function::GO:0042803-0, Molecular Function::GO:0016274-1, Molecular Function::GO:0015179-2, Molecular Function::GO:0005085-3, ... }}\n",
      "{(1822) Pathway :{Pathway::PC7_6941-0, Pathway::PC7_5330-1, Pathway::PC7_6994-2, Pathway::PC7_2926-3, ... }}\n",
      "{(1391) Cellular Component :{Cellular Component::GO:0005913-0, Cellular Component::GO:0043025-1, Cellular Component::GO:0005874-2, Cellular Component::GO:0031253-3, ... }}\n",
      "{(415) Symptom :{Symptom::D007383-0, Symptom::D021501-1, Symptom::D010146-2, Symptom::D013064-3, ... }}\n",
      "{(400) Anatomy :{Anatomy::UBERON:0002110-0, Anatomy::UBERON:0001980-1, Anatomy::UBERON:0001760-2, Anatomy::UBERON:0002360-3, ... }}\n",
      "{(345) Pharmacologic Class :{Pharmacologic Class::N0000175732-0, Pharmacologic Class::N0000185503-1, Pharmacologic Class::N0000191267-2, Pharmacologic Class::N0000181819-3, ... }}\n",
      "{(215) Tax :{Tax::10090-0, Tax::10116-1, Tax::9913-2, Tax::4932-3, ... }}\n",
      "\n",
      "Total number of unique DRKG entities: 97238\n"
     ]
    }
   ],
   "source": [
    "# DEBUG entity dict\n",
    "print(\"DRKG Entity Summary\\n---\")\n",
    "total = 0\n",
    "for k,v in sorted(drkg_entity_dictionary.items(), key=lambda x:len(x[1]), reverse=True):\n",
    "    # print(k,v)\n",
    "    string = \"{\"+ f\"({len(v)}) {k} :\" + \"{\"\n",
    "    for etype,content in enumerate(v.items()):\n",
    "        ent, eid = content\n",
    "        string = string + f\"{ent}-{eid}\"\n",
    "        if etype == 3: break\n",
    "        string += \", \"\n",
    "    print(string + \", ... }}\")\n",
    "    total += len(v)\n",
    "print(\"\\nTotal number of unique DRKG entities:\", total)\n",
    "stats.entity['DRKG'].append(f\"Total number of unique DRKG entities: {total}\")"
   ]
  },
  {
   "cell_type": "code",
   "execution_count": 8,
   "id": "4793e3bb",
   "metadata": {},
   "outputs": [
    {
     "data": {
      "text/plain": [
       "10563"
      ]
     },
     "execution_count": 8,
     "metadata": {},
     "output_type": "execute_result"
    }
   ],
   "source": [
    "drkg_db_drug_set = set()\n",
    "for elem in drkg_entity_dictionary[\"Compound\"].keys():\n",
    "    elem = elem.split(\"::\")[-1]\n",
    "    if  \"DB\" in elem:  \n",
    "        drkg_db_drug_set.add(elem)\n",
    "\n",
    "len(drkg_db_drug_set)"
   ]
  },
  {
   "cell_type": "code",
   "execution_count": 9,
   "id": "63f50b4d",
   "metadata": {},
   "outputs": [
    {
     "data": {
      "text/plain": [
       "3521"
      ]
     },
     "execution_count": 9,
     "metadata": {},
     "output_type": "execute_result"
    }
   ],
   "source": [
    "drkg_db_disease_set = set()\n",
    "for elem in drkg_entity_dictionary[\"Disease\"].keys():\n",
    "    elem = elem.split(\"::\")[-1]\n",
    "    if \"MESH:D\" in elem:  \n",
    "        drkg_db_disease_set.add(elem)\n",
    "\n",
    "len(drkg_db_disease_set)"
   ]
  },
  {
   "cell_type": "markdown",
   "id": "142c0fcf",
   "metadata": {},
   "source": [
    "### Node & Edge dictionary\n",
    "Edge dictionary format: {*keys*: Predicate Type (str), *values*: List **[** head Entity Index (int), tail Entity Index (int) **]**}\n",
    "\n",
    "Node dictionary format: {*keys*: Predicate Type (str), *values*: Set **(** Entity Index (int)* **)**}  \n",
    "**head and tail entity index added separately*"
   ]
  },
  {
   "cell_type": "code",
   "execution_count": 10,
   "id": "ac265086",
   "metadata": {},
   "outputs": [],
   "source": [
    "drkg_edge_dictionary={}\n",
    "drkg_node_dictionary={}\n",
    "\n",
    "ctrl_set = set()\n",
    "for triple in drkg_triplets_list:\n",
    "    src = triple[0]\n",
    "    split_src=src.split('::')\n",
    "    src_type=split_src[0]\n",
    "    dest = triple[2]\n",
    "    split_dest=dest.split('::')\n",
    "    dest_type=split_dest[0]\n",
    "    \n",
    "    src_int_id=drkg_entity_dictionary[src_type][src]\n",
    "    dest_int_id=drkg_entity_dictionary[dest_type][dest]\n",
    "    \n",
    "    pair=[(src_int_id,dest_int_id)]\n",
    "    etype=triple[1]\n",
    "    if etype in drkg_edge_dictionary:\n",
    "        drkg_edge_dictionary[etype]+=pair\n",
    "    else:\n",
    "        drkg_edge_dictionary[etype]=pair\n",
    "    if etype in drkg_node_dictionary:\n",
    "        drkg_node_dictionary[etype].add(src_int_id)\n",
    "        drkg_node_dictionary[etype].add(dest_int_id)\n",
    "    else:\n",
    "        drkg_node_dictionary[etype]=set()   \n",
    "        drkg_node_dictionary[etype].add(src_int_id)\n",
    "        drkg_node_dictionary[etype].add(dest_int_id)"
   ]
  },
  {
   "cell_type": "code",
   "execution_count": 11,
   "id": "8d38b1e3",
   "metadata": {},
   "outputs": [
    {
     "name": "stdout",
     "output_type": "stream",
     "text": [
      "Number of DRKG edge types: 107\n",
      "\n",
      "DRUGBANK::ddi-interactor-in::Compound:Compound - Freq: 1379271\n",
      "Hetionet::GpBP::Gene:Biological Process - Freq: 559504\n",
      "Hetionet::AeG::Anatomy:Gene - Freq: 526407\n",
      "STRING::REACTION::Gene:Gene - Freq: 400426\n",
      "STRING::CATALYSIS::Gene:Gene - Freq: 343533\n",
      "STRING::BINDING::Gene:Gene - Freq: 315875\n",
      "STRING::OTHER::Gene:Gene - Freq: 310690\n",
      "Hetionet::Gr>G::Gene:Gene - Freq: 265672\n",
      "Hetionet::GiG::Gene:Gene - Freq: 147164\n",
      "Hetionet::CcSE::Compound:Side Effect - Freq: 138944\n",
      "INTACT::PHYSICAL ASSOCIATION::Gene:Gene - Freq: 129318\n",
      "INTACT::ASSOCIATION::Gene:Gene - Freq: 112390\n",
      "Hetionet::AdG::Anatomy:Gene - Freq: 102240\n",
      "Hetionet::AuG::Anatomy:Gene - Freq: 97848\n",
      "Hetionet::GpMF::Gene:Molecular Function - Freq: 97222\n",
      "Hetionet::GpPW::Gene:Pathway - Freq: 84372\n",
      "STRING::ACTIVATION::Gene:Gene - Freq: 81355\n",
      "Hetionet::GpCC::Gene:Cellular Component - Freq: 73566\n",
      "Hetionet::GcG::Gene:Gene - Freq: 61690\n",
      "bioarx::HumGenHumGen:Gene:Gene - Freq: 58094\n",
      "GNBR::T::Compound:Disease - Freq: 54020\n",
      "GNBR::L::Gene:Disease - Freq: 48384\n",
      "GNBR::E::Compound:Gene - Freq: 32743\n",
      "GNBR::J::Gene:Disease - Freq: 30234\n",
      "STRING::INHIBITION::Gene:Gene - Freq: 28959\n",
      "bioarx::DrugHumGen:Compound:Gene - Freq: 24501\n",
      "Hetionet::CdG::Compound:Gene - Freq: 21102\n",
      "GNBR::Q::Gene:Gene - Freq: 19372\n",
      "DRUGBANK::target::Compound:Gene - Freq: 19158\n",
      "Hetionet::CuG::Compound:Gene - Freq: 18756\n",
      "GNBR::Sa::Compound:Disease - Freq: 16923\n",
      "DRUGBANK::x-atc::Compound:Atc - Freq: 15750\n",
      "STRING::PTMOD::Gene:Gene - Freq: 15113\n",
      "GNBR::in_tax::Gene:Tax - Freq: 14663\n",
      "Hetionet::DaG::Disease:Gene - Freq: 12623\n",
      "GNBR::N::Compound:Gene - Freq: 12521\n",
      "GNBR::K::Compound:Gene - Freq: 12411\n",
      "Hetionet::CbG::Compound:Gene - Freq: 11571\n",
      "DGIDB::OTHER::Gene:Compound - Freq: 11070\n",
      "GNBR::Rg::Gene:Gene - Freq: 11018\n",
      "GNBR::E+::Gene:Gene - Freq: 10838\n",
      "GNBR::V+::Gene:Gene - Freq: 8689\n",
      "GNBR::B::Gene:Gene - Freq: 8164\n",
      "Hetionet::DuG::Disease:Gene - Freq: 7731\n",
      "Hetionet::DdG::Disease:Gene - Freq: 7623\n",
      "GNBR::B::Compound:Gene - Freq: 7170\n",
      "INTACT::DIRECT INTERACTION::Gene:Gene - Freq: 6950\n",
      "Hetionet::CrC::Compound:Compound - Freq: 6486\n",
      "GNBR::U::Gene:Disease - Freq: 6432\n",
      "DGIDB::INHIBITOR::Gene:Compound - Freq: 5971\n",
      "GNBR::O::Compound:Gene - Freq: 5573\n",
      "GNBR::I::Gene:Gene - Freq: 5434\n",
      "DRUGBANK::treats::Compound:Disease - Freq: 4968\n",
      "DRUGBANK::enzyme::Compound:Gene - Freq: 4923\n",
      "Hetionet::DlA::Disease:Anatomy - Freq: 3602\n",
      "INTACT::COLOCALIZATION::Gene:Gene - Freq: 3468\n",
      "Hetionet::DpS::Disease:Symptom - Freq: 3357\n",
      "DGIDB::AGONIST::Gene:Compound - Freq: 3012\n",
      "DGIDB::ANTAGONIST::Gene:Compound - Freq: 3006\n",
      "GNBR::E-::Compound:Gene - Freq: 2918\n",
      "GNBR::Te::Gene:Disease - Freq: 2836\n",
      "GNBR::Z::Compound:Gene - Freq: 2821\n",
      "GNBR::Pa::Compound:Disease - Freq: 2619\n",
      "GNBR::H::Gene:Gene - Freq: 2509\n",
      "GNBR::G::Gene:Disease - Freq: 2055\n",
      "GNBR::E+::Compound:Gene - Freq: 1970\n",
      "GNBR::Y::Gene:Disease - Freq: 1948\n",
      "GNBR::C::Compound:Disease - Freq: 1739\n",
      "GNBR::A+::Compound:Gene - Freq: 1568\n",
      "INTACT::ASSOCIATION::Compound:Gene - Freq: 1447\n",
      "INTACT::PHOSPHORYLATION REACTION::Gene:Gene - Freq: 1328\n",
      "GNBR::X::Gene:Disease - Freq: 1324\n",
      "GNBR::Md::Gene:Disease - Freq: 1279\n",
      "bioarx::DrugVirGen:Compound:Gene - Freq: 1165\n",
      "GNBR::A-::Compound:Gene - Freq: 1108\n",
      "Hetionet::PCiC::Pharmacologic Class:Compound - Freq: 1029\n",
      "GNBR::J::Compound:Disease - Freq: 1020\n",
      "DGIDB::BLOCKER::Gene:Compound - Freq: 979\n",
      "GNBR::Pr::Compound:Disease - Freq: 966\n",
      "STRING::EXPRESSION::Gene:Gene - Freq: 757\n",
      "Hetionet::CtD::Compound:Disease - Freq: 755\n",
      "DRUGBANK::carrier::Compound:Gene - Freq: 720\n",
      "DGIDB::POSITIVE ALLOSTERIC MODULATOR::Gene:Compound - Freq: 618\n",
      "Hetionet::DrD::Disease:Disease - Freq: 543\n",
      "bioarx::VirGenHumGen:Gene:Gene - Freq: 535\n",
      "GNBR::D::Gene:Disease - Freq: 500\n",
      "GNBR::Mp::Compound:Disease - Freq: 495\n",
      "GNBR::E::Gene:Gene - Freq: 418\n",
      "GNBR::Ud::Gene:Disease - Freq: 407\n",
      "Hetionet::CpD::Compound:Disease - Freq: 390\n",
      "INTACT::UBIQUITINATION REACTION::Gene:Gene - Freq: 371\n",
      "DGIDB::CHANNEL BLOCKER::Gene:Compound - Freq: 352\n",
      "bioarx::Covid2_acc_host_gene::Disease:Gene - Freq: 332\n",
      "DGIDB::ALLOSTERIC MODULATOR::Gene:Compound - Freq: 317\n",
      "DGIDB::ACTIVATOR::Gene:Compound - Freq: 316\n",
      "INTACT::DEPHOSPHORYLATION REACTION::Gene:Gene - Freq: 303\n",
      "GNBR::W::Gene:Gene - Freq: 280\n",
      "DGIDB::MODULATOR::Gene:Compound - Freq: 243\n",
      "INTACT::PHYSICAL ASSOCIATION::Compound:Gene - Freq: 203\n",
      "DGIDB::ANTIBODY::Gene:Compound - Freq: 188\n",
      "INTACT::DIRECT INTERACTION::Compound:Gene - Freq: 155\n",
      "DGIDB::BINDER::Gene:Compound - Freq: 143\n",
      "bioarx::Coronavirus_ass_host_gene::Disease:Gene - Freq: 129\n",
      "INTACT::CLEAVAGE REACTION::Gene:Gene - Freq: 93\n",
      "DGIDB::PARTIAL AGONIST::Gene:Compound - Freq: 75\n",
      "INTACT::PROTEIN CLEAVAGE::Gene:Gene - Freq: 67\n",
      "INTACT::ADP RIBOSYLATION REACTION::Gene:Gene - Freq: 58\n"
     ]
    }
   ],
   "source": [
    "print(f\"Number of DRKG edge types: {len(drkg_edge_dictionary)}\\n\")\n",
    "stats.predicate['DRKG'].append(f\"Number of DRKG edge types: {len(drkg_edge_dictionary)}\")\n",
    "\n",
    "for k, v in sorted(drkg_edge_dictionary.items(), key=lambda x: len(x[1]), reverse=True):\n",
    "    print(f\"{k} - Freq: {len(v)}\")"
   ]
  },
  {
   "cell_type": "code",
   "execution_count": 12,
   "id": "52143264",
   "metadata": {},
   "outputs": [
    {
     "name": "stdout",
     "output_type": "stream",
     "text": [
      "All triplets including 'treats' relation in DRKG\n",
      "\n",
      "GNBR::T::Compound:Disease \t 54020\n",
      "DRUGBANK::treats::Compound:Disease \t 4968\n",
      "Hetionet::CtD::Compound:Disease \t 755\n",
      "\n",
      "Total:  59743\n"
     ]
    }
   ],
   "source": [
    "total = 0\n",
    "temp_str = \"All triplets including 'treats' relation in DRKG\\n\"\n",
    "print(\"All triplets including 'treats' relation in DRKG\\n\")\n",
    "for treats_pred in ['GNBR::T::Compound:Disease', 'DRUGBANK::treats::Compound:Disease','Hetionet::CtD::Compound:Disease']: # TODO : pred_match_drkg2dmdb('treats'):\n",
    "    print(treats_pred,\"\\t\", len(drkg_edge_dictionary[treats_pred]))\n",
    "    total += len(drkg_edge_dictionary[treats_pred])\n",
    "    temp_str += (f\"{treats_pred} \\t {len(drkg_edge_dictionary[treats_pred])}\")\n",
    "print(\"\\nTotal: \", total)\n",
    "stats.entity['DRKG'].append(temp_str)\n",
    "\n",
    "# TODO : GNBR assumed treats"
   ]
  },
  {
   "cell_type": "markdown",
   "id": "7b993f3d",
   "metadata": {},
   "source": [
    "### Predicate Set\n",
    "\n",
    "For debugging/analyzing reoccuring predicate names in DRKG.\n",
    "\n",
    "Original predicate format: **[source]::[predicate name]:[head entity type]:[tail entity type]**\n",
    "\n",
    "OR **[source]::[predicate name]::[head entity type]:[tail entity type]**"
   ]
  },
  {
   "cell_type": "code",
   "execution_count": 13,
   "id": "36bd4b51",
   "metadata": {},
   "outputs": [],
   "source": [
    "# utils function\n",
    "def remove_null_from_list(list):\n",
    "    # Removes '' elements from list\n",
    "    # Output for drkg preds: [source, predicate name, head_entity_type, tail_entity_type]\n",
    "    return [x for x in list if x != '']"
   ]
  },
  {
   "cell_type": "code",
   "execution_count": 14,
   "id": "af52429b",
   "metadata": {},
   "outputs": [
    {
     "name": "stdout",
     "output_type": "stream",
     "text": [
      "Number of unique names (string) in relations: 99\n"
     ]
    }
   ],
   "source": [
    "drkg_pred_set = set()\n",
    "\n",
    "for triple in drkg_triplets_list:\n",
    "    temp = triple[1].split(\":\")\n",
    "    temp = remove_null_from_list(temp)\n",
    "    pred_name = triple[1].split(\"::\")[1].split(\":\")[0]\n",
    "    drkg_pred_set.add(pred_name)\n",
    "\n",
    "print(\"Number of unique names (string) in relations:\", len(drkg_pred_set))"
   ]
  },
  {
   "cell_type": "code",
   "execution_count": 15,
   "id": "74644808",
   "metadata": {},
   "outputs": [
    {
     "name": "stdout",
     "output_type": "stream",
     "text": [
      "Reoccuring predicates\n",
      "\n",
      "'B' from GNBR\n",
      "'E+' from GNBR\n",
      "'E' from GNBR\n",
      "'J' from GNBR\n",
      "'ASSOCIATION' from INTACT\n",
      "'DIRECT INTERACTION' from INTACT\n",
      "'PHYSICAL ASSOCIATION' from INTACT\n",
      "'OTHER' from STRING\n",
      "\n",
      "Number of unique predicates pulled from relation glossary: 99\n"
     ]
    }
   ],
   "source": [
    "# DEBUG For cross-examining the predicate glossary\n",
    "pred_glossary_path = \"data\\\\drkg\\\\relation_glossary.tsv\"\n",
    "\n",
    "drkg_pred_set2 = set()\n",
    "recur_set = set()\n",
    "\n",
    "with open(pred_glossary_path, 'r') as f: \n",
    "    next(f)\n",
    "    print(\"Reoccuring predicates\\n\")\n",
    "    for line in f:\n",
    "        pred_name = line.split('::')[1]\n",
    "        if pred_name in drkg_pred_set2:\n",
    "            print(f\"'{pred_name}' from {line.split('::')[0]}\")\n",
    "            recur_set.add(pred_name)\n",
    "        drkg_pred_set2.add(pred_name)\n",
    "\n",
    "\n",
    "print(\"\\nNumber of unique predicates pulled from relation glossary:\", len(drkg_pred_set2))"
   ]
  },
  {
   "cell_type": "markdown",
   "id": "7aa7deff",
   "metadata": {},
   "source": [
    "recur_set = ['B', 'E+', 'E', 'J', 'ASSOCIATION', 'DIRECT INTERACTION', 'PHYSICAL ASSOCIATION', 'OTHER']"
   ]
  },
  {
   "cell_type": "markdown",
   "id": "c299cb70",
   "metadata": {},
   "source": [
    "### Triplets Set\n",
    "Unique triplets set."
   ]
  },
  {
   "cell_type": "code",
   "execution_count": 16,
   "id": "df4a109c",
   "metadata": {},
   "outputs": [
    {
     "name": "stdout",
     "output_type": "stream",
     "text": [
      "Ratio of unique triplets: 5874258 / 5874261\n"
     ]
    }
   ],
   "source": [
    "# DRKG unique triples\n",
    "drkg_triplets_set = {tuple(triple) for triple in drkg_triplets_list}\n",
    "print(f\"Ratio of unique triplets: {len(drkg_triplets_set)} / {len(drkg_triplets_list)}\")"
   ]
  },
  {
   "cell_type": "code",
   "execution_count": 17,
   "id": "be2a2239",
   "metadata": {},
   "outputs": [
    {
     "name": "stdout",
     "output_type": "stream",
     "text": [
      "<class 'set'>\n"
     ]
    }
   ],
   "source": [
    "print(type(drkg_triplets_set))"
   ]
  },
  {
   "cell_type": "markdown",
   "id": "4b896fb4",
   "metadata": {},
   "source": [
    "## Import DrugMechDB (with pandas)\n",
    "\n",
    "Source: https://github.com/SuLab/DrugMechDB/blob/main/data_analysis/figures_DMDB_manuscript.ipynb"
   ]
  },
  {
   "cell_type": "code",
   "execution_count": 18,
   "id": "e4255a31",
   "metadata": {},
   "outputs": [],
   "source": [
    "drugmech_path = \"data/drugmech/drugmechdb.yaml\"\n",
    "\n",
    "with open(drugmech_path, 'r') as fh:\n",
    "        ind = yaml.safe_load(fh)"
   ]
  },
  {
   "cell_type": "code",
   "execution_count": 19,
   "id": "eb6bb0f6",
   "metadata": {},
   "outputs": [],
   "source": [
    "from dmdb_data_tools_analysis import *\n",
    "from collections import defaultdict"
   ]
  },
  {
   "cell_type": "code",
   "execution_count": 20,
   "id": "26206b64",
   "metadata": {},
   "outputs": [],
   "source": [
    "all_metapath_nodes = get_metapath_node(ind)\n",
    "all_metapath_edges = get_metapath_edges(ind)"
   ]
  },
  {
   "cell_type": "code",
   "execution_count": 21,
   "id": "8437e23b",
   "metadata": {},
   "outputs": [],
   "source": [
    "basic_stats = defaultdict(list)\n",
    "\n",
    "all_metaedges = []\n",
    "all_parings = []\n",
    "all_targets = []\n",
    "unique_metaedges = []\n",
    "first_edge_type = []\n",
    "all_nodes = []\n",
    "\n",
    "id_to_name = {}\n",
    "id_to_label = {}\n",
    "\n",
    "for i, p in enumerate(ind):\n",
    "    _id = (p[\"graph\"][\"_id\"])\n",
    "    drug_id, dis_id = path_to_tup(p)\n",
    "    paths = get_all_paths(p)\n",
    "    G = path_to_G(p)\n",
    "    \n",
    "    G = add_metaedges(G)\n",
    "    G = add_meanode_pairs(G)\n",
    "    \n",
    "    basic_stats['idx'].append(i) #index\n",
    "    basic_stats['id'].append(p['graph']['_id']) #DrugMechDB id\n",
    "    basic_stats['drug'].append(drug_id) #Drug id\n",
    "    basic_stats['disease'].append(dis_id)#Disease id\n",
    "    basic_stats['nodes'].append((G.nodes)) #nodes in metapath\n",
    "    basic_stats['n_nodes'].append(len(G.nodes)) # number of nodes in metapath\n",
    "    basic_stats['n_edges'].append(len(G.edges)) #number of edges in metapath\n",
    "    basic_stats['n_paths'].append(len(all_metapath_nodes[_id])) #number of paths\n",
    "    basic_stats['metapath'].append(all_metapath_nodes[_id])\n",
    "    basic_stats['metapath_with_edges'].append(all_metapath_edges[_id])\n",
    "\n",
    "    \n",
    "    this_metaedges = [G.edges[e]['metaedge'] for e in G.edges]\n",
    "    \n",
    "    all_metaedges += this_metaedges\n",
    "    unique_metaedges += list(set(this_metaedges))\n",
    "    \n",
    "    all_parings += [G.edges[e]['mn_pair'] for e in G.edges]\n",
    "    all_targets += get_targets(G)\n",
    "    first_edge_type += get_target_metaedges(G)\n",
    "    all_nodes += list(G.nodes)\n",
    "    \n",
    "    id_to_label = {**id_to_label, **get_id_to_type(G)}\n",
    "    id_to_name = {**id_to_name, **get_id_to_name(G)}\n",
    "    \n",
    "dmdb_df = pd.DataFrame(basic_stats)"
   ]
  },
  {
   "cell_type": "code",
   "execution_count": 22,
   "id": "e60077e7",
   "metadata": {},
   "outputs": [
    {
     "data": {
      "text/html": [
       "<div>\n",
       "<style scoped>\n",
       "    .dataframe tbody tr th:only-of-type {\n",
       "        vertical-align: middle;\n",
       "    }\n",
       "\n",
       "    .dataframe tbody tr th {\n",
       "        vertical-align: top;\n",
       "    }\n",
       "\n",
       "    .dataframe thead th {\n",
       "        text-align: right;\n",
       "    }\n",
       "</style>\n",
       "<table border=\"1\" class=\"dataframe\">\n",
       "  <thead>\n",
       "    <tr style=\"text-align: right;\">\n",
       "      <th></th>\n",
       "      <th>idx</th>\n",
       "      <th>id</th>\n",
       "      <th>drug</th>\n",
       "      <th>disease</th>\n",
       "      <th>nodes</th>\n",
       "      <th>n_nodes</th>\n",
       "      <th>n_edges</th>\n",
       "      <th>n_paths</th>\n",
       "      <th>metapath</th>\n",
       "      <th>metapath_with_edges</th>\n",
       "    </tr>\n",
       "  </thead>\n",
       "  <tbody>\n",
       "    <tr>\n",
       "      <th>4841</th>\n",
       "      <td>4841</td>\n",
       "      <td>DB01234_MESH_D009404_1</td>\n",
       "      <td>DB:DB01234</td>\n",
       "      <td>MESH:D009404</td>\n",
       "      <td>(MESH:D003907, UniProt:P04150, InterPro:IPR001...</td>\n",
       "      <td>7</td>\n",
       "      <td>6</td>\n",
       "      <td>1</td>\n",
       "      <td>[Drug - Protein - GeneFamily - BiologicalProce...</td>\n",
       "      <td>[Drug - positively regulates - Protein - incre...</td>\n",
       "    </tr>\n",
       "    <tr>\n",
       "      <th>4842</th>\n",
       "      <td>4842</td>\n",
       "      <td>DB01234_MESH_C562390_1</td>\n",
       "      <td>DB:DB01234</td>\n",
       "      <td>MESH:C562390</td>\n",
       "      <td>(MESH:D003907, UniProt:P04150, InterPro:IPR001...</td>\n",
       "      <td>7</td>\n",
       "      <td>6</td>\n",
       "      <td>1</td>\n",
       "      <td>[Drug - Protein - GeneFamily - BiologicalProce...</td>\n",
       "      <td>[Drug - positively regulates - Protein - incre...</td>\n",
       "    </tr>\n",
       "    <tr>\n",
       "      <th>4843</th>\n",
       "      <td>4843</td>\n",
       "      <td>DB01234_MESH_D000312_1</td>\n",
       "      <td>DB:DB01234</td>\n",
       "      <td>MESH:D000312</td>\n",
       "      <td>(MESH:D003907, UniProt:P04150, GO:0006702, MES...</td>\n",
       "      <td>4</td>\n",
       "      <td>3</td>\n",
       "      <td>1</td>\n",
       "      <td>[Drug - Protein - BiologicalProcess - Disease]</td>\n",
       "      <td>[Drug - positively regulates - Protein - negat...</td>\n",
       "    </tr>\n",
       "    <tr>\n",
       "      <th>4844</th>\n",
       "      <td>4844</td>\n",
       "      <td>DB01234_MESH_D000224_1</td>\n",
       "      <td>DB:DB01234</td>\n",
       "      <td>MESH:D000224</td>\n",
       "      <td>(MESH:D003907, UniProt:P04150, GO:0034651, GO:...</td>\n",
       "      <td>5</td>\n",
       "      <td>5</td>\n",
       "      <td>1</td>\n",
       "      <td>[Drug - Protein - BiologicalProcess - Disease]</td>\n",
       "      <td>[Drug - positively regulates - Protein - posit...</td>\n",
       "    </tr>\n",
       "    <tr>\n",
       "      <th>4845</th>\n",
       "      <td>4845</td>\n",
       "      <td>DB01234_MESH_D000309_1</td>\n",
       "      <td>DB:DB01234</td>\n",
       "      <td>MESH:D000309</td>\n",
       "      <td>(MESH:D003907, UniProt:P04150, GO:0120178, MES...</td>\n",
       "      <td>4</td>\n",
       "      <td>3</td>\n",
       "      <td>1</td>\n",
       "      <td>[Drug - Protein - BiologicalProcess - Disease]</td>\n",
       "      <td>[Drug - positively regulates - Protein - posit...</td>\n",
       "    </tr>\n",
       "  </tbody>\n",
       "</table>\n",
       "</div>"
      ],
      "text/plain": [
       "       idx                      id        drug       disease  \\\n",
       "4841  4841  DB01234_MESH_D009404_1  DB:DB01234  MESH:D009404   \n",
       "4842  4842  DB01234_MESH_C562390_1  DB:DB01234  MESH:C562390   \n",
       "4843  4843  DB01234_MESH_D000312_1  DB:DB01234  MESH:D000312   \n",
       "4844  4844  DB01234_MESH_D000224_1  DB:DB01234  MESH:D000224   \n",
       "4845  4845  DB01234_MESH_D000309_1  DB:DB01234  MESH:D000309   \n",
       "\n",
       "                                                  nodes  n_nodes  n_edges  \\\n",
       "4841  (MESH:D003907, UniProt:P04150, InterPro:IPR001...        7        6   \n",
       "4842  (MESH:D003907, UniProt:P04150, InterPro:IPR001...        7        6   \n",
       "4843  (MESH:D003907, UniProt:P04150, GO:0006702, MES...        4        3   \n",
       "4844  (MESH:D003907, UniProt:P04150, GO:0034651, GO:...        5        5   \n",
       "4845  (MESH:D003907, UniProt:P04150, GO:0120178, MES...        4        3   \n",
       "\n",
       "      n_paths                                           metapath  \\\n",
       "4841        1  [Drug - Protein - GeneFamily - BiologicalProce...   \n",
       "4842        1  [Drug - Protein - GeneFamily - BiologicalProce...   \n",
       "4843        1     [Drug - Protein - BiologicalProcess - Disease]   \n",
       "4844        1     [Drug - Protein - BiologicalProcess - Disease]   \n",
       "4845        1     [Drug - Protein - BiologicalProcess - Disease]   \n",
       "\n",
       "                                    metapath_with_edges  \n",
       "4841  [Drug - positively regulates - Protein - incre...  \n",
       "4842  [Drug - positively regulates - Protein - incre...  \n",
       "4843  [Drug - positively regulates - Protein - negat...  \n",
       "4844  [Drug - positively regulates - Protein - posit...  \n",
       "4845  [Drug - positively regulates - Protein - posit...  "
      ]
     },
     "execution_count": 22,
     "metadata": {},
     "output_type": "execute_result"
    }
   ],
   "source": [
    "dmdb_df.tail()"
   ]
  },
  {
   "cell_type": "code",
   "execution_count": 23,
   "id": "e9945f70",
   "metadata": {},
   "outputs": [
    {
     "data": {
      "text/plain": [
       "defaultdict(None,\n",
       "            {1: 4258, 2: 440, 3: 41, 5: 15, 0: 29, 4: 48, 6: 13, 21: 1, 10: 1})"
      ]
     },
     "execution_count": 23,
     "metadata": {},
     "output_type": "execute_result"
    }
   ],
   "source": [
    "tempset = defaultdict()\n",
    "for idx, row in dmdb_df.iterrows():\n",
    "    if row['n_paths'] not in tempset.keys():\n",
    "        tempset[row['n_paths']] = 1\n",
    "    else:\n",
    "        tempset[row['n_paths']] += 1\n",
    "tempset"
   ]
  },
  {
   "cell_type": "markdown",
   "id": "e5fc1545",
   "metadata": {},
   "source": [
    "### Entity Set\n",
    "\n",
    "Is an entity dictionary necessary? "
   ]
  },
  {
   "cell_type": "code",
   "execution_count": 24,
   "id": "9c44244d",
   "metadata": {},
   "outputs": [
    {
     "name": "stdout",
     "output_type": "stream",
     "text": [
      "Number of unique entities in DrugMechDB: 5128\n"
     ]
    }
   ],
   "source": [
    "dmdb_entity_set = set()\n",
    "\n",
    "for idx, row in dmdb_df.iterrows():\n",
    "    for n_id, ent in enumerate(list(row['nodes'])):\n",
    "        dmdb_entity_set.add(ent)\n",
    "\n",
    "print(\"Number of unique entities in DrugMechDB:\", len(dmdb_entity_set))"
   ]
  },
  {
   "cell_type": "code",
   "execution_count": 25,
   "id": "b845504b",
   "metadata": {},
   "outputs": [
    {
     "name": "stdout",
     "output_type": "stream",
     "text": [
      "Number of unique drugs in DrugMechDB: 1579\n"
     ]
    }
   ],
   "source": [
    "dmdb_drugs_set = set()\n",
    "\n",
    "for idx, row in dmdb_df.iterrows():\n",
    "    if row['drug'] is not None:\n",
    "        dmdb_drugs_set.add(row['drug'].split(':')[-1])\n",
    "print(\"Number of unique drugs in DrugMechDB:\", len(dmdb_drugs_set))"
   ]
  },
  {
   "cell_type": "code",
   "execution_count": 26,
   "id": "cb083221",
   "metadata": {},
   "outputs": [],
   "source": [
    "common_db_drugs = len(drkg_db_drug_set.intersection(dmdb_drugs_set))"
   ]
  },
  {
   "cell_type": "code",
   "execution_count": 27,
   "id": "f1632533",
   "metadata": {},
   "outputs": [
    {
     "data": {
      "text/plain": [
       "{'B02362',\n",
       " 'DB010473',\n",
       " 'DB01527',\n",
       " 'DB05768',\n",
       " 'DB09162',\n",
       " 'DB11152',\n",
       " 'DB11739',\n",
       " 'DB12354',\n",
       " 'DB13163',\n",
       " 'DB14649',\n",
       " 'DBDB08902',\n",
       " 'DBSALT001045',\n",
       " 'DBSALT001065'}"
      ]
     },
     "execution_count": 27,
     "metadata": {},
     "output_type": "execute_result"
    }
   ],
   "source": [
    "dmdb_drugs_set.difference(drkg_db_drug_set)\n",
    "\n",
    "# TODO: fix this in code DB:DBDB08902, and other format mistakes"
   ]
  },
  {
   "cell_type": "code",
   "execution_count": 28,
   "id": "ab9c93a9",
   "metadata": {},
   "outputs": [],
   "source": [
    "dmdb_entity_dictionary = {}   # Dictionary for entity stats\n",
    "\n",
    "def insert_entry(entry,ent_type,dic):\n",
    "    if ent_type not in dic:\n",
    "        dic[ent_type]={}\n",
    "    ent_n_id=len(dic[ent_type])\n",
    "    if entry not in dic[ent_type]:\n",
    "         dic[ent_type][entry]=ent_n_id\n",
    "    return dic\n",
    "\n",
    "for entry in ind:\n",
    "    for node in entry['nodes']:\n",
    "        src = node['id']\n",
    "        src_type = node['label']\n",
    "        insert_entry(src,src_type,dmdb_entity_dictionary)"
   ]
  },
  {
   "cell_type": "code",
   "execution_count": 29,
   "id": "2ad0018f",
   "metadata": {},
   "outputs": [
    {
     "name": "stdout",
     "output_type": "stream",
     "text": [
      "DrugMechDB Entity Summary\n",
      "---\n",
      "{(1644) 'Drug' : {MESH:D000068877-0, MESH:D000082-1, MESH:D001241-2, MESH:D009288-3, ... }}\n",
      "{(788) 'Protein' : {UniProt:P00519-0, UniProt:P10721-1, UniProt:P16234-2, UniProt:P23219-3, ... }}\n",
      "{(760) 'Disease' : {MESH:D015464-0, MESH:D034721-1, MESH:D010146-2, MESH:D005334-3, ... }}\n",
      "{(694) 'BiologicalProcess' : {GO:0008283-0, GO:0001516-1, GO:0001659-2, GO:0006954-3, ... }}\n",
      "{(359) 'ChemicalSubstance' : {MESH:D011453-0, MESH:D013928-1, MESH:D015774-2, MESH:C029371-3, ... }}\n",
      "{(274) 'PhenotypicFeature' : {HP:0000969-0, HP:0000738-1, HP:0012531-2, HP:0100033-3, ... }}\n",
      "{(166) 'OrganismTaxon' : {taxonomy:622-0, taxonomy:10358-1, taxonomy:2-2, taxonomy:786-3, ... }}\n",
      "{(137) 'GeneFamily' : {TIGR:02074-0, InterPro:IPR000265-1, InterPro:IPR005446-2, InterPro:IPR006028-3, ... }}\n",
      "{(122) 'GrossAnatomicalStructure' : {UBERON:0000955-0, UBERON:0002046-1, UBERON:0000007-2, UBERON:0000004-3, ... }}\n",
      "{(98) 'MolecularActivity' : {GO:0003746-0, GO:0004969-1, GO:0030284-2, GO:0022851-3, ... }}\n",
      "{(81) 'Pathway' : {reactome:R-HSA-2162123-0, reactome:R-HSA-5684996-1, reactome:R-HSA-390651-2, reactome:R-HSA-189451-3, ... }}\n",
      "{(45) 'CellularComponent' : {GO:0009277-0, GO:0009274-1, GO:0043025-2, GO:0005840-3, ... }}\n",
      "{(37) 'Cell' : {CL:0000346-0, CL:0002559-1, CL:0000169-2, CL:0000584-3, ... }}\n",
      "{(2) 'MacromolecularComplex' : {PR:000006147-0, PR:000028799-1, , ... }}\n",
      "\n",
      "Total number of unique DMDB entities: 5207\n"
     ]
    }
   ],
   "source": [
    "# DEBUG entity dict\n",
    "print(\"DrugMechDB Entity Summary\\n---\")\n",
    "total = 0\n",
    "for k,v in sorted(dmdb_entity_dictionary.items(), key=lambda x:len(x[1]), reverse=True):\n",
    "    # print(k,v)\n",
    "    string = \"{\"+ f\"({len(v)}) '{k}' : \" + \"{\"\n",
    "    for enum,content in enumerate(v.items()):\n",
    "        ent, eid = content\n",
    "        string = string + f\"{ent}-{eid}\"\n",
    "        if enum == 3: break\n",
    "        string += \", \"\n",
    "    print(string + \", ... }}\")\n",
    "    total += len(v)\n",
    "print(\"\\nTotal number of unique DMDB entities:\", total)"
   ]
  },
  {
   "cell_type": "code",
   "execution_count": 31,
   "id": "ac0d410e",
   "metadata": {},
   "outputs": [
    {
     "data": {
      "text/plain": [
       "734"
      ]
     },
     "execution_count": 31,
     "metadata": {},
     "output_type": "execute_result"
    }
   ],
   "source": [
    "dmdb_mesh_disease_set = set()\n",
    "for elem in dmdb_entity_dictionary[\"Disease\"].keys():\n",
    "    if \"MESH:D\" in str(elem):\n",
    "        dmdb_mesh_disease_set.add(elem)\n",
    "# DB:DB00100 MESH:C000599709\n",
    "len(dmdb_mesh_disease_set)"
   ]
  },
  {
   "cell_type": "code",
   "execution_count": 32,
   "id": "e7c812e4",
   "metadata": {},
   "outputs": [
    {
     "data": {
      "text/plain": [
       "702"
      ]
     },
     "execution_count": 32,
     "metadata": {},
     "output_type": "execute_result"
    }
   ],
   "source": [
    "len(drkg_db_disease_set.intersection(dmdb_mesh_disease_set))"
   ]
  },
  {
   "cell_type": "code",
   "execution_count": 33,
   "id": "637d8000",
   "metadata": {},
   "outputs": [
    {
     "data": {
      "text/plain": [
       "32"
      ]
     },
     "execution_count": 33,
     "metadata": {},
     "output_type": "execute_result"
    }
   ],
   "source": [
    "len(dmdb_mesh_disease_set.difference(drkg_db_disease_set))"
   ]
  },
  {
   "cell_type": "markdown",
   "id": "5011fa60",
   "metadata": {},
   "source": [
    "### Predicate Set\n",
    "\n",
    "TODO : How are there 29 samples with no relations or metapath?"
   ]
  },
  {
   "cell_type": "code",
   "execution_count": 34,
   "id": "14349c4d",
   "metadata": {},
   "outputs": [
    {
     "name": "stdout",
     "output_type": "stream",
     "text": [
      "Number of unique predicates in DMDB: 56\n"
     ]
    }
   ],
   "source": [
    "dmdb_pred_set = set()\n",
    "\n",
    "count = 0\n",
    "\n",
    "def add_dmdb_preds(row):\n",
    "    is_pred = False\n",
    "    if row['metapath_with_edges'] == []:\n",
    "        # print(\"flag\", row)\n",
    "        # print(row['nodes'])\n",
    "        # count += 1\n",
    "        return 1\n",
    "    try:\n",
    "        subj = row['metapath_with_edges'][0].split(\" - \")\n",
    "    except Exception as e:\n",
    "        print(type(row['metapath_with_edges']))\n",
    "        pass\n",
    "\n",
    "    for elem in row['metapath_with_edges'][0].split(\" - \"):\n",
    "        if is_pred:\n",
    "            dmdb_pred_set.add(elem)\n",
    "            is_pred = False\n",
    "        else:\n",
    "            is_pred = True\n",
    "\n",
    "ret = dmdb_df.apply(add_dmdb_preds, axis=1)\n",
    "\n",
    "for i in ret:\n",
    "    if i == 1:\n",
    "        count += 1\n",
    "\n",
    "print(\"Number of unique predicates in DMDB:\", len(dmdb_pred_set))\n",
    "# print(dmdb_pred_set)\n",
    "# TODO : print(\"\\nNumber of samples with no relations or metapath:\", count)\n"
   ]
  },
  {
   "cell_type": "code",
   "execution_count": 35,
   "id": "2197ad37",
   "metadata": {},
   "outputs": [
    {
     "name": "stdout",
     "output_type": "stream",
     "text": [
      "Number of ['drug'] column drug IDs matching ['nodes'] column drug ID: 166/4846\n",
      "\n"
     ]
    }
   ],
   "source": [
    "# P.S DrugBank ID in drug, MESH ID in nodes\n",
    "# 'metapath's are python lists with one element \n",
    "# Metapath indicates basic structure (e.g D - X - Di & D - Y - Di == Drug - Protein - Disease)\n",
    "\n",
    "def compare_ids(row):\n",
    "    return row['drug'] == list(row['nodes'])[0]\n",
    "\n",
    "result = dmdb_df.apply(compare_ids, axis=1)\n",
    "cnt = 0\n",
    "for res in result:\n",
    "    if res:\n",
    "        cnt += 1\n",
    "        # print(res)\n",
    "print(f\"Number of ['drug'] column drug IDs matching ['nodes'] column drug ID: {cnt}/{len(result)}\\n\")\n",
    "\n",
    "# for elem in dmdb_df.loc[0,'metapath_with_edges'][0].split(\" - \"):   # metapath testing\n",
    "#     print(elem)"
   ]
  },
  {
   "cell_type": "markdown",
   "id": "31dee393",
   "metadata": {},
   "source": [
    "### Triplets Set"
   ]
  },
  {
   "cell_type": "code",
   "execution_count": null,
   "id": "6832abf7",
   "metadata": {},
   "outputs": [
    {
     "name": "stdout",
     "output_type": "stream",
     "text": [
      "Number of unique triples in DrugMechDB: 10791/32641 (out of 4846 samples)\n"
     ]
    }
   ],
   "source": [
    "# P.S These triplets do not include attribute triples with 'name' relation in DrugMechDB\n",
    "dmdb_drug_disease_pairs = []\n",
    "dmdb_triplets_list = []\n",
    "dmdb_triplets_set = set()\n",
    "\n",
    "counter = [0,0]\n",
    "for entry in ind:\n",
    "    counter[0] += 1\n",
    "    # Drug - disease pair MESH \n",
    "    dmdb_drug_disease_pairs.append((entry['graph']['drug_mesh'], entry['graph']['disease_mesh']))\n",
    "\n",
    "    for link in entry['links']:\n",
    "        dmdb_triplets_set.add((link['source'], link['key'], link['target']))\n",
    "        dmdb_triplets_list.append((link['source'], link['key'], link['target']))\n",
    "        counter[1] += 1\n",
    "\n",
    "print(f\"Number of unique triples in DrugMechDB: {len(dmdb_triplets_set)}/{len(dmdb_triplets_list)} (out of {counter[0]} samples)\")"
   ]
  },
  {
   "cell_type": "markdown",
   "id": "1f67e78a",
   "metadata": {},
   "source": [
    "# Analysis"
   ]
  },
  {
   "cell_type": "markdown",
   "id": "b0c8bc42",
   "metadata": {},
   "source": [
    "## 0 - Notes"
   ]
  },
  {
   "cell_type": "code",
   "execution_count": null,
   "id": "c652075b",
   "metadata": {},
   "outputs": [
    {
     "data": {
      "text/plain": [
       "{3}"
      ]
     },
     "execution_count": 287,
     "metadata": {},
     "output_type": "execute_result"
    }
   ],
   "source": [
    "temp_set = set()    # Tax debug\n",
    "for row in drkg_triplets_set:\n",
    "    if 'Tax' in row[0]:\n",
    "        temp_set.add(len(row[0].split(\":\")))\n",
    "    elif 'Tax' in row[2]:\n",
    "        temp_set.add(len(row[2].split(\":\")))\n",
    "temp_set\n",
    "# for i in drkg_entity_dictionary:\n",
    "#     print(i)\n",
    "# print()\n",
    "# for j in dmdb_entity_dictionary:\n",
    "#     print(j)"
   ]
  },
  {
   "cell_type": "code",
   "execution_count": null,
   "id": "fb0d6507",
   "metadata": {},
   "outputs": [],
   "source": [
    "# Search all triplets including target ID\n",
    "target_ID = \"Side Effect::C0009763\"\n",
    "cnt = 0\n",
    "for triplet in drkg_triplets_set:\n",
    "    if target_ID == triplet[0] or target_ID == triplet[2]:\n",
    "        print(triplet)\n",
    "        cnt+=1\n",
    "cnt"
   ]
  },
  {
   "cell_type": "code",
   "execution_count": null,
   "id": "4f3d3740",
   "metadata": {},
   "outputs": [],
   "source": [
    "# TODO : edge dictionaries are triplet-focused right? So do one for dmdb - then we check github again for visuals cause drkg wont need it"
   ]
  },
  {
   "cell_type": "markdown",
   "id": "9559a3c5",
   "metadata": {},
   "source": [
    "## Step 1: Compare Entities"
   ]
  },
  {
   "cell_type": "code",
   "execution_count": 39,
   "id": "3980a3e6",
   "metadata": {},
   "outputs": [
    {
     "name": "stdout",
     "output_type": "stream",
     "text": [
      "(724) Disease   ['MESH:D003550', 'MESH:D013167', 'MESH:D017497', 'MESH:D001171', 'MESH:D011565']\n",
      "(501) Biological Process   ['GO:0006898', 'GO:0008015', 'GO:0006470', 'GO:0043647', 'GO:0001508']\n",
      "(279) Compound   ['MESH:C026098', 'CHEBI:15356', 'CHEBI:15889', 'CHEBI:16134', 'CHEBI:16136']\n",
      "(77) Molecular Function   ['GO:0004674', 'GO:0004115', 'GO:0016209', 'GO:0004857', 'GO:0003916']\n",
      "(45) Anatomy   ['UBERON:0002110', 'UBERON:0000178', 'UBERON:0000955', 'UBERON:0001003', 'UBERON:0000992']\n",
      "(27) Cellular Component   ['GO:0043025', 'GO:0005874', 'GO:0098793', 'GO:0032993', 'GO:0031012']\n",
      "\n",
      "Number of total common entities: 1653\n"
     ]
    }
   ],
   "source": [
    "# No format transformation\n",
    "common_entities_dict = {}\n",
    "for e_type,dict in drkg_entity_dictionary.items():\n",
    "    for elem,eid in dict.items():\n",
    "        _, e_name = elem.split(\"::\")     # TODO : This is just an integer for some classes\n",
    "        # print(elem)\n",
    "        if e_name in dmdb_entity_set:\n",
    "            # print(\"Common element found: \", elem)\n",
    "            if e_type in common_entities_dict:\n",
    "                common_entities_dict[e_type]+=[str(e_name)]\n",
    "            else:\n",
    "                common_entities_dict[e_type]=[e_name]\n",
    "\n",
    "for k,v in sorted(common_entities_dict.items(), key=lambda x: len(x[1]), reverse=True):\n",
    "    print(f\"({len(v)}) {k}  \", v[:5])\n",
    "\n",
    "print(\"\\nNumber of total common entities:\", sum(len(k) for k in common_entities_dict.values()))"
   ]
  },
  {
   "cell_type": "code",
   "execution_count": null,
   "id": "349b51b0",
   "metadata": {},
   "outputs": [],
   "source": [
    "# No format transformation\n",
    "common_entities_dict = {}\n",
    "for e_type,dict in drkg_entity_dictionary.items():\n",
    "    for elem,eid in dict.items():\n",
    "        _, e_name = elem.split(\"::\")     # TODO : This is just an integer for some classes\n",
    "        # print(elem)\n",
    "        if e_name in dmdb_entity_set:\n",
    "            # print(\"Common element found: \", elem)\n",
    "            if e_type in common_entities_dict:\n",
    "                common_entities_dict[e_type]+=[str(e_name)]\n",
    "            else:\n",
    "                common_entities_dict[e_type]=[e_name]\n",
    "        # else:         ### For observing uncommon compounds\n",
    "        #     if elem.split(\"::\")[0] == \"Compound\":\n",
    "        #         print(elem)\n",
    "\n",
    "# for k,v in sorted(common_entities_dict.items(), key=lambda x: len(x[1]), reverse=True):\n",
    "#     print(f\"({len(v)}) {k}  \", v)\n",
    "\n",
    "# print(\"\\nNumber of total common entities:\", sum(len(k) for k in common_entities_dict.values()))"
   ]
  },
  {
   "cell_type": "code",
   "execution_count": 82,
   "id": "cb86d455",
   "metadata": {},
   "outputs": [
    {
     "name": "stdout",
     "output_type": "stream",
     "text": [
      "Number of hits with ['drugs'] (DrugBank IDs): 1566\n"
     ]
    }
   ],
   "source": [
    "# Checking for original drug names with DrugBank ID - (DEBUG)\n",
    "cnt = 0\n",
    "common_debug_dict = {}\n",
    "for e_type,dict in drkg_entity_dictionary.items():\n",
    "    for elem,eid in dict.items():\n",
    "        e_type, e_name = elem.split(\"::\")     # TODO : This is just an integer for some classes\n",
    "        # print(elem)\n",
    "        if e_name in dmdb_drugs_set:\n",
    "            # print(\"Common element found: \", elem)\n",
    "            cnt += 1\n",
    "            if e_type in common_debug_dict:\n",
    "                common_debug_dict[e_type]+=[str(e_name)]\n",
    "            else:\n",
    "                common_debug_dict[e_type]=[e_name]\n",
    "\n",
    "print(\"Number of hits with ['drugs'] (DrugBank IDs):\", sum(len(v) for v in common_debug_dict.values()))"
   ]
  },
  {
   "cell_type": "markdown",
   "id": "55f43959",
   "metadata": {},
   "source": [
    "### Pseudo-entity-alignment (with GPT 5 - Thinking - Deep Research mode)"
   ]
  },
  {
   "cell_type": "markdown",
   "id": "deaf544c",
   "metadata": {},
   "source": [
    "Mapping Biomedical Concept Types (Group1 to Group2)\n",
    "\n",
    "Below we map each concept type from Group 1 to the most semantically equivalent concept in Group 2, indicating whether the match is exact, broader, or narrower. Each mapping is justified with references to established biomedical ontologies (UMLS, Biolink Model, GO, etc.):\n",
    "\n",
    "Genetic Entities\n",
    "\n",
    "Gene → GeneFamily (narrower): The GeneFamily category represents a grouping of multiple genes or gene products with shared ancestry\n",
    "biolink.github.io\n",
    ". An individual gene is a member of such a family, making Gene a narrower concept under the broader GeneFamily category. In other words, a single gene is one element of a gene family.\n",
    "\n",
    "Chemical/Drug Entities\n",
    "\n",
    "Compound → ChemicalSubstance (exact): A chemical compound is essentially a chemical substance. For instance, in DBpedia’s ontology, ChemicalCompound is defined as a subclass of ChemicalSubstance\n",
    "dbpedia.org\n",
    ". Thus, Compound (a chemical compound) maps exactly to ChemicalSubstance – they refer to the same kind of entity (a chemical entity in biomedical context).\n",
    "\n",
    "Atc → Drug (exact): ATC refers to the Anatomical Therapeutic Chemical classification system, which is a drug classification scheme. Each ATC code corresponds to a specific drug or a group of related drug substances\n",
    "en.wikipedia.org\n",
    ". Therefore, an Atc concept (an ATC-coded entity) is essentially a Drug. This is an exact match to the Drug category (with ATC being a coding scheme for drugs).\n",
    "\n",
    "Pharmacologic Class → Drug (broader): A pharmacologic class is a group of drugs that share certain properties (such as mechanism of action or therapeutic effect). The FDA defines a pharmacologic class as “a group of drugs that share scientifically documented properties”\n",
    "fda.gov\n",
    ". Since Group 2 doesn’t list a separate “DrugClass” category, the best semantic fit is Drug. However, the relation is broader – Pharmacologic Class encompasses multiple drugs (it’s a higher-level grouping), whereas Drug can refer to individual drug entities.\n",
    "\n",
    "Diseases and Phenotypes\n",
    "\n",
    "Disease → Disease (exact): The concept of Disease maps directly and exactly to Disease. Both Group1 and Group2 use the same term, referring to a disorder or illness. For example, Biolink defines a disease as “a disorder of structure or function... that produces specific signs, phenotypes or symptoms”\n",
    "biolink.github.io\n",
    ", which is the standard meaning of a disease. This indicates an identical semantic category in both groups.\n",
    "\n",
    "Symptom → PhenotypicFeature (narrower): A Symptom (clinical sign or symptom) is a type of PhenotypicFeature. In biomedical ontologies like HPO and Biolink, phenotypic features encompass all observable characteristics of an individual, including clinical signs and symptoms\n",
    "johnsnowlabs.com\n",
    ". Thus, Symptom is narrower than PhenotypicFeature – it represents one kind of phenotypic feature. (All symptoms are phenotypic features, but not all phenotypic features are symptoms.)\n",
    "\n",
    "Side Effect → PhenotypicFeature (narrower): A Side Effect (an adverse effect of a drug) is also represented as a phenotypic outcome. In Biolink/Translator contexts, drug side effects are modeled as either diseases or phenotypic features, since they are secondary, undesirable clinical effects\n",
    "biolink.github.io\n",
    ". Many side effects manifest as symptoms or clinical phenotypes, so Side Effect fits under PhenotypicFeature. This is a narrower match (side effects are specific phenotypic features resulting from drug exposure).\n",
    "\n",
    "Biological Processes & Functions\n",
    "\n",
    "Biological Process → BiologicalProcess (exact): Biological Process corresponds exactly to BiologicalProcess. This concept refers to a series of biologically orchestrated events or functions. For example, the Gene Ontology defines a biological process as “one or more causally connected executions of molecular functions”\n",
    "biolink.github.io\n",
    ". The terms are essentially synonymous, so this is an exact match.\n",
    "\n",
    "Molecular Function → MolecularActivity (exact): Molecular Function (as used in GO) is the same concept as MolecularActivity in Group 2. Biolink describes MolecularActivity as the execution of a molecular function by a gene product or complex\n",
    "biolink.github.io\n",
    ". In other words, it’s the biochemical activity that a molecule (like a protein) performs. This is an exact semantic match (different phrasing for the GO molecular function category).\n",
    "\n",
    "Pathway → Pathway (exact): Pathway in Group1 maps exactly to Pathway in Group2, since they are identical concepts. A biological pathway is a series of interactions or actions among molecules leading to a certain product or change in a cell\n",
    "genome.gov\n",
    ". Both groups refer to this same idea of a biochemical or signaling pathway, making it an exact match.\n",
    "\n",
    "Anatomy & Cellular Components\n",
    "\n",
    "Anatomy → GrossAnatomicalStructure (exact): Anatomy (in this context) refers to anatomical entities at the gross (macroscopic) level, such as organs or tissues. This aligns with GrossAnatomicalStructure in Group2. The Biolink model, for instance, lists organ and tissue as aliases of GrossAnatomicalStructure\n",
    "biolink.github.io\n",
    ". Thus, Anatomy is an exact match to GrossAnatomicalStructure (both representing macroscopic anatomical structures).\n",
    "\n",
    "Cellular Component → CellularComponent (exact): Cellular Component corresponds directly to CellularComponent (same term). Both denote a location or structural component of a cell (e.g., an organelle, membrane, or other part of a cell). The Gene Ontology defines a cellular component as “a location in or around a cell”\n",
    "biolink.github.io\n",
    ". Therefore, this mapping is exact – the concept is identical in both groups.\n",
    "\n",
    "Taxonomy\n",
    "\n",
    "Tax → OrganismTaxon (exact): Tax (short for taxonomy or taxon) maps to OrganismTaxon. OrganismTaxon denotes a taxonomic classification for organisms (for example, Homo sapiens is an organism taxon in the NCBI taxonomy hierarchy)\n",
    "biolink.github.io\n",
    ". This is an exact alignment: Tax represents an organism’s taxonomic group, which is precisely what OrganismTaxon is."
   ]
  },
  {
   "cell_type": "code",
   "execution_count": 42,
   "id": "3edda526",
   "metadata": {},
   "outputs": [],
   "source": [
    "# DRKG entity types are keys, DMDB entity types are values (Gene was an erroneous type in DMDB)\n",
    "etype_match_dict_old = {'Gene': 'Gene',\n",
    "'Compound': 'ChemicalSubstance',\n",
    "'Disease': 'Disease',\n",
    "'Atc': 'Drug',\n",
    "'Tax': 'OrganismTaxon',\n",
    "'Biological Process': 'BiologicalProcess',\n",
    "'Symptom': 'PhenotypicFeature',\n",
    "'Anatomy': 'GrossAnatomicalStructure',\n",
    "'Molecular Function': 'MolecularActivity',\n",
    "'Pharmacologic Class': 'Drug',\n",
    "'Cellular Component': 'CellularComponent',\n",
    "'Pathway': 'Pathway',\n",
    "'Side Effect': 'PhenotypicFeature'}"
   ]
  },
  {
   "cell_type": "code",
   "execution_count": null,
   "id": "a0c408cd",
   "metadata": {},
   "outputs": [],
   "source": [
    "# DRKG entity types are keys, DMDB entity types are values\n",
    "etype_match_dict = {'Gene': 'Protein',\n",
    "'Compound': 'Drug',\n",
    "'Disease': 'Disease',\n",
    "#'Atc': 'Drug',\n",
    "'Tax': 'OrganismTaxon',\n",
    "'Biological Process': 'BiologicalProcess',\n",
    "'Symptom': 'PhenotypicFeature',\n",
    "'Anatomy': 'GrossAnatomicalStructure',\n",
    "'Molecular Function': 'MolecularActivity',\n",
    "'Pharmacologic Class': 'ChemicalSubstance',\n",
    "'Cellular Component': 'CellularComponent',\n",
    "'Pathway': 'Pathway'\n",
    "#'Side Effect': 'PhenotypicFeature'\n",
    "}"
   ]
  },
  {
   "cell_type": "markdown",
   "id": "9cacbdae",
   "metadata": {},
   "source": [
    "##### Testing LLM Entity Type Matches"
   ]
  },
  {
   "cell_type": "code",
   "execution_count": null,
   "id": "86a9d47f",
   "metadata": {},
   "outputs": [],
   "source": [
    "for drkg_etype in drkg_entity_dictionary.keys():\n",
    "    if drkg_etype in etype_match_dict:\n",
    "        # print(drkg_etype, etype_match_dict[drkg_etype])\n",
    "        dmdb_etype = etype_match_dict[drkg_etype]\n",
    "        dmdb_dic = dmdb_entity_dictionary[dmdb_etype]\n",
    "        drkg_dic = drkg_entity_dictionary[drkg_etype]\n",
    "        print(len(dmdb_dic), dmdb_dic)\n",
    "        print(len(drkg_dic), drkg_dic)\n",
    "        #print()\n",
    "        cnt = 0\n",
    "\n",
    "        for sample in drkg_dic.keys():\n",
    "            #print(drkg_dic.keys())\n",
    "            sample = sample.split(\"::\")[-1]\n",
    "            if sample in dmdb_dic.keys():\n",
    "                # print(sample)\n",
    "                cnt+=1\n",
    "        print(cnt, dmdb_etype, [key for key, val in etype_match_dict.items() if val == dmdb_etype])\n",
    "        print()\n",
    "        # No one-to-one matches found.\n",
    "        # if set(dmdb_entity_dictionary[dmdb_etype].keys()).intersection(set(drkg_entity_dictionary[drkg_etype].keys())):\n",
    "        #     temp_common = dmdb_entity_dictionary[dmdb_etype].keys().intersection(drkg_entity_dictionary[drkg_etype].keys())\n",
    "        #     print(temp_common)"
   ]
  },
  {
   "cell_type": "markdown",
   "id": "ffc4a0be",
   "metadata": {},
   "source": [
    "## Step 2: Compare Predicates"
   ]
  },
  {
   "cell_type": "markdown",
   "id": "a1401c2f",
   "metadata": {},
   "source": [
    "### Local LLM Outputs - underwhelming results"
   ]
  },
  {
   "cell_type": "code",
   "execution_count": 71,
   "id": "a4c1f1df",
   "metadata": {},
   "outputs": [],
   "source": [
    "import subprocess\n",
    "\n",
    "# model = 'deepseek-r1:32b'\n",
    "# model = 'qwen3:32b'\n",
    "model = 'llama3.1'"
   ]
  },
  {
   "cell_type": "code",
   "execution_count": 72,
   "id": "f0a199b6",
   "metadata": {},
   "outputs": [
    {
     "name": "stdout",
     "output_type": "stream",
     "text": [
      "ollama version is 0.11.4\n",
      "Warning: client version is ${PKG_VERSION}\n"
     ]
    }
   ],
   "source": [
    "!ollama --version"
   ]
  },
  {
   "cell_type": "code",
   "execution_count": 73,
   "id": "b1e7fc1c",
   "metadata": {},
   "outputs": [],
   "source": [
    "# Basic LLM alignment of relationships\n",
    "# An adapted version of the Autoalign entity type matching prompt template\n",
    "\n",
    "prompt = f\"Now you are an expert in biomedicine, linguistics and knowledge graphs. \\\n",
    "    I will give you two sets of words, indicating the predicate types from two knowledge graphs. \\\n",
    "    You need to identify all the word pairs from the two sets that are semantic synonyms. For example, \\\n",
    "    if the first set has the word ‘people’ and the second set has the word 'person', you need to \\\n",
    "    identify the two words being synonyms and return me the pair (people, person). Now the following \\\n",
    "    are the two sets: Set 1: {drkg_pred_set} Set 2: {dmdb_pred_set} Please return all the pairs that are synonyms \\\n",
    "    from the two sets regarding predicate types. Do not output the pairs if they are exactly the same. \\\n",
    "    Remember you only need to return the pairs, each pair in one line. Each pair contain two types, \\\n",
    "    one from Set 1 and another from Set 2, in the format (type1, type2).\"\n",
    "\n",
    "\n",
    "with open(pred_glossary_path, 'r') as f: next(f); drkg_pred_gloss_str = f.read()\n",
    "drkg_pred_gloss_str = drkg_pred_gloss_str.expandtabs()"
   ]
  },
  {
   "cell_type": "code",
   "execution_count": 74,
   "id": "9b179ba0",
   "metadata": {},
   "outputs": [],
   "source": [
    "final_prompt = prompt + \"\\n Below is a glossary that corresponds to Set 1. Utilize the information to optimize the matching process.\\n\" + drkg_pred_gloss_str"
   ]
  },
  {
   "cell_type": "code",
   "execution_count": 75,
   "id": "6624560b",
   "metadata": {},
   "outputs": [],
   "source": [
    "# result = subprocess.run(\n",
    "#     [\"ollama\", \"run\", model],\n",
    "#     input=final_prompt,\n",
    "#     capture_output=True,\n",
    "#     text=True,\n",
    "#     check=True\n",
    "# )\n",
    "\n",
    "# if result.stdout:\n",
    "#     print(\"Output:\\n\", result.stdout)"
   ]
  },
  {
   "cell_type": "markdown",
   "id": "30b750bf",
   "metadata": {},
   "source": [
    "### GPT-o3 (Deep Research Mode) Output \n",
    "Note: There are two reoccuring DRKG predicates: \"Y\" and \"GpMF\". Also the predicates that are identical in name are not yet included.\n",
    "\"Y\" : \"affects risk for\" and \"predisposes\".\n",
    "\"GpMF\" : \"enables\" and \"capable of\".\n",
    "\n",
    "\n",
    "General Regulation\n",
    "\n",
    "    (MODULATOR, regulates)\n",
    "\n",
    "    (Gr>G, regulates)\n",
    "\n",
    "    (Rg, regulates)\n",
    "\n",
    "    (E, regulates)\n",
    "\n",
    "Positive Regulation / Activation\n",
    "\n",
    "    (ACTIVATOR, increases activity of)\n",
    "\n",
    "    (AGONIST, increases activity of)\n",
    "\n",
    "    (POSITIVE ALLOSTERIC MODULATOR, increases activity of)\n",
    "\n",
    "    (ACTIVATION, positively regulates)\n",
    "\n",
    "    (A+, increases activity of)\n",
    "\n",
    "    (V+, increases activity of)\n",
    "\n",
    "    (W, positively regulates)\n",
    "\n",
    "Negative Regulation / Inhibition\n",
    "\n",
    "    (ANTAGONIST, decreases activity of)\n",
    "\n",
    "    (BLOCKER, decreases activity of)\n",
    "\n",
    "    (CHANNEL BLOCKER, decreases activity of)\n",
    "\n",
    "    (INHIBITOR, decreases activity of)\n",
    "\n",
    "    (INHIBITION, decreases activity of)\n",
    "\n",
    "    (A-, negatively regulates)\n",
    "\n",
    "    (N, decreases activity of)\n",
    "\n",
    "Gene Expression Changes (Upregulation/Downregulation)\n",
    "\n",
    "    (E+, increases expression of)\n",
    "\n",
    "    (E-, decreases expression of)\n",
    "\n",
    "    (CuG, increases expression of)\n",
    "\n",
    "    (CdG, decreases expression of)\n",
    "\n",
    "    (AuG, increases expression of)\n",
    "\n",
    "    (AdG, decreases expression of)\n",
    "\n",
    "    (DuG, increases expression of)\n",
    "\n",
    "    (DdG, decreases expression of)\n",
    "\n",
    "    (EXPRESSION, positively correlated with)\n",
    "\n",
    "Physical Binding and Association\n",
    "\n",
    "    (BINDING, physically interacts with)\n",
    "\n",
    "    (BINDER, physically interacts with)\n",
    "\n",
    "    (PHYSICAL ASSOCIATION, physically interacts with)\n",
    "\n",
    "    (DIRECT INTERACTION, physically interacts with)\n",
    "\n",
    "    (ANTIBODY, physically interacts with)\n",
    "\n",
    "    (B, physically interacts with)\n",
    "\n",
    "Molecular and Generic Interactions\n",
    "\n",
    "    (HumGenHumGen, molecularly interacts with)\n",
    "\n",
    "    (GiG, interacts with)\n",
    "\n",
    "    (DrugHumGen, interacts with)\n",
    "\n",
    "    (DrugVirGen, interacts with)\n",
    "\n",
    "    (VirGenHumGen, interacts with)\n",
    "\n",
    "    (ddi-interactor-in, interacts with)\n",
    "\n",
    "    (target, interacts with)\n",
    "\n",
    "Therapeutic and Disease Influence Relations\n",
    "\n",
    "    (T, treats)\n",
    "\n",
    "    (CtD, treats)\n",
    "\n",
    "    (treats, treats)\n",
    "\n",
    "    (CpD, ameliorates)\n",
    "\n",
    "    (Pa, ameliorates)\n",
    "\n",
    "    (Sa, causes)\n",
    "\n",
    "    (U, causes)\n",
    "\n",
    "    (G, exacerbates)\n",
    "\n",
    "    (J, contributes to)\n",
    "\n",
    "    (Pr, prevents)\n",
    "\n",
    "    (Y, affects risk for)\n",
    "\n",
    "    (Y, predisposes)\n",
    "\n",
    "Similarity Relations\n",
    "\n",
    "    (CrC, chemically similar to)\n",
    "\n",
    "    (DrD, similar to)\n",
    "\n",
    "Taxonomic Classification\n",
    "\n",
    "    (in_tax, in taxon)\n",
    "\n",
    "Gene Function and Participation\n",
    "\n",
    "    (GpBP, participates in)\n",
    "\n",
    "    (GpCC, participates in)\n",
    "\n",
    "    (GpPW, actively involved in)\n",
    "\n",
    "    (GpMF, enables)\n",
    "\n",
    "    (GpMF, capable of)\n",
    "\n"
   ]
  },
  {
   "cell_type": "code",
   "execution_count": 45,
   "id": "80abca26",
   "metadata": {},
   "outputs": [],
   "source": [
    "llm_pred_pairs = [(\"MODULATOR\", \"regulates\"),\n",
    "  (\"Gr>G\", \"regulates\"), \n",
    "  (\"Rg\", \"regulates\"), \n",
    "  (\"E\", \"regulates\"),\n",
    "  (\"ACTIVATOR\", \"increases activity of\"),\n",
    "  (\"AGONIST\", \"increases activity of\"),\n",
    "  (\"POSITIVE ALLOSTERIC MODULATOR\", \"increases activity of\"),\n",
    "  (\"ACTIVATION\", \"positively regulates\"),\n",
    "  (\"A+\", \"increases activity of\"),\n",
    "  (\"V+\", \"increases activity of\"),\n",
    "  (\"W\", \"positively regulates\"),\n",
    "  (\"ANTAGONIST\", \"decreases activity of\"),\n",
    "  (\"BLOCKER\", \"decreases activity of\"),\n",
    "  (\"CHANNEL BLOCKER\", \"decreases activity of\"),\n",
    "  (\"INHIBITOR\", \"decreases activity of\"),\n",
    "  (\"INHIBITION\", \"decreases activity of\"),\n",
    "  (\"A-\", \"negatively regulates\"),\n",
    "  (\"N\", \"decreases activity of\"),\n",
    "  (\"E+\", \"increases expression of\"),\n",
    "  (\"E-\", \"decreases expression of\"),\n",
    "  (\"CuG\", \"increases expression of\"),\n",
    "  (\"CdG\", \"decreases expression of\"),\n",
    "  (\"AuG\", \"increases expression of\"),\n",
    "  (\"AdG\", \"decreases expression of\"),\n",
    "  (\"DuG\", \"increases expression of\"),\n",
    "  (\"DdG\", \"decreases expression of\"),\n",
    "  (\"EXPRESSION\", \"positively correlated with\"),\n",
    "  (\"BINDING\", \"physically interacts with\"),\n",
    "  (\"BINDER\", \"physically interacts with\"),\n",
    "  (\"PHYSICAL ASSOCIATION\", \"physically interacts with\"),\n",
    "  (\"DIRECT INTERACTION\", \"physically interacts with\"),\n",
    "  (\"ANTIBODY\", \"physically interacts with\"),\n",
    "  (\"B\", \"physically interacts with\"),\n",
    "  (\"HumGenHumGen\", \"molecularly interacts with\"),\n",
    "  (\"GiG\", \"interacts with\"),\n",
    "  (\"DrugHumGen\", \"interacts with\"),\n",
    "  (\"DrugVirGen\", \"interacts with\"),\n",
    "  (\"VirGenHumGen\", \"interacts with\"),\n",
    "  (\"ddi-interactor-in\", \"interacts with\"),\n",
    "  (\"target\", \"interacts with\"),\n",
    "  (\"T\", \"treats\"),\n",
    "  (\"CtD\", \"treats\"),\n",
    "  (\"treats\", \"treats\"),\n",
    "  (\"CpD\", \"ameliorates\"),\n",
    "  (\"Pa\", \"ameliorates\"),\n",
    "  (\"Sa\", \"causes\"),\n",
    "  (\"U\", \"causes\"),\n",
    "  (\"G\", \"exacerbates\"),\n",
    "  (\"J\", \"contributes to\"),\n",
    "  (\"Pr\", \"prevents\"),\n",
    "  (\"Y\", \"affects risk for\"),\n",
    "  (\"Y\", \"predisposes\"),\n",
    "  (\"CrC\", \"chemically similar to\"),\n",
    "  (\"DrD\", \"similar to\"),\n",
    "  (\"in_tax\", \"in taxon\"),\n",
    "  (\"GpBP\", \"participates in\"),\n",
    "  (\"GpCC\", \"participates in\"),\n",
    "  (\"GpPW\", \"actively involved in\"),\n",
    "  (\"GpMF\", \"enables\"),\n",
    "  (\"GpMF\", \"capable of\")\n",
    "]"
   ]
  },
  {
   "cell_type": "code",
   "execution_count": 48,
   "id": "6966a4a3",
   "metadata": {},
   "outputs": [
    {
     "name": "stdout",
     "output_type": "stream",
     "text": [
      "From all given unique predicates (DRKG:99 DrugMech:56) - 60 for DRKG to 26 for DrugMechDB matched.\n"
     ]
    }
   ],
   "source": [
    "test_set = {elem[1] for elem in llm_pred_pairs}\n",
    "\n",
    "print(f\"From all given unique predicates (DRKG:{len(drkg_pred_set)} DrugMech:{len(dmdb_pred_set)}) - {len(llm_pred_pairs)} for DRKG to {len(test_set)} for DrugMechDB matched.\")"
   ]
  },
  {
   "cell_type": "markdown",
   "id": "8ca06e25",
   "metadata": {},
   "source": [
    "### Predicate Conversion Functions"
   ]
  },
  {
   "cell_type": "code",
   "execution_count": null,
   "id": "b40caf94",
   "metadata": {},
   "outputs": [
    {
     "name": "stdout",
     "output_type": "stream",
     "text": [
      "DEBUG causes\n"
     ]
    }
   ],
   "source": [
    "#Predicate matching dictionary: {\"drkg_pred_1\": \"dmdb_pred_1\"}\n",
    "# Have a llm_pred_pairs dictionary prepared with the desired method.\n",
    "\n",
    "pred_match_dict = {k:v for (k,v) in llm_pred_pairs}\n",
    "print(\"DEBUG\", pred_match_dict[\"U\"])"
   ]
  },
  {
   "cell_type": "markdown",
   "id": "80dba3ff",
   "metadata": {},
   "source": [
    "## Step 3: Compare Pairs & Triples"
   ]
  },
  {
   "cell_type": "markdown",
   "id": "4bb05584",
   "metadata": {},
   "source": [
    "### Acelerated Entity Pairing\n",
    "\n",
    "Improved matching speed with ahocorasick library, a Python implementation of the Aho–Corasick algorithm."
   ]
  },
  {
   "cell_type": "code",
   "execution_count": null,
   "id": "86d2bbd6",
   "metadata": {},
   "outputs": [
    {
     "data": {
      "text/plain": [
       "[(859,\n",
       "  'Compound::CHEBI:36500',\n",
       "  'GNBR::T::Compound:Disease',\n",
       "  'Disease::MESH:D005776'),\n",
       " (7892,\n",
       "  'Compound::MESH:D019343',\n",
       "  'GNBR::Sa::Compound:Disease',\n",
       "  'Disease::MESH:D010146'),\n",
       " (4480,\n",
       "  'Compound::MESH:D000728',\n",
       "  'GNBR::T::Compound:Disease',\n",
       "  'Disease::MESH:D000152'),\n",
       " (87,\n",
       "  'Compound::MESH:D013963',\n",
       "  'GNBR::T::Compound:Disease',\n",
       "  'Disease::MESH:D006980'),\n",
       " (5603,\n",
       "  'Compound::MESH:D004967',\n",
       "  'GNBR::T::Compound:Disease',\n",
       "  'Disease::MESH:D059268'),\n",
       " (1020,\n",
       "  'Compound::MESH:D004967',\n",
       "  'GNBR::T::Compound:Disease',\n",
       "  'Disease::MESH:D059268'),\n",
       " (466,\n",
       "  'Compound::MESH:D004967',\n",
       "  'GNBR::T::Compound:Disease',\n",
       "  'Disease::MESH:D005348'),\n",
       " (3202,\n",
       "  'Compound::MESH:D011453',\n",
       "  'GNBR::T::Compound:Disease',\n",
       "  'Disease::MESH:D004412'),\n",
       " (625,\n",
       "  'Compound::MESH:D004967',\n",
       "  'GNBR::T::Compound:Disease',\n",
       "  'Disease::MESH:D010024'),\n",
       " (10212,\n",
       "  'Compound::CHEBI:28044',\n",
       "  'GNBR::T::Compound:Disease',\n",
       "  'Disease::MESH:D010661'),\n",
       " (4401,\n",
       "  'Compound::MESH:D014280',\n",
       "  'GNBR::T::Compound:Disease',\n",
       "  'Disease::MESH:D006949'),\n",
       " (723,\n",
       "  'Compound::MESH:D010710',\n",
       "  'GNBR::J::Compound:Disease',\n",
       "  'Disease::MESH:D006996'),\n",
       " (6330,\n",
       "  'Compound::MESH:D001647',\n",
       "  'GNBR::T::Compound:Disease',\n",
       "  'Disease::MESH:D002769'),\n",
       " (9039,\n",
       "  'Compound::MESH:D011453',\n",
       "  'GNBR::Sa::Compound:Disease',\n",
       "  'Disease::MESH:D010146'),\n",
       " (7680,\n",
       "  'Compound::MESH:D004083',\n",
       "  'GNBR::T::Compound:Disease',\n",
       "  'Disease::MESH:D019294'),\n",
       " (6151,\n",
       "  'Compound::MESH:D001647',\n",
       "  'GNBR::T::Compound:Disease',\n",
       "  'Disease::MESH:D008105'),\n",
       " (8403,\n",
       "  'Compound::MESH:D010710',\n",
       "  'GNBR::T::Compound:Disease',\n",
       "  'Disease::MESH:D010024'),\n",
       " (10154,\n",
       "  'Compound::MESH:D012964',\n",
       "  'GNBR::T::Compound:Disease',\n",
       "  'Disease::MESH:D006973'),\n",
       " (251,\n",
       "  'Compound::MESH:D014280',\n",
       "  'GNBR::T::Compound:Disease',\n",
       "  'Disease::MESH:D015228'),\n",
       " (4188,\n",
       "  'Compound::MESH:D014280',\n",
       "  'GNBR::T::Compound:Disease',\n",
       "  'Disease::MESH:D015228')]"
      ]
     },
     "execution_count": 52,
     "metadata": {},
     "output_type": "execute_result"
    }
   ],
   "source": [
    "import ahocorasick\n",
    "from builtins import tuple\n",
    "\n",
    "H, T = defaultdict(list), defaultdict(list)\n",
    "for i, (s, p, o) in enumerate(dmdb_triplets_set):\n",
    "    H[s].append(i)\n",
    "    T[o].append(i)\n",
    "\n",
    "A = ahocorasick.Automaton()\n",
    "for k, v in H.items():\n",
    "    A.add_word(k, tuple(v))\n",
    "A.make_automaton()\n",
    "\n",
    "B = ahocorasick.Automaton()\n",
    "for k, v in T.items():\n",
    "    B.add_word(k, tuple(v))\n",
    "B.make_automaton()\n",
    "\n",
    "common_entity_pair_hits = []\n",
    "ai, bi = A.iter, B.iter\n",
    "for (s_drkg, p_drkg, o_drkg) in drkg_triplets_set:\n",
    "    Hhit = {i for _, idxs in ai(str(s_drkg)) for i in idxs}\n",
    "    Thit = {i for _, idxs in bi(str(o_drkg)) for i in idxs}\n",
    "    for i in Hhit.intersection(Thit):\n",
    "        common_entity_pair_hits.append((i, s_drkg, p_drkg, o_drkg))\n",
    "common_entity_pair_hits"
   ]
  },
  {
   "cell_type": "code",
   "execution_count": null,
   "id": "22ddf76c",
   "metadata": {},
   "outputs": [],
   "source": [
    "\"Number of matched triplets: \" + len(common_entity_pair_hits)"
   ]
  },
  {
   "cell_type": "markdown",
   "id": "d6119ad9",
   "metadata": {},
   "source": [
    "### Predicate-wise Comparison\n",
    "\n",
    "Utilizes the looping of prior section. Predicates of matches stored and converted here for cross-examination."
   ]
  },
  {
   "cell_type": "code",
   "execution_count": 50,
   "id": "07d3f967",
   "metadata": {},
   "outputs": [],
   "source": [
    "# utils function\n",
    "def get_drkg_pred_name(pred):\n",
    "    # Input: pred: DRKG native predicate\n",
    "    # Output: Predicate name string\n",
    "    return remove_null_from_list(pred.split(\":\"))[1]"
   ]
  },
  {
   "cell_type": "code",
   "execution_count": null,
   "id": "072c1218",
   "metadata": {},
   "outputs": [
    {
     "name": "stdout",
     "output_type": "stream",
     "text": [
      "Compound::MESH:D004967 GNBR::T::Compound:Disease treats Disease::MESH:D010024\n"
     ]
    }
   ],
   "source": [
    "# Common triplet search\n",
    "for s_dmdb, p_dmdb, o_dmdb in dmdb_triplets_set:\n",
    "    for _, s_drkg, p_drkg, o_drkg in common_entity_pair_hits:\n",
    "        if s_dmdb in s_drkg and o_dmdb in o_drkg:\n",
    "            if p_dmdb == pred_match_dict[get_drkg_pred_name(p_drkg)]:\n",
    "                print(s_drkg, p_drkg, p_dmdb, o_drkg)"
   ]
  },
  {
   "cell_type": "markdown",
   "id": "3b497790",
   "metadata": {},
   "source": [
    "### **Manual Improvements in matching common elements**"
   ]
  },
  {
   "cell_type": "markdown",
   "id": "20c2049e",
   "metadata": {},
   "source": [
    "#### Tax == Taxonomy\n",
    "DRKG format: Tax::10090\n",
    "DrugMechDB format: taxonomy:622"
   ]
  },
  {
   "cell_type": "code",
   "execution_count": 83,
   "id": "b9e893d5",
   "metadata": {},
   "outputs": [
    {
     "data": {
      "text/plain": [
       "10375"
      ]
     },
     "execution_count": 83,
     "metadata": {},
     "output_type": "execute_result"
    }
   ],
   "source": [
    "# DMDB (\"taxonomy\") to DRKG (\"Tax\")\n",
    "dmdb_tax_dict = defaultdict(list)\n",
    "C = ahocorasick.Automaton()\n",
    "\n",
    "for i, (s, p, o) in enumerate(dmdb_triplets_set):\n",
    "    if 'taxonomy' in s:\n",
    "        recon = f'Tax::{s.split(':')[-1]}'\n",
    "        dmdb_tax_dict[recon].append(i)\n",
    "    if 'taxonomy' in o:\n",
    "        recon = f'Tax::{o.split(':')[-1]}'\n",
    "        dmdb_tax_dict[recon].append(i)\n",
    "\n",
    "for tax_e, idx in dmdb_tax_dict.items():\n",
    "    C.add_word(tax_e, tuple(idx))\n",
    "C.make_automaton()\n",
    "\n",
    "ci = C.iter\n",
    "\n",
    "tax_hits = []\n",
    "for (s_drkg, p_drkg, o_drkg) in drkg_triplets_set:\n",
    "    Hhit = {i for _, idxs in ci(str(s_drkg)) for i in idxs}\n",
    "    Thit = {i for _, idxs in ci(str(o_drkg)) for i in idxs}\n",
    "    for i in (Hhit | Thit):\n",
    "        tax_hits.append((i, p_drkg, s_drkg, o_drkg))\n",
    "# tax_hits\n",
    "len(tax_hits)"
   ]
  },
  {
   "cell_type": "code",
   "execution_count": 84,
   "id": "b7a238b0",
   "metadata": {},
   "outputs": [
    {
     "data": {
      "text/plain": [
       "{'Gene': 'Protein',\n",
       " 'Compound': 'Drug',\n",
       " 'Disease': 'Disease',\n",
       " 'Atc': 'Drug',\n",
       " 'Tax': 'OrganismTaxon',\n",
       " 'Biological Process': 'BiologicalProcess',\n",
       " 'Symptom': 'PhenotypicFeature',\n",
       " 'Anatomy': 'GrossAnatomicalStructure',\n",
       " 'Molecular Function': 'MolecularActivity',\n",
       " 'Pharmacologic Class': 'ChemicalSubstance',\n",
       " 'Cellular Component': 'CellularComponent',\n",
       " 'Pathway': 'Pathway',\n",
       " 'Side Effect': 'PhenotypicFeature'}"
      ]
     },
     "execution_count": 84,
     "metadata": {},
     "output_type": "execute_result"
    }
   ],
   "source": [
    "etype_match_dict"
   ]
  },
  {
   "cell_type": "code",
   "execution_count": null,
   "id": "8f7e4be7",
   "metadata": {},
   "outputs": [
    {
     "data": {
      "text/plain": [
       "[(3768,\n",
       "  'Compound::MESH:D010710',\n",
       "  'GNBR::T::Compound:Disease',\n",
       "  'Disease::MESH:D010024'),\n",
       " (10072,\n",
       "  'Compound::MESH:D004967',\n",
       "  'GNBR::T::Compound:Disease',\n",
       "  'Disease::MESH:D010024'),\n",
       " (4892,\n",
       "  'Compound::CHEBI:28044',\n",
       "  'GNBR::T::Compound:Disease',\n",
       "  'Disease::MESH:D010661'),\n",
       " (1567,\n",
       "  'Compound::MESH:D014280',\n",
       "  'GNBR::T::Compound:Disease',\n",
       "  'Disease::MESH:D006949'),\n",
       " (10126,\n",
       "  'Compound::MESH:D001647',\n",
       "  'GNBR::T::Compound:Disease',\n",
       "  'Disease::MESH:D002769'),\n",
       " (2746,\n",
       "  'Compound::MESH:D014280',\n",
       "  'GNBR::T::Compound:Disease',\n",
       "  'Disease::MESH:D015228'),\n",
       " (4799,\n",
       "  'Compound::MESH:D014280',\n",
       "  'GNBR::T::Compound:Disease',\n",
       "  'Disease::MESH:D015228'),\n",
       " (1329,\n",
       "  'Compound::CHEBI:36500',\n",
       "  'GNBR::T::Compound:Disease',\n",
       "  'Disease::MESH:D005776'),\n",
       " (4993,\n",
       "  'Compound::MESH:D000728',\n",
       "  'GNBR::T::Compound:Disease',\n",
       "  'Disease::MESH:D000152'),\n",
       " (10088,\n",
       "  'Compound::MESH:D011453',\n",
       "  'GNBR::Sa::Compound:Disease',\n",
       "  'Disease::MESH:D010146'),\n",
       " (10726,\n",
       "  'Compound::MESH:D004083',\n",
       "  'GNBR::T::Compound:Disease',\n",
       "  'Disease::MESH:D019294'),\n",
       " (1826,\n",
       "  'Compound::MESH:D011453',\n",
       "  'GNBR::T::Compound:Disease',\n",
       "  'Disease::MESH:D004412'),\n",
       " (1404,\n",
       "  'Compound::MESH:D004967',\n",
       "  'GNBR::T::Compound:Disease',\n",
       "  'Disease::MESH:D059268'),\n",
       " (8789,\n",
       "  'Compound::MESH:D004967',\n",
       "  'GNBR::T::Compound:Disease',\n",
       "  'Disease::MESH:D059268'),\n",
       " (9086,\n",
       "  'Compound::MESH:D004967',\n",
       "  'GNBR::T::Compound:Disease',\n",
       "  'Disease::MESH:D005348'),\n",
       " (4493,\n",
       "  'Compound::MESH:D019343',\n",
       "  'GNBR::Sa::Compound:Disease',\n",
       "  'Disease::MESH:D010146'),\n",
       " (2245,\n",
       "  'Compound::MESH:D010710',\n",
       "  'GNBR::J::Compound:Disease',\n",
       "  'Disease::MESH:D006996'),\n",
       " (8548,\n",
       "  'Compound::MESH:D001647',\n",
       "  'GNBR::T::Compound:Disease',\n",
       "  'Disease::MESH:D008105'),\n",
       " (778,\n",
       "  'Compound::MESH:D012964',\n",
       "  'GNBR::T::Compound:Disease',\n",
       "  'Disease::MESH:D006973'),\n",
       " (3021,\n",
       "  'Compound::MESH:D013963',\n",
       "  'GNBR::T::Compound:Disease',\n",
       "  'Disease::MESH:D006980')]"
      ]
     },
     "execution_count": 144,
     "metadata": {},
     "output_type": "execute_result"
    }
   ],
   "source": [
    "# Re-matching common entity pairs with Tax transformation\n",
    "import ahocorasick\n",
    "from builtins import tuple\n",
    "\n",
    "dmdb_tax_H, dmdb_tax_T = defaultdict(list), defaultdict(list)\n",
    "\n",
    "H, T = defaultdict(list), defaultdict(list)\n",
    "for i, (s, p, o) in enumerate(dmdb_triplets_set):\n",
    "    H[s].append(i)\n",
    "    T[o].append(i)\n",
    "\n",
    "    # Manual Format Rules #\n",
    "    if 'taxonomy' in s:\n",
    "        recon = f'Tax::{s.split(':')[-1]}'\n",
    "        dmdb_tax_H[recon].append(i)\n",
    "    if 'taxonomy' in o:\n",
    "        recon = f'Tax::{o.split(':')[-1]}'\n",
    "        dmdb_tax_T[recon].append(i)\n",
    "\n",
    "A = ahocorasick.Automaton()\n",
    "for k, v in H.items():\n",
    "    A.add_word(k, tuple(v))\n",
    "for tax_e, idx in dmdb_tax_H.items():\n",
    "    A.add_word(tax_e, tuple(idx))\n",
    "A.make_automaton()\n",
    "\n",
    "B = ahocorasick.Automaton()\n",
    "for k, v in T.items():\n",
    "    B.add_word(k, tuple(v))\n",
    "for tax_e, idx in dmdb_tax_T.items():\n",
    "    B.add_word(tax_e, tuple(idx))\n",
    "B.make_automaton()\n",
    "\n",
    "common_entity_pair_hits = []\n",
    "ai, bi = A.iter, B.iter\n",
    "for (s_drkg, p_drkg, o_drkg) in drkg_triplets_set:\n",
    "    Hhit = {i for _, idxs in ai(str(s_drkg)) for i in idxs}\n",
    "    Thit = {i for _, idxs in bi(str(o_drkg)) for i in idxs}\n",
    "    for i in Hhit.intersection(Thit):\n",
    "        common_entity_pair_hits.append((i, s_drkg, p_drkg, o_drkg))\n",
    "common_entity_pair_hits"
   ]
  },
  {
   "cell_type": "code",
   "execution_count": null,
   "id": "e67c1ae9",
   "metadata": {},
   "outputs": [
    {
     "data": {
      "text/plain": [
       "20"
      ]
     },
     "execution_count": 96,
     "metadata": {},
     "output_type": "execute_result"
    }
   ],
   "source": [
    "len(common_entity_pair_hits)"
   ]
  },
  {
   "cell_type": "markdown",
   "id": "7d59f7ca",
   "metadata": {},
   "source": [
    "## Step 4: Synonym Comparison & Pairing"
   ]
  },
  {
   "cell_type": "code",
   "execution_count": null,
   "id": "278b62fd",
   "metadata": {},
   "outputs": [],
   "source": [
    "# ! python -m pip install requests"
   ]
  },
  {
   "cell_type": "code",
   "execution_count": null,
   "id": "2900e11b",
   "metadata": {},
   "outputs": [],
   "source": [
    "# NodeNormalization Requests #\n",
    "# Sample ID Requests #\n",
    "#\n",
    "# result = requests.get('https://nodenormalization-sri.renci.org/get_normalized_nodes',\n",
    "#                      params={'curie':\"MESH:D014867\"})\n",
    "# result = json.dumps( result.json(), indent = 2)\n",
    "# result = json.loads(result)\n",
    "# print(type(result))\n",
    "\n",
    "# Sample Multi ID Request\n",
    "# \n",
    "# result = requests.post('https://nodenormalization-sri.renci.org/get_normalized_nodes',\n",
    "#                      json={\"curies\":[\"HP:0007354\", \"HGNC:613\", \"CURIE:NOTHING\"]})\n",
    "# print( json.dumps( result.json(), indent = 2))"
   ]
  },
  {
   "cell_type": "code",
   "execution_count": 40,
   "id": "27426801",
   "metadata": {},
   "outputs": [],
   "source": [
    "import json \n",
    "import requests\n",
    "\n",
    "def synonym_request(ID='MESH:D014867', out_dict=True):\n",
    "    # Input: Identifier in database\n",
    "    # Returns all corresponding IDs from onthologies\n",
    "    try:\n",
    "        result = requests.get('https://nodenormalization-sri.renci.org/get_normalized_nodes',\n",
    "                            params={'curie':f\"{ID}\"})\n",
    "        result = json.dumps(result.json(), indent=2)\n",
    "        if out_dict:\n",
    "            return request2dict(json.loads(result))\n",
    "        else:\n",
    "            return json.loads(result)\n",
    "    except:\n",
    "        print(f\"The queried element ({ID}) is not available in database.\")\n",
    "        \n",
    "def synonym_list_request(ID_list):\n",
    "    # Input: List of identifiers in database\n",
    "    # Returns dictionary of all corresponding IDs from onthologies\n",
    "    \n",
    "    try:\n",
    "        result = requests.post('https://nodenormalization-sri.renci.org/get_normalized_nodes',\n",
    "                               json={\"curies\":ID_list})\n",
    "        result = json.dumps(result.json(), indent=2)\n",
    "        return request2dict(json.loads(result))\n",
    "    except:\n",
    "        print(\"An element in the list is not available in the database\")\n",
    "\n",
    "def request2dict(result):\n",
    "    # Input: Identifier synonyms in database\n",
    "    # Returns dictionary of synonym identifiers\n",
    "    tempdict = {}\n",
    "    for id,v in result.items():\n",
    "        if v is not None:\n",
    "            temp_set = set()\n",
    "            for ide_dict in v['equivalent_identifiers']:\n",
    "                temp_set.add(ide_dict['identifier'])\n",
    "            tempdict.update({id:temp_set})\n",
    "    # print(len(list(tempdict.values())[0]))\n",
    "    # print(len(tempdict.values()), \"is the length of result in req2dict\")\n",
    "    return tempdict"
   ]
  },
  {
   "cell_type": "markdown",
   "id": "e90ba026",
   "metadata": {},
   "source": [
    "**TODO :** Not all DRKG entities have neat IDs, and thus, have normalization. Reanalyze DRKG for entity types compatible with transformation. Afterwards, check formats since we aren't performing partial string comparison..."
   ]
  },
  {
   "cell_type": "markdown",
   "id": "29358d2a",
   "metadata": {},
   "source": [
    "### Group Synonym Requests \n",
    "\n",
    "Original ID is included in synonym values."
   ]
  },
  {
   "cell_type": "markdown",
   "id": "27fd41b2",
   "metadata": {},
   "source": [
    "#### DrugMechDB  Synonym Requests"
   ]
  },
  {
   "cell_type": "code",
   "execution_count": 44,
   "id": "6538a5ba",
   "metadata": {},
   "outputs": [
    {
     "name": "stdout",
     "output_type": "stream",
     "text": [
      "Processing entity class: Drug\n",
      "Number of Matching IDs:\t1555/1644\n",
      "\n",
      "Processing entity class: Protein\n",
      "Number of Matching IDs:\t7/788\n",
      "\n",
      "Processing entity class: Disease\n",
      "Number of Matching IDs:\t756/760\n",
      "\n",
      "Processing entity class: BiologicalProcess\n",
      "Number of Matching IDs:\t653/694\n",
      "\n",
      "Processing entity class: ChemicalSubstance\n",
      "Number of Matching IDs:\t321/359\n",
      "\n",
      "Processing entity class: Pathway\n",
      "Number of Matching IDs:\t0/81\n",
      "\n",
      "Processing entity class: GrossAnatomicalStructure\n",
      "Number of Matching IDs:\t122/122\n",
      "\n",
      "Processing entity class: MolecularActivity\n",
      "Number of Matching IDs:\t95/98\n",
      "\n",
      "Processing entity class: OrganismTaxon\n",
      "Number of Matching IDs:\t0/166\n",
      "\n",
      "Processing entity class: GeneFamily\n",
      "Number of Matching IDs:\t7/137\n",
      "\n",
      "Processing entity class: CellularComponent\n",
      "Number of Matching IDs:\t41/45\n",
      "\n",
      "Processing entity class: PhenotypicFeature\n",
      "Number of Matching IDs:\t269/274\n",
      "\n",
      "Processing entity class: Cell\n",
      "Number of Matching IDs:\t37/37\n",
      "\n",
      "Processing entity class: MacromolecularComplex\n",
      "Number of Matching IDs:\t2/2\n",
      "\n",
      "Number of IDs with found synonyms: 3790\n"
     ]
    }
   ],
   "source": [
    "dmdb_synonyms_dict = defaultdict()\n",
    "\n",
    "for etype, edict in dmdb_entity_dictionary.items():\n",
    "    print(\"Processing entity class:\", etype)\n",
    "    result = synonym_list_request(list(edict.keys()))\n",
    "    print(f\"Number of Matching IDs:\\t{len(result)}/{len(edict)}\\n\")\n",
    "    dmdb_synonyms_dict.update(result)\n",
    "\n",
    "print(\"Number of IDs with found synonyms:\", len(dmdb_synonyms_dict))"
   ]
  },
  {
   "cell_type": "markdown",
   "id": "83666723",
   "metadata": {},
   "source": [
    "#### DRKG Synonym Requests"
   ]
  },
  {
   "cell_type": "code",
   "execution_count": 127,
   "id": "c015cdb8",
   "metadata": {},
   "outputs": [
    {
     "name": "stdout",
     "output_type": "stream",
     "text": [
      "Processing entity class:  Gene\n",
      "Number of Matching IDs: 0/39220\n",
      "\n",
      "Processing entity class:  Compound\n",
      "Number of Matching IDs: 8660/24313\n",
      "\n",
      "Processing entity class:  Disease\n",
      "Number of Matching IDs: 4973/5103\n",
      "\n",
      "Processing entity class:  Atc\n",
      "Number of Matching IDs: 0/4048\n",
      "\n",
      "Processing entity class:  Tax\n",
      "Number of Matching IDs: 0/215\n",
      "\n",
      "Processing entity class:  Biological Process\n",
      "Number of Matching IDs: 10207/11381\n",
      "\n",
      "Processing entity class:  Symptom\n",
      "Number of Matching IDs: 0/415\n",
      "\n",
      "Processing entity class:  Anatomy\n",
      "Number of Matching IDs: 400/400\n",
      "\n",
      "Processing entity class:  Molecular Function\n",
      "Number of Matching IDs: 2622/2884\n",
      "\n",
      "Processing entity class:  Pharmacologic Class\n",
      "Number of Matching IDs: 0/345\n",
      "\n",
      "Processing entity class:  Cellular Component\n",
      "Number of Matching IDs: 1291/1391\n",
      "\n",
      "Processing entity class:  Pathway\n",
      "Number of Matching IDs: 0/1822\n",
      "\n",
      "Processing entity class:  Side Effect\n",
      "Number of Matching IDs: 0/5701\n",
      "\n",
      "Number of IDs with found synonyms: 28150\n"
     ]
    }
   ],
   "source": [
    "drkg_synonyms_dict = defaultdict()\n",
    "\n",
    "for etype, edict in drkg_entity_dictionary.items():\n",
    "    print(\"Processing entity class: \", etype)\n",
    "    elist = [x.split(\"::\")[-1] for x in edict.keys()]\n",
    "    result = synonym_list_request(elist)\n",
    "    print(f\"Number of Matching IDs: {len(result)}/{len(edict)}\\n\")\n",
    "    drkg_synonyms_dict.update(result)\n",
    "\n",
    "print(\"Number of IDs with found synonyms:\", len(drkg_synonyms_dict))"
   ]
  },
  {
   "cell_type": "markdown",
   "id": "2621d6c9",
   "metadata": {},
   "source": [
    "#### Analysis"
   ]
  },
  {
   "cell_type": "code",
   "execution_count": null,
   "id": "d823f505",
   "metadata": {},
   "outputs": [
    {
     "name": "stdout",
     "output_type": "stream",
     "text": [
      "DrugMechDB synonyms found: 37936 for 3790 original entities (421 exist without synonyms)\n",
      "DRKG synonyms found: 139247 for 28150 original entities (5673 exist without synonyms)\n",
      "['RHEA:58100']\n",
      "{'RHEA:58100': {'RHEA:58100'}}\n"
     ]
    }
   ],
   "source": [
    "dmdb_syn_stats = [0,0]\n",
    "loners = []\n",
    "\n",
    "for k,v in dmdb_synonyms_dict.items():\n",
    "    dmdb_syn_stats[1] += len(v)\n",
    "    if len(v) == 1:\n",
    "        loners.append(k)\n",
    "        dmdb_syn_stats[0] += 1\n",
    "\n",
    "drkg_syn_stats = [0,0]\n",
    "\n",
    "for k,v in drkg_synonyms_dict.items():\n",
    "    drkg_syn_stats[1] += len(v)\n",
    "    if len(v) == 1:\n",
    "        loners.append(k)\n",
    "        drkg_syn_stats[0] += 1\n",
    "\n",
    "print(f\"DrugMechDB synonyms found: {dmdb_syn_stats[1]} for {len(dmdb_synonyms_dict)} original entities ({dmdb_syn_stats[0]} exist without synonyms)\")\n",
    "print(f\"DRKG synonyms found: {drkg_syn_stats[1]} for {len(drkg_synonyms_dict)} original entities ({drkg_syn_stats[0]} exist without synonyms)\")\n",
    "print(drkg_synonyms_dict[loners[421]])\n",
    "print(synonym_request(list(drkg_synonyms_dict[loners[421]]).pop()))"
   ]
  },
  {
   "cell_type": "markdown",
   "id": "4d576929",
   "metadata": {},
   "source": [
    "### Test  0 synonym entity classes\n",
    "\n",
    "TODO Figure out if they do not exist or it is a formatting issue. "
   ]
  },
  {
   "cell_type": "code",
   "execution_count": null,
   "id": "b3f773b1",
   "metadata": {},
   "outputs": [],
   "source": [
    "# Synonym dictionary samples\n",
    "for i,dict in enumerate(dmdb_synonyms_dict.items()):\n",
    "    k,v = dict\n",
    "    print(k,v)\n",
    "    if i == 10: break\n",
    "print() \n",
    "for i,dict in enumerate(drkg_synonyms_dict.items()):\n",
    "    k,v = dict\n",
    "    print(k,v)\n",
    "    if i == 10: break"
   ]
  },
  {
   "cell_type": "markdown",
   "id": "1d41c43b",
   "metadata": {},
   "source": [
    "### Matching with Synonyms "
   ]
  },
  {
   "cell_type": "code",
   "execution_count": null,
   "id": "cd646df7",
   "metadata": {},
   "outputs": [
    {
     "name": "stdout",
     "output_type": "stream",
     "text": [
      "1834\n"
     ]
    }
   ],
   "source": [
    "# DrugMechDB Number of IDs with found synonyms: 3790 - synonyms found: 37936  (421 exist without synoynms)\n",
    "# DRKG Number of IDs with found synonyms: 28150 - synonyms found: 139247  (5673 exist without synoynms)\n",
    "\n",
    "def crosskg_matches(dmdb_synonyms_dict, drkg_synonyms_dict):\n",
    "    # Build inverted index : identifier -> {DRKG original IDs}\n",
    "    identifier_to_drkg = defaultdict()\n",
    "    for drkg_orig, id_set in drkg_synonyms_dict.items():\n",
    "        for identifier in id_set:\n",
    "            identifier_to_drkg[identifier] = drkg_orig\n",
    "\n",
    "    # For each DMDB original ID, match DRKG originals sharing any identifier\n",
    "    #dmdb_to_drkg = defaultdict(set)\n",
    "    dmdb_to_drkg = defaultdict()\n",
    "    for dmdb_orig, dmdb_id_set in dmdb_synonyms_dict.items():\n",
    "        for dmdb_syn_ide in dmdb_id_set:\n",
    "            if dmdb_syn_ide in identifier_to_drkg:\n",
    "                #dmdb_to_drkg[dmdb_orig].add(identifier_to_drkg[dmdb_syn_ide])\n",
    "                dmdb_to_drkg[dmdb_orig] = identifier_to_drkg[dmdb_syn_ide]\n",
    "\n",
    "    return dmdb_to_drkg\n",
    "\n",
    "# Returns dictionary - {[DMDB ID]:[DRKG ID]}\n",
    "synonym_matches = crosskg_matches(dmdb_synonyms_dict, drkg_synonyms_dict)\n",
    "print(len(synonym_matches))"
   ]
  },
  {
   "cell_type": "code",
   "execution_count": null,
   "id": "32ba92dd",
   "metadata": {},
   "outputs": [
    {
     "name": "stdout",
     "output_type": "stream",
     "text": [
      "[1550, 284]\n"
     ]
    }
   ],
   "source": [
    "count = [0,0]\n",
    "for k,v in synonym_matches.items():\n",
    "    if k == v:\n",
    "        count[0] += 1\n",
    "    else:\n",
    "        count[1] += 1\n",
    "    \n",
    "print(count)\n"
   ]
  },
  {
   "cell_type": "code",
   "execution_count": 151,
   "id": "4012e21f",
   "metadata": {},
   "outputs": [
    {
     "name": "stdout",
     "output_type": "stream",
     "text": [
      "(857) Disease\n",
      "(483) Biological Process\n",
      "(346) Compound\n",
      "(77) Molecular Function\n",
      "(47) Anatomy\n",
      "(27) Cellular Component\n"
     ]
    }
   ],
   "source": [
    "type_dict = {}\n",
    "\n",
    "debug_bio = []\n",
    "\n",
    "for dmdb_id,drkg_id in synonym_matches.items():\n",
    "    # for ent_type, ent_dict in dmdb_entity_dictionary.items():\n",
    "    #     if dmdb_id in ent_dict:\n",
    "    #         #print(dmdb_id, \"in DMDB\", ent_type)\n",
    "    #         if ent_type in type_dict:\n",
    "    #             type_dict[ent_type] += 1\n",
    "    #         else:\n",
    "    #             type_dict[ent_type] = 1\n",
    "\n",
    "    # TODO : FIX - drkg_id in synonyms is not directly applicable to drkg_ dictionaries \n",
    "    #              due to format change in NodeNormalization requests (\"[source]::\" removed)\n",
    "    #\n",
    "    #\n",
    "    # for ent_type, ent_dict in drkg_entity_dictionary.items():\n",
    "    #     if drkg_id in ent_dict:\n",
    "    #         print(drkg_id, \"in DRKG\", ent_type)\n",
    "    #         if ent_type in type_dict:\n",
    "    #             type_dict[ent_type] += 1\n",
    "    #         else:\n",
    "    #             type_dict[ent_type] = 1\n",
    "\n",
    "    for ent_type, ent_dict in drkg_entity_dictionary.items():\n",
    "        for e_id in ent_dict.keys():\n",
    "            if drkg_id in e_id:\n",
    "                #print(drkg_id, \"in DRKG\", ent_type)\n",
    "                if ent_type in type_dict:\n",
    "                    type_dict[ent_type] += 1\n",
    "                else:\n",
    "                    type_dict[ent_type] = 1\n",
    "\n",
    "                # DEBUG\n",
    "                if ent_type == \"Biological Process\":\n",
    "                    debug_bio.append(e_id)\n",
    "\n",
    "\n",
    "for k,v in sorted(type_dict.items(), key=lambda x: x[1], reverse=True):\n",
    "    print(f\"({v}) {k}\")"
   ]
  },
  {
   "cell_type": "markdown",
   "id": "e1d46375",
   "metadata": {},
   "source": [
    "For comparison, the regular entity matching results (in DRKG Entity Classes)\n",
    "\n",
    "(724) Disease  \n",
    "(501) Biological Process  \n",
    "(279) Compound  \n",
    "(77) Molecular Function  \n",
    "(45) Anatomy  \n",
    "(27) Cellular Component"
   ]
  },
  {
   "cell_type": "code",
   "execution_count": null,
   "id": "1773fd22",
   "metadata": {},
   "outputs": [],
   "source": [
    "# for cent in common_entities_dict[\"Biological Process\"]:\n",
    "#     cent = cent.split(\"::\")\n",
    "#     if cent in debug_bio:\n",
    "#         print(cent)"
   ]
  },
  {
   "cell_type": "code",
   "execution_count": null,
   "id": "0b59d726",
   "metadata": {},
   "outputs": [
    {
     "name": "stdout",
     "output_type": "stream",
     "text": [
      "1744\n"
     ]
    }
   ],
   "source": [
    "# DrugMechDB synonyms found: 37936  (421 exist without synoynms)\n",
    "# DRKG synonyms found: 139247  (5673 exist without synoynms)\n",
    "# TODO : Discrepancy of 90 matches between methods\n",
    "\n",
    "# def crosskg_matches(dmdb_synonyms_dict, drkg_synonyms_dict):\n",
    "#     # Build inverted index : identifier -> {DRKG original IDs}\n",
    "#     identifier_to_drkg = defaultdict()\n",
    "#     for drkg_orig, id_set in drkg_synonyms_dict.items():\n",
    "#         for identifier in id_set:\n",
    "#             identifier_to_drkg[identifier] = drkg_orig\n",
    "\n",
    "#     # For each DMDB original ID, match DRKG originals sharing any identifier\n",
    "#     dmdb_to_drkg = defaultdict(set)\n",
    "#     for dmdb_orig, dmdb_id_set in dmdb_synonyms_dict.items():\n",
    "#         for dmdb_syn_ide in dmdb_id_set:\n",
    "#             if dmdb_syn_ide in identifier_to_drkg:\n",
    "#                 # dmdb_to_drkg[dmdb_orig].add(identifier_to_drkg[dmdb_syn_ide])\n",
    "#                 # Dictionary format: {[Matched item]:([DMDB Original ID],[DRKG Original ID])}\n",
    "#                 dmdb_to_drkg[dmdb_syn_ide] = (dmdb_orig, identifier_to_drkg[dmdb_syn_ide])\n",
    "#                 break\n",
    "\n",
    "#     return dmdb_to_drkg\n",
    "\n",
    "# synonym_matches = crosskg_matches(dmdb_synonyms_dict, drkg_synonyms_dict)\n",
    "# print(len(synonym_matches))"
   ]
  },
  {
   "cell_type": "code",
   "execution_count": null,
   "id": "eb921df4",
   "metadata": {},
   "outputs": [],
   "source": [
    "# tempset = set()\n",
    "# for i,dict in enumerate(synonym_matches.items()):\n",
    "#     k,v = dict\n",
    "#     dmdb_s, drkg_s = v\n",
    "#     if not dmdb_s == drkg_s:\n",
    "#         print(k,v)\n",
    "#         tempset.add(v)\n",
    "        \n",
    "# print(len(tempset))\n",
    "# synonym_request(\"MESH:D000068877\")"
   ]
  },
  {
   "cell_type": "markdown",
   "id": "58d007dd",
   "metadata": {},
   "source": [
    "### Synonym DrugMech's Drug-Disease Pair Matching"
   ]
  },
  {
   "cell_type": "code",
   "execution_count": 29,
   "id": "e1add81b",
   "metadata": {},
   "outputs": [
    {
     "name": "stdout",
     "output_type": "stream",
     "text": [
      "('MESH:D000068877', 'MESH:D015464')\n"
     ]
    }
   ],
   "source": [
    "# \n",
    "for i in dmdb_drug_disease_pairs:\n",
    "    print(i)\n",
    "    break"
   ]
  },
  {
   "cell_type": "code",
   "execution_count": null,
   "id": "246748f0",
   "metadata": {},
   "outputs": [],
   "source": [
    "# Re-matching common entity pairs with Tax transformation\n",
    "import ahocorasick\n",
    "from builtins import tuple\n",
    "\n",
    "dmdb_tax_H, dmdb_tax_T = defaultdict(list), defaultdict(list)\n",
    "dmdb_syn_H, dmdb_syn_T = defaultdict(list), defaultdict(list)\n",
    "\n",
    "H, T = defaultdict(list), defaultdict(list)\n",
    "for i, (s, p, o) in enumerate(dmdb_triplets_set):\n",
    "\n",
    "    H[s].append(i)\n",
    "    T[o].append(i)\n",
    "\n",
    "    # Manual Format Rules #\n",
    "    if 'taxonomy' in s:\n",
    "        recon = f'Tax::{s.split(':')[-1]}'\n",
    "        dmdb_tax_H[recon].append(i)\n",
    "    if 'taxonomy' in o:\n",
    "        recon = f'Tax::{o.split(':')[-1]}'\n",
    "        dmdb_tax_T[recon].append(i)\n",
    "\n",
    "    if s in synonym_matches:\n",
    "        dmdb_syn_H[synonym_matches[s]].append(i)\n",
    "    if o in synonym_matches:\n",
    "        dmdb_syn_T[synonym_matches[o]].append(i)\n",
    "    #########\n",
    "\n",
    "A = ahocorasick.Automaton()\n",
    "for k, v in H.items():\n",
    "    A.add_word(k, tuple(v))\n",
    "#\n",
    "for tax_e, idx in dmdb_tax_H.items():\n",
    "    A.add_word(tax_e, tuple(idx))\n",
    "for syn_e, idx in dmdb_syn_H.items():\n",
    "    A.add_word(syn_e, tuple(idx))\n",
    "A.make_automaton()\n",
    "\n",
    "B = ahocorasick.Automaton()\n",
    "for k, v in T.items():\n",
    "    B.add_word(k, tuple(v))\n",
    "#\n",
    "for tax_e, idx in dmdb_tax_T.items():\n",
    "    B.add_word(tax_e, tuple(idx))\n",
    "for syn_e, idx in dmdb_syn_T.items():\n",
    "    B.add_word(syn_e, tuple(idx))\n",
    "B.make_automaton()\n",
    "\n",
    "syn_common_entity_pair_hits = []\n",
    "ai, bi = A.iter, B.iter\n",
    "for (s_drkg, p_drkg, o_drkg) in drkg_triplets_set:\n",
    "    Hhit = {i for _, idxs in ai(str(s_drkg)) for i in idxs}\n",
    "    Thit = {i for _, idxs in bi(str(o_drkg)) for i in idxs}\n",
    "    for i in Hhit.intersection(Thit):\n",
    "        syn_common_entity_pair_hits.append((i, s_drkg, p_drkg, o_drkg))\n",
    "syn_common_entity_pair_hits"
   ]
  },
  {
   "cell_type": "code",
   "execution_count": null,
   "id": "13884b83",
   "metadata": {},
   "outputs": [
    {
     "data": {
      "text/plain": [
       "24"
      ]
     },
     "execution_count": 112,
     "metadata": {},
     "output_type": "execute_result"
    }
   ],
   "source": [
    "len(syn_common_entity_pair_hits)"
   ]
  },
  {
   "cell_type": "code",
   "execution_count": null,
   "id": "3d25ed36",
   "metadata": {},
   "outputs": [
    {
     "name": "stdout",
     "output_type": "stream",
     "text": [
      "(7508, 'Disease::MESH:D003866', 'Hetionet::DrD::Disease:Disease', 'Disease::DOID:5419')\n",
      "(6213, 'Disease::MESH:D003866', 'Hetionet::DrD::Disease:Disease', 'Disease::DOID:5419')\n",
      "(9642, 'Compound::MESH:D011453', 'GNBR::Sa::Compound:Disease', 'Disease::MESH:D010146')\n",
      "(7564, 'Compound::MESH:D011453', 'GNBR::Sa::Compound:Disease', 'Disease::MESH:D010146')\n"
     ]
    }
   ],
   "source": [
    "for tup in syn_common_entity_pair_hits:\n",
    "    if tup not in common_entity_pair_hits:\n",
    "        print(tup)"
   ]
  },
  {
   "cell_type": "markdown",
   "id": "6d57c548",
   "metadata": {},
   "source": [
    "# Visualization\n",
    "Visualization template provided by Rishabh Jakhar."
   ]
  },
  {
   "cell_type": "code",
   "execution_count": 105,
   "id": "5de004bc",
   "metadata": {},
   "outputs": [],
   "source": [
    "from pyvis.network import Network\n",
    "from IPython.display import IFrame\n",
    "\n",
    "def plot_pyvis_network(G, labeled_nodes=None, notebook=True, output_file=\"graph.html\"):\n",
    "    \"\"\"\n",
    "    Plot a network graph using PyVis with optimized handling of labeled nodes.\n",
    "    \n",
    "    Parameters:\n",
    "    -----------\n",
    "    G : networkx.Graph\n",
    "        The graph to visualize\n",
    "    labeled_nodes : list, optional\n",
    "        List of node IDs that should display labels\n",
    "    notebook : bool, default=True\n",
    "        Whether to render in a Jupyter notebook\n",
    "    output_file : str, default=\"graph.html\"\n",
    "        Path to save the HTML output\n",
    "        \n",
    "    Returns:\n",
    "    --------\n",
    "    IFrame or None\n",
    "        IFrame object if in notebook mode, otherwise None\n",
    "    \"\"\"\n",
    "    net = Network(\n",
    "        height=\"750px\", \n",
    "        width=\"100%\", \n",
    "        directed=True, \n",
    "        notebook=notebook, \n",
    "        cdn_resources=\"in_line\"\n",
    "    )\n",
    "    \n",
    "    # Define node colors by type\n",
    "    node_color_map = {\n",
    "        \"drug\": \"#00817a\",\n",
    "        \"indication\": \"#e69138\",\n",
    "        \"protein\": \"#b71c1c\",\n",
    "        \"biological_function\": \"#6d9eeb\",\n",
    "    }\n",
    "    \n",
    "    # Add nodes to the network\n",
    "    \n",
    "    for node in G.nodes():\n",
    "        ntype = G.nodes[node].get(\"type\", \"unknown\")\n",
    "        \n",
    "        # Determine if this is a labeled node\n",
    "        is_labeled = labeled_nodes and node in labeled_nodes\n",
    "        \n",
    "        # Set node properties based on whether it's labeled\n",
    "        size = 120 if is_labeled else 30\n",
    "        \n",
    "        # Set tooltip for all nodes\n",
    "        title = f\"\"\"{G.nodes[node].get(\"label\", \"\")} ({node})\"\"\"\n",
    "        \n",
    "        # For unlabeled nodes, use a space character with font size 0 to effectively hide labels\n",
    "        # Using None or empty string would show the node ID\n",
    "        if is_labeled:\n",
    "            label = f\"\"\"{G.nodes[node].get(\"name\", \"\")} ({node})\"\"\"\n",
    "            font_settings = {'size': 200, 'strokeWidth': 2, 'strokeColor': 'white'}\n",
    "            physics = True\n",
    "            mass = 10\n",
    "        else:\n",
    "            label = \" \"  # Space character instead of None\n",
    "            font_settings = {'size': 0}  # Size 0 makes it invisible\n",
    "            physics = True\n",
    "            mass = .5\n",
    "        \n",
    "        # Add the node with configured properties\n",
    "        net.add_node(\n",
    "            node,\n",
    "            label=label,\n",
    "            title=title,\n",
    "            color=node_color_map.get(ntype, \"gray\"),\n",
    "            size=size,\n",
    "            font=font_settings,\n",
    "            shape=\"dot\", \n",
    "            physics=physics, \n",
    "            mass=mass\n",
    "        )\n",
    "    \n",
    "    # Add edges to the network\n",
    "    for u, v, edata in G.edges(data=True):\n",
    "        rel = edata.get(\"type\", \"related_to\")\n",
    "        width = 1\n",
    "        dashes = True\n",
    "        color = 'gray'\n",
    "        \n",
    "        # Highlight edges that connect sequential labeled nodes\n",
    "        if labeled_nodes and len(labeled_nodes) > 1:\n",
    "            for i in range(len(labeled_nodes) - 1):\n",
    "                if u == labeled_nodes[i] and v == labeled_nodes[i+1]:\n",
    "                    width = 20\n",
    "                    dashes = False\n",
    "                    color = 'orange'\n",
    "                    break\n",
    "        \n",
    "        net.add_edge(\n",
    "            u,\n",
    "            v,\n",
    "            color=color,               \n",
    "            width=width,\n",
    "            dashes=dashes,\n",
    "            title=rel,\n",
    "            arrowStrikethrough=False,\n",
    "        )\n",
    "    \n",
    "   # Set display and physics options\n",
    "    net.set_options(\"\"\"\n",
    "    var options = {\n",
    "      \"nodes\": { \n",
    "        \"font\": {\n",
    "          \"size\": 16,\n",
    "          \"strokeWidth\": 2,\n",
    "          \"strokeColor\": \"white\"\n",
    "        },\n",
    "        \"scaling\": {\n",
    "          \"label\": {\n",
    "            \"enabled\": false\n",
    "          }\n",
    "        }\n",
    "      },\n",
    "      \"edges\": { \n",
    "        \"smooth\": true,\n",
    "        \"arrows\": {\n",
    "          \"to\": {\n",
    "            \"enabled\": true,\n",
    "            \"scaleFactor\": 2\n",
    "          }\n",
    "        }\n",
    "      },\n",
    "      \"physics\": {\n",
    "        \"enabled\": true,\n",
    "        \"solver\": \"barnesHut\",\n",
    "        \"barnesHut\": {\n",
    "          \"gravitationalConstant\": -60000,\n",
    "          \"centralGravity\": 0.6,\n",
    "          \"springLength\": 150,\n",
    "          \"springConstant\": 0.04,\n",
    "          \"damping\": 0.6,\n",
    "          \"avoidOverlap\": 0.4\n",
    "        },\n",
    "        \"minVelocity\": 0.75,\n",
    "        \"stabilization\": {\n",
    "          \"enabled\": true,\n",
    "          \"iterations\": 100,\n",
    "          \"updateInterval\": 1,\n",
    "          \"fit\": true\n",
    "        }\n",
    "      },\n",
    "      \"interaction\": {\n",
    "        \"hover\": true,\n",
    "        \"tooltipDelay\": 100,\n",
    "        \"hideEdgesOnDrag\": false,\n",
    "        \"hideNodesOnDrag\": false,\n",
    "        \"zoomView\": true,\n",
    "        \"dragNodes\": true,\n",
    "        \"dragView\": true\n",
    "      },\n",
    "      \"layout\": {\n",
    "        \"improvedLayout\": true,\n",
    "        \"hierarchical\": {\n",
    "          \"enabled\": false\n",
    "        }\n",
    "      }\n",
    "    }\n",
    "    \"\"\")\n",
    "    \n",
    "    # Show the network\n",
    "    net.show(output_file)\n",
    "    \n",
    "    # Return an IFrame for notebook display\n",
    "    if notebook:\n",
    "        return IFrame(output_file, width=\"100%\", height=\"1000px\")"
   ]
  },
  {
   "cell_type": "code",
   "execution_count": null,
   "id": "9f20c20c",
   "metadata": {},
   "outputs": [],
   "source": []
  }
 ],
 "metadata": {
  "kernelspec": {
   "display_name": "analysis-env",
   "language": "python",
   "name": "python3"
  },
  "language_info": {
   "codemirror_mode": {
    "name": "ipython",
    "version": 3
   },
   "file_extension": ".py",
   "mimetype": "text/x-python",
   "name": "python",
   "nbconvert_exporter": "python",
   "pygments_lexer": "ipython3",
   "version": "3.13.5"
  }
 },
 "nbformat": 4,
 "nbformat_minor": 5
}
