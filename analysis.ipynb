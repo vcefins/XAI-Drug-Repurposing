{
 "cells": [
  {
   "cell_type": "code",
   "execution_count": 44,
   "id": "fbc99259",
   "metadata": {},
   "outputs": [],
   "source": [
    "import numpy\n",
    "import os\n",
    "\n",
    "import csv\n",
    "import yaml\n",
    "\n",
    "from rdflib import Graph, Literal, RDF, URIRef\n",
    "from rdflib.namespace import Namespace\n",
    "\n",
    "from tqdm import tqdm"
   ]
  },
  {
   "cell_type": "markdown",
   "id": "ec32f2d7",
   "metadata": {},
   "source": [
    "#### Import DRKG"
   ]
  },
  {
   "cell_type": "code",
   "execution_count": 2,
   "id": "528d3905",
   "metadata": {},
   "outputs": [],
   "source": [
    "drkg_path = \"data/drkg/drkg.tsv\"\n",
    "ns = Namespace(\"http://drkg.org/graph/\")"
   ]
  },
  {
   "cell_type": "code",
   "execution_count": 3,
   "id": "2d2eec24",
   "metadata": {},
   "outputs": [
    {
     "name": "stdout",
     "output_type": "stream",
     "text": [
      "Loading DRKG database from tsv...\n"
     ]
    }
   ],
   "source": [
    "drkg = Graph()\n",
    "\n",
    "print(\"Loading DRKG database from tsv...\")\n",
    "with open(drkg_path, 'r') as tsv_file:\n",
    "    reader = csv.reader(tsv_file, delimiter='\\t')\n",
    "    for row in reader:\n",
    "        if len(row) == 3:\n",
    "            subject = ns[row[0].replace(' ', '_').replace('|', '_')]\n",
    "            predicate = ns[row[1].replace(' ', '_').replace('>', '_')]\n",
    "            # Determine if object is a URI or a Literal\n",
    "            object = URIRef(row[2].replace(' ', '_').replace('|', '_')) if row[2].startswith('http') else Literal(row[2].replace(' ', '_').replace('|', '_'))\n",
    "            drkg.add((subject, predicate, object))\n",
    "            #print(f'Added:\\n {subject}, \\n {predicate}, \\n {object}.')"
   ]
  },
  {
   "cell_type": "code",
   "execution_count": 46,
   "id": "437051ab",
   "metadata": {},
   "outputs": [],
   "source": [
    "cnt = 0\n",
    "\n",
    "def raw2str(row):\n",
    "    # remove uri and clean predicate\n",
    "    s,p,o = row\n",
    "    if \"drkg\" in s:\n",
    "        return str(s).split(\"/\")[-1], clean_pred(str(p).split(\"/\")[-1]), str(o).split(\"/\")[-1]\n",
    "    else:\n",
    "        return str(s).split(\"/\")[-1], str(p).split(\"/\")[-1], str(o).split(\"/\")[-1]\n",
    "\n",
    "def clean_pred(p):\n",
    "    return str(p).split(\"::\")[1]    # 0 - source, 1 - predicate, 2 - head & tail entity types"
   ]
  },
  {
   "cell_type": "code",
   "execution_count": null,
   "id": "c4434d2d",
   "metadata": {},
   "outputs": [],
   "source": [
    "# Standard DRKG loop\n",
    "for row in drkg:\n",
    "    s,p,o = raw2str(row)\n",
    "\n",
    "    if \"MESH\" in s or \"MESH\" in o:\n",
    "        print(s,p,o)\n",
    "        cnt += 1\n",
    "    if cnt > 50: break"
   ]
  },
  {
   "cell_type": "markdown",
   "id": "3df7f7a0",
   "metadata": {},
   "source": [
    "#### Import DrugMechDB"
   ]
  },
  {
   "cell_type": "code",
   "execution_count": 5,
   "id": "f9546c0b",
   "metadata": {},
   "outputs": [],
   "source": [
    "dmdb_path = \"data/drugmech/drugmechdb.yaml\"\n",
    "ns = Namespace(\"http://drugmech.org/graph/\")"
   ]
  },
  {
   "cell_type": "code",
   "execution_count": 6,
   "id": "a7348b10",
   "metadata": {},
   "outputs": [
    {
     "name": "stdout",
     "output_type": "stream",
     "text": [
      "YAML loaded\n",
      "[4846, 33009, 32641]\n"
     ]
    }
   ],
   "source": [
    "dmdb = Graph()\n",
    "\n",
    "with open(dmdb_path, 'r') as yaml_file:\n",
    "    data = yaml.safe_load(yaml_file)\n",
    "    print('YAML loaded')\n",
    "\n",
    "    count = [0,0,0]\n",
    "    \n",
    "    for entry in data:\n",
    "        # graph_id = entry['graph']['_id']\n",
    "\n",
    "        for node in entry['nodes']:\n",
    "            node_id = ns[node['id']]\n",
    "            label = Literal(node['label'])\n",
    "            name = Literal(node['name'])\n",
    "            dmdb.add((node_id, RDF.type, URIRef(ns + 'Node')))\n",
    "            dmdb.add((node_id, URIRef(ns + 'label'), label))\n",
    "            dmdb.add((node_id, URIRef(ns + 'name'), name))\n",
    "            count[1] += 1\n",
    "            # print('Node :', node)\n",
    "            \n",
    "        for link in entry['links']:\n",
    "            source = URIRef(ns + link['source'])\n",
    "            target = URIRef(ns + link['target'])\n",
    "            predicate = URIRef(ns + link['key'].replace(\" \", \"_\"))\n",
    "            dmdb.add((source, predicate, target))\n",
    "            count[2] += 1\n",
    "            # print('Link :', link)\n",
    "        count[0] += 1\n",
    "        # print('Entry :', entry)\n",
    "    print(count)"
   ]
  },
  {
   "cell_type": "markdown",
   "id": "2c4db41e",
   "metadata": {},
   "source": [
    "### Step 1\n",
    "How much overlap between DMDB and DRKG entities?"
   ]
  },
  {
   "cell_type": "code",
   "execution_count": 39,
   "id": "fef17be8",
   "metadata": {},
   "outputs": [
    {
     "name": "stdout",
     "output_type": "stream",
     "text": [
      "Number of MESH-coded entities in DrugMechDB: 2539 / 27228\n"
     ]
    }
   ],
   "source": [
    "dmdb_mesh = set()\n",
    "\n",
    "for row in dmdb:\n",
    "    s,p,o = raw2str(row)\n",
    "\n",
    "    if \"MESH\" in s:\n",
    "        dmdb_mesh.add(s)\n",
    "    elif \"MESH\" in o:\n",
    "        dmdb_mesh.add(o)\n",
    "\n",
    "print(\"Number of MESH-coded entities in DrugMechDB:\", len(dmdb_mesh), \"/\", len(dmdb))"
   ]
  },
  {
   "cell_type": "code",
   "execution_count": null,
   "id": "e8227dda",
   "metadata": {},
   "outputs": [
    {
     "name": "stdout",
     "output_type": "stream",
     "text": [
      "Number of MESH-coded entities in DRKG: 239803 / 5874258\n"
     ]
    }
   ],
   "source": [
    "common_mesh = set()\n",
    "\n",
    "\n",
    "drkg_mesh_cnt = 0\n",
    "for row in drkg:\n",
    "    s,p,o = raw2str(row)\n",
    "\n",
    "    if \"MESH\" in s:\n",
    "        drkg_mesh_cnt += 1\n",
    "        if s in dmdb_mesh:\n",
    "            common_mesh.add(s)\n",
    "    elif \"MESH\" in o:\n",
    "        drkg_mesh_cnt += 1\n",
    "        if o in dmdb_mesh:\n",
    "            common_mesh.add(o)\n",
    "print(\"Number of MESH-coded entities in DRKG:\", drkg_mesh_cnt, \"/\", len(drkg))"
   ]
  },
  {
   "cell_type": "code",
   "execution_count": 34,
   "id": "e1a43c3d",
   "metadata": {},
   "outputs": [
    {
     "name": "stdout",
     "output_type": "stream",
     "text": [
      "14767\n"
     ]
    }
   ],
   "source": [
    "for i in common_mesh:\n",
    "    print(i)\n",
    "\n",
    "print(len(dmdb_mesh))"
   ]
  },
  {
   "cell_type": "markdown",
   "id": "0f78bcd8",
   "metadata": {},
   "source": [
    "### Getting Unique Entities"
   ]
  },
  {
   "cell_type": "code",
   "execution_count": 51,
   "id": "1fb13d41",
   "metadata": {},
   "outputs": [
    {
     "name": "stderr",
     "output_type": "stream",
     "text": [
      "100%|██████████| 5874258/5874258 [00:39<00:00, 148673.11it/s]"
     ]
    },
    {
     "name": "stdout",
     "output_type": "stream",
     "text": [
      "Number of stored unique entities: 97238\n"
     ]
    },
    {
     "name": "stderr",
     "output_type": "stream",
     "text": [
      "\n"
     ]
    }
   ],
   "source": [
    "# Get DRKG's unique entities\n",
    "drkg_entities = set()\n",
    "\n",
    "for row in tqdm(drkg):\n",
    "    s,p,o = raw2str(row)\n",
    "\n",
    "    for ent in [s,o]:\n",
    "        if not isinstance(ent, Literal):\n",
    "            drkg_entities.add(ent)\n",
    "\n",
    "print(f\"Number of stored unique entities: {len(drkg_entities)}\")\n"
   ]
  },
  {
   "cell_type": "code",
   "execution_count": null,
   "id": "fa186b60",
   "metadata": {},
   "outputs": [],
   "source": [
    "# DEBUG\n",
    "for idx, i in enumerate(drkg_entities):\n",
    "    print(i)\n",
    "    if idx == 30: break"
   ]
  },
  {
   "cell_type": "code",
   "execution_count": 56,
   "id": "ccc2d790",
   "metadata": {},
   "outputs": [
    {
     "name": "stderr",
     "output_type": "stream",
     "text": [
      "100%|██████████| 27228/27228 [00:00<00:00, 246468.18it/s]"
     ]
    },
    {
     "name": "stdout",
     "output_type": "stream",
     "text": [
      "Number of stored unique entities: 10962\n"
     ]
    },
    {
     "name": "stderr",
     "output_type": "stream",
     "text": [
      "\n"
     ]
    }
   ],
   "source": [
    "# Get DMDB's Unique entities\n",
    "dmdb_entities = set()\n",
    "\n",
    "for row in tqdm(dmdb):\n",
    "    s,p,o = raw2str(row)\n",
    "\n",
    "    for ent in [s,o]:\n",
    "        if not isinstance(ent, Literal):\n",
    "            # print(ent)\n",
    "            dmdb_entities.add(ent)\n",
    "\n",
    "print(f\"Number of stored unique entities: {len(dmdb_entities)}\")"
   ]
  },
  {
   "cell_type": "code",
   "execution_count": null,
   "id": "0d425a15",
   "metadata": {},
   "outputs": [
    {
     "name": "stdout",
     "output_type": "stream",
     "text": [
      "vitamin C\n",
      "purine nucleotide biosynthetic process\n",
      "Wheezing\n",
      "MESH:D001943\n",
      "Chloramphenicol\n",
      "MESH:C536777\n",
      "Paroxysmal nocturnal hemoglobinuria\n",
      "Cytokine production\n",
      "MESH:D003907\n",
      "Protein Kinase C\n",
      "Cataract\n",
      "imipenem\n",
      "Streptococcal infectious disease\n",
      "Giant Cell Arteritis\n",
      "Pneumococcal meningitis\n",
      "UniProt:P0DJD9\n",
      "MESH:D056806\n",
      "MESH:D002177\n",
      "UniProt:P00488\n",
      "MESH:D003607\n",
      "Rosuvastatin\n",
      "UniProt:Q8ZB62\n",
      "DB:DB01430\n",
      "Abnormality of temperature regulation\n",
      "MESH:D008118\n",
      "Cytokine receptor common subunit gamma\n",
      "5-hydroxytryptamine receptor 1D\n",
      "regulation of synaptic transmission, dopaminergic\n",
      "Lymphoma, Mantle-Cell\n",
      "Diazepam\n",
      "Magnesium\n"
     ]
    }
   ],
   "source": [
    "# DEBUG         TODO : Literals in entities?\n",
    "for idx, i in enumerate(dmdb_entities):\n",
    "    print(i)\n",
    "    if idx == 30: break"
   ]
  },
  {
   "cell_type": "code",
   "execution_count": null,
   "id": "e677acbb",
   "metadata": {},
   "outputs": [
    {
     "name": "stderr",
     "output_type": "stream",
     "text": [
      "Comparison in progress: 100%|██████████| 10962/10962 [00:00<00:00, 1811867.92it/s]"
     ]
    },
    {
     "name": "stdout",
     "output_type": "stream",
     "text": [
      "Number of common entities: 10962 / 119162\n"
     ]
    },
    {
     "name": "stderr",
     "output_type": "stream",
     "text": [
      "\n"
     ]
    }
   ],
   "source": [
    "# Comparing unique entity sets\n",
    "common_entities = set()\n",
    "\n",
    "for elem in tqdm(dmdb_entities, desc=\"Comparison in progress\"):\n",
    "    if elem in drkg_entities:\n",
    "        common_entities.add(elem)\n",
    "\n",
    "print(\"Number of common entities:\", len(common_entities), \"/\", (len(drkg_entities) + len(dmdb_entities)))"
   ]
  },
  {
   "cell_type": "code",
   "execution_count": null,
   "id": "43c2b00b",
   "metadata": {},
   "outputs": [
    {
     "name": "stdout",
     "output_type": "stream",
     "text": [
      "MESH:D001943\n",
      "MESH:C536777\n",
      "MESH:D003907\n",
      "UniProt:P0DJD9\n",
      "MESH:D056806\n",
      "MESH:D002177\n",
      "UniProt:P00488\n",
      "MESH:D003607\n",
      "UniProt:Q8ZB62\n",
      "DB:DB01430\n",
      "MESH:D008118\n",
      "UniProt:O75116\n",
      "MESH:D000069470\n",
      "MESH:D005871\n",
      "UBERON:0001555\n",
      "taxonomy:76773\n",
      "taxonomy:10407\n",
      "MESH:D005998\n",
      "MESH:D003493\n",
      "MESH:C579652\n",
      "GO:0014051\n",
      "GO:0099536\n",
      "MESH:D005230\n",
      "MESH:D017984\n",
      "MESH:D000069445\n",
      "HP:0030088\n",
      "CHEBI:16412\n",
      "HP:0003124\n",
      "MESH:D004967\n",
      "MESH:C047681\n",
      "UBERON:0001811\n",
      "MESH:C036006\n",
      "MESH:D002470\n",
      "UniProt:P78559\n",
      "InterPro:IPR001054\n",
      "GO:0008219\n",
      "GO:0031594\n",
      "UBERON:0000007\n",
      "UniProt:P9WQA9\n",
      "MESH:D006143\n",
      "MESH:C000589393\n",
      "MESH:D013322\n",
      "MESH:D018784\n",
      "MESH:D009266\n",
      "MESH:D014747\n",
      "reactome:R-HSA-390651\n",
      "HP:0012534\n",
      "MESH:C073323\n",
      "UniProt:P17948\n",
      "UBERON:0001291\n",
      "MESH:D011906\n",
      "MESH:D031901\n",
      "MESH:D000069580\n",
      "MESH:D061268\n",
      "UniProt:P06653\n",
      "MESH:D014290\n",
      "MESH:C074679\n",
      "UBERON:0008915\n",
      "MESH:C011685\n",
      "UniProt:B2ISJ9\n",
      "MESH:D007638\n",
      "UBERON:0002018\n",
      "UniProt:A0A717UR96\n",
      "MESH:C004280\n",
      "MESH:D019584\n",
      "MESH:D006493\n",
      "HP:0025300\n",
      "CHEBI:46345\n",
      "HP:0100543\n",
      "UniProt:P62942\n",
      "taxonomy:1817\n",
      "MESH:D015232\n",
      "taxonomy:1392\n",
      "GO:0005528\n",
      "MESH:D001161\n",
      "taxonomy:210\n",
      "CHEBI:24838\n",
      "MESH:D006024\n",
      "GO:0042773\n",
      "GO:0061530\n",
      "MESH:C009999\n",
      "MESH:D059268\n",
      "MESH:D005334\n",
      "MESH:C090568\n",
      "MESH:C010809\n",
      "MESH:D001920\n",
      "MESH:D003981\n",
      "UniProt:Q9NZQ7\n",
      "MESH:D000077555\n",
      "MESH:C118563\n",
      "MESH:D008543\n",
      "MESH:D005341\n",
      "MESH:D000638\n",
      "MESH:D013629\n",
      "UniProt:P00813\n",
      "GO:0004679\n",
      "taxonomy:6247\n",
      "GO:0019363\n",
      "UniProt:P42081\n",
      "MESH:C471405\n",
      "MESH:D007787\n",
      "MESH:D004405\n",
      "UBERON:0000176\n",
      "MESH:D006943\n",
      "taxonomy:1279\n",
      "MESH:D007008\n",
      "MESH:C086827\n",
      "DB:DB04890\n",
      "UniProt:Q6Q788\n",
      "UniProt:P11473\n",
      "MESH:C010524\n",
      "MESH:D000728\n",
      "MESH:D014581\n",
      "reactome:R-HSA-9607240\n",
      "UniProt:Q14164\n",
      "UniProt:P07988\n",
      "GO:0033280\n",
      "MESH:D005609\n",
      "UniProt:P44469\n",
      "UniProt:Q5EP76\n",
      "MESH:D006585\n",
      "MESH:D011398\n",
      "UniProt:F1L348\n",
      "CHEBI:16040\n",
      "GO:0008478\n",
      "MESH:D017382\n",
      "MESH:D008276\n",
      "MESH:D005424\n",
      "UniProt:D8H6M3\n",
      "MESH:D018410\n",
      "UniProt:P23921\n"
     ]
    }
   ],
   "source": [
    "# DEBUG\n",
    "for idx, i in enumerate(common_entities):\n",
    "    if \":\" in i:        # hard-coded filter...\n",
    "        print(i)\n",
    "    if idx == 300: break"
   ]
  },
  {
   "cell_type": "code",
   "execution_count": null,
   "id": "3a38d12e",
   "metadata": {},
   "outputs": [],
   "source": [
    "# Inefficient entity comparison\n",
    "common_entities = set()\n",
    "\n",
    "for row in tqdm(dmdb, desc=\"Hour-long comparison in progress...\"):\n",
    "    s,p,o = raw2str(row)\n",
    "\n",
    "    for row2 in drkg:\n",
    "        s2,p2,o2 = raw2str(row2)\n",
    "\n",
    "        if s in s2 or s in o2:\n",
    "            common_entities.add(s)\n",
    "        if o in s2 or o in o2:\n",
    "            common_entities.add(o)\n",
    "\n",
    "print(\"Number of common entities:\", len(common_entities), \"/\", (len(drkg) + len(dmdb)))"
   ]
  }
 ],
 "metadata": {
  "kernelspec": {
   "display_name": "analysis-env",
   "language": "python",
   "name": "python3"
  },
  "language_info": {
   "codemirror_mode": {
    "name": "ipython",
    "version": 3
   },
   "file_extension": ".py",
   "mimetype": "text/x-python",
   "name": "python",
   "nbconvert_exporter": "python",
   "pygments_lexer": "ipython3",
   "version": "3.13.5"
  }
 },
 "nbformat": 4,
 "nbformat_minor": 5
}
