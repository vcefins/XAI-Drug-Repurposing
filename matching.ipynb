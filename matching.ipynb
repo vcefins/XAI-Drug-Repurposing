{
 "cells": [
  {
   "cell_type": "code",
   "execution_count": 2,
   "id": "8e58faba",
   "metadata": {},
   "outputs": [],
   "source": [
    "import numpy as np\n",
    "import pandas as pd\n",
    "import os\n",
    "\n",
    "import csv\n",
    "import yaml\n",
    "\n",
    "from rdflib import Graph, Literal, RDF, URIRef\n",
    "from rdflib.namespace import Namespace\n",
    "\n",
    "from tqdm import tqdm\n",
    "from collections import defaultdict"
   ]
  },
  {
   "cell_type": "markdown",
   "id": "90416473",
   "metadata": {},
   "source": [
    "### DRKG Import"
   ]
  },
  {
   "cell_type": "code",
   "execution_count": 3,
   "id": "62b05300",
   "metadata": {},
   "outputs": [],
   "source": [
    "drkg_file = 'data/drkg/drkg.tsv'\n",
    "drkg_df = pd.read_csv(drkg_file, sep=\"\\t\", header=None)     # header fix to original code\n",
    "drkg_triplets_list = drkg_df.values.tolist()"
   ]
  },
  {
   "cell_type": "markdown",
   "id": "9d65a170",
   "metadata": {},
   "source": [
    "### DrugMechDB Import"
   ]
  },
  {
   "cell_type": "code",
   "execution_count": 4,
   "id": "1cc1ab52",
   "metadata": {},
   "outputs": [],
   "source": [
    "drugmech_path = \"data/drugmech/drugmechdb.yaml\"\n",
    "\n",
    "with open(drugmech_path, 'r') as fh:\n",
    "        dmdb_yaml = yaml.safe_load(fh)"
   ]
  },
  {
   "cell_type": "code",
   "execution_count": 4,
   "id": "17d2fc57",
   "metadata": {},
   "outputs": [],
   "source": [
    "# from dmdb_data_tools_analysis import *\n",
    "\n",
    "# all_metapath_nodes = get_metapath_node(dmdb_yaml)\n",
    "# all_metapath_edges = get_metapath_edges(dmdb_yaml)\n",
    "# basic_stats = defaultdict(list)\n",
    "\n",
    "# all_metaedges = []\n",
    "# all_parings = []\n",
    "# all_targets = []\n",
    "# unique_metaedges = []\n",
    "# first_edge_type = []\n",
    "# all_nodes = []\n",
    "\n",
    "# id_to_name = {}\n",
    "# id_to_label = {}\n",
    "\n",
    "# for i, p in enumerate(dmdb_yaml):\n",
    "#     _id = (p[\"graph\"][\"_id\"])\n",
    "#     drug_id, dis_id = path_to_tup(p)\n",
    "#     paths = get_all_paths(p)\n",
    "#     G = path_to_G(p)\n",
    "    \n",
    "#     G = add_metaedges(G)\n",
    "#     G = add_meanode_pairs(G)\n",
    "    \n",
    "#     basic_stats['idx'].append(i) #index\n",
    "#     basic_stats['id'].append(p['graph']['_id']) #DrugMechDB id\n",
    "#     basic_stats['drug'].append(drug_id) #Drug id\n",
    "#     basic_stats['disease'].append(dis_id)#Disease id\n",
    "#     basic_stats['nodes'].append((G.nodes)) #nodes in metapath\n",
    "#     basic_stats['n_nodes'].append(len(G.nodes)) # number of nodes in metapath\n",
    "#     basic_stats['n_edges'].append(len(G.edges)) #number of edges in metapath\n",
    "#     basic_stats['n_paths'].append(len(all_metapath_nodes[_id])) #number of paths\n",
    "#     basic_stats['metapath'].append(all_metapath_nodes[_id])\n",
    "#     basic_stats['metapath_with_edges'].append(all_metapath_edges[_id])\n",
    "\n",
    "    \n",
    "#     this_metaedges = [G.edges[e]['metaedge'] for e in G.edges]\n",
    "    \n",
    "#     all_metaedges += this_metaedges\n",
    "#     unique_metaedges += list(set(this_metaedges))\n",
    "    \n",
    "#     all_parings += [G.edges[e]['mn_pair'] for e in G.edges]\n",
    "#     all_targets += get_targets(G)\n",
    "#     first_edge_type += get_target_metaedges(G)\n",
    "#     all_nodes += list(G.nodes)\n",
    "    \n",
    "#     id_to_label = {**id_to_label, **get_id_to_type(G)}\n",
    "#     id_to_name = {**id_to_name, **get_id_to_name(G)}\n",
    "    \n",
    "# dmdb_df = pd.DataFrame(basic_stats)"
   ]
  },
  {
   "cell_type": "markdown",
   "id": "6f4cf738",
   "metadata": {},
   "source": [
    "<!-- ### DruugMechDB Import -->"
   ]
  },
  {
   "cell_type": "markdown",
   "id": "3635609f",
   "metadata": {},
   "source": [
    "## Entity Dictionaries"
   ]
  },
  {
   "cell_type": "markdown",
   "id": "4c8476bf",
   "metadata": {},
   "source": [
    "### DRKG"
   ]
  },
  {
   "cell_type": "code",
   "execution_count": null,
   "id": "aee0998a",
   "metadata": {},
   "outputs": [],
   "source": [
    "def insert_entry(entry, ntype, dic):\n",
    "    if ntype not in dic:\n",
    "        dic[ntype] = {}\n",
    "    node_id = len(dic[ntype])\n",
    "    if entry not in dic[ntype]:\n",
    "         dic[ntype][entry] = node_id\n",
    "    return dic"
   ]
  },
  {
   "cell_type": "code",
   "execution_count": 15,
   "id": "c07fd291",
   "metadata": {},
   "outputs": [],
   "source": [
    "def insert_pred(entry, dic):\n",
    "    # if ntype not in dic:\n",
    "    #     dic[ntype] = {}\n",
    "    # node_id = len(dic[ntype])\n",
    "    node_id = len(dic)\n",
    "    if entry not in dic.keys():\n",
    "         dic[entry] = node_id\n",
    "    return dic"
   ]
  },
  {
   "cell_type": "code",
   "execution_count": 16,
   "id": "086e3e6a",
   "metadata": {},
   "outputs": [],
   "source": [
    "def insert_entry_unique_ID(entity,ent_type,dic,total_count):\n",
    "    if ent_type not in dic:\n",
    "        dic[ent_type]={}\n",
    "    # ent_n_id=len(dic[ent_type])\n",
    "    if entity not in dic[ent_type]:\n",
    "        dic[ent_type][entity]= total_count # + ent_n_id\n",
    "        total_count+=1\n",
    "    return dic, total_count"
   ]
  },
  {
   "cell_type": "code",
   "execution_count": 107,
   "id": "eede9b6a",
   "metadata": {},
   "outputs": [],
   "source": [
    "drkg_entity_dictionary={}\n",
    "e_total_count = 0\n",
    "\n",
    "drkg_predicate_dictionary={}\n",
    "\n",
    "drkg_triplets_id_list=[]\n",
    "\n",
    "def find_drkg_entity_id(entity='Gene::2157'):\n",
    "    etype, e_name = entity.split('::')\n",
    "    return drkg_entity_dictionary[etype][e_name]\n",
    "\n",
    "def find_drkg_entity_name(entity_id=0):\n",
    "    for ent_dict in drkg_entity_dictionary.values():\n",
    "        if entity_id in ent_dict.values():\n",
    "            for e_name, id in ent_dict.items():\n",
    "                if id == entity_id:\n",
    "                    return e_name\n",
    "                \n",
    "def find_drkg_pred_name(pred_id=42):\n",
    "    for p_name,p_id in drkg_predicate_dictionary.items():\n",
    "        if p_id == pred_id:\n",
    "            return p_name\n",
    "   \n",
    "\n",
    "for triple in drkg_triplets_list:\n",
    "    e_head,pred,e_tail = triple\n",
    "\n",
    "    head_type, head = e_head.split('::')\n",
    "    tail_type, tail = e_tail.split('::')\n",
    "    drkg_entity_dictionary,e_total_count = insert_entry_unique_ID(head,head_type,drkg_entity_dictionary,e_total_count)\n",
    "    drkg_entity_dictionary,e_total_count = insert_entry_unique_ID(tail,tail_type,drkg_entity_dictionary,e_total_count)\n",
    "\n",
    "    drkg_predicate_dictionary = insert_pred(pred,drkg_predicate_dictionary)\n",
    "\n",
    "    drkg_triplets_id_list.append((find_drkg_entity_id(e_head),drkg_predicate_dictionary[pred],find_drkg_entity_id(e_tail)))\n",
    "    "
   ]
  },
  {
   "cell_type": "code",
   "execution_count": null,
   "id": "3208d57a",
   "metadata": {},
   "outputs": [],
   "source": [
    "tmep_set = set()\n",
    "\n",
    "for trip in drkg_triplets_id_list:\n",
    "    h,p,t = trip\n",
    "    if p in tmep_set: continue\n",
    "    print(trip)\n",
    "    tmep_set.add(p) \n",
    "    # if h == t:\n",
    "    #     print(trip)"
   ]
  },
  {
   "cell_type": "code",
   "execution_count": null,
   "id": "62e764a7",
   "metadata": {},
   "outputs": [
    {
     "name": "stdout",
     "output_type": "stream",
     "text": [
      "39220 Gene\n",
      "24313 Compound\n",
      "5103 Disease\n",
      "4048 Atc\n",
      "215 Tax\n",
      "11381 Biological Process\n",
      "415 Symptom\n",
      "400 Anatomy\n",
      "2884 Molecular Function\n",
      "345 Pharmacologic Class\n",
      "1391 Cellular Component\n",
      "1822 Pathway\n",
      "5701 Side Effect\n"
     ]
    }
   ],
   "source": [
    "for k,v in drkg_entity_dictionary.items():\n",
    "    print(len(v),k)#,v),"
   ]
  },
  {
   "cell_type": "markdown",
   "id": "48f81391",
   "metadata": {},
   "source": [
    "DrugMechDB Note: There are 52 entries where drug_mesh ID exists but is not used, instead DB id was used in links and nodes"
   ]
  },
  {
   "cell_type": "markdown",
   "id": "93b1abc8",
   "metadata": {},
   "source": [
    "### DrugMechDB"
   ]
  },
  {
   "cell_type": "code",
   "execution_count": 23,
   "id": "007dd0ca",
   "metadata": {},
   "outputs": [],
   "source": [
    "dmdb_entity_dictionary = {}\n",
    "e_total_count = 0\n",
    "\n",
    "dmdb_predicate_dictionary = {}\n",
    "\n",
    "# dmdb_triplet_dictionary = {}\n",
    "dmdb_subgraph_list = []\n",
    "\n",
    "def find_dmdb_entity_id(entity='MESH:D000068877'):\n",
    "    for ent_dict in dmdb_entity_dictionary.values():\n",
    "        if entity in ent_dict:\n",
    "            return ent_dict[entity]\n",
    "\n",
    "def find_dmdb_entity_name(entity_id=241):\n",
    "    for ent_dict in dmdb_entity_dictionary.values():\n",
    "        for e_name, id in ent_dict.items():\n",
    "            if id == entity_id:\n",
    "                return e_name\n",
    "            \n",
    "def find_dmdb_pred_id(pred='treats'):\n",
    "    return dmdb_predicate_dictionary[pred]\n",
    "\n",
    "def find_dmdb_pred_name(pred_id=4):         # TODO: separate in a utils.py (although these make more sense as a class function)\n",
    "    for p_name,p_id in dmdb_predicate_dictionary.items():\n",
    "        if p_id == pred_id:\n",
    "            return p_name\n",
    "\n",
    "def calculate_all_paths(triplet_set, start_id):\n",
    "    map = {}\n",
    "    for u,p,v in triplet_set:\n",
    "        if u not in map:\n",
    "            map[u]  = []\n",
    "        map[u].append(v)\n",
    "    path_log = {}\n",
    "\n",
    "    def dfs(u, seen):\n",
    "        if u in seen: return []                # break\n",
    "        if u in path_log: return path_log[u]\n",
    "        neighbors = map.get(u, ())\n",
    "        if not neighbors:                      # no path left\n",
    "            path_log[u] = [(u,)]\n",
    "            return path_log[u]\n",
    "        paths = []\n",
    "        for v in neighbors:                    # exploration here\n",
    "            for p in dfs(v, seen | {u}):       # seen-union-{u}\n",
    "                paths.append((u,) + p)\n",
    "        path_log[u] = paths\n",
    "        return paths\n",
    "\n",
    "    return [list(path) for path in dfs(start_id, set())]\n",
    "\n",
    "\n",
    "for entry in dmdb_yaml:\n",
    "    dbg_flag = 0\n",
    "    drug_db = entry['graph']['drugbank']\n",
    "    drug_mesh = entry['graph']['drug_mesh']       ## will be checking for null\n",
    "    disease_mesh = entry['graph']['disease_mesh']\n",
    "\n",
    "    is_mesh = False\n",
    "\n",
    "    for node in entry['nodes']:     # Fill entity dictionary\n",
    "        ent_id = node['id']\n",
    "        ent_type = node['label']\n",
    "        dmdb_entity_dictionary, e_total_count = insert_entry_unique_ID(ent_id,ent_type,dmdb_entity_dictionary,e_total_count)\n",
    "        \n",
    "        if drug_mesh is not None and ent_id == drug_mesh:   # if drug MESH used in links, add drug_db id separately\n",
    "            dmdb_entity_dictionary, e_total_count = insert_entry_unique_ID(drug_db,ent_type,dmdb_entity_dictionary,e_total_count)\n",
    "            \n",
    "            is_mesh = True\n",
    "\n",
    "    drug_id = find_dmdb_entity_id(drug_mesh) if is_mesh else find_dmdb_entity_id(drug_db)\n",
    "\n",
    "    triplet_list = []\n",
    "    entity_set = set()\n",
    "    for triplet in entry['links']:  # Fill triplet dictionary\n",
    "        src = triplet['source']\n",
    "        dest = triplet['target']\n",
    "        src_id, dest_id = find_dmdb_entity_id(src), find_dmdb_entity_id(dest)\n",
    "        pred = triplet['key']\n",
    "        dmdb_predicate_dictionary = insert_pred(pred,dmdb_predicate_dictionary)\n",
    "        pred_id = dmdb_predicate_dictionary[pred]\n",
    "        triplet_list.append((src_id, pred_id, dest_id))\n",
    "        entity_set.add(src_id)\n",
    "        entity_set.add(dest_id)\n",
    "        # pred_set.add(pred_id)\n",
    "    \n",
    "    paths = calculate_all_paths(triplet_list,start_id=drug_id)\n",
    "    longest_path = max(paths, key=len)\n",
    "    dict_entry = {'subgraph_id': len(dmdb_subgraph_list), \n",
    "                  #'subgraph_id': len(dmdb_triplet_dictionary),\n",
    "                    'drug_id': drug_id,\n",
    "                    'drug_db_id': find_dmdb_entity_id(drug_db),\n",
    "                    'drug_mesh_id': find_dmdb_entity_id(drug_mesh),\n",
    "                    'disease_id': find_dmdb_entity_id(disease_mesh),\n",
    "                    'triplets': triplet_list,\n",
    "                    'entities': entity_set,\n",
    "                    'paths': paths,\n",
    "                    'longest_path': longest_path,\n",
    "                    'longest_path_length': len(longest_path)\n",
    "                }\n",
    "    dmdb_subgraph_list.append(dict_entry)\n"
   ]
  },
  {
   "cell_type": "code",
   "execution_count": 24,
   "id": "6fd258c4",
   "metadata": {},
   "outputs": [
    {
     "name": "stdout",
     "output_type": "stream",
     "text": [
      "[5, 4, 3, 2, 1, 0]\n"
     ]
    }
   ],
   "source": [
    "def a(): # wow useful\n",
    "    a = []\n",
    "\n",
    "    def b(n):\n",
    "        a.append(n)\n",
    "        n = n-1\n",
    "        if n == -1:\n",
    "            return\n",
    "        return b(n)    \n",
    "    b(5)\n",
    "    print(a)\n",
    "a()"
   ]
  },
  {
   "cell_type": "code",
   "execution_count": 25,
   "id": "f1e55344",
   "metadata": {},
   "outputs": [
    {
     "name": "stdout",
     "output_type": "stream",
     "text": [
      "3135 Drug\n",
      "788 Protein\n",
      "764 Disease\n",
      "694 BiologicalProcess\n",
      "360 ChemicalSubstance\n",
      "81 Pathway\n",
      "122 GrossAnatomicalStructure\n",
      "98 MolecularActivity\n",
      "166 OrganismTaxon\n",
      "137 GeneFamily\n",
      "45 CellularComponent\n",
      "274 PhenotypicFeature\n",
      "37 Cell\n",
      "2 MacromolecularComplex\n"
     ]
    }
   ],
   "source": [
    "for k,v in dmdb_entity_dictionary.items():\n",
    "    print(len(v),k)#,v)"
   ]
  },
  {
   "cell_type": "code",
   "execution_count": 29,
   "id": "7d3c5b91",
   "metadata": {},
   "outputs": [
    {
     "name": "stdout",
     "output_type": "stream",
     "text": [
      "subgraph_id 3500\n",
      "drug_id 6201\n",
      "drug_db_id 6202\n",
      "drug_mesh_id 6201\n",
      "disease_id 677\n",
      "triplets [(6201, 0, 965), (965, 2, 1061), (965, 15, 2329), (1061, 24, 676), (2329, 24, 676), (676, 1, 677)]\n",
      "entities {676, 1061, 965, 2329, 677, 6201}\n",
      "paths [[6201, 965, 1061, 676, 677], [6201, 965, 2329, 676, 677]]\n",
      "longest_path [6201, 965, 1061, 676, 677]\n",
      "longest_path_length 5\n",
      "\n",
      "Number of total paths 2\n"
     ]
    }
   ],
   "source": [
    "for k,v in dmdb_subgraph_list[3500].items():\n",
    "    print(k,v)\n",
    "\n",
    "print('\\nNumber of total paths', len(dmdb_subgraph_list[3500]['paths']))"
   ]
  },
  {
   "cell_type": "code",
   "execution_count": 27,
   "id": "25cb2fed",
   "metadata": {},
   "outputs": [
    {
     "data": {
      "text/plain": [
       "'MESH:C578009'"
      ]
     },
     "execution_count": 27,
     "metadata": {},
     "output_type": "execute_result"
    }
   ],
   "source": [
    "find_dmdb_entity_name(6201)"
   ]
  },
  {
   "cell_type": "code",
   "execution_count": 28,
   "id": "6e07f501",
   "metadata": {},
   "outputs": [
    {
     "data": {
      "text/plain": [
       "6201"
      ]
     },
     "execution_count": 28,
     "metadata": {},
     "output_type": "execute_result"
    }
   ],
   "source": [
    "find_dmdb_entity_id('MESH:C578009')"
   ]
  },
  {
   "cell_type": "markdown",
   "id": "ed91d758",
   "metadata": {},
   "source": [
    "### Inverse Dicts for Entity Search "
   ]
  },
  {
   "cell_type": "code",
   "execution_count": 101,
   "id": "33174cfb",
   "metadata": {},
   "outputs": [],
   "source": [
    "#dmdb_inv_ent_dict = {v: k for k, v in dmdb_entity_dictionary.items()}\n",
    "dmdb_inverse_ent_dict = {}\n",
    "for subdict in dmdb_entity_dictionary.values():\n",
    "    for k, v in subdict.items():\n",
    "        dmdb_inverse_ent_dict[v]=k\n",
    "\n",
    "\n",
    "#drkg_inv_ent_dict = {v: k for k, v in drkg_entity_dictionary.items()}\n",
    "drkg_inverse_ent_dict = {}\n",
    "for subdict in drkg_entity_dictionary.values():\n",
    "    for k, v in subdict.items():\n",
    "        drkg_inverse_ent_dict[v]=k"
   ]
  },
  {
   "cell_type": "code",
   "execution_count": null,
   "id": "5f9b3b46",
   "metadata": {},
   "outputs": [
    {
     "data": {
      "text/plain": [
       "'5241'"
      ]
     },
     "execution_count": 99,
     "metadata": {},
     "output_type": "execute_result"
    }
   ],
   "source": [
    "dmdb_inverse_ent_dict[1000]"
   ]
  },
  {
   "cell_type": "markdown",
   "id": "acfdec8b",
   "metadata": {},
   "source": [
    "## Discovering format-defying exceptions"
   ]
  },
  {
   "cell_type": "code",
   "execution_count": null,
   "id": "8dcd7c61",
   "metadata": {},
   "outputs": [],
   "source": [
    "# TODO: How to handle exceptions\n",
    "\n",
    "def print_all_type(list,feat):\n",
    "    for l in list['nodes']:\n",
    "        print(l[feat])\n",
    "\n",
    "for entry in dmdb_yaml:\n",
    "    if entry['nodes'][0]['label'] == 'Drug' and entry['nodes'][-1]['label'] == 'Disease':\n",
    "        for idx, node in enumerate(entry['nodes']):\n",
    "            if idx == 0 or idx == (len(entry['nodes'])-1): continue\n",
    "            elif node['label'] == 'Drug' or node['label'] == 'Disease':\n",
    "                print_all_type(entry,'label')\n",
    "                print()\n",
    "    else:\n",
    "        print(\"\\t\", entry['nodes'][0]['label'], entry['nodes'][-1]['label'])\n",
    "        print()\n"
   ]
  },
  {
   "cell_type": "markdown",
   "id": "4e782de0",
   "metadata": {},
   "source": [
    "### Notes"
   ]
  },
  {
   "cell_type": "markdown",
   "id": "ea12ae76",
   "metadata": {},
   "source": [
    "        drug: Ammonium lactate\n",
    "        drug_mesh: MESH:null\n",
    "\n",
    "DrugMechDB contains both  MESH:null and null for drug_mesh, and only one null for drugbank section.\n",
    "\n",
    "        drug: tazanolast\n",
    "        drug_mesh: MESH:C106301\n",
    "        drugbank: null\n",
    "\n",
    "And only two instances of double entries in drug_mesh:\n",
    "\n",
    "        drug: acrisorcin\n",
    "        drug_mesh: MESH:D000585, MESH:D006604\n",
    "        drugbank: DB:DB11254\n",
    "\n",
    "        drug: carfilzomib\n",
    "        drug_mesh: MESH:C524865, MESH:C519125\n",
    "        drugbank: DB:DB08889"
   ]
  },
  {
   "cell_type": "code",
   "execution_count": 22,
   "id": "8717f5e5",
   "metadata": {},
   "outputs": [
    {
     "name": "stdout",
     "output_type": "stream",
     "text": [
      "3135\n",
      "24313\n",
      "\n",
      "764\n",
      "5103\n"
     ]
    }
   ],
   "source": [
    "print(len(dmdb_entity_dictionary['Drug']))\n",
    "print(len(drkg_entity_dictionary['Compound']))\n",
    "print()\n",
    "print(len(dmdb_entity_dictionary['Disease']))\n",
    "print(len(drkg_entity_dictionary['Disease']))"
   ]
  },
  {
   "cell_type": "code",
   "execution_count": 23,
   "id": "3985a962",
   "metadata": {},
   "outputs": [
    {
     "name": "stdout",
     "output_type": "stream",
     "text": [
      "MESH:D000068877\n",
      "DB02573\n",
      "\n",
      "MESH:D015464\n",
      "SARS-CoV2 E\n"
     ]
    }
   ],
   "source": [
    "def print_sample(dic, key):\n",
    "    for k,v in dic[key].items():\n",
    "        print(k)\n",
    "        break\n",
    "\n",
    "print_sample(dmdb_entity_dictionary, 'Drug')\n",
    "print_sample(drkg_entity_dictionary, 'Compound')\n",
    "print()\n",
    "print_sample(dmdb_entity_dictionary, 'Disease')\n",
    "print_sample(drkg_entity_dictionary, 'Disease')"
   ]
  },
  {
   "cell_type": "code",
   "execution_count": 25,
   "id": "ce085d04",
   "metadata": {},
   "outputs": [
    {
     "name": "stdout",
     "output_type": "stream",
     "text": [
      "null\n"
     ]
    },
    {
     "data": {
      "text/plain": [
       "4845"
      ]
     },
     "execution_count": 25,
     "metadata": {},
     "output_type": "execute_result"
    }
   ],
   "source": [
    "# 1 DrugBank ID is null\n",
    "\n",
    "cnt = 0\n",
    "for entry in dmdb_yaml:\n",
    "    elem = entry['graph']['drugbank']\n",
    "    if elem is None: \n",
    "        print(\"null\")\n",
    "        continue\n",
    "    if \"DB\" in elem:\n",
    "        cnt += 1\n",
    "cnt"
   ]
  },
  {
   "cell_type": "markdown",
   "id": "00da53ce",
   "metadata": {},
   "source": [
    "In DRKG;\n",
    "\n",
    "Compound::DB00898\n",
    "Compound::MESH:C106876      Disease::MESH:C537014\n",
    "Compound::MESH:D000588      Disease::MESH:D013274\n",
    "\n",
    "Compound::MESH:C554292|MESH:D013755\n",
    "\n",
    "\n",
    "In DMDB;\n",
    "\n",
    "drugbank: DB:DB09310\n",
    "drug_mesh: MESH:D000068877  disease_mesh: MESH:C567691\n",
    "\n",
    "drug_mesh: MESH:C524865, MESH:C519125"
   ]
  },
  {
   "cell_type": "markdown",
   "id": "0c5a1db7",
   "metadata": {},
   "source": [
    "# Drugs, Diseases, & Commons"
   ]
  },
  {
   "cell_type": "markdown",
   "id": "f39af40d",
   "metadata": {},
   "source": [
    "## Drugs"
   ]
  },
  {
   "cell_type": "code",
   "execution_count": 30,
   "id": "157690ff",
   "metadata": {},
   "outputs": [],
   "source": [
    "def insert_entry_eid(entity,ent_type,eid,dic):\n",
    "    if ent_type not in dic:\n",
    "        dic[ent_type]={}\n",
    "    ent_n_id=eid\n",
    "    if entity not in dic[ent_type]:\n",
    "        dic[ent_type][entity]=ent_n_id\n",
    "    return dic"
   ]
  },
  {
   "cell_type": "code",
   "execution_count": 31,
   "id": "2a5f01b8",
   "metadata": {},
   "outputs": [],
   "source": [
    "dmdb_drug_dict = {}\n",
    "\n",
    "for drug, eid in dmdb_entity_dictionary['Drug'].items():\n",
    "    if drug != None:\n",
    "        identifier, idx = drug.split(\":\")\n",
    "    insert_entry_eid(idx, identifier, eid, dmdb_drug_dict)"
   ]
  },
  {
   "cell_type": "code",
   "execution_count": null,
   "id": "b8da35eb",
   "metadata": {},
   "outputs": [
    {
     "data": {
      "text/plain": [
       "241"
      ]
     },
     "execution_count": 32,
     "metadata": {},
     "output_type": "execute_result"
    }
   ],
   "source": [
    "dmdb_entity_dictionary['Drug'][None]    # TODO: Not okay?"
   ]
  },
  {
   "cell_type": "code",
   "execution_count": null,
   "id": "4bc44bfb",
   "metadata": {},
   "outputs": [
    {
     "data": {
      "text/plain": [
       "0"
      ]
     },
     "execution_count": 36,
     "metadata": {},
     "output_type": "execute_result"
    }
   ],
   "source": [
    "### Quick detour - somehow None is in entities dictionary but not in any subgraphs\n",
    "count = 0\n",
    "for subgraph in dmdb_subgraph_list:\n",
    "    if 241 in subgraph['entities']:\n",
    "        count += 1\n",
    "count"
   ]
  },
  {
   "cell_type": "code",
   "execution_count": 61,
   "id": "a47cb48b",
   "metadata": {},
   "outputs": [
    {
     "name": "stdout",
     "output_type": "stream",
     "text": [
      "1556 MESH\n",
      "1577 DB\n",
      "1 CHEBI\n"
     ]
    }
   ],
   "source": [
    "for k,v in dmdb_drug_dict.items():\n",
    "    print(len(v),k)#,v)"
   ]
  },
  {
   "cell_type": "code",
   "execution_count": 34,
   "id": "92c02b00",
   "metadata": {},
   "outputs": [],
   "source": [
    "drkg_drug_dict = {}\n",
    "\n",
    "for drug,eid in drkg_entity_dictionary['Compound'].items():\n",
    "    if len(drug.split(\":\")) == 1:    # DB and CHEMBL\n",
    "        if 'DB' in drug:\n",
    "            insert_entry_eid(drug, 'DB', eid, drkg_drug_dict)\n",
    "        elif 'CHEMBL' in drug: \n",
    "            insert_entry_eid(drug, 'CHEMBL', eid, drkg_drug_dict)\n",
    "        else:\n",
    "            print(\"DEBUG Outlier with no split:\", drug)  \n",
    "    else:\n",
    "        if \"|\" in drug:       # Exceptions  --  MESH:C002480|MESH:, MESH:C011440|MESH:C046229,...\n",
    "            continue\n",
    "            # TODO: figure how to handle them appropriately\n",
    "        else:\n",
    "            identifier, idx = drug.split(\":\")\n",
    "            insert_entry_eid(idx, identifier, eid, drkg_drug_dict)"
   ]
  },
  {
   "cell_type": "code",
   "execution_count": 127,
   "id": "b432a5fd",
   "metadata": {},
   "outputs": [
    {
     "name": "stdout",
     "output_type": "stream",
     "text": [
      "10551 DB\n",
      "228 molport\n",
      "731 brenda\n",
      "51 gtopdb\n",
      "144 bindingdb\n",
      "98 pubchem\n",
      "63 zinc\n",
      "25 chebi\n",
      "23 rhea\n",
      "18 drugcentral\n",
      "2 fdasrs\n",
      "4 nmrshiftdb2\n",
      "12 hmdb\n",
      "3665 CHEMBL\n",
      "12 Bioarxivdrug\n",
      "1 pharmgkb\n",
      "7605 MESH\n",
      "1063 CHEBI\n"
     ]
    }
   ],
   "source": [
    "for k,v in drkg_drug_dict.items():\n",
    "    print(len(v),k)#,v)"
   ]
  },
  {
   "cell_type": "code",
   "execution_count": 38,
   "id": "37ffc83a",
   "metadata": {},
   "outputs": [
    {
     "name": "stdout",
     "output_type": "stream",
     "text": [
      "Number of common drugs [MESH/DB/CHEBI]: 1778 [214, 1564, 0]\n"
     ]
    }
   ],
   "source": [
    "# common_drug_set = set()\n",
    "common_drug_dict = defaultdict(tuple)\n",
    "\n",
    "counter = [0,0,0]\n",
    "for mesh_drug,dmdb_id in dmdb_drug_dict['MESH'].items():\n",
    "    if mesh_drug in drkg_drug_dict['MESH'].keys():\n",
    "        # common_drug_set.add('MESH:'+ mesh_dis)       # Re-adding identifier 'MESH:'\n",
    "        common_drug_dict['MESH:'+ mesh_drug] = (dmdb_id,drkg_drug_dict['MESH'][mesh_drug])\n",
    "        counter[0]+=1\n",
    "for db_drug,dmdb_id in dmdb_drug_dict['DB'].items():\n",
    "    if db_drug in drkg_drug_dict['DB'].keys():\n",
    "        # common_drug_set.add('DB:'+ mesh_dis)       # Re-adding identifier 'DB:'\n",
    "        common_drug_dict['DB:'+ db_drug] = (dmdb_id,drkg_drug_dict['DB'][db_drug])\n",
    "        counter[1]+=1\n",
    "for chebi_drug,dmdb_id in dmdb_drug_dict['CHEBI'].items():\n",
    "    if chebi_drug in drkg_drug_dict['CHEBI'].keys():\n",
    "        # common_drug_set.add('CHEBI:'+ mesh_dis)       # Re-adding identifier 'CHEBI:'\n",
    "        common_drug_dict['CHEBI:'+ chebi_drug] = (dmdb_id,drkg_drug_dict['CHEBI'][chebi_drug])\n",
    "        counter[2]+=1\n",
    "\n",
    "print(\"Number of common drugs [MESH/DB/CHEBI]:\", len(common_drug_dict), counter)"
   ]
  },
  {
   "cell_type": "code",
   "execution_count": 42,
   "id": "0c1b0eaf",
   "metadata": {},
   "outputs": [
    {
     "name": "stdout",
     "output_type": "stream",
     "text": [
      "Common drug name: MESH:D000658\n",
      "DrugMech entity dict ID: 60, DRKG entity dict ID: 38721\n"
     ]
    }
   ],
   "source": [
    "for k,v in common_drug_dict.items():\n",
    "    print('Common drug name:', k)\n",
    "    print(f'DrugMech entity dict ID: {v[0]}, DRKG entity dict ID: {v[1]}')\n",
    "    break"
   ]
  },
  {
   "cell_type": "code",
   "execution_count": null,
   "id": "1748be7b",
   "metadata": {},
   "outputs": [],
   "source": [
    "dmdb_to_drkg_drug_id_conv = {}      # TODO: messy\n",
    "\n",
    "for pair in common_drug_dict.values():\n",
    "    dmdb_to_drkg_drug_id_conv[pair[0]] = pair[1]"
   ]
  },
  {
   "cell_type": "markdown",
   "id": "9a3d53a0",
   "metadata": {},
   "source": [
    "## Diseases"
   ]
  },
  {
   "cell_type": "code",
   "execution_count": 43,
   "id": "6405e569",
   "metadata": {},
   "outputs": [],
   "source": [
    "dmdb_disease_dict = {}\n",
    "\n",
    "for disease, eid in dmdb_entity_dictionary['Disease'].items():\n",
    "    identifier, idx = disease.split(\":\")\n",
    "    insert_entry_eid(idx, identifier, eid, dmdb_disease_dict)"
   ]
  },
  {
   "cell_type": "code",
   "execution_count": 81,
   "id": "f6b26932",
   "metadata": {},
   "outputs": [
    {
     "name": "stdout",
     "output_type": "stream",
     "text": [
      "758 MESH\n",
      "5 DB\n",
      "1 HP\n"
     ]
    }
   ],
   "source": [
    "for k,v in dmdb_disease_dict.items():\n",
    "    print(len(v),k)#,v)"
   ]
  },
  {
   "cell_type": "code",
   "execution_count": 45,
   "id": "328ae728",
   "metadata": {},
   "outputs": [],
   "source": [
    "drkg_disease_dict = {}\n",
    "\n",
    "for disease, eid in drkg_entity_dictionary['Disease'].items():\n",
    "    if len(disease.split(\":\")) != 2:\n",
    "        insert_entry_eid(disease, 'other', eid, drkg_disease_dict)\n",
    "    else:\n",
    "        identifier, idx = disease.split(\":\")\n",
    "        insert_entry_eid(idx, identifier, eid, drkg_disease_dict)"
   ]
  },
  {
   "cell_type": "code",
   "execution_count": 82,
   "id": "3a83fae7",
   "metadata": {},
   "outputs": [
    {
     "name": "stdout",
     "output_type": "stream",
     "text": [
      "27 other\n",
      "4871 MESH\n",
      "78 OMIM\n",
      "127 DOID\n"
     ]
    }
   ],
   "source": [
    "for k,v in drkg_disease_dict.items():\n",
    "    print(len(v),k)#,v)"
   ]
  },
  {
   "cell_type": "code",
   "execution_count": 48,
   "id": "842b5a82",
   "metadata": {},
   "outputs": [
    {
     "name": "stdout",
     "output_type": "stream",
     "text": [
      "Number of common MESH diseases: 714\n"
     ]
    }
   ],
   "source": [
    "# MESH Only\n",
    "# common_disease_set = set()\n",
    "common_disease_dict = defaultdict(tuple)\n",
    "\n",
    "for mesh_dis,dmdb_id in dmdb_disease_dict['MESH'].items():\n",
    "    if mesh_dis in drkg_disease_dict['MESH'].keys():\n",
    "        # common_disease_set.add('MESH:'+ mesh_dis)       # Re-adding identifier 'MESH:'\n",
    "        common_disease_dict['MESH:'+ mesh_dis] = (dmdb_id,drkg_disease_dict['MESH'][mesh_dis])\n",
    "\n",
    "print(\"Number of common MESH diseases:\", len(common_disease_dict))"
   ]
  },
  {
   "cell_type": "code",
   "execution_count": null,
   "id": "85e90d59",
   "metadata": {},
   "outputs": [
    {
     "name": "stdout",
     "output_type": "stream",
     "text": [
      "Common disease name: MESH:D015464\n",
      "DrugMech entity dict ID: 3, DRKG entity dict ID: 25687\n"
     ]
    }
   ],
   "source": [
    "for k,v in common_disease_dict.items():\n",
    "    print('Common disease name:', k)\n",
    "    print(f'DrugMech entity dict ID: {v[0]}, DRKG entity dict ID: {v[1]}')\n",
    "    break"
   ]
  },
  {
   "cell_type": "code",
   "execution_count": 63,
   "id": "3358e208",
   "metadata": {},
   "outputs": [],
   "source": [
    "dmdb_to_drkg_disease_id_conv = {}      # TODO: messy\n",
    "\n",
    "for pair in common_disease_dict.values():\n",
    "    dmdb_to_drkg_disease_id_conv[pair[0]] = pair[1]"
   ]
  },
  {
   "cell_type": "markdown",
   "id": "80b2fbbe",
   "metadata": {},
   "source": [
    "# Common Pairs"
   ]
  },
  {
   "cell_type": "markdown",
   "id": "e28e4a65",
   "metadata": {},
   "source": [
    "## Common entities in (dmdb drug-disease) pairs"
   ]
  },
  {
   "cell_type": "code",
   "execution_count": 131,
   "id": "b094e0b4",
   "metadata": {},
   "outputs": [
    {
     "name": "stdout",
     "output_type": "stream",
     "text": [
      "Number of common drug-disease pairs (with or without relations): 4484 / 4846\n"
     ]
    }
   ],
   "source": [
    "common_ent_pairs_dict = defaultdict()\n",
    "\n",
    "for entry in dmdb_yaml:\n",
    "    graph_dict = entry['graph']\n",
    "    db_id = graph_dict['drugbank']\n",
    "    mesh_id = graph_dict['drug_mesh']\n",
    "    dis_id = graph_dict['disease_mesh']\n",
    "\n",
    "    if db_id in common_drug_dict and db_id != None:     # Drugbank ID\n",
    "        if dis_id in common_disease_dict:\n",
    "            common_ent_pairs_dict[(db_id,dis_id)] = 'DB' # = ((dmdb_drug_dict['DB'][db_id],drkg_drug_dict['DB'][db_id]),(dmdb_disease_dict['MESH'][dis_id],drkg_disease_dict['MESH'][dis_id]))\n",
    "    elif mesh_id in common_drug_dict and mesh_id != None and mesh_id != 'MESH:null':    # Drug Mesh ID  - no duplicates (Drugbank ID has priority)\n",
    "        if dis_id in common_disease_dict:\n",
    "            common_ent_pairs_dict[(mesh_id,dis_id)] = 'MESH'\n",
    "\n",
    "print(\"Number of common drug-disease pairs (with or without relations):\", len(common_ent_pairs_dict),'/',len(dmdb_yaml))"
   ]
  },
  {
   "cell_type": "markdown",
   "id": "e579804d",
   "metadata": {},
   "source": [
    "#### Testing"
   ]
  },
  {
   "cell_type": "code",
   "execution_count": 132,
   "id": "657bc89f",
   "metadata": {},
   "outputs": [
    {
     "name": "stdout",
     "output_type": "stream",
     "text": [
      "('DB:DB00619', 'MESH:D015464')\n",
      "(DRUG) DMDB Entity index, DRKG Entity index: 1 8538\n",
      "(DISEASE) DMDB Entity index, DRKG Entity index: 3 25687\n",
      "\n"
     ]
    }
   ],
   "source": [
    "# Testing reverse pair search\n",
    "for i,common_pair in enumerate(common_ent_pairs_dict.keys()):\n",
    "    print(common_pair)\n",
    "    common_drug, common_disease = common_pair\n",
    "    d_type, drug = common_drug.split(':')\n",
    "    dis_type, disease = common_disease.split(':')\n",
    "    print(\"(DRUG) DMDB Entity index, DRKG Entity index:\", dmdb_drug_dict[d_type][drug], drkg_drug_dict[d_type][drug])\n",
    "    print(\"(DISEASE) DMDB Entity index, DRKG Entity index:\", dmdb_disease_dict[dis_type][disease], drkg_disease_dict[dis_type][disease])\n",
    "    print()\n",
    "    \n",
    "    # if i == 10:\n",
    "    break"
   ]
  },
  {
   "cell_type": "code",
   "execution_count": 133,
   "id": "1b2fb45c",
   "metadata": {},
   "outputs": [
    {
     "name": "stdout",
     "output_type": "stream",
     "text": [
      "(\"Compound::DB00619\", \"Disease::MESH:D015464\"),\n"
     ]
    }
   ],
   "source": [
    "for i,common_pair in enumerate(common_ent_pairs_dict.keys()):\n",
    "    common_drug, common_disease = common_pair\n",
    "    if \"DB\" in common_drug:\n",
    "        common_drug = common_drug.split(\":\")[1]\n",
    "    print(f'(\"Compound::{common_drug}\", \"Disease::{common_disease}\"),')\n",
    "    break\n"
   ]
  },
  {
   "cell_type": "markdown",
   "id": "65b913a3",
   "metadata": {},
   "source": [
    "## Common DMDB Pairs in DRKG triplets"
   ]
  },
  {
   "cell_type": "code",
   "execution_count": 159,
   "id": "c3b0bdc9",
   "metadata": {},
   "outputs": [],
   "source": [
    "common_pairs_triplet_set = set()\n",
    "converted_pairs_set = set()\n",
    "\n",
    "for subgraph in dmdb_subgraph_list:\n",
    "    dmdb_drug_db_id, dmdb_drug_mesh_id = subgraph['drug_db_id'], subgraph['drug_mesh_id']\n",
    "    dmdb_disease_id = subgraph['disease_id']\n",
    "\n",
    "    # Translate to drkg id if available\n",
    "    if dmdb_drug_db_id in dmdb_to_drkg_drug_id_conv and dmdb_disease_id in dmdb_to_drkg_disease_id_conv:\n",
    "        drug_drkg_conv_id = dmdb_to_drkg_drug_id_conv[dmdb_drug_db_id]\n",
    "        dis_drkg_conv_id = dmdb_to_drkg_disease_id_conv[dmdb_disease_id]\n",
    "    elif dmdb_drug_mesh_id in dmdb_to_drkg_drug_id_conv and dmdb_disease_id in dmdb_to_drkg_disease_id_conv:\n",
    "        drug_drkg_conv_id = dmdb_to_drkg_drug_id_conv[dmdb_drug_mesh_id]\n",
    "        dis_drkg_conv_id = dmdb_to_drkg_disease_id_conv[dmdb_disease_id]\n",
    "    else:\n",
    "        # print('Pair does not exist in DRKG.')\n",
    "        continue\n",
    "\n",
    "    converted_pairs_set.add((drug_drkg_conv_id, dis_drkg_conv_id))\n",
    "\n",
    "# Check for common pairs\n",
    "for h, r, t in drkg_triplets_id_list:\n",
    "    if (h, t) in converted_pairs_set:\n",
    "        common_pairs_triplet_set.add((h, r, t))"
   ]
  },
  {
   "cell_type": "code",
   "execution_count": 160,
   "id": "efd424fa",
   "metadata": {},
   "outputs": [
    {
     "name": "stdout",
     "output_type": "stream",
     "text": [
      "Out of 4846 drug-disease pairs in DrugMechDB, 4312 have existing components in DRKG,      \n",
      "but only 2901 total existing relations in DRKG.\n"
     ]
    }
   ],
   "source": [
    "print(f\"Out of {len(dmdb_subgraph_list)} drug-disease pairs in DrugMechDB, {len(converted_pairs_set)} have existing components in DRKG,\\\n",
    "      \\nbut only {len(common_pairs_triplet_set)} total existing relations in DRKG.\")\n"
   ]
  },
  {
   "cell_type": "code",
   "execution_count": null,
   "id": "eac97805",
   "metadata": {},
   "outputs": [
    {
     "name": "stdout",
     "output_type": "stream",
     "text": [
      "Number of reoccuring DrugMech pairs in DRKG: 693\n"
     ]
    }
   ],
   "source": [
    "common_pairs_dict = {}\n",
    "converted_pairs_dict = {}\n",
    "converted_pairs_set = set()\n",
    "\n",
    "for subgraph in dmdb_subgraph_list:\n",
    "    dmdb_drug_db_id, dmdb_drug_mesh_id = subgraph['drug_db_id'], subgraph['drug_mesh_id']\n",
    "    dmdb_disease_id = subgraph['disease_id']\n",
    "    subgraph_id = subgraph['subgraph_id']\n",
    "\n",
    "    # Translate to drkg id if available\n",
    "    if dmdb_drug_db_id in dmdb_to_drkg_drug_id_conv and dmdb_disease_id in dmdb_to_drkg_disease_id_conv:\n",
    "        drug_drkg_conv_id = dmdb_to_drkg_drug_id_conv[dmdb_drug_db_id]\n",
    "        dis_drkg_conv_id = dmdb_to_drkg_disease_id_conv[dmdb_disease_id]\n",
    "    elif dmdb_drug_mesh_id in dmdb_to_drkg_drug_id_conv and dmdb_disease_id in dmdb_to_drkg_disease_id_conv:\n",
    "        drug_drkg_conv_id = dmdb_to_drkg_drug_id_conv[dmdb_drug_mesh_id]\n",
    "        dis_drkg_conv_id = dmdb_to_drkg_disease_id_conv[dmdb_disease_id]\n",
    "    else:\n",
    "        # print('Pair does not exist in DRKG.')\n",
    "        continue\n",
    "\n",
    "    converted_pairs_set.add((drug_drkg_conv_id, dis_drkg_conv_id))\n",
    "    converted_pairs_dict[(drug_drkg_conv_id, dis_drkg_conv_id)] = subgraph_id\n",
    "\n",
    "# Check for common pairs\n",
    "cnt=0\n",
    "for h, r, t in drkg_triplets_id_list:\n",
    "    if (h, t) in converted_pairs_set:\n",
    "        if (h,t) in common_pairs_dict:\n",
    "            common_pairs_dict[(h,t)] += (h, r, t)\n",
    "            cnt+=1\n",
    "        else:\n",
    "            common_pairs_dict[(h,t)] = (h, r, t)\n",
    "            \n",
    "print(\"Number of reoccuring DrugMech pairs in DRKG:\", cnt)\n"
   ]
  },
  {
   "cell_type": "code",
   "execution_count": 155,
   "id": "f8c88858",
   "metadata": {},
   "outputs": [],
   "source": [
    "uncommon_pairs_dict = {}\n",
    "'''dmdb pairs that exist in drkg without relation. Dictionary format: dict[(pair in drkg ID)] = (pair in names)'''\n",
    "\n",
    "for dm_pair in common_ent_pairs_dict.keys():\n",
    "    # translate dmdb pair to drkg ids\n",
    "    dm_h, dm_t = dm_pair\n",
    "    if 'DB' in dm_h:\n",
    "        dm_h = dm_h.split(':')[-1]  #DB:DB00619 to DB00619\n",
    "    dr_h = find_drkg_entity_id('Compound::'+ dm_h)\n",
    "    dr_t = find_drkg_entity_id('Disease::'+ dm_t)\n",
    "    dr_pair = (dr_h,dr_t)\n",
    "    if dr_pair not in common_pairs_dict:\n",
    "        uncommon_pairs_dict[dr_pair] = (dm_h,dm_t)\n",
    "     "
   ]
  },
  {
   "cell_type": "code",
   "execution_count": 158,
   "id": "3c9f8367",
   "metadata": {},
   "outputs": [
    {
     "data": {
      "text/plain": [
       "'4484 - 2208 = 2276'"
      ]
     },
     "execution_count": 158,
     "metadata": {},
     "output_type": "execute_result"
    }
   ],
   "source": [
    "f\"{len(common_ent_pairs_dict)} - {len(common_pairs_dict)} = {len(common_ent_pairs_dict) - len(common_pairs_dict)}\""
   ]
  },
  {
   "cell_type": "code",
   "execution_count": 156,
   "id": "b84e4274",
   "metadata": {},
   "outputs": [
    {
     "name": "stdout",
     "output_type": "stream",
     "text": [
      "Out of 4846 drug-disease pairs in DrugMechDB, 4312 have existing components in DRKG,      \n",
      "but only 2208 have existing relations between them in DRKG. 2276 pairs are common without relations in DRKG.\n"
     ]
    }
   ],
   "source": [
    "print(f\"Out of {len(dmdb_subgraph_list)} drug-disease pairs in DrugMechDB, {len(converted_pairs_dict)} have existing components in DRKG,\\\n",
    "      \\nbut only {len(common_pairs_dict)} have existing relations between them in DRKG. {len(uncommon_pairs_dict)} pairs are common without relations in DRKG.\")"
   ]
  },
  {
   "cell_type": "markdown",
   "id": "abef7e14",
   "metadata": {},
   "source": [
    "**Only exceptions in pair recurrence (other than 24-35: DRUGBANK::treats -> GNBR::T)**\n",
    "\n",
    "New pair: *DB00564 GNBR::T::Compound:Disease MESH:D012640 35*\n",
    "\n",
    "Previous pair: *DB00564 DRUGBANK::treats::Compound:Disease MESH:D012640 24*\n",
    "\n",
    "**Above is an example standard reoccurence (686 instances of 24-35, 7 exceptions)...**\n",
    "\n",
    "DB00945 GNBR::Pa::Compound:Disease MESH:D010146 -\n",
    "DB00945 GNBR::T::Compound:Disease MESH:D010146\n",
    "\n",
    "\n",
    "DB00443 GNBR::Sa::Compound:Disease MESH:D000312 -\n",
    "DB00443 DRUGBANK::treats::Compound:Disease MESH:D000312\n",
    "\n",
    "\n",
    "DB00741 GNBR::J::Compound:Disease MESH:D013167 - \n",
    "DB00741 DRUGBANK::treats::Compound:Disease MESH:D013167\n",
    "\n",
    "DB01064 GNBR::Sa::Compound:Disease MESH:D006323 - \n",
    "DB01064 DRUGBANK::treats::Compound:Disease MESH:D006323\n",
    "\n",
    "DB00959 GNBR::Sa::Compound:Disease MESH:D013585 -\n",
    "DB00959 DRUGBANK::treats::Compound:Disease MESH:D013585\n",
    "\n",
    "DB00943 GNBR::T::Compound:Disease MESH:D015658 -\n",
    "DB00943 GNBR::Pa::Compound:Disease MESH:D015658\n",
    "\n",
    "DB00091 GNBR::T::Compound:Disease MESH:D007638 -\n",
    "DB00091 GNBR::Sa::Compound:Disease MESH:D007638"
   ]
  },
  {
   "cell_type": "code",
   "execution_count": null,
   "id": "7b01a130",
   "metadata": {},
   "outputs": [
    {
     "data": {
      "text/plain": [
       "[2901, 2276]"
      ]
     },
     "execution_count": 162,
     "metadata": {},
     "output_type": "execute_result"
    }
   ],
   "source": [
    "# Inefficient loops for testing purposes\n",
    "# count = [0,0]\n",
    "# for dm_pair in common_ent_pairs_dict.keys():\n",
    "#     dm_h, dm_t = dm_pair\n",
    "#     if 'DB' in dm_h:\n",
    "#         dm_h = dm_h.split(':')[-1]  #DB:DB00619 to DB00619\n",
    "#     dr_h = find_drkg_entity_id('Compound::'+ dm_h)\n",
    "#     dr_t = find_drkg_entity_id('Disease::'+ dm_t)\n",
    "\n",
    "#     found = 0\n",
    "#     for triplet in common_pairs_triplet_set:\n",
    "#         h,r,t = triplet\n",
    "#         if dr_h == h and dr_t == t:\n",
    "#             # common entities in drkg as a pair\n",
    "#             count[0] += 1\n",
    "#             found = 1\n",
    "#     if not found:\n",
    "#         # common entities not as pair (\"uncommon pair\")\n",
    "#         count[1] += 1\n",
    "# count\n",
    "\n",
    "# Returns: [2901, 2276]"
   ]
  },
  {
   "cell_type": "code",
   "execution_count": null,
   "id": "fc269c01",
   "metadata": {},
   "outputs": [],
   "source": [
    "# Store all common drug-disease pairs in a .txt (encrypted in DRKG ID)"
   ]
  }
 ],
 "metadata": {
  "kernelspec": {
   "display_name": "analysis-env",
   "language": "python",
   "name": "python3"
  },
  "language_info": {
   "codemirror_mode": {
    "name": "ipython",
    "version": 3
   },
   "file_extension": ".py",
   "mimetype": "text/x-python",
   "name": "python",
   "nbconvert_exporter": "python",
   "pygments_lexer": "ipython3",
   "version": "3.13.5"
  }
 },
 "nbformat": 4,
 "nbformat_minor": 5
}
