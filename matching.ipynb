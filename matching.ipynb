{
 "cells": [
  {
   "cell_type": "code",
   "execution_count": 2,
   "id": "8e58faba",
   "metadata": {},
   "outputs": [],
   "source": [
    "import numpy as np\n",
    "import pandas as pd\n",
    "import os\n",
    "\n",
    "import csv\n",
    "import yaml\n",
    "\n",
    "from rdflib import Graph, Literal, RDF, URIRef\n",
    "from rdflib.namespace import Namespace\n",
    "\n",
    "from tqdm import tqdm\n",
    "from collections import defaultdict"
   ]
  },
  {
   "cell_type": "markdown",
   "id": "90416473",
   "metadata": {},
   "source": [
    "### DRKG Import"
   ]
  },
  {
   "cell_type": "code",
   "execution_count": 3,
   "id": "62b05300",
   "metadata": {},
   "outputs": [],
   "source": [
    "drkg_file = 'data/drkg/drkg.tsv'\n",
    "drkg_df = pd.read_csv(drkg_file, sep=\"\\t\", header=None)     # header fix to original code\n",
    "drkg_triplets_list = drkg_df.values.tolist()"
   ]
  },
  {
   "cell_type": "markdown",
   "id": "9d65a170",
   "metadata": {},
   "source": [
    "### DrugMechDB Import"
   ]
  },
  {
   "cell_type": "code",
   "execution_count": 4,
   "id": "1cc1ab52",
   "metadata": {},
   "outputs": [],
   "source": [
    "drugmech_path = \"data/drugmech/drugmechdb.yaml\"\n",
    "\n",
    "with open(drugmech_path, 'r') as fh:\n",
    "        dmdb_yaml = yaml.safe_load(fh)"
   ]
  },
  {
   "cell_type": "code",
   "execution_count": 4,
   "id": "17d2fc57",
   "metadata": {},
   "outputs": [],
   "source": [
    "# from dmdb_data_tools_analysis import *\n",
    "\n",
    "# all_metapath_nodes = get_metapath_node(dmdb_yaml)\n",
    "# all_metapath_edges = get_metapath_edges(dmdb_yaml)\n",
    "# basic_stats = defaultdict(list)\n",
    "\n",
    "# all_metaedges = []\n",
    "# all_parings = []\n",
    "# all_targets = []\n",
    "# unique_metaedges = []\n",
    "# first_edge_type = []\n",
    "# all_nodes = []\n",
    "\n",
    "# id_to_name = {}\n",
    "# id_to_label = {}\n",
    "\n",
    "# for i, p in enumerate(dmdb_yaml):\n",
    "#     _id = (p[\"graph\"][\"_id\"])\n",
    "#     drug_id, dis_id = path_to_tup(p)\n",
    "#     paths = get_all_paths(p)\n",
    "#     G = path_to_G(p)\n",
    "    \n",
    "#     G = add_metaedges(G)\n",
    "#     G = add_meanode_pairs(G)\n",
    "    \n",
    "#     basic_stats['idx'].append(i) #index\n",
    "#     basic_stats['id'].append(p['graph']['_id']) #DrugMechDB id\n",
    "#     basic_stats['drug'].append(drug_id) #Drug id\n",
    "#     basic_stats['disease'].append(dis_id)#Disease id\n",
    "#     basic_stats['nodes'].append((G.nodes)) #nodes in metapath\n",
    "#     basic_stats['n_nodes'].append(len(G.nodes)) # number of nodes in metapath\n",
    "#     basic_stats['n_edges'].append(len(G.edges)) #number of edges in metapath\n",
    "#     basic_stats['n_paths'].append(len(all_metapath_nodes[_id])) #number of paths\n",
    "#     basic_stats['metapath'].append(all_metapath_nodes[_id])\n",
    "#     basic_stats['metapath_with_edges'].append(all_metapath_edges[_id])\n",
    "\n",
    "    \n",
    "#     this_metaedges = [G.edges[e]['metaedge'] for e in G.edges]\n",
    "    \n",
    "#     all_metaedges += this_metaedges\n",
    "#     unique_metaedges += list(set(this_metaedges))\n",
    "    \n",
    "#     all_parings += [G.edges[e]['mn_pair'] for e in G.edges]\n",
    "#     all_targets += get_targets(G)\n",
    "#     first_edge_type += get_target_metaedges(G)\n",
    "#     all_nodes += list(G.nodes)\n",
    "    \n",
    "#     id_to_label = {**id_to_label, **get_id_to_type(G)}\n",
    "#     id_to_name = {**id_to_name, **get_id_to_name(G)}\n",
    "    \n",
    "# dmdb_df = pd.DataFrame(basic_stats)"
   ]
  },
  {
   "cell_type": "markdown",
   "id": "6f4cf738",
   "metadata": {},
   "source": [
    "<!-- ### DruugMechDB Import -->"
   ]
  },
  {
   "cell_type": "markdown",
   "id": "3635609f",
   "metadata": {},
   "source": [
    "## Entity Dictionaries"
   ]
  },
  {
   "cell_type": "markdown",
   "id": "4c8476bf",
   "metadata": {},
   "source": [
    "### DRKG"
   ]
  },
  {
   "cell_type": "code",
   "execution_count": null,
   "id": "aee0998a",
   "metadata": {},
   "outputs": [],
   "source": [
    "def insert_entry(entry, ntype, dic):\n",
    "    if ntype not in dic:\n",
    "        dic[ntype] = {}\n",
    "    node_id = len(dic[ntype])\n",
    "    if entry not in dic[ntype]:\n",
    "         dic[ntype][entry] = node_id\n",
    "    return dic"
   ]
  },
  {
   "cell_type": "code",
   "execution_count": 15,
   "id": "c07fd291",
   "metadata": {},
   "outputs": [],
   "source": [
    "def insert_pred(entry, dic):\n",
    "    # if ntype not in dic:\n",
    "    #     dic[ntype] = {}\n",
    "    # node_id = len(dic[ntype])\n",
    "    node_id = len(dic)\n",
    "    if entry not in dic.keys():\n",
    "         dic[entry] = node_id\n",
    "    return dic"
   ]
  },
  {
   "cell_type": "code",
   "execution_count": 16,
   "id": "086e3e6a",
   "metadata": {},
   "outputs": [],
   "source": [
    "def insert_entry_unique_ID(entity,ent_type,dic,total_count):\n",
    "    if ent_type not in dic:\n",
    "        dic[ent_type]={}\n",
    "    # ent_n_id=len(dic[ent_type])\n",
    "    if entity not in dic[ent_type]:\n",
    "        dic[ent_type][entity]= total_count # + ent_n_id\n",
    "        total_count+=1\n",
    "    return dic, total_count"
   ]
  },
  {
   "cell_type": "code",
   "execution_count": null,
   "id": "eede9b6a",
   "metadata": {},
   "outputs": [],
   "source": [
    "drkg_entity_dictionary={}\n",
    "e_total_count = 0\n",
    "\n",
    "drkg_predicate_dictionary={}\n",
    "\n",
    "drkg_triplets_id_list=[]\n",
    "\n",
    "def find_drkg_entity_id(entity='Gene::2157'):\n",
    "    etype, e_name = entity.split('::')\n",
    "    return drkg_entity_dictionary[etype][e_name]\n",
    "\n",
    "def find_drkg_entity_name(entity_id=0):\n",
    "    for ent_dict in drkg_entity_dictionary.values():\n",
    "        if entity_id in ent_dict.values():\n",
    "            for e_name, id in ent_dict.items():\n",
    "                if id == entity_id:\n",
    "                    return e_name\n",
    "                \n",
    "def find_drkg_pred_name(pred_id=42):\n",
    "    for p_name,p_id in drkg_predicate_dictionary.items():\n",
    "        if p_id == pred_id:\n",
    "            return p_name\n",
    "   \n",
    "\n",
    "for triple in drkg_triplets_list:\n",
    "    e_head,pred,e_tail = triple\n",
    "\n",
    "    head_type, head = e_head.split('::')\n",
    "    tail_type, tail = e_tail.split('::')\n",
    "    drkg_entity_dictionary,e_total_count = insert_entry_unique_ID(head,head_type,drkg_entity_dictionary,e_total_count)\n",
    "    drkg_entity_dictionary,e_total_count = insert_entry_unique_ID(tail,tail_type,drkg_entity_dictionary,e_total_count)\n",
    "\n",
    "    drkg_predicate_dictionary = insert_pred(pred,drkg_predicate_dictionary)\n",
    "\n",
    "    drkg_triplets_id_list.append((find_drkg_entity_id(e_head),drkg_predicate_dictionary[pred],find_drkg_entity_id(e_tail)))\n",
    "    "
   ]
  },
  {
   "cell_type": "code",
   "execution_count": null,
   "id": "3208d57a",
   "metadata": {},
   "outputs": [],
   "source": [
    "tmep_set = set()\n",
    "\n",
    "for trip in drkg_triplets_id_list:\n",
    "    h,p,t = trip\n",
    "    if p in tmep_set: continue\n",
    "    print(trip)\n",
    "    tmep_set.add(p) \n",
    "    # if h == t:\n",
    "    #     print(trip)"
   ]
  },
  {
   "cell_type": "code",
   "execution_count": null,
   "id": "62e764a7",
   "metadata": {},
   "outputs": [
    {
     "name": "stdout",
     "output_type": "stream",
     "text": [
      "39220 Gene\n",
      "24313 Compound\n",
      "5103 Disease\n",
      "4048 Atc\n",
      "215 Tax\n",
      "11381 Biological Process\n",
      "415 Symptom\n",
      "400 Anatomy\n",
      "2884 Molecular Function\n",
      "345 Pharmacologic Class\n",
      "1391 Cellular Component\n",
      "1822 Pathway\n",
      "5701 Side Effect\n"
     ]
    }
   ],
   "source": [
    "for k,v in drkg_entity_dictionary.items():\n",
    "    print(len(v),k)#,v),"
   ]
  },
  {
   "cell_type": "markdown",
   "id": "48f81391",
   "metadata": {},
   "source": [
    "DrugMechDB Note: There are 52 entries where drug_mesh ID exists but is not used, instead DB id was used in links and nodes"
   ]
  },
  {
   "cell_type": "markdown",
   "id": "93b1abc8",
   "metadata": {},
   "source": [
    "### DrugMechDB"
   ]
  },
  {
   "cell_type": "code",
   "execution_count": 23,
   "id": "007dd0ca",
   "metadata": {},
   "outputs": [],
   "source": [
    "dmdb_entity_dictionary = {}\n",
    "e_total_count = 0\n",
    "\n",
    "dmdb_predicate_dictionary = {}\n",
    "\n",
    "# dmdb_triplet_dictionary = {}\n",
    "dmdb_subgraph_list = []\n",
    "\n",
    "def find_dmdb_entity_id(entity='MESH:D000068877'):\n",
    "    for ent_dict in dmdb_entity_dictionary.values():\n",
    "        if entity in ent_dict:\n",
    "            return ent_dict[entity]\n",
    "\n",
    "def find_dmdb_entity_name(entity_id=241):\n",
    "    for ent_dict in dmdb_entity_dictionary.values():\n",
    "        for e_name, id in ent_dict.items():\n",
    "            if id == entity_id:\n",
    "                return e_name\n",
    "            \n",
    "def find_dmdb_pred_id(pred='treats'):\n",
    "    return dmdb_predicate_dictionary[pred]\n",
    "\n",
    "def find_dmdb_pred_name(pred_id=4):         # TODO: separate in a utils.py (although these make more sense as a class function)\n",
    "    for p_name,p_id in dmdb_predicate_dictionary.items():\n",
    "        if p_id == pred_id:\n",
    "            return p_name\n",
    "\n",
    "def calculate_all_paths(triplet_set, start_id):\n",
    "    map = {}\n",
    "    for u,p,v in triplet_set:\n",
    "        if u not in map:\n",
    "            map[u]  = []\n",
    "        map[u].append(v)\n",
    "    path_log = {}\n",
    "\n",
    "    def dfs(u, seen):\n",
    "        if u in seen: return []                # break\n",
    "        if u in path_log: return path_log[u]\n",
    "        neighbors = map.get(u, ())\n",
    "        if not neighbors:                      # no path left\n",
    "            path_log[u] = [(u,)]\n",
    "            return path_log[u]\n",
    "        paths = []\n",
    "        for v in neighbors:                    # exploration here\n",
    "            for p in dfs(v, seen | {u}):       # seen-union-{u}\n",
    "                paths.append((u,) + p)\n",
    "        path_log[u] = paths\n",
    "        return paths\n",
    "\n",
    "    return [list(path) for path in dfs(start_id, set())]\n",
    "\n",
    "\n",
    "for entry in dmdb_yaml:\n",
    "    dbg_flag = 0\n",
    "    drug_db = entry['graph']['drugbank']\n",
    "    drug_mesh = entry['graph']['drug_mesh']       ## will be checking for null\n",
    "    disease_mesh = entry['graph']['disease_mesh']\n",
    "\n",
    "    is_mesh = False\n",
    "\n",
    "    for node in entry['nodes']:     # Fill entity dictionary\n",
    "        ent_id = node['id']\n",
    "        ent_type = node['label']\n",
    "        dmdb_entity_dictionary, e_total_count = insert_entry_unique_ID(ent_id,ent_type,dmdb_entity_dictionary,e_total_count)\n",
    "        \n",
    "        if drug_mesh is not None and ent_id == drug_mesh:   # if drug MESH used in links, add drug_db id separately\n",
    "            dmdb_entity_dictionary, e_total_count = insert_entry_unique_ID(drug_db,ent_type,dmdb_entity_dictionary,e_total_count)\n",
    "            \n",
    "            is_mesh = True\n",
    "\n",
    "    drug_id = find_dmdb_entity_id(drug_mesh) if is_mesh else find_dmdb_entity_id(drug_db)\n",
    "\n",
    "    triplet_list = []\n",
    "    entity_set = set()\n",
    "    for triplet in entry['links']:  # Fill triplet dictionary\n",
    "        src = triplet['source']\n",
    "        dest = triplet['target']\n",
    "        src_id, dest_id = find_dmdb_entity_id(src), find_dmdb_entity_id(dest)\n",
    "        pred = triplet['key']\n",
    "        dmdb_predicate_dictionary = insert_pred(pred,dmdb_predicate_dictionary)\n",
    "        pred_id = dmdb_predicate_dictionary[pred]\n",
    "        triplet_list.append((src_id, pred_id, dest_id))\n",
    "        entity_set.add(src_id)\n",
    "        entity_set.add(dest_id)\n",
    "        # pred_set.add(pred_id)\n",
    "    \n",
    "    paths = calculate_all_paths(triplet_list,start_id=drug_id)\n",
    "    longest_path = max(paths, key=len)\n",
    "    dict_entry = {'subgraph_id': len(dmdb_subgraph_list), \n",
    "                  #'subgraph_id': len(dmdb_triplet_dictionary),\n",
    "                    'drug_id': drug_id,\n",
    "                    'drug_db_id': find_dmdb_entity_id(drug_db),\n",
    "                    'drug_mesh_id': find_dmdb_entity_id(drug_mesh),\n",
    "                    'disease_id': find_dmdb_entity_id(disease_mesh),\n",
    "                    'triplets': triplet_list,\n",
    "                    'entities': entity_set,\n",
    "                    'paths': paths,\n",
    "                    'longest_path': longest_path,\n",
    "                    'longest_path_length': len(longest_path)\n",
    "                }\n",
    "    dmdb_subgraph_list.append(dict_entry)\n"
   ]
  },
  {
   "cell_type": "code",
   "execution_count": 24,
   "id": "6fd258c4",
   "metadata": {},
   "outputs": [
    {
     "name": "stdout",
     "output_type": "stream",
     "text": [
      "[5, 4, 3, 2, 1, 0]\n"
     ]
    }
   ],
   "source": [
    "def a(): # wow useful\n",
    "    a = []\n",
    "\n",
    "    def b(n):\n",
    "        a.append(n)\n",
    "        n = n-1\n",
    "        if n == -1:\n",
    "            return\n",
    "        return b(n)    \n",
    "    b(5)\n",
    "    print(a)\n",
    "a()"
   ]
  },
  {
   "cell_type": "code",
   "execution_count": 25,
   "id": "f1e55344",
   "metadata": {},
   "outputs": [
    {
     "name": "stdout",
     "output_type": "stream",
     "text": [
      "3135 Drug\n",
      "788 Protein\n",
      "764 Disease\n",
      "694 BiologicalProcess\n",
      "360 ChemicalSubstance\n",
      "81 Pathway\n",
      "122 GrossAnatomicalStructure\n",
      "98 MolecularActivity\n",
      "166 OrganismTaxon\n",
      "137 GeneFamily\n",
      "45 CellularComponent\n",
      "274 PhenotypicFeature\n",
      "37 Cell\n",
      "2 MacromolecularComplex\n"
     ]
    }
   ],
   "source": [
    "for k,v in dmdb_entity_dictionary.items():\n",
    "    print(len(v),k)#,v)"
   ]
  },
  {
   "cell_type": "code",
   "execution_count": 29,
   "id": "7d3c5b91",
   "metadata": {},
   "outputs": [
    {
     "name": "stdout",
     "output_type": "stream",
     "text": [
      "subgraph_id 3500\n",
      "drug_id 6201\n",
      "drug_db_id 6202\n",
      "drug_mesh_id 6201\n",
      "disease_id 677\n",
      "triplets [(6201, 0, 965), (965, 2, 1061), (965, 15, 2329), (1061, 24, 676), (2329, 24, 676), (676, 1, 677)]\n",
      "entities {676, 1061, 965, 2329, 677, 6201}\n",
      "paths [[6201, 965, 1061, 676, 677], [6201, 965, 2329, 676, 677]]\n",
      "longest_path [6201, 965, 1061, 676, 677]\n",
      "longest_path_length 5\n",
      "\n",
      "Number of total paths 2\n"
     ]
    }
   ],
   "source": [
    "for k,v in dmdb_subgraph_list[3500].items():\n",
    "    print(k,v)\n",
    "\n",
    "print('\\nNumber of total paths', len(dmdb_subgraph_list[3500]['paths']))"
   ]
  },
  {
   "cell_type": "code",
   "execution_count": 27,
   "id": "25cb2fed",
   "metadata": {},
   "outputs": [
    {
     "data": {
      "text/plain": [
       "'MESH:C578009'"
      ]
     },
     "execution_count": 27,
     "metadata": {},
     "output_type": "execute_result"
    }
   ],
   "source": [
    "find_dmdb_entity_name(6201)"
   ]
  },
  {
   "cell_type": "code",
   "execution_count": 28,
   "id": "6e07f501",
   "metadata": {},
   "outputs": [
    {
     "data": {
      "text/plain": [
       "6201"
      ]
     },
     "execution_count": 28,
     "metadata": {},
     "output_type": "execute_result"
    }
   ],
   "source": [
    "find_dmdb_entity_id('MESH:C578009')"
   ]
  },
  {
   "cell_type": "markdown",
   "id": "ed91d758",
   "metadata": {},
   "source": [
    "### Inverse Dicts for Entity Search "
   ]
  },
  {
   "cell_type": "code",
   "execution_count": 96,
   "id": "33174cfb",
   "metadata": {},
   "outputs": [],
   "source": [
    "#dmdb_inv_ent_dict = {v: k for k, v in dmdb_entity_dictionary.items()}\n",
    "dmdb_inverse_ent_dict = {}\n",
    "for subdict in dmdb_entity_dictionary.values():\n",
    "    for k, v in subdict.items():\n",
    "        dmdb_inverse_ent_dict[v]=k\n",
    "\n",
    "\n",
    "#drkg_inv_ent_dict = {v: k for k, v in drkg_entity_dictionary.items()}\n",
    "drkg_inverse_ent_dict = {}\n",
    "for subdict in drkg_entity_dictionary.values():\n",
    "    for k, v in subdict.items():\n",
    "        drkg_inverse_ent_dict[v]=k"
   ]
  },
  {
   "cell_type": "code",
   "execution_count": null,
   "id": "5f9b3b46",
   "metadata": {},
   "outputs": [
    {
     "data": {
      "text/plain": [
       "'5241'"
      ]
     },
     "execution_count": 99,
     "metadata": {},
     "output_type": "execute_result"
    }
   ],
   "source": [
    "dmdb_inverse_ent_dict[1000]"
   ]
  },
  {
   "cell_type": "markdown",
   "id": "acfdec8b",
   "metadata": {},
   "source": [
    "## Discovering format-defying exceptions"
   ]
  },
  {
   "cell_type": "code",
   "execution_count": null,
   "id": "8dcd7c61",
   "metadata": {},
   "outputs": [],
   "source": [
    "# TODO: How to handle exceptions\n",
    "\n",
    "def print_all_type(list,feat):\n",
    "    for l in list['nodes']:\n",
    "        print(l[feat])\n",
    "\n",
    "for entry in dmdb_yaml:\n",
    "    if entry['nodes'][0]['label'] == 'Drug' and entry['nodes'][-1]['label'] == 'Disease':\n",
    "        for idx, node in enumerate(entry['nodes']):\n",
    "            if idx == 0 or idx == (len(entry['nodes'])-1): continue\n",
    "            elif node['label'] == 'Drug' or node['label'] == 'Disease':\n",
    "                print_all_type(entry,'label')\n",
    "                print()\n",
    "    else:\n",
    "        print(\"\\t\", entry['nodes'][0]['label'], entry['nodes'][-1]['label'])\n",
    "        print()\n"
   ]
  },
  {
   "cell_type": "markdown",
   "id": "4e782de0",
   "metadata": {},
   "source": [
    "### Notes"
   ]
  },
  {
   "cell_type": "markdown",
   "id": "ea12ae76",
   "metadata": {},
   "source": [
    "        drug: Ammonium lactate\n",
    "        drug_mesh: MESH:null\n",
    "\n",
    "DrugMechDB contains both  MESH:null and null for drug_mesh, and only one null for drugbank section.\n",
    "\n",
    "        drug: tazanolast\n",
    "        drug_mesh: MESH:C106301\n",
    "        drugbank: null\n",
    "\n",
    "And only two instances of double entries in drug_mesh:\n",
    "\n",
    "        drug: acrisorcin\n",
    "        drug_mesh: MESH:D000585, MESH:D006604\n",
    "        drugbank: DB:DB11254\n",
    "\n",
    "        drug: carfilzomib\n",
    "        drug_mesh: MESH:C524865, MESH:C519125\n",
    "        drugbank: DB:DB08889"
   ]
  },
  {
   "cell_type": "code",
   "execution_count": 22,
   "id": "8717f5e5",
   "metadata": {},
   "outputs": [
    {
     "name": "stdout",
     "output_type": "stream",
     "text": [
      "3135\n",
      "24313\n",
      "\n",
      "764\n",
      "5103\n"
     ]
    }
   ],
   "source": [
    "print(len(dmdb_entity_dictionary['Drug']))\n",
    "print(len(drkg_entity_dictionary['Compound']))\n",
    "print()\n",
    "print(len(dmdb_entity_dictionary['Disease']))\n",
    "print(len(drkg_entity_dictionary['Disease']))"
   ]
  },
  {
   "cell_type": "code",
   "execution_count": 23,
   "id": "3985a962",
   "metadata": {},
   "outputs": [
    {
     "name": "stdout",
     "output_type": "stream",
     "text": [
      "MESH:D000068877\n",
      "DB02573\n",
      "\n",
      "MESH:D015464\n",
      "SARS-CoV2 E\n"
     ]
    }
   ],
   "source": [
    "def print_sample(dic, key):\n",
    "    for k,v in dic[key].items():\n",
    "        print(k)\n",
    "        break\n",
    "\n",
    "print_sample(dmdb_entity_dictionary, 'Drug')\n",
    "print_sample(drkg_entity_dictionary, 'Compound')\n",
    "print()\n",
    "print_sample(dmdb_entity_dictionary, 'Disease')\n",
    "print_sample(drkg_entity_dictionary, 'Disease')"
   ]
  },
  {
   "cell_type": "code",
   "execution_count": 25,
   "id": "ce085d04",
   "metadata": {},
   "outputs": [
    {
     "name": "stdout",
     "output_type": "stream",
     "text": [
      "null\n"
     ]
    },
    {
     "data": {
      "text/plain": [
       "4845"
      ]
     },
     "execution_count": 25,
     "metadata": {},
     "output_type": "execute_result"
    }
   ],
   "source": [
    "# 1 DrugBank ID is null\n",
    "\n",
    "cnt = 0\n",
    "for entry in dmdb_yaml:\n",
    "    elem = entry['graph']['drugbank']\n",
    "    if elem is None: \n",
    "        print(\"null\")\n",
    "        continue\n",
    "    if \"DB\" in elem:\n",
    "        cnt += 1\n",
    "cnt"
   ]
  },
  {
   "cell_type": "markdown",
   "id": "00da53ce",
   "metadata": {},
   "source": [
    "In DRKG;\n",
    "\n",
    "Compound::DB00898\n",
    "Compound::MESH:C106876      Disease::MESH:C537014\n",
    "Compound::MESH:D000588      Disease::MESH:D013274\n",
    "\n",
    "Compound::MESH:C554292|MESH:D013755\n",
    "\n",
    "\n",
    "In DMDB;\n",
    "\n",
    "drugbank: DB:DB09310\n",
    "drug_mesh: MESH:D000068877  disease_mesh: MESH:C567691\n",
    "\n",
    "drug_mesh: MESH:C524865, MESH:C519125"
   ]
  },
  {
   "cell_type": "markdown",
   "id": "0c5a1db7",
   "metadata": {},
   "source": [
    "# Drugs, Diseases, & Commons"
   ]
  },
  {
   "cell_type": "markdown",
   "id": "f39af40d",
   "metadata": {},
   "source": [
    "## Drugs"
   ]
  },
  {
   "cell_type": "code",
   "execution_count": 30,
   "id": "157690ff",
   "metadata": {},
   "outputs": [],
   "source": [
    "def insert_entry_eid(entity,ent_type,eid,dic):\n",
    "    if ent_type not in dic:\n",
    "        dic[ent_type]={}\n",
    "    ent_n_id=eid\n",
    "    if entity not in dic[ent_type]:\n",
    "        dic[ent_type][entity]=ent_n_id\n",
    "    return dic"
   ]
  },
  {
   "cell_type": "code",
   "execution_count": 31,
   "id": "2a5f01b8",
   "metadata": {},
   "outputs": [],
   "source": [
    "dmdb_drug_dict = {}\n",
    "\n",
    "for drug, eid in dmdb_entity_dictionary['Drug'].items():\n",
    "    if drug != None:\n",
    "        identifier, idx = drug.split(\":\")\n",
    "    insert_entry_eid(idx, identifier, eid, dmdb_drug_dict)"
   ]
  },
  {
   "cell_type": "code",
   "execution_count": null,
   "id": "b8da35eb",
   "metadata": {},
   "outputs": [
    {
     "data": {
      "text/plain": [
       "241"
      ]
     },
     "execution_count": 32,
     "metadata": {},
     "output_type": "execute_result"
    }
   ],
   "source": [
    "dmdb_entity_dictionary['Drug'][None]    # TODO: Not okay"
   ]
  },
  {
   "cell_type": "code",
   "execution_count": null,
   "id": "4bc44bfb",
   "metadata": {},
   "outputs": [
    {
     "data": {
      "text/plain": [
       "0"
      ]
     },
     "execution_count": 36,
     "metadata": {},
     "output_type": "execute_result"
    }
   ],
   "source": [
    "### Quick detour - somehow None is in entities dictionary but not in any subgraphs\n",
    "count = 0\n",
    "for subgraph in dmdb_subgraph_list:\n",
    "    if 241 in subgraph['entities']:\n",
    "        count += 1\n",
    "count"
   ]
  },
  {
   "cell_type": "code",
   "execution_count": 61,
   "id": "a47cb48b",
   "metadata": {},
   "outputs": [
    {
     "name": "stdout",
     "output_type": "stream",
     "text": [
      "1556 MESH\n",
      "1577 DB\n",
      "1 CHEBI\n"
     ]
    }
   ],
   "source": [
    "for k,v in dmdb_drug_dict.items():\n",
    "    print(len(v),k)#,v)"
   ]
  },
  {
   "cell_type": "code",
   "execution_count": 34,
   "id": "92c02b00",
   "metadata": {},
   "outputs": [],
   "source": [
    "drkg_drug_dict = {}\n",
    "\n",
    "for drug,eid in drkg_entity_dictionary['Compound'].items():\n",
    "    if len(drug.split(\":\")) == 1:    # DB and CHEMBL\n",
    "        if 'DB' in drug:\n",
    "            insert_entry_eid(drug, 'DB', eid, drkg_drug_dict)\n",
    "        elif 'CHEMBL' in drug: \n",
    "            insert_entry_eid(drug, 'CHEMBL', eid, drkg_drug_dict)\n",
    "        else:\n",
    "            print(\"DEBUG Outlier with no split:\", drug)  \n",
    "    else:\n",
    "        if \"|\" in drug:       # Exceptions  --  MESH:C002480|MESH:, MESH:C011440|MESH:C046229,...\n",
    "            continue\n",
    "            # TODO: figure how to handle them appropriately\n",
    "        else:\n",
    "            identifier, idx = drug.split(\":\")\n",
    "            insert_entry_eid(idx, identifier, eid, drkg_drug_dict)"
   ]
  },
  {
   "cell_type": "code",
   "execution_count": 35,
   "id": "b432a5fd",
   "metadata": {},
   "outputs": [
    {
     "name": "stdout",
     "output_type": "stream",
     "text": [
      "10551 DB\n",
      "228 molport\n",
      "731 brenda\n",
      "51 gtopdb\n",
      "144 bindingdb\n",
      "98 pubchem\n",
      "63 zinc\n",
      "25 chebi\n",
      "23 rhea\n",
      "18 drugcentral\n",
      "2 fdasrs\n",
      "4 nmrshiftdb2\n",
      "12 hmdb\n",
      "3665 CHEMBL\n",
      "12 Bioarxivdrug\n",
      "1 pharmgkb\n",
      "7605 MESH\n",
      "1063 CHEBI\n"
     ]
    }
   ],
   "source": [
    "for k,v in drkg_drug_dict.items():\n",
    "    print(len(v),k)#,v)"
   ]
  },
  {
   "cell_type": "code",
   "execution_count": 38,
   "id": "37ffc83a",
   "metadata": {},
   "outputs": [
    {
     "name": "stdout",
     "output_type": "stream",
     "text": [
      "Number of common drugs [MESH/DB/CHEBI]: 1778 [214, 1564, 0]\n"
     ]
    }
   ],
   "source": [
    "# common_drug_set = set()\n",
    "common_drug_dict = defaultdict(tuple)\n",
    "\n",
    "counter = [0,0,0]\n",
    "for mesh_drug,dmdb_id in dmdb_drug_dict['MESH'].items():\n",
    "    if mesh_drug in drkg_drug_dict['MESH'].keys():\n",
    "        # common_drug_set.add('MESH:'+ mesh_dis)       # Re-adding identifier 'MESH:'\n",
    "        common_drug_dict['MESH:'+ mesh_drug] = (dmdb_id,drkg_drug_dict['MESH'][mesh_drug])\n",
    "        counter[0]+=1\n",
    "for db_drug,dmdb_id in dmdb_drug_dict['DB'].items():\n",
    "    if db_drug in drkg_drug_dict['DB'].keys():\n",
    "        # common_drug_set.add('DB:'+ mesh_dis)       # Re-adding identifier 'DB:'\n",
    "        common_drug_dict['DB:'+ db_drug] = (dmdb_id,drkg_drug_dict['DB'][db_drug])\n",
    "        counter[1]+=1\n",
    "for chebi_drug,dmdb_id in dmdb_drug_dict['CHEBI'].items():\n",
    "    if chebi_drug in drkg_drug_dict['CHEBI'].keys():\n",
    "        # common_drug_set.add('CHEBI:'+ mesh_dis)       # Re-adding identifier 'CHEBI:'\n",
    "        common_drug_dict['CHEBI:'+ chebi_drug] = (dmdb_id,drkg_drug_dict['CHEBI'][chebi_drug])\n",
    "        counter[2]+=1\n",
    "\n",
    "print(\"Number of common drugs [MESH/DB/CHEBI]:\", len(common_drug_dict), counter)"
   ]
  },
  {
   "cell_type": "code",
   "execution_count": 42,
   "id": "0c1b0eaf",
   "metadata": {},
   "outputs": [
    {
     "name": "stdout",
     "output_type": "stream",
     "text": [
      "Common drug name: MESH:D000658\n",
      "DrugMech entity dict ID: 60, DRKG entity dict ID: 38721\n"
     ]
    }
   ],
   "source": [
    "for k,v in common_drug_dict.items():\n",
    "    print('Common drug name:', k)\n",
    "    print(f'DrugMech entity dict ID: {v[0]}, DRKG entity dict ID: {v[1]}')\n",
    "    break"
   ]
  },
  {
   "cell_type": "code",
   "execution_count": null,
   "id": "1748be7b",
   "metadata": {},
   "outputs": [],
   "source": [
    "dmdb_to_drkg_drug_id_conv = {}      # TODO: messy\n",
    "\n",
    "for pair in common_drug_dict.values():\n",
    "    dmdb_to_drkg_drug_id_conv[pair[0]] = pair[1]"
   ]
  },
  {
   "cell_type": "markdown",
   "id": "9a3d53a0",
   "metadata": {},
   "source": [
    "## Diseases"
   ]
  },
  {
   "cell_type": "code",
   "execution_count": 43,
   "id": "6405e569",
   "metadata": {},
   "outputs": [],
   "source": [
    "dmdb_disease_dict = {}\n",
    "\n",
    "for disease, eid in dmdb_entity_dictionary['Disease'].items():\n",
    "    identifier, idx = disease.split(\":\")\n",
    "    insert_entry_eid(idx, identifier, eid, dmdb_disease_dict)"
   ]
  },
  {
   "cell_type": "code",
   "execution_count": 44,
   "id": "f6b26932",
   "metadata": {},
   "outputs": [
    {
     "name": "stdout",
     "output_type": "stream",
     "text": [
      "758 MESH {'D015464': 3, 'D034721': 7, 'D010146': 15, 'D005334': 19, 'D013927': 25, 'D004405': 35, 'D007634': 41, 'D003586': 47, 'D018805': 53, 'D000073605': 59, 'D014069': 65, 'D011023': 71, 'D016920': 74, 'D013717': 77, 'D014552': 81, 'D006973': 87, 'D009181': 93, 'D012223': 98, 'D011704': 102, 'D013345': 110, 'D006996': 114, 'D001991': 119, 'D012559': 126, 'D017449': 130, 'D015658': 135, 'D008595': 141, 'D003233': 151, 'D016649': 156, 'D006069': 161, 'D000881': 166, 'D011655': 171, 'D008060': 176, 'D007710': 180, 'D065631': 183, 'D015508': 188, 'D004827': 193, 'D003865': 202, 'D000749': 208, 'D015523': 213, 'D000505': 225, 'D007172': 231, 'D018410': 236, 'D003424': 239, 'D012148': 250, 'D010538': 254, 'D012507': 257, 'D012871': 269, 'D005879': 274, 'D000856': 276, 'D009103': 284, 'D006943': 288, 'D006976': 297, 'D005764': 302, 'D059268': 307, 'D004414': 308, 'D008088': 313, 'D010392': 316, 'D013610': 326, 'D009101': 335, 'D013964': 343, 'D005705': 351, 'D004832': 363, 'D011471': 368, 'D007014': 374, 'D001943': 378, 'D010062': 384, 'D012778': 389, 'D017118': 398, 'D001008': 403, 'D014435': 408, 'D012628': 412, 'D000740': 418, 'D003093': 422, 'D017726': 426, 'D010518': 431, 'D054198': 435, 'D014397': 441, 'D003218': 446, 'D003704': 451, 'D007319': 457, 'D000138': 463, 'D046351': 470, 'D014605': 477, 'D014010': 479, 'D009855': 486, 'D015266': 496, 'D003320': 499, 'D012393': 500, 'D007500': 501, 'D015863': 502, 'D015663': 507, 'D010001': 508, 'D010003': 511, 'D001172': 512, 'D059350': 513, 'D003139': 524, 'D006255': 526, 'D012912': 529, 'D004412': 531, 'D020078': 533, 'D014581': 535, 'D011537': 538, 'D014661': 542, 'C567691': 553, 'D014806': 564, 'D001361': 566, 'D000752': 568, 'D008286': 569, 'D018798': 571, 'D009128': 574, 'D011656': 582, 'D010911': 588, 'D000172': 589, 'D010301': 593, 'D010300': 594, 'D006966': 595, 'D013203': 597, 'D013290': 598, 'D061387': 600, 'D011019': 602, 'D011018': 603, 'D054559': 611, 'D016411': 617, 'D006929': 625, 'D004487': 626, 'D001201': 627, 'D059413': 635, 'D018784': 639, 'D008585': 640, 'D008586': 642, 'D013226': 651, 'D009765': 658, 'D003924': 666, 'D007889': 669, 'D019698': 677, 'D008881': 683, 'D001249': 697, 'D058387': 704, 'D016778': 711, 'D000686': 726, 'D002289': 731, 'D010051': 732, 'D009290': 740, 'D001289': 741, 'D010547': 746, 'D009325': 754, 'D014717': 755, 'D009041': 756, 'D000152': 764, 'D010024': 765, 'D003967': 770, 'D004415': 771, 'D003110': 779, 'D000086382': 781, 'D033461': 787, 'D006073': 788, 'D007418': 795, 'D018589': 796, 'D003963': 798, 'D004485': 800, 'D004715': 804, 'D011629': 807, 'D003874': 813, 'D007918': 821, 'D029424': 831, 'D001986': 832, 'D001714': 835, 'D013274': 841, 'D001171': 844, 'D008180': 851, 'C571912': 863, 'D010661': 874, 'D010032': 878, 'D006501': 881, 'D003920': 890, 'D000077299': 895, 'D001064': 899, 'D009293': 943, 'D005902': 950, 'D009798': 951, 'D003234': 957, 'D054058': 962, 'D020766': 963, 'D011218': 969, 'D006473': 974, 'D010612': 979, 'D012141': 980, 'D001987': 1008, 'D006946': 1011, 'D007340': 1012, 'D046768': 1013, 'D001660': 1017, 'D002769': 1018, 'D003248': 1020, 'D019294': 1022, 'D059787': 1025, 'D003876': 1044, 'D017497': 1049, 'D015535': 1050, 'D013167': 1051, 'D018357': 1066, 'D014008': 1071, 'D002179': 1079, 'D014009': 1080, 'D000787': 1090, 'D000562': 1093, 'D046152': 1099, 'C559147': 1100, 'D006528': 1109, 'D000081029': 1114, 'D017192': 1119, 'D010437': 1129, 'D012221': 1130, 'D015352': 1147, 'D007251': 1158, 'D016584': 1161, 'D000072861': 1163, 'D003866': 1168, 'D056806': 1186, 'D007011': 1193, 'D012080': 1195, 'D006961': 1197, 'D006504': 1205, 'D013036': 1223, 'D011014': 1227, 'D006980': 1245, 'D013958': 1246, 'D014277': 1252, 'D004830': 1253, 'D020435': 1254, 'D004828': 1255, 'D065768': 1256, 'D012640': 1257, 'D048949': 1261, 'D016780': 1267, 'D054179': 1274, 'D006712': 1278, 'D001437': 1280, 'D003556': 1281, 'D013919': 1287, 'D018781': 1290, 'D000690': 1298, 'D003928': 1305, 'D001752': 1310, 'D005076': 1315, 'D011538': 1318, 'D006484': 1319, 'D011349': 1320, 'D017674': 1342, 'D026681': 1349, 'D011565': 1382, 'D012532': 1389, 'D005891': 1398, 'D000080445': 1405, 'D029481': 1408, 'D000077273': 1419, 'D018263': 1422, 'D002292': 1423, 'D003877': 1435, 'D012536': 1436, 'D011618': 1443, 'D014839': 1446, 'D001007': 1449, 'D006660': 1462, 'D001759': 1465, 'D055744': 1468, 'D060585': 1471, 'D001228': 1472, 'D016491': 1480, 'D001281': 1491, 'D010149': 1494, 'D001749': 1502, 'D014006': 1515, 'D019964': 1519, 'D065446': 1520, 'D019584': 1521, 'D013742': 1529, 'D000430': 1531, 'D029242': 1538, 'D014257': 1566, 'D001196': 1568, 'D017229': 1570, 'D000724': 1578, 'D009450': 1581, 'D016410': 1582, 'D016460': 1583, 'D008179': 1584, 'D053202': 1599, 'D014820': 1611, 'D043183': 1619, 'D015878': 1623, 'D016084': 1627, 'D003371': 1628, 'D008271': 1633, 'D002862': 1635, 'D003047': 1638, 'D002177': 1639, 'D056587': 1648, 'D018879': 1667, 'D005776': 1688, 'D004697': 1698, 'D004716': 1699, 'D007008': 1706, 'D006947': 1709, 'D006323': 1710, 'D000707': 1731, 'D007022': 1734, 'D003555': 1740, 'D006937': 1744, 'D008258': 1760, 'D020522': 1761, 'D008080': 1778, 'D000071057': 1783, 'D007787': 1817, 'D006467': 1823, 'D053206': 1825, 'D014842': 1827, 'D014353': 1841, 'D007635': 1850, 'D054537': 1855, 'D002303': 1856, 'D012769': 1859, 'D006470': 1863, 'D005871': 1867, 'D001416': 1889, 'D002062': 1890, 'D018771': 1891, 'D013585': 1892, 'D020773': 1894, 'D019694': 1904, 'D012852': 1953, 'D001206': 1979, 'D006962': 1985, 'D007383': 1991, 'D000544': 2017, 'D013921': 2029, 'D014648': 2036, 'D014652': 2041, 'D002561': 2042, 'D015812': 2043, 'D002181': 2049, 'D002180': 2050, 'D052456': 2071, 'D006950': 2076, 'D015228': 2077, 'D015451': 2082, 'D010383': 2100, 'D002012': 2112, 'D000080203': 2122, 'D012127': 2134, 'D004381': 2146, 'D013276': 2148, 'D015043': 2150, 'D009377': 2152, 'D006356': 2153, 'D006930': 2159, 'D013832': 2164, 'D020915': 2167, 'D007024': 2171, 'D020734': 2176, 'D001480': 2177, 'D004938': 2184, 'D000788': 2191, 'C535694': 2210, 'D000799': 2212, 'D061686': 2219, 'C537592': 2228, 'C536227': 2229, 'C562448': 2246, 'D052497': 2247, 'D014141': 2253, 'D005892': 2269, 'D013281': 2271, 'D005058': 2289, 'D011628': 2294, 'D011015': 2309, 'D016868': 2311, 'D048909': 2322, 'D051474': 2333, 'D009437': 2334, 'C536392': 2338, 'D012135': 2344, 'D004417': 2345, 'D013920': 2367, 'D008545': 2373, 'D008175': 2374, 'D003456': 2397, 'D007713': 2401, 'D013207': 2404, 'D008224': 2414, 'D003550': 2425, 'D000309': 2440, 'D020529': 2450, 'D014802': 2462, 'D008101': 2467, 'D016585': 2468, 'D014245': 2470, 'D005873': 2472, 'D012226': 2482, 'D004927': 2483, 'D006333': 2492, 'D014860': 2522, 'D055623': 2524, 'D020521': 2542, 'D006952': 2570, 'D001161': 2573, 'D014693': 2597, 'D012220': 2622, 'D011928': 2631, 'D054218': 2692, 'D010673': 2712, 'D014029': 2717, 'D003457': 2724, 'D007890': 2743, 'D001932': 2749, 'D000308': 2753, 'D006527': 2762, 'D009617': 2777, 'D014123': 2782, 'D003235': 2784, 'D006560': 2788, 'D008575': 2806, 'D006949': 2811, 'D002764': 2814, 'D000568': 2841, 'D008288': 2860, 'D004942': 2877, 'D007010': 2892, 'D007177': 2893, 'D016891': 2895, 'D009230': 2914, 'D007037': 2917, 'D006042': 2919, 'D003409': 2924, 'D006043': 2925, 'D002761': 2936, 'D019958': 2957, 'D013736': 2963, 'D055752': 2964, 'D000080223': 2970, 'D009203': 2988, 'D014098': 2989, 'D005494': 2992, 'D015470': 3004, 'D014848': 3015, 'D006934': 3023, 'D007752': 3034, 'D009091': 3045, 'D011559': 3072, 'D001929': 3073, 'D009134': 3086, 'D004756': 3108, 'D005901': 3126, 'D013322': 3130, 'D015466': 3143, 'C580364': 3146, 'D017681': 3147, 'D018223': 3152, 'D008303': 3167, 'D016055': 3174, 'D015473': 3179, 'D003930': 3200, 'D001168': 3218, 'D020246': 3248, 'D006689': 3258, 'D011470': 3264, 'D004760': 3296, 'D008171': 3309, 'D003922': 3313, 'D002602': 3332, 'D006009': 3346, 'D020250': 3375, 'D007896': 3394, 'D050031': 3404, 'D000437': 3408, 'D002295': 3412, 'D006261': 3422, 'D020388': 3443, 'D004948': 3450, 'D000080362': 3452, 'C531816': 3464, 'D014808': 3469, 'D012279': 3470, 'D018633': 3473, 'D000071079': 3474, 'D018785': 3476, 'D001017': 3477, 'D013771': 3479, 'D001750': 3494, 'D008105': 3507, 'D020301': 3511, 'D022124': 3519, 'D012594': 3520, 'D003882': 3521, 'D010411': 3522, 'D012552': 3527, 'D009889': 3529, 'D014406': 3535, 'D010930': 3537, 'D006100': 3539, 'D002006': 3541, 'D009085': 3556, 'D018856': 3570, 'D016849': 3603, 'D008113': 3608, 'D005909': 3620, 'D053159': 3623, 'D012798': 3626, 'D011472': 3666, 'D002312': 3685, 'D006391': 3688, 'D013617': 3689, 'D007018': 3698, 'D007006': 3700, 'D008118': 3709, 'D011657': 3710, 'D004604': 3712, 'D001744': 3718, 'C562390': 3738, 'D009999': 3740, 'D020018': 3768, 'D005168': 3773, 'D002836': 3774, 'D013915': 3776, 'D012131': 3788, 'D011008': 3797, 'D005356': 3840, 'D016403': 3859, 'D005910': 3860, 'D008228': 3861, 'D001321': 3877, 'D014606': 3891, 'D016464': 3895, 'D009087': 3896, 'D014987': 3913, 'D014355': 3955, 'C537345': 3965, 'D001254': 3978, 'D006816': 4011, 'D004761': 4022, 'D003015': 4023, 'D007627': 4042, 'D017439': 4043, 'D009771': 4109, 'D013313': 4110, 'D019190': 4128, 'D017086': 4129, 'D014390': 4141, 'D012480': 4151, 'D005756': 4173, 'C536777': 4179, 'D015823': 4190, 'D006969': 4213, 'D012514': 4215, 'C493870': 4246, 'D018088': 4250, 'D016919': 4259, 'D002644': 4285, 'D006558': 4288, 'D006561': 4289, 'D020803': 4290, 'D006562': 4291, 'D012541': 4294, 'D004886': 4295, 'D010188': 4345, 'D008708': 4379, 'D000075222': 4383, 'D007946': 4431, 'D017202': 4435, 'D007815': 4451, 'D014120': 4453, 'D014235': 4455, 'D016773': 4473, 'D007897': 4474, 'D007898': 4475, 'D006258': 4489, 'D002294': 4490, 'D010412': 4491, 'D009157': 4527, 'D013746': 4545, 'D004393': 4550, 'D011141': 4560, 'D052256': 4567, 'D015210': 4568, 'D008059': 4580, 'D008268': 4586, 'D000080343': 4587, 'D009182': 4597, 'C538636': 4598, 'D031901': 4599, 'D046150': 4614, 'D009298': 4617, 'D013923': 4622, 'D000224': 4705, 'D000312': 4706, 'D009634': 4715, 'D020176': 4724, 'D018270': 4732, 'D008796': 4737, 'D016532': 4744, 'D005348': 4747, 'C000599709': 4748, 'D008581': 4781, 'D013262': 4792, 'D015624': 4809, 'D002051': 4832, 'D011087': 4841, 'D016889': 4864, 'D014549': 4870, 'D006457': 4875, 'D054078': 4881, 'D010284': 4905, 'D001907': 4907, 'D012282': 4909, 'D000795': 4928, 'D004374': 4944, 'D004617': 4952, 'D014653': 4958, 'D003027': 4959, 'D062025': 5012, 'D009447': 5038, 'D008223': 5042, 'D012175': 5044, 'D008548': 5061, 'D014526': 5070, 'D004831': 5121, 'D007943': 5140, 'D007169': 5145, 'D015223': 5237, 'D055371': 5259, 'D012770': 5270, 'D012216': 5278, 'D006475': 5302, 'D052556': 5315, 'D012509': 5325, 'C538139': 5342, 'C039979': 5343, 'D004211': 5358, 'D009196': 5361, 'D014424': 5382, 'D013035': 5393, 'D012208': 5407, 'D009396': 5408, 'D016574': 5449, 'D053158': 5490, 'D007003': 5507, 'D004915': 5545, 'D007948': 5546, 'D020528': 5600, 'C536914': 5622, 'D010505': 5660, 'D050197': 5713, 'C554498': 5725, 'D020261': 5760, 'D056006': 5796, 'D017511': 5800, 'D015479': 5860, 'D002825': 5882, 'D014125': 5883, 'D012883': 5884, 'D000141': 5905, 'D003554': 5925, 'D007638': 5937, 'D014811': 5958, 'D009472': 5995, 'D000741': 6021, 'D029503': 6022, 'D016724': 6034, 'D012512': 6055, 'D000071074': 6114, 'D020019': 6134, 'D004443': 6136, 'D007247': 6139, 'D052018': 6187, 'D001170': 6254, 'D020814': 6255, 'D008193': 6291, 'D004165': 6293, 'D004894': 6295, 'D013587': 6297, 'D014917': 6299, 'D000196': 6306, 'D008219': 6316, 'D009956': 6320, 'D011778': 6324, 'D012061': 6328, 'D012373': 6332, 'D015001': 6335, 'D000084462': 6342, 'D053098': 6346, 'D006111': 6353, 'D000197': 6373, 'D001906': 6375, 'C531621': 6376, 'D004887': 6378, 'C571911': 6379, 'D008169': 6380, 'D008584': 6382, 'D009494': 6383, 'D010326': 6385, 'D010874': 6386, 'D000071067': 6387, 'D011906': 6388, 'D013590': 6389, 'D013592': 6390, 'C536773': 6391, 'C536774': 6392, 'D014211': 6395, 'D003607': 6399, 'D005499': 6401, 'D005667': 6402, 'D010304': 6403, 'D004403': 6410, 'D011654': 6419, 'D012488': 6442, 'D001474': 6465, 'D002690': 6466, 'D002771': 6468, 'D012612': 6470, 'D014437': 6472, 'D014438': 6474, 'D000744': 6495, 'D001327': 6500, 'D001607': 6501, 'D003873': 6504, 'D004892': 6505, 'D005128': 6506, 'D015212': 6509, 'D007819': 6512, 'D009140': 6515, 'D009404': 6516, 'D012214': 6520, 'D012713': 6521, 'D013966': 6526, 'D007637': 6531, 'D010019': 6532, 'D063806': 6545, 'D010229': 6558, 'D001922': 6566, 'D008100': 6567, 'D013716': 6576, 'D014391': 6578, 'D009879': 6580, 'D013700': 6583, 'D000506': 6586, 'D008010': 6588, 'D009335': 6589, 'D003453': 6626, 'D016921': 6628, 'D000542': 6656, 'D001229': 6658, 'D011111': 6659, 'D011658': 6660, 'D012859': 6661, 'D002833': 6673, 'D000755': 6685, 'D014402': 6688, 'D000532': 6696}\n",
      "5 DB {'DB08896': 1101, 'DB08903': 4247, 'DB11608': 4749, 'DB12184': 5344, 'DB00100': 6130}\n",
      "1 HP {'0004349': 2535}\n"
     ]
    }
   ],
   "source": [
    "for k,v in dmdb_disease_dict.items():\n",
    "    print(len(v),k,v)"
   ]
  },
  {
   "cell_type": "code",
   "execution_count": 45,
   "id": "328ae728",
   "metadata": {},
   "outputs": [],
   "source": [
    "drkg_disease_dict = {}\n",
    "\n",
    "for disease, eid in drkg_entity_dictionary['Disease'].items():\n",
    "    if len(disease.split(\":\")) != 2:\n",
    "        insert_entry_eid(disease, 'other', eid, drkg_disease_dict)\n",
    "    else:\n",
    "        identifier, idx = disease.split(\":\")\n",
    "        insert_entry_eid(idx, identifier, eid, drkg_disease_dict)"
   ]
  },
  {
   "cell_type": "code",
   "execution_count": 46,
   "id": "3a83fae7",
   "metadata": {},
   "outputs": [
    {
     "name": "stdout",
     "output_type": "stream",
     "text": [
      "27 other {'SARS-CoV2 E': 9079, 'SARS-CoV2 M': 9085, 'SARS-CoV2 N': 9110, 'SARS-CoV2 Spike': 9124, 'SARS-CoV2 nsp1': 9127, 'SARS-CoV2 nsp10': 9132, 'SARS-CoV2 nsp11': 9137, 'SARS-CoV2 nsp12': 9139, 'SARS-CoV2 nsp13': 9159, 'SARS-CoV2 nsp14': 9197, 'SARS-CoV2 nsp15': 9198, 'SARS-CoV2 nsp2': 9201, 'SARS-CoV2 nsp4': 9208, 'SARS-CoV2 nsp5': 9216, 'SARS-CoV2 nsp5_C145A': 9217, 'SARS-CoV2 nsp6': 9219, 'SARS-CoV2 nsp7': 9222, 'SARS-CoV2 nsp8': 9247, 'SARS-CoV2 nsp9': 9270, 'SARS-CoV2 orf10': 9286, 'SARS-CoV2 orf3a': 9295, 'SARS-CoV2 orf3b': 9303, 'SARS-CoV2 orf6': 9305, 'SARS-CoV2 orf7a': 9309, 'SARS-CoV2 orf8': 9312, 'SARS-CoV2 orf9b': 9352, 'SARS-CoV2 orf9c': 9363}\n",
      "4871 MESH {'D001351': 9388, 'D045473': 9394, 'D065207': 9425, 'D028941': 9430, 'D058957': 9431, 'D006517': 9433, 'D003550': 25072, 'C063419': 25073, 'D013167': 25074, 'D006086': 25075, 'D017497': 25076, 'D001171': 25077, 'D011565': 25078, 'D015535': 25079, 'D017511': 25080, 'D001172': 25081, 'D013262': 25082, 'D054058': 25083, 'D013927': 25084, 'D001943': 25085, 'D011629': 25086, 'D004715': 25087, 'D007246': 25088, 'D010146': 25089, 'D010262': 25090, 'D007889': 25091, 'D012008': 25092, 'D019694': 25093, 'D008103': 25094, 'D011655': 25095, 'D000740': 25096, 'D006333': 25097, 'D006934': 25098, 'D010024': 25099, 'D064146': 25100, 'D011832': 25101, 'D007239': 25102, 'D009503': 25103, 'D019698': 25104, 'D008545': 25105, 'D054198': 25106, 'D013964': 25107, 'D006470': 25108, 'D006467': 25109, 'D019106': 25110, 'D056587': 25111, 'C565798': 25112, 'D015821': 25113, 'D015451': 25114, 'D000077329': 25115, 'D016553': 25116, 'D020277': 25117, 'D017074': 25118, 'D000081207': 25119, 'D009080': 25120, 'D014923': 25121, 'D003920': 25122, 'D003922': 25123, 'D000072': 25124, 'D006105': 25125, 'D020790': 25126, 'D053158': 25127, 'D059606': 25128, 'D011141': 25129, 'D004775': 25130, 'D013921': 25131, 'D013280': 25132, 'D007003': 25133, 'D014103': 25134, 'D012798': 25135, 'D000080': 25136, 'D007006': 25137, 'D016883': 25138, 'D016640': 25139, 'D003924': 25140, 'D004387': 25141, 'D010411': 25142, 'D033461': 25143, 'D003424': 25144, 'D002100': 25145, 'D005183': 25146, 'D012778': 25147, 'D004392': 25148, 'D005776': 25149, 'D015470': 25150, 'D004646': 25151, 'D020529': 25152, 'C531816': 25153, 'D011704': 25154, 'D006967': 25155, 'D034141': 25156, 'D007019': 25157, 'D020896': 25158, 'D012769': 25159, 'D017114': 25160, 'D051556': 25161, 'D003093': 25162, 'D020528': 25163, 'D008224': 25164, 'D016403': 25165, 'D014890': 25166, 'D055953': 25167, 'D008228': 25168, 'D010392': 25169, 'D016470': 25170, 'D017192': 25171, 'D000172': 25172, 'D001764': 25173, 'D003027': 25174, 'D013285': 25175, 'D009128': 25176, 'D053201': 25177, 'D014549': 25178, 'D003967': 25179, 'D010188': 25180, 'C000593': 25181, 'D045602': 25182, 'D000744': 25183, 'D015461': 25184, 'D011471': 25185, 'D008059': 25186, 'D003876': 25187, 'D003240': 25188, 'D005923': 25189, 'D018856': 25190, 'D008181': 25191, 'D009404': 25192, 'D012393': 25193, 'D006084': 25194, 'C536404': 25195, 'D014605': 25196, 'D004402': 25197, 'D009190': 25198, 'D064147': 25199, 'C564320': 25200, 'D002836': 25201, 'D012883': 25202, 'D000795': 25203, 'D007943': 25204, 'D012514': 25205, 'D006473': 25206, 'D015497': 25207, 'D018357': 25208, 'D000752': 25209, 'D014806': 25210, 'D005877': 25211, 'D022124': 25212, 'D007016': 25213, 'D007018': 25214, 'D004393': 25215, 'D010911': 25216, 'D056806': 25217, 'D003397': 25218, 'D012614': 25219, 'D006962': 25220, 'D006996': 25221, 'D063730': 25222, 'D012257': 25223, 'D008881': 25224, 'D001602': 25225, 'D013832': 25226, 'D014899': 25227, 'D007015': 25228, 'D009436': 25229, 'D014802': 25230, 'D020250': 25231, 'D026681': 25232, 'D003324': 25233, 'D003643': 25234, 'D006952': 25235, 'D006938': 25236, 'D006937': 25237, 'D006949': 25238, 'D006954': 25239, 'D009203': 25240, 'D009204': 25241, 'D020521': 25242, 'D002546': 25243, 'D015228': 25244, 'D052018': 25245, 'D003865': 25246, 'D009771': 25247, 'D003928': 25248, 'D006973': 25249, 'D018487': 25250, 'D054143': 25251, 'D065631': 25252, 'D001249': 25253, 'D018771': 25254, 'D063806': 25255, 'D013036': 25256, 'D001289': 25257, 'D009765': 25258, 'D000341': 25259, 'D009290': 25260, 'D059350': 25261, 'C536914': 25262, 'D003731': 25263, 'D014987': 25264, 'D000071': 25265, 'D000430': 25266, 'D001007': 25267, 'D001008': 25268, 'D002389': 25269, 'D014839': 25270, 'D003693': 25271, 'D007319': 25272, 'D013035': 25273, 'D016584': 25274, 'D013226': 25275, 'D001281': 25276, 'D013617': 25277, 'D013616': 25278, 'D020522': 25279, 'D009101': 25280, 'D010300': 25281, 'D010301': 25282, 'D010302': 25283, 'D059787': 25284, 'D061686': 25285, 'D009798': 25286, 'D058387': 25287, 'D002177': 25288, 'D003047': 25289, 'D009181': 25290, 'D011537': 25291, 'D016919': 25292, 'D002181': 25293, 'D058365': 25294, 'D007251': 25295, 'D009981': 25296, 'D000152': 25297, 'D001424': 25298, 'D002602': 25299, 'D002692': 25300, 'D011014': 25301, 'D004165': 25302, 'D004894': 25303, 'D018589': 25304, 'D006100': 25305, 'D007877': 25306, 'D008088': 25307, 'D008219': 25308, 'D014526': 25309, 'D009878': 25310, 'D014917': 25311, 'D013530': 25312, 'D002601': 25313, 'D012141': 25314, 'D013207': 25315, 'D013587': 25316, 'D012213': 25317, 'D020258': 25318, 'D005221': 25319, 'D006261': 25320, 'D012131': 25321, 'D000077': 25322, 'D018781': 25323, 'D007172': 25324, 'D000081': 25325, 'D008288': 25326, 'D014123': 25327, 'C531736': 25328, 'D011618': 25329, 'D010033': 25330, 'D003234': 25331, 'D012852': 25332, 'D002575': 25333, 'D000292': 25334, 'D010612': 25335, 'D014069': 25336, 'D004403': 25337, 'D007024': 25338, 'D016481': 25339, 'D005764': 25340, 'D014945': 25341, 'D006356': 25342, 'D015043': 25343, 'D004487': 25344, 'D000856': 25345, 'D003929': 25346, 'D013313': 25347, 'D065446': 25348, 'D020325': 25349, 'D001991': 25350, 'D010930': 25351, 'D015818': 25352, 'D002179': 25353, 'D015658': 25354, 'D012871': 25355, 'D003327': 25356, 'D050171': 25357, 'D058729': 25358, 'D005356': 25359, 'D009437': 25360, 'D012640': 25361, 'D051474': 25362, 'D014376': 25363, 'D014010': 25364, 'D014008': 25365, 'D014927': 25366, 'D011350': 25367, 'D020734': 25368, 'D012559': 25369, 'D001714': 25370, 'D006966': 25371, 'D003874': 25372, 'D007918': 25373, 'D011081': 25374, 'D003233': 25375, 'D015423': 25376, 'D000151': 25377, 'D000196': 25378, 'D001474': 25379, 'D002006': 25380, 'D002771': 25381, 'D003015': 25382, 'D006069': 25383, 'D004927': 25384, 'D002169': 25385, 'D004404': 25386, 'D005892': 25387, 'D009956': 25388, 'D011778': 25389, 'D012061': 25390, 'D000073': 25391, 'D012373': 25392, 'C536773': 25393, 'D004405': 25394, 'D014141': 25395, 'D014406': 25396, 'D014438': 25397, 'D014552': 25398, 'D015001': 25399, 'D014005': 25400, 'D054559': 25401, 'D013922': 25402, 'D001254': 25403, 'D004806': 25404, 'D005909': 25405, 'D008527': 25406, 'D009182': 25407, 'C079345': 25408, 'D000787': 25409, 'D013958': 25410, 'D000437': 25411, 'D065768': 25412, 'D019964': 25413, 'D004830': 25414, 'C036843': 25415, 'D007938': 25416, 'D016084': 25417, 'D006980': 25418, 'D007037': 25419, 'D006042': 25420, 'D009230': 25421, 'D010014': 25422, 'D010001': 25423, 'C000601': 25424, 'D000799': 25425, 'D014581': 25426, 'D003139': 25427, 'D059268': 25428, 'D008594': 25429, 'C537436': 25430, 'D007249': 25431, 'D002583': 25432, 'D006689': 25433, 'D016066': 25434, 'D010051': 25435, 'D010412': 25436, 'D011030': 25437, 'D013736': 25438, 'D014846': 25439, 'D000952': 25440, 'D009402': 25441, 'D008258': 25442, 'D054363': 25443, 'D015210': 25444, 'D000305': 25445, 'D000506': 25446, 'D001607': 25447, 'D000312': 25448, 'D005199': 25449, 'D003882': 25450, 'D008179': 25451, 'D001929': 25452, 'D013716': 25453, 'D009877': 25454, 'D000743': 25455, 'D007627': 25456, 'D009335': 25457, 'D009879': 25458, 'D010003': 25459, 'D017285': 25460, 'D010267': 25461, 'D012010': 25462, 'D013585': 25463, 'D008180': 25464, 'D013700': 25465, 'D014235': 25466, 'D014390': 25467, 'D013717': 25468, 'D003873': 25469, 'D008010': 25470, 'D013968': 25471, 'D006560': 25472, 'D054179': 25473, 'D004716': 25474, 'D034161': 25475, 'D000031': 25476, 'D001005': 25477, 'D001749': 25478, 'D002289': 25479, 'D008654': 25480, 'D001282': 25481, 'C563477': 25482, 'D003863': 25483, 'D005334': 25484, 'D003371': 25485, 'D000069836': 25486, 'D010538': 25487, 'C567379': 25488, 'D043183': 25489, 'D053206': 25490, 'D020920': 25491, 'C031967': 25492, 'D002062': 25493, 'D004374': 25494, 'D052256': 25495, 'D009164': 25496, 'D015270': 25497, 'D014397': 25498, 'D011085': 25499, 'D001986': 25500, 'D029424': 25501, 'D012221': 25502, 'D009293': 25503, 'D063726': 25504, 'D005879': 25505, 'D013971': 25506, 'D017180': 25507, 'D014820': 25508, 'D004381': 25509, 'D013276': 25510, 'D009377': 25511, 'D006255': 25512, 'D057985': 25513, 'D005401': 25514, 'D000788': 25515, 'D060050': 25516, 'D002311': 25517, 'D011507': 25518, 'D006976': 25519, 'D020922': 25520, 'D011470': 25521, 'D020176': 25522, 'D004827': 25523, 'D000505': 25524, 'D000855': 25525, 'D014593': 25526, 'D006483': 25527, 'D059413': 25528, 'D010019': 25529, 'D011552': 25530, 'D001170': 25531, 'D002690': 25532, 'D003235': 25533, 'D008583': 25534, 'D008585': 25535, 'D009617': 25536, 'D010661': 25537, 'D004938': 25538, 'D012509': 25539, 'D016728': 25540, 'D011605': 25541, 'D004415': 25542, 'D005756': 25543, 'D052016': 25544, 'D010437': 25545, 'D009325': 25546, 'D016889': 25547, 'D004714': 25548, 'D008595': 25549, 'D015663': 25550, 'D011247': 25551, 'D007022': 25552, 'D012713': 25553, 'D012772': 25554, 'D017726': 25555, 'D018139': 25556, 'D045908': 25557, 'D012899': 25558, 'D003866': 25559, 'D019263': 25560, 'D019584': 25561, 'D009422': 25562, 'D019966': 25563, 'D013851': 25564, 'D001480': 25565, 'D011595': 25566, 'C535438': 25567, 'D009202': 25568, 'D006484': 25569, 'D012770': 25570, 'D012223': 25571, 'D008796': 25572, 'D000568': 25573, 'D007247': 25574, 'D046152': 25575, 'D006394': 25576, 'D014006': 25577, 'D014009': 25578, 'D007169': 25579, 'D005902': 25580, 'D015812': 25581, 'D010211': 25582, 'D004696': 25583, 'C000590': 25584, 'D016920': 25585, 'D012475': 25586, 'D014435': 25587, 'D012760': 25588, 'D000881': 25589, 'D004697': 25590, 'D015787': 25591, 'D012541': 25592, 'D001201': 25593, 'D006628': 25594, 'D007008': 25595, 'D006929': 25596, 'D013742': 25597, 'D044682': 25598, 'D003085': 25599, 'D003556': 25600, 'D004238': 25601, 'D006327': 25602, 'D001750': 25603, 'D055496': 25604, 'D010195': 25605, 'D056844': 25606, 'C506814': 25607, 'D004761': 25608, 'D005750': 25609, 'D014522': 25610, 'D012472': 25611, 'D006562': 25612, 'D006558': 25613, 'D013283': 25614, 'D010374': 25615, 'D012532': 25616, 'D020061': 25617, 'D016849': 25618, 'D000707': 25619, 'D047748': 25620, 'C536612': 25621, 'D007926': 25622, 'D006073': 25623, 'D002494': 25624, 'D011020': 25625, 'D054307': 25626, 'D009450': 25627, 'D008223': 25628, 'D016460': 25629, 'C535590': 25630, 'D006471': 25631, 'D007429': 25632, 'D057066': 25633, 'D003231': 25634, 'D065306': 25635, 'D006726': 25636, 'D003320': 25637, 'D001762': 25638, 'D011928': 25639, 'D007057': 25640, 'D020256': 25641, 'D008269': 25642, 'D058447': 25643, 'D010493': 25644, 'D018710': 25645, 'D016778': 25646, 'D001416': 25647, 'D001250': 25648, 'D002385': 25649, 'D009207': 25650, 'D061218': 25651, 'D017116': 25652, 'D020370': 25653, 'D014550': 25654, 'D017118': 25655, 'D019958': 25656, 'D006606': 25657, 'D013203': 25658, 'D002056': 25659, 'D000075': 25660, 'D004412': 25661, 'D020852': 25662, 'D010249': 25663, 'D018410': 25664, 'D006816': 25665, 'D000374': 25666, 'D001196': 25667, 'D002590': 25668, 'D003457': 25669, 'D005873': 25670, 'D014257': 25671, 'D006472': 25672, 'D018197': 25673, 'D013274': 25674, 'D009447': 25675, 'D012516': 25676, 'D055752': 25677, 'D013953': 25678, 'D006725': 25679, 'D016881': 25680, 'D018784': 25681, 'D011225': 25682, 'D011538': 25683, 'D006561': 25684, 'D018269': 25685, 'D002051': 25686, 'D015464': 25687, 'D012512': 25688, 'D008175': 25689, 'D009157': 25690, 'D018237': 25691, 'D010673': 25692, 'D012175': 25693, 'D012208': 25694, 'D002822': 25695, 'D018908': 25696, 'C544287': 25697, 'D015521': 25698, 'D018222': 25699, 'D009209': 25700, 'D005157': 25701, 'C400741': 25702, 'D031901': 25703, 'D009396': 25704, 'C535520': 25705, 'D000275': 25706, 'D055623': 25707, 'D003110': 25708, 'D010190': 25709, 'D012004': 25710, 'D002280': 25711, 'D003248': 25712, 'D019148': 25713, 'D016262': 25714, 'D008108': 25715, 'D054403': 25716, 'D012751': 25717, 'D015473': 25718, 'D009103': 25719, 'D011271': 25720, 'D006828': 25721, 'D055756': 25722, 'D012148': 25723, 'D020261': 25724, 'D008630': 25725, 'D007855': 25726, 'D011472': 25727, 'D020246': 25728, 'D000789': 25729, 'D006646': 25730, 'D008309': 25731, 'D006391': 25732, 'D024741': 25733, 'D002312': 25734, 'D060805': 25735, 'D020329': 25736, 'D000550': 25737, 'D054537': 25738, 'D001919': 25739, 'D003448': 25740, 'D048949': 25741, 'D064807': 25742, 'D015651': 25743, 'D004786': 25744, 'D012220': 25745, 'D007845': 25746, 'D013375': 25747, 'D003586': 25748, 'D002644': 25749, 'D018562': 25750, 'D006501': 25751, 'C000656': 25752, 'C536038': 25753, 'D004941': 25754, 'D020795': 25755, 'D010149': 25756, 'D029481': 25757, 'D003872': 25758, 'D014514': 25759, 'D004832': 25760, 'D000471': 25761, 'D013345': 25762, 'D007815': 25763, 'D058429': 25764, 'D005368': 25765, 'D008368': 25766, 'D009814': 25767, 'D009855': 25768, 'D003111': 25769, 'D054850': 25770, 'C566780': 25771, 'D017119': 25772, 'D012507': 25773, 'D064646': 25774, 'D018879': 25775, 'D055985': 25776, 'D016905': 25777, 'D012282': 25778, 'D012749': 25779, 'D007177': 25780, 'D002817': 25781, 'C580364': 25782, 'D017681': 25783, 'D009196': 25784, 'D018223': 25785, 'D015465': 25786, 'D034721': 25787, 'D002647': 25788, 'D003877': 25789, 'D000224': 25790, 'D065227': 25791, 'D045888': 25792, 'D004892': 25793, 'C073469': 25794, 'D002819': 25795, 'D011628': 25796, 'D004653': 25797, 'D015817': 25798, 'D001528': 25799, 'D050197': 25800, 'D010383': 25801, 'D001361': 25802, 'D006950': 25803, 'D010013': 25804, 'D002707': 25805, 'D001229': 25806, 'D011015': 25807, 'D020330': 25808, 'D002825': 25809, 'D007634': 25810, 'D014391': 25811, 'D063926': 25812, 'D019693': 25813, 'D000542': 25814, 'D015863': 25815, 'D007500': 25816, 'D011657': 25817, 'D009902': 25818, 'D011111': 25819, 'D011658': 25820, 'D012214': 25821, 'D012859': 25822, 'D013625': 25823, 'D049970': 25824, 'D013966': 25825, 'D014657': 25826, 'D018549': 25827, 'D006563': 25828, 'C541252': 25829, 'C538433': 25830, 'D017189': 25831, 'D017229': 25832, 'D013322': 25833, 'D013622': 25834, 'D014120': 25835, 'D019226': 25836, 'D002180': 25837, 'D011539': 25838, 'D003480': 25839, 'D005494': 25840, 'D016171': 25841, 'D000544': 25842, 'D003704': 25843, 'D006339': 25844, 'D010032': 25845, 'C535758': 25846, 'D003440': 25847, 'D013575': 25848, 'D014590': 25849, 'D014693': 25850, 'D008193': 25851, 'D012480': 25852, 'D003919': 25853, 'D020961': 25854, 'D006177': 25855, 'D008382': 25856, 'D006660': 25857, 'D007896': 25858, 'D016921': 25859, 'D007897': 25860, 'D007898': 25861, 'D019320': 25862, 'D013923': 25863, 'D004915': 25864, 'D007948': 25865, 'D014653': 25866, 'D051271': 25867, 'D001748': 25868, 'D001471': 25869, 'D055499': 25870, 'D018461': 25871, 'D003218': 25872, 'D008976': 25873, 'D003329': 25874, 'D015155': 25875, 'D007508': 25876, 'D009041': 25877, 'D014717': 25878, 'D014352': 25879, 'D000690': 25880, 'D002833': 25881, 'D058186': 25882, 'C566836': 25883, 'D020181': 25884, 'D020178': 25885, 'D019190': 25886, 'D015595': 25887, 'C535959': 25888, 'C537692': 25889, 'D000069': 25890, 'D000562': 25891, 'D001442': 25892, 'D007710': 25893, 'D006111': 25894, 'C080085': 25895, 'D015266': 25896, 'D018358': 25897, 'C562567': 25898, 'D007724': 25899, 'D010052': 25900, 'D020803': 25901, 'D001168': 25902, 'D014098': 25903, 'D004833': 25904, 'D011349': 25905, 'D004473': 25906, 'D005499': 25907, 'D005667': 25908, 'D007637': 25909, 'D012628': 25910, 'D007911': 25911, 'D006974': 25912, 'D007383': 25913, 'D014647': 25914, 'D053040': 25915, 'D059390': 25916, 'D011656': 25917, 'D010245': 25918, 'D003555': 25919, 'D006943': 25920, 'C537177': 25921, 'D015140': 25922, 'D003554': 25923, 'C535475': 25924, 'D011317': 25925, 'C535669': 25926, 'D002294': 25927, 'D013174': 25928, 'D006527': 25929, 'D054990': 25930, 'C535646': 25931, 'D017676': 25932, 'D007752': 25933, 'D018192': 25934, 'C567682': 25935, 'D005891': 25936, 'D010518': 25937, 'D002283': 25938, 'D011087': 25939, 'D019150': 25940, 'D004342': 25941, 'D014606': 25942, 'D006330': 25943, 'D016585': 25944, 'D014245': 25945, 'D002537': 25946, 'D001447': 25947, 'D001922': 25948, 'D008169': 25949, 'D008581': 25950, 'D019449': 25951, 'D004748': 25952, 'D008100': 25953, 'C564133': 25954, 'D014555': 25955, 'D016055': 25956, 'D015477': 25957, 'D000753': 25958, 'C536761': 25959, 'D000754': 25960, 'D000027': 25961, 'D000030': 25962, 'C567091': 25963, 'D002145': 25964, 'C536896': 25965, 'C563924': 25966, 'D015179': 25967, 'D009119': 25968, 'D025242': 25969, 'D054556': 25970, 'D013945': 25971, 'D000308': 25972, 'D006528': 25973, 'D063807': 25974, 'D007759': 25975, 'D008575': 25976, 'D000402': 25977, 'D001145': 25978, 'D019462': 25979, 'D001752': 25980, 'D019288': 25981, 'D020326': 25982, 'D000141': 25983, 'D011293': 25984, 'D006955': 25985, 'D006947': 25986, 'D014582': 25987, 'D013920': 25988, 'D008579': 25989, 'D000755': 25990, 'D000858': 25991, 'D002168': 25992, 'D007020': 25993, 'D006475': 25994, 'D001759': 25995, 'C536777': 25996, 'D002862': 25997, 'D002178': 25998, 'D010229': 25999, 'C537696': 26000, 'D011226': 26001, 'D013281': 26002, 'D000686': 26003, 'D000079': 26004, 'D008607': 26005, 'D001906': 26006, 'D005738': 26007, 'D011906': 26008, 'D010326': 26009, 'D004948': 26010, 'D003551': 26011, 'D005211': 26012, 'D014201': 26013, 'D012552': 26014, 'D011702': 26015, 'D000219': 26016, 'D006323': 26017, 'D002054': 26018, 'D020187': 26019, 'C537169': 26020, 'D012818': 26021, 'D005076': 26022, 'D006760': 26023, 'C535526': 26024, 'D015430': 26025, 'D013471': 26026, 'D014078': 26027, 'D011536': 26028, 'D016780': 26029, 'D020323': 26030, 'D056912': 26031, 'D001778': 26032, 'D004211': 26033, 'D004621': 26034, 'D003963': 26035, 'D015523': 26036, 'D020301': 26037, 'D004931': 26038, 'D011654': 26039, 'D016781': 26040, 'D044903': 26041, 'D010974': 26042, 'D000038': 26043, 'D001228': 26044, 'D007683': 26045, 'D020514': 26046, 'D020513': 26047, 'D011008': 26048, 'D016574': 26049, 'D013746': 26050, 'D004823': 26051, 'D003881': 26052, 'D009837': 26053, 'D003294': 26054, 'D006932': 26055, 'D012817': 26056, 'C565870': 26057, 'D005058': 26058, 'D001404': 26059, 'D034363': 26060, 'D012078': 26061, 'D009459': 26062, 'D001932': 26063, 'D004826': 26064, 'D008061': 26065, 'D008305': 26066, 'D009298': 26067, 'D005185': 26068, 'D001630': 26069, 'D006953': 26070, 'D065766': 26071, 'D009471': 26072, 'D006457': 26073, 'D055744': 26074, 'D009091': 26075, 'D003930': 26076, 'D008268': 26077, 'D016532': 26078, 'C536839': 26079, 'D009087': 26080, 'D054218': 26081, 'D000309': 26082, 'D010488': 26083, 'D012594': 26084, 'D007565': 26085, 'D005414': 26086, 'D003869': 26087, 'D013001': 26088, 'D018805': 26089, 'D000138': 26090, 'D015746': 26091, 'D010505': 26092, 'D011185': 26093, 'D008599': 26094, 'D058866': 26095, 'D055191': 26096, 'D003112': 26097, 'D000647': 26098, 'D010591': 26099, 'D014277': 26100, 'D005348': 26101, 'D054059': 26102, 'D004030': 26103, 'D008105': 26104, 'D042882': 26105, 'D018798': 26106, 'D002481': 26107, 'D017719': 26108, 'D053717': 26109, 'D020262': 26110, 'D003288': 26111, 'D015352': 26112, 'D003773': 26113, 'D018901': 26114, 'D007732': 26115, 'D012880': 26116, 'D002613': 26117, 'D046349': 26118, 'D046350': 26119, 'D007299': 26120, 'D007669': 26121, 'D001744': 26122, 'D004485': 26123, 'D007402': 26124, 'D011711': 26125, 'D020820': 26126, 'D015466': 26127, 'D057135': 26128, 'D020018': 26129, 'D017484': 26130, 'D006504': 26131, 'C030635': 26132, 'D006509': 26133, 'D016891': 26134, 'D058922': 26135, 'D055728': 26136, 'C566881': 26137, 'D012515': 26138, 'D020096': 26139, 'D001851': 26140, 'D050723': 26141, 'D013117': 26142, 'D010015': 26143, 'D018212': 26144, 'D004932': 26145, 'D021921': 26146, 'D007925': 26147, 'D006712': 26148, 'C538139': 26149, 'D009120': 26150, 'D059352': 26151, 'D047928': 26152, 'C537962': 26153, 'C000600': 26154, 'D014689': 26155, 'D014648': 26156, 'D008060': 26157, 'D008107': 26158, 'D018088': 26159, 'D008532': 26160, 'D007676': 26161, 'D002114': 26162, 'D006961': 26163, 'D016773': 26164, 'D005871': 26165, 'D052497': 26166, 'D009085': 26167, 'D000077260': 26168, 'D029242': 26169, 'D001660': 26170, 'D004831': 26171, 'D003456': 26172, 'D007674': 26173, 'D002916': 26174, 'D002915': 26175, 'D014958': 26176, 'D009362': 26177, 'C538678': 26178, 'D000860': 26179, 'D009369': 26180, 'D011086': 26181, 'D012120': 26182, 'D012891': 26183, 'C537136': 26184, 'D051436': 26185, 'D060825': 26186, 'D014860': 26187, 'D015715': 26188, 'D003681': 26189, 'D007010': 26190, 'D015212': 26191, 'D002764': 26192, 'D008708': 26193, 'D066066': 26194, 'D005258': 26195, 'D013180': 26196, 'D014718': 26197, 'D004698': 26198, 'D004886': 26199, 'D004887': 26200, 'D014211': 26201, 'D010874': 26202, 'D001734': 26203, 'D009909': 26204, 'D008275': 26205, 'D000137': 26206, 'D064420': 26207, 'D014883': 26208, 'D017674': 26209, 'D008548': 26210, 'D015408': 26211, 'D011818': 26212, 'D009107': 26213, 'D012409': 26214, 'D008457': 26215, 'D004672': 26216, 'D015004': 26217, 'D006506': 26218, 'D017492': 26219, 'D055665': 26220, 'D020300': 26221, 'D015223': 26222, 'D064726': 26223, 'D020152': 26224, 'D015624': 26225, 'D020276': 26226, 'D019052': 26227, 'D016538': 26228, 'D003711': 26229, 'D013344': 26230, 'D017449': 26231, 'D009134': 26232, 'D009472': 26233, 'D014813': 26234, 'D014947': 26235, 'D011855': 26236, 'D011146': 26237, 'D010787': 26238, 'D007787': 26239, 'D007827': 26240, 'C535650': 26241, 'D014219': 26242, 'D004063': 26243, 'D002571': 26244, 'D002149': 26245, 'C074502': 26246, 'D047808': 26247, 'D004700': 26248, 'D005767': 26249, 'D006402': 26250, 'D017094': 26251, 'C000619': 26252, 'D019142': 26253, 'C537014': 43622, 'D001049': 43624, 'D004630': 43625, 'C567730': 43627, 'D004409': 43628, 'D005910': 43629, 'D055370': 43630, 'D055371': 43631, 'D007511': 43632, 'D001523': 43633, 'D001169': 43634, 'D002292': 43635, 'D006930': 43637, 'D007035': 43638, 'D051437': 43640, 'D066126': 43641, 'C535533': 43642, 'C567932': 43643, 'D001661': 43644, 'D005706': 43645, 'D011125': 43646, 'D021441': 43647, 'D030342': 43648, 'C535575': 43650, 'C538231': 43651, 'D002813': 43652, 'D008113': 43653, 'D001791': 43654, 'D016638': 43655, 'D009336': 43656, 'D006526': 43657, 'D056486': 43658, 'D001024': 43660, 'C536214': 43661, 'D003141': 43663, 'D005355': 43665, 'D006461': 43666, 'D010523': 43667, 'D014456': 43668, 'D065626': 43669, 'D000163': 43670, 'D000386': 43671, 'D000748': 43672, 'D006331': 43673, 'D007153': 43674, 'D007970': 43675, 'D012892': 43676, 'D028361': 43677, 'D054038': 43678, 'D063646': 43679, 'D008415': 43682, 'D003072': 43684, 'D008569': 43685, 'D016649': 43686, 'D017093': 43687, 'D002318': 43689, 'D006948': 43690, 'D009410': 43691, 'D009461': 43692, 'D000014': 43693, 'D002544': 43694, 'D006940': 43695, 'D009059': 43696, 'D013272': 43697, 'D017202': 43698, 'D018923': 43699, 'D019851': 43700, 'D054092': 43701, 'D006332': 43702, 'D019636': 43703, 'D000699': 43704, 'D002545': 43705, 'D002779': 43706, 'D002780': 43707, 'D014202': 43708, 'D040181': 43709, 'D046351': 43710, 'D010048': 43711, 'D000592': 43712, 'D019283': 43713, 'D017827': 43715, 'D008944': 43716, 'D018281': 43717, 'C536030': 43719, 'C537345': 43720, 'D006521': 43721, 'D048629': 43722, 'D004194': 43724, 'D014328': 43725, 'C535349': 43726, 'C535541': 43727, 'C535607': 43728, 'C537880': 43729, 'C564481': 43730, 'C566236': 43731, 'D001930': 43732, 'D002659': 43733, 'D003092': 43734, 'D005315': 43735, 'D006258': 43736, 'D007647': 43737, 'D008659': 43738, 'D009155': 43739, 'D010510': 43740, 'D012174': 43741, 'D015861': 43742, 'D011164': 43743, 'D008577': 43745, 'D016393': 43746, 'D064419': 43747, 'D006986': 43748, 'D056784': 43749, 'C538394': 43750, 'D002658': 43751, 'D006009': 43752, 'D009069': 43753, 'D011041': 43754, 'C535887': 43755, 'C536391': 43756, 'C536528': 43757, 'C537676': 43758, 'C537904': 43759, 'C538343': 43760, 'C538429': 43761, 'C563738': 43762, 'C564004': 43763, 'C564286': 43764, 'C566031': 43765, 'C566132': 43766, 'C566417': 43767, 'C566844': 43768, 'C566985': 43769, 'C567159': 43770, 'D000013': 43771, 'D000140': 43772, 'D000377': 43773, 'D001157': 43774, 'D001161': 43775, 'D001165': 43776, 'D001260': 43777, 'D001284': 43778, 'D001855': 43779, 'D002032': 43780, 'D002526': 43781, 'D002561': 43782, 'D002769': 43783, 'D003128': 43784, 'D003244': 43785, 'D003680': 43786, 'D004195': 43787, 'D004213': 43788, 'D005124': 43789, 'D005234': 43790, 'D005235': 43791, 'D005316': 43792, 'D005317': 43793, 'D005705': 43794, 'D005715': 43795, 'D006319': 43796, 'D006362': 43797, 'D006556': 43798, 'D006945': 43799, 'D006951': 43800, 'D008101': 43801, 'D008104': 43802, 'D008831': 43803, 'D009216': 43804, 'D009357': 43805, 'D009421': 43806, 'D009463': 43807, 'D010181': 43808, 'D010182': 43809, 'D010698': 43810, 'D011596': 43811, 'D012421': 43812, 'D012678': 43813, 'D013009': 43814, 'D013119': 43815, 'D013568': 43816, 'D013610': 43817, 'D014652': 43818, 'D014694': 43819, 'D014766': 43820, 'D014786': 43821, 'D015673': 43822, 'D016135': 43823, 'D016609': 43824, 'D016736': 43825, 'D017544': 43826, 'D017695': 43827, 'D018268': 43828, 'D018376': 43829, 'D018754': 43830, 'D019465': 43831, 'D020279': 43832, 'D020915': 43833, 'D053120': 43834, 'D054079': 43835, 'D061085': 43836, 'D064806': 43837, 'C548080': 43841, 'D001927': 43842, 'D005955': 43843, 'D006311': 43844, 'D007154': 43845, 'D009135': 43846, 'D012128': 43847, 'D015775': 43848, 'D020151': 43849, 'D020964': 43850, 'D021182': 43851, 'D001926': 43853, 'D002543': 43854, 'D003444': 43855, 'D018746': 43856, 'D019282': 43857, 'C536751': 43858, 'C538659': 43859, 'D006984': 43860, 'D020138': 43861, 'C538053': 43862, 'D017241': 43863, 'D020244': 43864, 'C538052': 43865, 'D001206': 43866, 'D016731': 43867, 'C536915': 43868, 'D002386': 43869, 'D003409': 43870, 'D006043': 43871, 'D013959': 43872, 'D013967': 43873, 'D007842': 43875, 'D009468': 43877, 'D006959': 43878, 'D008375': 43879, 'D008661': 43880, 'D011502': 43881, 'D002286': 43882, 'C535598': 43883, 'C563598': 43884, 'C566179': 43885, 'D001796': 43886, 'D002375': 43887, 'D006130': 43888, 'D013651': 43889, 'D016779': 43890, 'D018883': 43891, 'D049950': 43892, 'D055090': 43893, 'D011488': 43894, 'C536778': 43895, 'C565957': 43896, 'D019970': 43897, 'D020426': 43898, 'D003875': 43899, 'D007680': 43900, 'C567355': 43901, 'D057049': 43902, 'D016301': 43903, 'C562602': 43904, 'C564991': 43905, 'C565217': 43906, 'C565446': 43907, 'C566991': 43908, 'D000208': 43909, 'D000236': 43910, 'D004916': 43911, 'D005901': 43912, 'D005921': 43913, 'D006259': 43914, 'D006946': 43915, 'D009136': 43916, 'D009223': 43917, 'D011218': 43918, 'D012893': 43919, 'D056128': 43920, 'D000783': 43921, 'D001018': 43922, 'D001100': 43923, 'D002532': 43924, 'D006406': 43925, 'D006408': 43926, 'D007238': 43927, 'D007859': 43928, 'D013595': 43929, 'D015840': 43930, 'D018455': 43931, 'D019586': 43932, 'D020214': 43933, 'C563551': 43934, 'D018235': 43935, 'D019294': 43936, 'C567552': 43939, 'D004802': 43940, 'D016603': 43941, 'D020447': 43942, 'D001327': 43943, 'D008171': 43944, 'D017563': 43945, 'C536832': 43946, 'C537426': 43947, 'C538646': 43948, 'D002277': 43949, 'D009759': 43950, 'D015427': 43951, 'D044342': 43952, 'D050031': 43953, 'C538324': 43954, 'D015431': 43955, 'D003117': 43956, 'D018288': 43957, 'C538320': 43958, 'D004828': 43959, 'D009127': 43960, 'D011027': 43961, 'D016857': 43962, 'D053608': 43963, 'C537527': 43964, 'D054069': 43965, 'D009373': 43968, 'D056693': 43969, 'D005077': 43971, 'C536917': 43973, 'C562645': 43974, 'C565534': 43975, 'D010859': 43976, 'D018496': 43977, 'D018500': 43978, 'D019446': 43979, 'D058225': 43980, 'D009901': 43982, 'D011115': 43983, 'D016472': 43984, 'D018149': 43985, 'D020336': 43986, 'D056807': 43987, 'C537358': 43988, 'D007040': 43989, 'D014511': 43990, 'D062787': 43991, 'C535662': 43992, 'D006965': 43993, 'D007972': 43994, 'D009062': 43995, 'D012878': 43996, 'D018290': 43997, 'D018308': 43998, 'D062688': 43999, 'C562750': 44000, 'D006463': 44001, 'D012595': 44002, 'D019578': 44003, 'D000326': 44005, 'D052536': 44006, 'C564877': 44007, 'D034381': 44008, 'D001321': 44010, 'D008231': 44011, 'D009205': 44012, 'D009894': 44013, 'D061205': 44014, 'D018882': 44015, 'D007951': 44016, 'D019337': 44017, 'C536353': 44018, 'C536560': 44019, 'D000012': 44020, 'D002340': 44021, 'D002908': 44022, 'D006053': 44023, 'D007662': 44024, 'D050500': 44025, 'D054219': 44026, 'D004062': 44027, 'D011236': 44028, 'D014012': 44029, 'D012162': 44030, 'C538275': 44031, 'D004417': 44032, 'C536058': 44033, 'D001745': 44034, 'D009222': 44035, 'D052177': 44036, 'D001847': 44037, 'D002921': 44038, 'D053565': 44039, 'D016411': 44040, 'C536980': 44042, 'C564650': 44043, 'C566847': 44044, 'D000230': 44045, 'D007945': 44046, 'D015456': 44047, 'D015471': 44048, 'D044542': 44049, 'D020388': 44051, 'C536063': 44052, 'C565730': 44053, 'D012173': 44054, 'D016111': 44055, 'D016750': 44056, 'C538380': 44057, 'D012164': 44058, 'D010381': 44059, 'C566852': 44061, 'D005067': 44062, 'D006044': 44063, 'D008286': 44064, 'D013577': 44066, 'D002637': 44070, 'D003286': 44071, 'D004881': 44072, 'D007184': 44073, 'D007691': 44074, 'D009081': 44075, 'D016534': 44076, 'D018880': 44077, 'D020243': 44078, 'D007077': 44079, 'D003147': 44082, 'D008586': 44083, 'D013290': 44084, 'D004605': 44088, 'D008118': 44089, 'D001068': 44091, 'D001883': 44092, 'D023903': 44093, 'D058288': 44094, 'C531821': 44095, 'D013224': 44096, 'D053448': 44097, 'C537622': 44104, 'D000130': 44106, 'C566443': 44107, 'D020159': 44110, 'D006963': 44113, 'D009133': 44114, 'D055948': 44115, 'D015267': 44116, 'D025861': 44118, 'D058456': 44119, 'C536174': 44120, 'C536772': 44121, 'D001987': 44122, 'D009175': 44123, 'D011018': 44124, 'D020275': 44125, 'D065703': 44126, 'D007890': 44128, 'D018327': 44129, 'D004556': 44131, 'C536652': 44132, 'D006849': 44133, 'D003645': 44134, 'D062025': 44136, 'C537262': 44138, 'C537751': 44139, 'C562689': 44140, 'D000472': 44141, 'D002295': 44142, 'D007011': 44143, 'D009123': 44144, 'D009397': 44145, 'D018476': 44146, 'D020773': 44147, 'D006971': 44148, 'D019214': 44149, 'C562377': 44150, 'D053842': 44151, 'C563468': 44152, 'D005128': 44153, 'D007174': 44154, 'D064250': 44155, 'D056732': 44156, 'D001017': 44157, 'D011274': 44158, 'D014592': 44159, 'D016471': 44160, 'D016491': 44161, 'D004314': 44162, 'D004819': 44166, 'D010916': 44167, 'D016399': 44168, 'D017490': 44169, 'D016136': 44171, 'C535694': 44172, 'C536766': 44173, 'D003677': 44174, 'D006944': 44175, 'D007039': 44176, 'D008556': 44177, 'D018980': 44178, 'C563425': 44179, 'C538243': 44181, 'D004427': 44187, 'D020221': 44189, 'C535844': 44190, 'C536494': 44191, 'C565742': 44192, 'D003095': 44193, 'D003229': 44194, 'D007941': 44195, 'D011475': 44196, 'D011668': 44197, 'D015814': 44198, 'D015834': 44199, 'D015858': 44200, 'D019048': 44201, 'D057851': 44202, 'D006223': 44203, 'D020767': 44204, 'D013118': 44207, 'D010939': 44208, 'D005483': 44210, 'D028243': 44211, 'C536176': 44213, 'C536962': 44214, 'D002276': 44215, 'D011183': 44216, 'D020230': 44217, 'C536201': 44220, 'C538007': 44222, 'D006869': 44224, 'D000008': 44225, 'D000142': 44226, 'D006935': 44227, 'D009102': 44228, 'D020271': 44229, 'C538001': 44230, 'D001816': 44233, 'D005458': 44234, 'D009050': 44235, 'D003389': 44236, 'D013661': 44240, 'D018319': 44241, 'D020274': 44242, 'C564747': 44243, 'D008177': 44244, 'D014382': 44245, 'C535338': 44246, 'D006099': 44247, 'D013789': 44248, 'D041781': 44249, 'D006316': 44251, 'D014085': 44252, 'D003251': 44254, 'C562856': 44257, 'D017204': 44258, 'C537156': 44268, 'D012170': 44270, 'D020270': 44271, 'C563952': 44273, 'C565043': 44274, 'D005600': 44275, 'D007029': 44276, 'D007635': 44277, 'D009800': 44278, 'D015526': 44279, 'D018295': 44280, 'D020363': 44281, 'D020754': 44282, 'D029461': 44283, 'D059445': 44284, 'D058545': 44285, 'C565152': 44287, 'C535504': 44296, 'D014188': 44299, 'D011697': 44301, 'D008133': 44305, 'D015458': 44306, 'D016510': 44307, 'D054221': 44308, 'D006985': 44310, 'D012216': 44311, 'D002493': 44313, 'D002972': 44314, 'D019954': 44315, 'D020295': 44316, 'D057772': 44318, 'C535500': 44319, 'D020182': 44320, 'C565532': 44321, 'D002869': 44322, 'D006627': 44323, 'D014777': 44324, 'D017495': 44325, 'D065310': 44326, 'D001656': 44327, 'D003108': 44328, 'D004383': 44329, 'D007410': 44330, 'D007415': 44331, 'D009386': 44332, 'D013182': 44333, 'D015209': 44334, 'D018205': 44335, 'D019082': 44336, 'D046729': 44337, 'D052556': 44338, 'D014517': 44340, 'D001064': 44343, 'C535468': 44345, 'D010532': 44349, 'D012163': 44351, 'D004401': 44354, 'C537963': 44357, 'C562834': 44358, 'C563178': 44359, 'C565230': 44360, 'D016512': 44361, 'D056487': 44362, 'D015877': 44364, 'D054220': 44365, 'D001342': 44366, 'D004461': 44367, 'D016489': 44368, 'D017682': 44369, 'D018804': 44376, 'D002303': 44381, 'D003328': 44382, 'D004422': 44383, 'D004660': 44384, 'D010235': 44385, 'D016757': 44386, 'D017253': 44387, 'D040701': 44388, 'D005536': 44389, 'C536394': 44390, 'C536469': 44391, 'C536657': 44392, 'C566014': 44393, 'C566173': 44394, 'D000608': 44395, 'D001010': 44396, 'D002446': 44397, 'D002636': 44398, 'D003699': 44399, 'D005166': 44400, 'D005770': 44401, 'D007968': 44402, 'D009401': 44403, 'D010927': 44404, 'D012497': 44405, 'D012555': 44406, 'D015799': 44407, 'D020163': 44408, 'D020238': 44409, 'D020760': 44410, 'D020774': 44411, 'D057096': 44412, 'C538282': 44414, 'C562390': 44415, 'C562757': 44416, 'C564108': 44417, 'D004619': 44418, 'D006478': 44419, 'D009084': 44420, 'D013915': 44421, 'D014115': 44422, 'D015819': 44423, 'D016114': 44424, 'D048550': 44425, 'D054243': 44426, 'C535761': 44428, 'C537806': 44429, 'C566610': 44430, 'D000380': 44431, 'D000419': 44432, 'D001022': 44433, 'D006977': 44434, 'D006978': 44435, 'D009393': 44436, 'D011660': 44437, 'D012735': 44438, 'D014524': 44439, 'D017379': 44440, 'D017512': 44441, 'D020211': 44442, 'D020257': 44443, 'D020936': 44444, 'D011559': 44445, 'D008232': 44447, 'D065906': 44448, 'D006344': 44449, 'D016706': 44450, 'D066253': 44451, 'D015835': 44455, 'D058246': 44456, 'C537844': 44458, 'D018239': 44459, 'D011230': 44466, 'C537470': 44469, 'C538178': 44470, 'D000857': 44471, 'C535814': 44476, 'C535841': 44477, 'C535979': 44478, 'C536857': 44479, 'C538044': 44480, 'C538223': 44481, 'C538250': 44482, 'C563613': 44483, 'C565292': 44484, 'C566112': 44485, 'C566404': 44486, 'C580003': 44487, 'D000303': 44488, 'D000741': 44489, 'D001025': 44490, 'D001167': 44491, 'D001649': 44492, 'D001768': 44493, 'D001845': 44494, 'D001941': 44495, 'D001997': 44496, 'D002349': 44497, 'D002524': 44498, 'D002761': 44499, 'D003638': 44500, 'D003639': 44501, 'D004617': 44502, 'D004679': 44503, 'D004940': 44504, 'D005155': 44505, 'D005158': 44506, 'D005184': 44507, 'D006104': 44508, 'D006617': 44509, 'D006939': 44510, 'D006970': 44511, 'D007007': 44512, 'D007244': 44513, 'D007248': 44514, 'D007405': 44515, 'D007567': 44516, 'D007592': 44517, 'D007625': 44518, 'D007818': 44519, 'D008068': 44520, 'D008173': 44521, 'D008471': 44522, 'D008480': 44523, 'D009140': 44524, 'D009214': 44525, 'D009220': 44526, 'D009260': 44527, 'D009395': 44528, 'D009443': 44529, 'D009916': 44530, 'D009920': 44531, 'D010020': 44532, 'D010034': 44533, 'D010049': 44534, 'D010192': 44535, 'D010198': 44536, 'D010386': 44537, 'D010688': 44538, 'D010900': 44539, 'D010922': 44540, 'D011006': 44541, 'D011127': 44542, 'D011504': 44543, 'D011695': 44544, 'D011843': 44545, 'D012185': 44546, 'D012598': 44547, 'D013130': 44548, 'D013163': 44549, 'D013734': 44550, 'D013898': 44551, 'D014135': 44552, 'D014388': 44553, 'D014396': 44554, 'D014607': 44555, 'D014770': 44556, 'D015175': 44557, 'D015275': 44558, 'D015433': 44559, 'D015434': 44560, 'D015436': 44561, 'D015823': 44562, 'D015864': 44563, 'D015882': 44564, 'D016697': 44565, 'D017043': 44566, 'D017439': 44567, 'D017564': 44568, 'D017565': 44569, 'D018159': 44570, 'D018275': 44571, 'D018324': 44572, 'D018917': 44573, 'D019588': 44574, 'D020019': 44575, 'D020209': 44576, 'D020333': 44577, 'D020338': 44578, 'D031300': 44579, 'D036981': 44580, 'D045169': 44581, 'D051359': 44582, 'D053099': 44583, 'D054331': 44584, 'D055732': 44585, 'D056770': 44586, 'D057765': 44587, 'D058490': 44588, 'D058890': 44589, 'D008417': 44591, 'C535702': 44593, 'D007333': 44594, 'D012774': 44595, 'D015211': 44596, 'D058065': 44597, 'D005832': 44605, 'D006529': 44606, 'C567712': 44609, 'C562942': 44610, 'D006620': 44611, 'C537903': 44612, 'C535700': 44614, 'D015440': 44615, 'D007021': 44616, 'D014564': 44617, 'D001259': 44619, 'D007027': 44620, 'C567640': 44624, 'D004844': 44625, 'D005265': 44626, 'D017542': 44627, 'D007888': 44629, 'D009072': 44632, 'C565384': 44636, 'C535408': 44637, 'C562729': 44639, 'D007644': 44640, 'D009456': 44641, 'D013555': 44642, 'D017237': 44643, 'D000782': 44648, 'D017029': 44649, 'D005885': 44655, 'D000747': 44660, 'D005264': 44662, 'D056730': 44667, 'D009959': 44669, 'D012298': 44676, 'C562694': 44678, 'D004829': 44679, 'D005198': 44680, 'D009139': 44681, 'D012183': 44682, 'D016137': 44683, 'D017588': 44684, 'D020190': 44685, 'D011017': 44689, 'D058739': 44692, 'D014353': 44693, 'D015325': 44694, 'C567703': 44697, 'D006432': 44698, 'D017086': 44699, 'D018512': 44700, 'C536987': 44702, 'C562839': 44703, 'D002796': 44704, 'D010921': 44705, 'D010996': 44706, 'D012218': 44707, 'D019965': 44708, 'D058625': 44709, 'C566291': 44710, 'D008589': 44712, 'D012167': 44713, 'D007571': 44714, 'C535326': 44715, 'D019957': 44716, 'D020031': 44717, 'D020069': 44718, 'D008945': 44719, 'D003428': 44723, 'D008311': 44724, 'D005402': 44725, 'D014946': 44726, 'D020220': 44727, 'D017825': 44728, 'D004244': 44730, 'D060085': 44731, 'C566544': 44736, 'C562463': 44740, 'D004681': 44741, 'D013584': 44742, 'D054508': 44743, 'D010677': 44745, 'C566917': 44753, 'D007939': 44759, 'D010212': 44760, 'C535830': 44761, 'C536572': 44762, 'C536649': 44763, 'C562709': 44764, 'C562785': 44765, 'D006059': 44766, 'D007713': 44767, 'D009845': 44768, 'D011469': 44769, 'D014424': 44770, 'D015324': 44771, 'D018567': 44772, 'D018633': 44773, 'D056828': 44774, 'C535725': 44775, 'C538388': 44776, 'C563733': 44777, 'D003528': 44778, 'D013683': 44779, 'C537145': 44780, 'C537153': 44781, 'C562790': 44782, 'C562793': 44783, 'C564600': 44784, 'D014869': 44785, 'D053579': 44786, 'C537842': 44794, 'C535860': 44795, 'C537372': 44796, 'C565141': 44797, 'D001988': 44798, 'D003323': 44799, 'D003453': 44800, 'D003925': 44801, 'D005131': 44802, 'D005271': 44803, 'D005322': 44804, 'D006559': 44805, 'D007964': 44806, 'D010509': 44807, 'D011649': 44808, 'D012585': 44809, 'D015207': 44810, 'D015618': 44811, 'D015862': 44812, 'D017359': 44813, 'D017700': 44814, 'D019534': 44815, 'D029503': 44816, 'D042101': 44817, 'D054319': 44818, 'D055113': 44821, 'D019305': 44825, 'D005148': 44827, 'D012600': 44828, 'C536202': 44834, 'C565779': 44836, 'C563010': 44840, 'D001982': 44841, 'D007079': 44847, 'C537268': 44848, 'D059366': 44853, 'C536644': 44854, 'D010524': 44855, 'C537700': 44858, 'D050815': 44859, 'D006547': 44860, 'D017541': 44861, 'D017880': 44862, 'D006552': 44867, 'D012536': 44872, 'C538639': 44873, 'D006212': 44877, 'D065817': 44878, 'C567307': 44880, 'D005882': 44881, 'D016511': 44882, 'C535434': 44885, 'C538145': 44886, 'C538543': 44887, 'D000022': 44888, 'D001195': 44889, 'C535648': 44890, 'D008850': 44891, 'D015448': 44892, 'D018365': 44893, 'D000435': 44894, 'D016108': 44895, 'D002547': 44902, 'C565498': 44909, 'D009408': 44911, 'D006349': 44916, 'D018630': 44917, 'D011561': 44919, 'C562576': 44921, 'C565336': 44922, 'D002282': 44924, 'D017887': 44925, 'C563209': 44926, 'D005354': 44927, 'D010031': 44928, 'D010998': 44929, 'D010855': 44931, 'D001766': 44934, 'C563242': 44935, 'D006555': 44936, 'D046150': 44937, 'C536627': 44938, 'D001162': 44939, 'D001164': 44940, 'D006502': 44941, 'D011666': 44942, 'D013478': 44943, 'D014715': 44944, 'D015459': 44945, 'D020765': 44946, 'D055501': 44947, 'D016537': 44948, 'C563184': 44951, 'D065630': 44958, 'D010995': 44962, 'C535516': 44964, 'C562787': 44965, 'D010018': 44968, 'D014983': 44972, 'D018442': 44974, 'D056648': 44975, 'D009083': 44986, 'D014627': 44990, 'D004421': 44993, 'C536109': 44999, 'D002095': 45001, 'D001478': 45009, 'C531673': 45010, 'C536512': 45011, 'D018302': 45012, 'D018316': 45013, 'D007414': 45026, 'D018267': 45033, 'D019559': 45035, 'D061387': 45039, 'C536181': 45040, 'D013494': 45041, 'C535456': 45042, 'D008178': 45043, 'D010390': 45044, 'D015432': 45045, 'D016893': 45046, 'D018459': 45047, 'D020293': 45048, 'D045743': 45049, 'D056627': 45050, 'C535426': 45051, 'C564422': 45052, 'C580477': 45053, 'D009634': 45054, 'D017453': 45055, 'C538109': 45057, 'C565121': 45058, 'D000648': 45059, 'D017889': 45061, 'C535950': 45065, 'C538265': 45066, 'D004240': 45067, 'D005313': 45068, 'D012021': 45069, 'D018981': 45070, 'D019217': 45071, 'D019973': 45072, 'D020433': 45073, 'D055154': 45074, 'D002527': 45076, 'C540694': 45077, 'C562643': 45081, 'D001237': 45082, 'D014826': 45083, 'D054549': 45085, 'D059265': 45087, 'C563250': 45088, 'D055589': 45089, 'D005359': 45090, 'D059266': 45091, 'C563401': 45092, 'C565659': 45093, 'D020158': 45094, 'C537775': 45095, 'C563801': 45096, 'C537778': 45098, 'C562487': 45099, 'D053098': 45100, 'D009261': 45101, 'C535305': 45102, 'C537245': 45103, 'D009122': 45104, 'C536283': 45105, 'C580335': 45106, 'D010494': 45107, 'D015508': 45108, 'D019547': 45109, 'D046748': 45110, 'D018234': 45111, 'D060831': 45112, 'C535932': 45113, 'D017034': 45114, 'D017169': 45116, 'D007638': 45117, 'D007640': 45118, 'C537188': 45120, 'D013705': 45121, 'D002189': 45122, 'D006345': 45123, 'D000160': 45125, 'D046290': 45126, 'D012206': 45129, 'D017699': 45130, 'D065311': 45135, 'D009889': 45137, 'D018248': 45140, 'D016142': 45142, 'D020925': 45143, 'D059411': 45156, 'D008072': 45161, 'D007690': 45187, 'D007681': 45198, 'D054685': 45201, 'D008413': 45208, 'D003316': 45218, 'D065646': 45219, 'C536194': 45243, 'D011671': 45247, 'D019247': 45249, 'D064090': 45257, 'D014247': 45268, 'D011305': 45278, 'D018215': 45280, 'D053713': 45283, 'C535890': 45287, 'D020208': 45292, 'C567009': 45303, 'D010292': 45316, 'D043171': 45318, 'D006317': 45319, 'D020520': 45320, 'D055959': 45324, 'D007967': 45339, 'C537357': 45343, 'D014545': 45348, 'D008946': 45357, 'C567125': 45360, 'D056150': 45361, 'D007639': 45363, 'D000724': 45365, 'D009784': 45368, 'C536227': 45370, 'D017454': 45373, 'D057868': 45374, 'D001859': 45387, 'C562992': 45390, 'D018636': 45391, 'C536897': 45406, 'C536444': 45409, 'C567172': 45412, 'D010319': 45413, 'D012080': 45414, 'D015878': 45430, 'D065632': 45433, 'D004814': 45438, 'D013684': 45441, 'D017824': 45442, 'D010954': 45443, 'C536883': 45452, 'D012829': 45459, 'C536599': 45467, 'D003161': 45468, 'D005497': 45478, 'D010272': 45481, 'D014355': 45482, 'D009494': 45486, 'D003048': 45493, 'D055963': 45503, 'C535905': 45509, 'D010007': 45510, 'D010243': 45512, 'C567296': 45514, 'C537047': 45518, 'C538322': 45531, 'C564230': 45534, 'C538107': 45535, 'C538225': 45540, 'C537425': 45551, 'D000785': 45554, 'D052878': 45561, 'C537330': 45564, 'C566282': 45565, 'D065290': 45566, 'D006530': 45570, 'D006876': 45571, 'D020191': 45572, 'D015356': 45577, 'C565846': 45581, 'D012804': 45583, 'D013924': 45589, 'D053684': 45590, 'D059373': 45591, 'D003668': 45615, 'D007871': 45616, 'D008557': 45633, 'D052517': 45641, 'D023981': 45642, 'D054429': 45643, 'D054438': 45644, 'D053840': 45647, 'D007971': 45654, 'C564417': 45657, 'D058267': 45658, 'D006925': 45663, 'D009914': 45667, 'C537500': 45669, 'D020955': 45670, 'D046728': 45682, 'D046730': 45683, 'D015868': 45684, 'D013981': 45690, 'D002278': 45692, 'C535297': 45699, 'D020241': 45704, 'D001763': 45706, 'D063766': 45707, 'D001264': 45712, 'C536835': 45716, 'D002115': 45726, 'C535588': 45744, 'C536591': 45748, 'D004443': 45749, 'D004671': 45758, 'C536047': 45760, 'D001848': 45761, 'D005357': 45762, 'D010000': 45763, 'D012019': 45764, 'D020083': 45765, 'D030981': 45766, 'D013984': 45768, 'C535721': 45769, 'C536209': 45771, 'C538153': 45772, 'D020347': 45780, 'D016107': 45788, 'C535850': 45802, 'C538068': 45803, 'C536096': 45815, 'D020195': 45816, 'D050798': 45817, 'D009449': 45820, 'D001437': 45831, 'C536561': 45832, 'D062788': 45845, 'D014076': 45849, 'C536277': 45859, 'C537025': 45862, 'C537503': 45863, 'D007119': 45864, 'D015463': 45865, 'D018253': 45866, 'D054062': 45867, 'D054066': 45868, 'D020078': 45870, 'D023921': 45871, 'D010123': 45875, 'C536187': 45883, 'C564403': 45884, 'D002429': 45885, 'D017240': 45886, 'D017246': 45887, 'D006941': 45893, 'D016109': 45895, 'D010309': 45910, 'D017036': 45919, 'C548016': 45938, 'C564589': 45939, 'D011602': 45940, 'D009349': 45946, 'C580055': 45950, 'D013801': 45953, 'D014062': 45955, 'D017099': 45958, 'C562924': 45965, 'D008141': 45978, 'D020189': 45980, 'D008582': 45986, 'D007645': 45993, 'C562587': 45995, 'D000267': 46005, 'D016063': 46006, 'D018307': 46007, 'D020518': 46008, 'D008209': 46009, 'D016369': 46013, 'D013919': 46014, 'D003649': 46017, 'D007418': 46024, 'D010689': 46025, 'D000745': 46028, 'D014096': 46031, 'D004890': 46033, 'D001882': 46043, 'C564174': 46045, 'D006215': 46052, 'D020345': 46056, 'D016873': 46058, 'D009794': 46065, 'D054068': 46066, 'C538191': 46067, 'D047508': 46068, 'C535689': 46070, 'D044882': 46074, 'D011019': 46097, 'D020288': 46099, 'D015355': 46105, 'D059446': 46144, 'D015837': 46155, 'C564741': 46159, 'D007619': 46160, 'D009783': 46165, 'D005621': 46168, 'D013896': 46183, 'D020516': 46184, 'C563177': 46193, 'D041441': 46197, 'D019292': 46213, 'C536141': 46217, 'D016774': 46218, 'D010237': 46225, 'D009442': 46234, 'D012553': 46235, 'C564945': 46240, 'D020432': 46241, 'D020435': 46242, 'D051299': 46243, 'D055111': 46244, 'D056650': 46245, 'D015161': 46257, 'C538499': 46260, 'D018329': 46263, 'D012771': 46267, 'C569516': 46274, 'D008271': 46275, 'D059249': 46276, 'C536108': 46283, 'D019955': 46284, 'D005759': 46287, 'D004410': 46291, 'D001765': 46307, 'D053560': 46308, 'D007766': 46314, 'D006232': 46316, 'D057873': 46317, 'D065627': 46318, 'D007566': 46330, 'D005870': 46334, 'D005888': 46350, 'D007222': 46351, 'D012806': 46355, 'D014077': 46358, 'D011009': 46366, 'C566759': 46373, 'D056929': 46374, 'C536271': 46398, 'D010899': 46399, 'D014262': 46400, 'C538445': 46402, 'D016543': 46403, 'D018278': 46404, 'D002559': 46406, 'D002012': 46409, 'D057215': 46410, 'C537702': 46420, 'D008206': 46421, 'D009358': 46422, 'D020821': 46423, 'D051270': 46424, 'C536311': 46428, 'D012140': 46435, 'C563534': 46439, 'D020177': 46440, 'D054972': 46441, 'C537415': 46444, 'D006474': 46452, 'C537417': 46456, 'D014804': 46471, 'C565346': 46475, 'D057768': 46487, 'C537017': 46496, 'D002538': 46499, 'D006998': 46506, 'D010279': 46509, 'C564835': 46510, 'D018287': 46511, 'D058405': 46512, 'C536228': 46523, 'C536589': 46524, 'D003221': 46525, 'D014256': 46526, 'D015518': 46527, 'D020385': 46528, 'D051302': 46529, 'C538273': 46539, 'D012766': 46542, 'D014842': 46558, 'C536961': 46559, 'D007826': 46561, 'D018497': 46571, 'D004687': 46580, 'D054000': 46591, 'C535661': 46593, 'D000168': 46594, 'D000370': 46595, 'D006395': 46596, 'D017566': 46605, 'D019571': 46612, 'D017499': 46622, 'C536943': 46623, 'D001650': 46624, 'D002296': 46625, 'D004701': 46626, 'D010490': 46627, 'D014565': 46628, 'D014571': 46629, 'D004673': 46631, 'C536711': 46650, 'D046628': 46666, 'C535679': 46678, 'D007794': 46680, 'C537876': 46685, 'C565469': 46686, 'D000257': 46687, 'D006566': 46688, 'D011213': 46689, 'D004756': 46694, 'D008554': 46695, 'D058565': 46696, 'C537799': 46697, 'D011023': 46698, 'D012466': 46699, 'D014496': 46700, 'D014855': 46701, 'D017728': 46702, 'D018352': 46703, 'D007946': 46704, 'D007984': 46720, 'D049912': 46723, 'D019701': 46732, 'D002357': 46738, 'D039682': 46739, 'D048909': 46740, 'D058426': 46741, 'D064752': 46742, 'D015479': 46756, 'D045729': 46762, 'C538154': 46769, 'D012133': 46770, 'D013771': 46771, 'D014474': 46772, 'D020294': 46773, 'C535471': 46790, 'C562470': 46798, 'D004893': 46799, 'D010201': 46800, 'D020945': 46801, 'D056735': 46802, 'D001655': 46805, 'D057045': 46806, 'C567079': 46809, 'D000532': 46810, 'D002341': 46815, 'D000210': 46832, 'D009100': 46839, 'D020200': 46840, 'D052439': 46841, 'D001989': 46845, 'C531667': 46866, 'C537241': 46867, 'C562730': 46868, 'D002285': 46869, 'D044504': 46870, 'D057090': 46871, 'D018203': 46875, 'D065606': 46891, 'D010554': 46894, 'D003715': 46910, 'D003398': 46923, 'C538115': 46925, 'C535672': 46932, 'D003966': 46933, 'D001862': 46942, 'D000382': 46946, 'C569627': 46971, 'D002388': 46989, 'C535509': 46990, 'C537968': 46991, 'D012563': 46992, 'D012569': 46993, 'D019969': 46994, 'D021081': 46995, 'D004184': 47001, 'D001037': 47009, 'D004670': 47010, 'D000474': 47014, 'D018335': 47028, 'D055397': 47039, 'D051298': 47057, 'D061325': 47063, 'C535858': 47081, 'D015428': 47084, 'D001176': 47086, 'D002128': 47090, 'D011681': 47102, 'D018614': 47112, 'C563515': 47124, 'D053627': 47128, 'D004541': 47130, 'C536392': 47134, 'C566506': 47147, 'D002037': 47148, 'D014515': 47151, 'D053039': 47152, 'D053159': 47153, 'D010004': 47158, 'D005517': 47164, 'D008080': 47167, 'C537206': 47168, 'D009371': 47173, 'D044584': 47179, 'C566635': 47198, 'C535944': 47206, 'D018318': 47207, 'C535952': 47208, 'D016535': 47209, 'D054515': 47210, 'D007869': 47217, 'C580065': 47222, 'D008538': 47223, 'D012560': 47224, 'D018467': 47225, 'D057180': 47226, 'D016410': 47230, 'D017731': 47231, 'D013132': 47246, 'C531767': 47252, 'C535780': 47253, 'C537296': 47254, 'D005350': 47255, 'D017496': 47256, 'D020252': 47257, 'D034701': 47258, 'D051677': 47259, 'D054989': 47260, 'D000564': 47262, 'D002558': 47270, 'D015299': 47271, 'D016908': 47272, 'D054908': 47273, 'D060467': 47274, 'D007706': 47281, 'D020278': 47285, 'C538370': 47290, 'C563195': 47291, 'D018208': 47292, 'D060446': 47324, 'D060586': 47325, 'D004414': 47326, 'D006453': 47327, 'D059228': 47328, 'D018241': 47332, 'D018277': 47337, 'D016469': 47340, 'D008172': 47341, 'D010522': 47342, 'D060585': 47343, 'D050032': 47355, 'D062027': 47360, 'C535390': 47366, 'D019457': 47368, 'C585640': 47369, 'D018366': 47371, 'D057767': 47372, 'C537466': 47387, 'D003103': 47392, 'D009464': 47393, 'D012207': 47394, 'D014402': 47395, 'D018207': 47396, 'D018242': 47397, 'C567258': 47403, 'D007863': 47407, 'D017543': 47413, 'C536905': 47426, 'D011553': 47427, 'D054067': 47428, 'D057770': 47429, 'C535600': 47432, 'D009507': 47442, 'D010017': 47451, 'D004769': 47459, 'D011371': 47462, 'D006623': 47473, 'D005588': 47478, 'D012872': 47479, 'C531603': 47488, 'D022125': 47491, 'C535808': 47520, 'D002609': 47521, 'D007952': 47522, 'D010265': 47523, 'D053718': 47524, 'D011693': 47528, 'C580075': 47552, 'D057867': 47557, 'D053632': 47560, 'C538347': 47561, 'D006486': 47583, 'D009198': 47584, 'D010373': 47585, 'C567642': 47587, 'D052496': 47588, 'D003449': 47593, 'D010304': 47605, 'C566021': 47616, 'D054141': 47636, 'D009145': 47679, 'C536911': 47706, 'C562399': 47707, 'D016878': 47742, 'D017488': 47756, 'D018323': 47757, 'D018450': 47758, 'D019043': 47759, 'D008114': 47761, 'D002057': 47763, 'D005126': 47764, 'D006482': 47767, 'D009378': 47770, 'D001983': 47772, 'D018325': 47773, 'D054364': 47774, 'C537267': 47777, 'D010282': 47790, 'C537055': 47804, 'C531622': 47827, 'D001996': 47836, 'D048090': 47837, 'D012851': 47839, 'D004482': 47857, 'D019339': 47878, 'C580334': 47884, 'C564658': 47893, 'D014029': 47909, 'D016464': 47911, 'D013161': 47922, 'D056824': 47923, 'D014071': 47935, 'D006390': 48000, 'D016586': 48001, 'D041881': 48019, 'D019522': 48024, 'D011123': 48036, 'D009304': 48039, 'D006029': 48089, 'C564878': 48107, 'D005512': 48148, 'D028227': 48170, 'D009508': 48212, 'D017486': 48213, 'D031249': 48214, 'D020192': 48215, 'D008218': 48216, 'C563907': 48217, 'D008590': 48241, 'D007922': 48251, 'D020785': 48271, 'D010025': 48280, 'D054747': 48283, 'C563985': 48291, 'D006030': 48314, 'C535506': 48407, 'C563906': 48408, 'C566223': 48409, 'C574275': 48410, 'D017593': 48411, 'D020967': 48412, 'C537895': 48414, 'D003926': 48415, 'C535474': 48416, 'C537069': 48417, 'C566067': 48418, 'D020194': 48419, 'D004760': 48423, 'D012226': 48427, 'D012130': 48430, 'C536395': 48432, 'D005928': 48433, 'D007617': 48434, 'D009886': 48435, 'D015828': 48436, 'D016112': 48437, 'D017515': 48438, 'D017733': 48439, 'D018792': 48440, 'D020804': 48441, 'C483999': 48442, 'C535682': 48443, 'D013611': 48444, 'D013614': 48445, 'D054138': 48446, 'D056830': 48447, 'D059325': 48448, 'D011547': 48449, 'C563601': 48450, 'C564645': 48451, 'C564858': 48452, 'D005911': 48453, 'D006012': 48454, 'D018420': 48455, 'C537007': 48456, 'C563032': 48457, 'D000796': 48458, 'D001265': 48459, 'D006101': 48460, 'D006417': 48461, 'D010391': 48462, 'D010495': 48463, 'D010623': 48464, 'D011129': 48465, 'D013706': 48466, 'D014126': 48467, 'D015866': 48468, 'D016463': 48469, 'D016727': 48470, 'D018887': 48471, 'D019595': 48472, 'D044483': 48473, 'D055622': 48474, 'D059885': 48475, 'C536089': 48477, 'D059245': 48478, 'D059246': 48479, 'C535310': 48480, 'C537238': 48481, 'C548481': 48482, 'C562451': 48483, 'C562568': 48484, 'C564971': 48485, 'C564983': 48486, 'D000015': 48487, 'D002310': 48488, 'D003665': 48489, 'D006525': 48490, 'D007340': 48491, 'D011900': 48492, 'D012562': 48493, 'D013955': 48494, 'D018921': 48495, 'D019512': 48496, 'D020938': 48497, 'D054082': 48498, 'D063647': 48499, 'D009896': 48500, 'C535833': 48501, 'C562688': 48502, 'D020512': 48503, 'C535953': 48505, 'C563004': 48506, 'C563365': 48507, 'D005311': 48508, 'D065666': 48509, 'D000379': 48513, 'D010259': 48514, 'D003490': 48515, 'D018783': 48516, 'D005585': 48518, 'D007562': 48519, 'D006819': 48520, 'D018458': 48521, 'D006988': 48524, 'D001308': 48525, 'D006969': 48527, 'D006981': 48528, 'D008064': 48529, 'D054139': 48530, 'D004408': 48531, 'D020186': 48532, 'C535601': 48533, 'C538013': 48534, 'C537301': 48535, 'D020762': 48536, 'C537492': 48537, 'D003744': 48538, 'D003057': 48539, 'D020233': 48540, 'C564159': 48541, 'C531629': 48542, 'D002821': 48543, 'D006192': 48544, 'D008584': 48545, 'D014570': 48546, 'D056586': 48547, 'C536334': 48551, 'D012734': 48552, 'C564703': 48561, 'D006392': 48562, 'D016888': 48563, 'D001913': 48565, 'D005534': 48566, 'D007642': 48567, 'D018246': 48568, 'C538064': 48570, 'D002607': 48571, 'D005757': 48572, 'D011051': 48573, 'D018979': 48574, 'D056987': 48575, 'C531754': 48576, 'C566800': 48577, 'D000026': 48578, 'D003123': 48579, 'D009105': 48580, 'D009668': 48581, 'D013341': 48582, 'D013901': 48583, 'D020217': 48584, 'D020766': 48585, 'C563939': 48586, 'C565524': 48587, 'D005207': 48588, 'C536827': 48589, 'C564935': 48590, 'C566730': 48591, 'D006956': 48592, 'D007499': 48593, 'D012030': 48594, 'D018251': 48595, 'D046248': 48596, 'D008230': 48599, 'D010382': 48600, 'D016606': 48601, 'D002781': 48602, 'D006429': 48604, 'D011782': 48605, 'D015419': 48606, 'D016738': 48607, 'D054969': 48608, 'D002971': 48614, 'D059407': 48617, 'C567652': 48619, 'D001651': 48620, 'D041761': 48621, 'D050497': 48622, 'D003414': 48623, 'D005693': 48624, 'D005878': 48625, 'D028921': 48626, 'C562735': 48628, 'C538213': 48629, 'C562472': 48630, 'D008202': 48631, 'D013724': 48632, 'D013733': 48633, 'D018191': 48634, 'D020863': 48635, 'D005747': 48636, 'D018227': 48637, 'D018328': 48638, 'D005119': 48639, 'C535402': 48642, 'C537072': 48643, 'C537516': 48644, 'D001039': 48645, 'D004652': 48646, 'D005687': 48647, 'D010468': 48648, 'D008546': 48649, 'D017599': 48650, 'D010291': 48653, 'D015174': 48654, 'D015417': 48655, 'C563261': 48656, 'C564523': 48657, 'D020141': 48658, 'D017573': 48661, 'D034321': 48663, 'D000751': 48665, 'D001733': 48666, 'D005117': 48667, 'D010038': 48668, 'D012279': 48670, 'D014808': 48671, 'D016506': 48672, 'C531728': 48673, 'C535939': 48674, 'C536890': 48675, 'C562600': 48676, 'C566111': 48677, 'C566415': 48678, 'C566478': 48679, 'C567751': 48680, 'D002805': 48681, 'D004476': 48682, 'D018256': 48683, 'D019867': 48684, 'D058747': 48685, 'D065634': 48686, 'D012909': 48687, 'D010483': 48688, 'D019553': 48689, 'D003719': 48691, 'D005597': 48692, 'C536380': 48693, 'C536438': 48694, 'D002422': 48695, 'D059226': 48696, 'D004283': 48697, 'D009224': 48699, 'D010009': 48700, 'D019310': 48701, 'D020386': 48702, 'C563786': 48703, 'D002754': 48704, 'C537629': 48705, 'C565561': 48706, 'C536611': 48707, 'D004919': 48708, 'D007829': 48709, 'D009497': 48710, 'D009506': 48711, 'D012224': 48712, 'D013352': 48713, 'D018252': 48714, 'D018322': 48715, 'D030361': 48716, 'D052798': 48717, 'D057896': 48718, 'D019575': 48719, 'D020739': 48720, 'D001002': 48721, 'C538167': 48727, 'C562935': 48728, 'D009212': 48729, 'D017254': 48731, 'C536408': 48733, 'D038061': 48735, 'D005734': 48736, 'D016715': 48737, 'D013969': 48738, 'D017714': 48739, 'D000232': 48740, 'D042883': 48744, 'C567924': 48745, 'C538249': 48747, 'D004751': 48749, 'D010284': 48750, 'D012612': 48751, 'C536974': 48753, 'D004368': 48754, 'D009057': 48755, 'D010485': 48756, 'D063466': 48757, 'C566784': 48759, 'C536522': 48760, 'C566617': 48761, 'D000306': 48762, 'D003003': 48763, 'C562584': 48764, 'D012400': 48765, 'C531854': 48766, 'C535444': 48767, 'C565705': 48768, 'D002137': 48769, 'D002313': 48770, 'D009366': 48771, 'D020371': 48772, 'D036841': 48777, 'D000126': 48778, 'D000361': 48779, 'D004382': 48780, 'D004942': 48781, 'D010035': 48782, 'D015009': 48783, 'D025063': 48784, 'C537472': 48785, 'C563020': 48786, 'C563236': 48787, 'C564777': 48788, 'D002291': 48789, 'D002305': 48790, 'D006106': 48791, 'D010842': 48792, 'D014523': 48793, 'D018198': 48794, 'D018240': 48795, 'C562799': 48797, 'C536106': 48798, 'D004420': 48799, 'D014623': 48800, 'D016575': 48801, 'D060737': 48802, 'D009839': 48804, 'D004108': 48805, 'D053578': 48806, 'C544351': 48807, 'C566109': 48808, 'D000425': 48809, 'D018658': 48810, 'D014848': 48813, 'D000987': 48814, 'D012561': 48815, 'D019952': 48816, 'C535477': 48818, 'D001014': 48819, 'D012090': 48820, 'D013158': 48821, 'D013398': 48822, 'C531616': 48824, 'D020968': 48825, 'D056660': 48826, 'D057891': 48827, 'C564190': 48829, 'C566123': 48830, 'C562385': 48831, 'D013952': 48832, 'C538407': 48833, 'D001098': 48834, 'D010489': 48835, 'D011696': 48836, 'D012593': 48837, 'D014884': 48838, 'D015012': 48839, 'C536784': 48840, 'D015208': 48841, 'D002102': 48842, 'D006456': 48843, 'D009104': 48844, 'D009394': 48845, 'D014313': 48848, 'C535276': 48853, 'C536281': 48854, 'C566283': 48855, 'D002279': 48856, 'D008216': 48857, 'D008947': 48858, 'D056647': 48859, 'D056653': 48860, 'C535293': 48862, 'C565655': 48863, 'C537374': 48864, 'D011289': 48865, 'D005935': 48866, 'C535764': 48867, 'D014591': 48868, 'D019871': 48869, 'D050010': 48870, 'C536693': 48871, 'D000507': 48872, 'D012227': 48873, 'D015441': 48874, 'D056005': 48875, 'D056006': 48876, 'D008067': 48879, 'C537477': 48880, 'C580424': 48882, 'D022861': 48883, 'D056725': 48884, 'C535531': 48885, 'C536369': 48886, 'C538238': 48887, 'C565974': 48888, 'D007235': 48889, 'D013086': 48890, 'D013708': 48891, 'D056124': 48892, 'D062706': 48893, 'C537849': 48894, 'D006679': 48895, 'D007409': 48898, 'C537150': 48900, 'D006983': 48901, 'D046768': 48902, 'D012202': 48905, 'D055034': 48906, 'D015827': 48907, 'C567108': 48908, 'D000033': 48909, 'D001019': 48910, 'D014625': 48911, 'D028226': 48912, 'D014973': 48915, 'D012848': 48919, 'D053421': 48920, 'D002288': 48921, 'C564461': 48923, 'D010040': 48930, 'D006519': 48935, 'D063425': 48936, 'D007775': 48941, 'D054880': 48943, 'C537537': 48944, 'C537738': 48945, 'D009846': 48946, 'D013206': 48947, 'D020267': 48948, 'D030321': 48949, 'C537258': 48950, 'C537771': 48951, 'D004933': 48952, 'D006335': 48953, 'D008204': 48954, 'D014138': 48955, 'D018273': 48956, 'C537770': 48957, 'C565143': 48958, 'D012488': 48959, 'D017282': 48960, 'D054039': 48961, 'D004172': 48963, 'D017001': 48964, 'C536170': 48965, 'D006469': 48967, 'C564145': 48969, 'C566379': 48970, 'D010438': 48971, 'D011665': 48972, 'D012791': 48973, 'D018330': 48974, 'D007876': 48976, 'D016869': 48977, 'D061270': 48980, 'D064129': 48982, 'D005831': 48984, 'D005833': 48985, 'D006964': 48986, 'D008679': 48987, 'D014189': 48988, 'D014847': 48989, 'D036821': 48990, 'D056887': 48991, 'D059952': 48992, 'D014392': 48994, 'D014398': 48995, 'D054080': 48999, 'D018304': 49000, 'C564967': 49001, 'D007873': 49003, 'C566358': 49005, 'D050030': 49006, 'D054971': 49007, 'D038223': 49008, 'D010026': 49009, 'C563448': 49011, 'D001446': 49012, 'D004483': 49013, 'D007636': 49014, 'D012983': 49015, 'C536080': 49017, 'D000757': 49018, 'D007805': 49019, 'D011254': 49020, 'D052879': 49021, 'D003763': 49022, 'D005633': 49023, 'D006008': 49024, 'D059347': 49025, 'C535755': 49026, 'C536050': 49030, 'C565433': 49031, 'D020817': 49032, 'C564543': 49033, 'D002372': 49035, 'D016724': 49036, 'D016868': 49037, 'C537208': 49043, 'C535306': 49044, 'C535838': 49045, 'C536351': 49046, 'C536411': 49047, 'C537881': 49048, 'C538041': 49049, 'C538655': 49050, 'C565820': 49051, 'C567658': 49052, 'D002249': 49053, 'D004377': 49054, 'D005953': 49055, 'D007870': 49056, 'D007905': 49057, 'D012607': 49058, 'D031261': 49059, 'D060437': 49060, 'D000310': 49070, 'D003784': 49071, 'C565834': 49078, 'C562875': 49082, 'D001261': 49083, 'D001928': 49084, 'D005393': 49085, 'C538011': 49087, 'C566403': 49088, 'C535280': 49094, 'C535569': 49095, 'C535668': 49096, 'C537422': 49097, 'C537877': 49098, 'C567520': 49099, 'D000182': 49100, 'D016711': 49101, 'D020236': 49102, 'D043204': 49103, 'D053682': 49104, 'C567893': 49107, 'D011007': 49108, 'D015435': 49109, 'D017520': 49110, 'D020042': 49111, 'D006450': 49115, 'D016751': 49116, 'C536414': 49117, 'C567546': 49118, 'D007232': 49119, 'D014845': 49120, 'D000793': 49123, 'C567786': 49124, 'D001183': 49125, 'D001477': 49126, 'D006831': 49127, 'D006994': 49128, 'D009999': 49129, 'D013580': 49130, 'D015499': 49131, 'D016104': 49132, 'C535842': 49134, 'C564546': 49135, 'D010022': 49138, 'C538458': 49141, 'C562618': 49142, 'D006211': 49143, 'D011004': 49144, 'D054144': 49145, 'D058535': 49146, 'C562695': 49147, 'C567088': 49148, 'C536092': 49149, 'D004654': 49150, 'D014375': 49151, 'D014384': 49152, 'D014387': 49153, 'D014394': 49154, 'D014401': 49155, 'D058606': 49157, 'D045822': 49158, 'C536483': 49160, 'D002534': 49161, 'D058529': 49162, 'D010915': 49164, 'C535741': 49166, 'D016269': 49167, 'D000417': 49168, 'D017436': 49170, 'C563513': 49171, 'D006987': 49172, 'D011128': 49173, 'D012783': 49174, 'D059348': 49175, 'D004675': 49176, 'D002252': 49179, 'C565111': 49180, 'D001072': 49181, 'D014084': 49182, 'D017096': 49183, 'D024801': 49184, 'D018219': 49185, 'D005242': 49186, 'C538497': 49187, 'D015217': 49188, 'C566593': 49190, 'D000037': 49191, 'D058226': 49194, 'D020199': 49195, 'D020299': 49196, 'C535740': 49198, 'C563602': 49199, 'C531698': 49202, 'D006209': 49203, 'D012517': 49204, 'D000052': 49208, 'D010871': 49209, 'D020179': 49210, 'D058496': 49211, 'D063371': 49212, 'D057174': 49214, 'C536826': 49215, 'C535300': 49216, 'C535331': 49217, 'D000170': 49218, 'D007718': 49219, 'D009767': 49222, 'D050177': 49223, 'C537734': 49226, 'D004428': 49227, 'D020065': 49228, 'C536779': 49229, 'D002418': 49231, 'C537077': 49232, 'C537167': 49233, 'D005736': 49234, 'D010283': 49235, 'D012592': 49236, 'D017514': 49237, 'D031845': 49238, 'D031954': 49239, 'D065173': 49240, 'C580280': 49246, 'D001247': 49253, 'D004688': 49254, 'D006479': 49255, 'D009187': 49256, 'D009188': 49257, 'D013124': 49258, 'D014911': 49259, 'D015472': 49260, 'C543092': 49261, 'D013436': 49262, 'D017109': 49263, 'D019846': 49264, 'D005834': 49265, 'D010497': 49266, 'D011528': 49267, 'D016776': 49268, 'D019557': 49269, 'D020808': 49270, 'D065309': 49271, 'C565662': 49272, 'C536245': 49273, 'C537034': 49274, 'D013282': 49275, 'C535981': 49276, 'D016483': 49277, 'C564593': 49281, 'D005671': 49282, 'D017092': 49283, 'D013606': 49285, 'C564323': 49287, 'D014525': 49290, 'D058442': 49291, 'D045823': 49292, 'C567089': 49293, 'C537984': 49295, 'D058069': 49296, 'C562801': 49297, 'D004935': 49298, 'D005330': 49299, 'D003333': 49301, 'C536590': 49305, 'C538136': 49306, 'D055031': 49307, 'C562719': 49311, 'C565476': 49312, 'D017789': 49313, 'D018058': 49317, 'D020886': 49318, 'C535984': 49320, 'D014412': 49322, 'C565972': 49326, 'D010520': 49327, 'C537475': 49329, 'C565711': 49330, 'D001753': 49331, 'D001990': 49332, 'D004618': 49333, 'D004620': 49334, 'D004692': 49335, 'D005627': 49336, 'D012178': 49337, 'D013166': 49338, 'D014133': 49339, 'D017380': 49340, 'D019896': 49341, 'D020167': 49342, 'D020802': 49343, 'D053207': 49344, 'D000712': 49347, 'D058066': 49348, 'D009078': 49349, 'D041882': 49350, 'C566250': 49351, 'C562580': 49355, 'D004820': 49356, 'D012303': 49357, 'D017098': 49358, 'D013590': 49360, 'D000039': 49362, 'D000169': 49363, 'D011038': 49364, 'D012793': 49365, 'D013592': 49366, 'D016720': 49367, 'C535494': 49368, 'C536213': 49373, 'D007966': 49374, 'C537766': 49378, 'D005886': 49379, 'D005889': 49380, 'D004677': 49382, 'D012035': 49385, 'D001935': 49387, 'D055013': 49391, 'D055008': 49401, 'D005244': 49403, 'D014095': 49404, 'C564697': 49413, 'D053447': 49414, 'D012554': 49417, 'D020818': 49418, 'D049328': 49419, 'D004489': 49420, 'C538377': 49422, 'C536801': 49423, 'C535299': 49425, 'D010845': 49426, 'D015605': 49427, 'D020196': 49428, 'D004899': 49429, 'D018489': 49430, 'C563984': 49431, 'C537892': 49434, 'C562830': 49435, 'C564793': 49436, 'D001251': 49437, 'D011662': 49438, 'D016170': 49439, 'D012422': 49441, 'D017219': 49442, 'D010185': 49443, 'D006373': 49448, 'C536254': 49449, 'C566449': 49450, 'D006960': 49451, 'D014125': 49452, 'D011686': 49454, 'C535501': 49459, 'C537182': 49460, 'C536231': 49465, 'D015794': 49466, 'C536183': 49467, 'D056266': 49468, 'D006480': 49469, 'D007835': 49470, 'D018184': 49471, 'D028922': 49472, 'C537111': 49473, 'D049914': 49475, 'C538235': 49476, 'D005547': 49477, 'D009165': 49478, 'D014395': 49479, 'D054312': 49480, 'D010923': 49482, 'D013615': 49484, 'C536166': 49487, 'D000820': 49488, 'D018226': 49489, 'D000343': 49491, 'D020437': 49492, 'D020966': 49493, 'C566737': 49496, 'D000844': 49497, 'D003607': 49498, 'D005549': 49499, 'D005660': 49500, 'D058345': 49501, 'C531609': 49503, 'C536013': 49504, 'C536210': 49505, 'D011546': 49506, 'C562405': 49508, 'D009221': 49509, 'C564384': 49510, 'C535461': 49515, 'D003969': 49516, 'C563573': 49519, 'C537026': 49520, 'C537221': 49521, 'C567410': 49522, 'D009917': 49523, 'D011842': 49524, 'D014972': 49525, 'D018311': 49526, 'D054517': 49527, 'D014393': 49529, 'D007516': 49531, 'C535384': 49536, 'D058494': 49537, 'C535540': 49538, 'D009021': 49539, 'C567782': 49544, 'C531617': 49545, 'C536264': 49546, 'D004204': 49548, 'D006618': 49549, 'D057068': 49550, 'D057925': 49551, 'D006338': 49557, 'D007973': 49558, 'D018310': 49559, 'D019968': 49560, 'D058495': 49563, 'C538028': 49564, 'C563192': 49566, 'C563714': 49567, 'D016862': 49568, 'D020425': 49569, 'C564321': 49571, 'D004320': 49572, 'C536510': 49573, 'D016583': 49580, 'C562732': 49582, 'C562768': 49583, 'C564049': 49584, 'C565547': 49589, 'D010547': 49591, 'D004416': 49595, 'D014985': 49596, 'D016113': 49597, 'D020434': 49598, 'C537630': 49601, 'C535970': 49602, 'D034801': 49616, 'D020165': 49620, 'C535933': 49622, 'C535935': 49623, 'C536525': 49625, 'D015511': 49626, 'D016659': 49627, 'C563405': 49628, 'D006337': 49629, 'D014685': 49630, 'D018233': 49631, 'C538556': 49632, 'C538281': 49633, 'C566826': 49634, 'D010257': 49635, 'D004198': 49636, 'D014897': 49637, 'D056684': 49638, 'C536683': 49640, 'D005532': 49641, 'C535620': 49646, 'D008363': 49647, 'D009755': 49648, 'C566419': 49659, 'D002471': 49661, 'D016602': 49662, 'D014597': 49664, 'D055112': 49665, 'C536681': 49666, 'C531654': 49667, 'D001079': 49668, 'D008201': 49669, 'D008303': 49670, 'C537530': 49672, 'C537663': 49673, 'C562486': 49674, 'D008883': 49675, 'D021183': 49676, 'D055653': 49677, 'D017088': 49682, 'D021865': 49683, 'D054988': 49684, 'C536972': 49685, 'D020953': 49686, 'C000591739': 49687, 'D009384': 49688, 'D011707': 49689, 'C567934': 49690, 'D000784': 49691, 'D058926': 49692, 'D004445': 49694, 'D017129': 49695, 'C536439': 49696, 'D020339': 49700, 'C537505': 49702, 'C537346': 49705, 'C567547': 49706, 'D005141': 49707, 'D005929': 49708, 'D051799': 49709, 'C535982': 49710, 'C538356': 49711, 'C562907': 49712, 'C567382': 49713, 'D008924': 49714, 'D015785': 49715, 'D017590': 49716, 'D055952': 49717, 'D015576': 49718, 'D018457': 49719, 'D020146': 49720, 'D056988': 49721, 'C562420': 49723, 'C566740': 49724, 'D006175': 49725, 'D057129': 49726, 'C562393': 49730, 'C538339': 49731, 'D018243': 49732, 'C536168': 49733, 'C562481': 49734, 'D008065': 49735, 'D018195': 49736, 'D004535': 49738, 'D008199': 49740, 'D016917': 49741, 'D015616': 49743, 'C537907': 49744, 'D020184': 49745, 'D009360': 49749, 'D051516': 49753, 'D008287': 49755, 'D015154': 49756, 'C564570': 49757, 'D009521': 49759, 'C537181': 49761, 'D017823': 49763, 'C538054': 49764, 'D004678': 49765, 'D012805': 49766, 'C562647': 49772, 'D007014': 49773, 'C562479': 49775, 'D010864': 49777, 'D054078': 49779, 'C564063': 49784, 'D020139': 49785, 'C535729': 49786, 'C536240': 49787, 'C537727': 49788, 'D006010': 49789, 'D006222': 49790, 'D010580': 49791, 'D044148': 49792, 'D053549': 49793, 'D054973': 49794, 'D057092': 49795, 'D058249': 49796, 'C535803': 49802, 'D020786': 49805, 'C564578': 49830, 'D007757': 49834, 'D001899': 49840, 'D029502': 49846, 'D012608': 49857, 'C566651': 49863, 'D004859': 49902, 'D057130': 49924, 'C536122': 49940, 'C562378': 49948, 'D020016': 50010, 'C566056': 50014, 'C535866': 50046, 'C537038': 50047, 'C537577': 50048, 'C537845': 50134, 'D007579': 50169, 'C565530': 50222, 'D049288': 50283, 'C535869': 50350, 'D008949': 50351, 'D009232': 50352, 'D010145': 50353, 'D018279': 50354, 'C537705': 50376, 'C535730': 50386, 'D016582': 50401, 'D030401': 50413, 'D017085': 50441, 'C535387': 50447, 'D012192': 50503, 'C537761': 50506, 'D038901': 50507, 'C538240': 50570, 'D000567': 50571, 'C537004': 50581, 'D018270': 50583, 'C565310': 50590, 'C564735': 50594, 'D034081': 50601, 'D054081': 50652, 'C537560': 50673, 'D016643': 50676, 'D018370': 50693, 'C535706': 50717, 'C536920': 50718, 'C567059': 50719, 'D018761': 50720, 'C538387': 50736, 'C536309': 50738, 'D009375': 50739, 'D019042': 50740, 'D058540': 50744, 'C566933': 50751, 'D020362': 50788, 'D018306': 50793, 'C564143': 50805, 'C564818': 50806, 'D018296': 50809, 'C567260': 50826, 'D058499': 50829, 'C567484': 50833, 'C562873': 50849, 'D001506': 50865, 'D009477': 50874, 'D054091': 50879, 'D006933': 50897, 'D018177': 50912, 'C562741': 50915, 'D009455': 50916, 'D009810': 50917, 'D018262': 50918, 'C537389': 50919, 'D049290': 50920, 'C535466': 50939, 'D002806': 50943, 'C537565': 50945, 'C564591': 50960, 'C564766': 50961, 'C538355': 50973, 'C537627': 50976, 'D035583': 50977, 'D004694': 50980, 'D007969': 50985, 'D015831': 50986, 'D053546': 50989, 'C536446': 50992, 'C566369': 51014, 'C565935': 51015, 'C537699': 51019, 'D020788': 51020, 'D052120': 51024, 'D007673': 51034, 'D018282': 51035, 'D049292': 51036, 'D004612': 51049, 'C565850': 51064, 'D018877': 51065, 'D007105': 51081, 'D012327': 51082, 'C536290': 51084, 'C535579': 51103, 'D038921': 51134, 'D016884': 51152, 'C536423': 51163, 'D017772': 51166, 'C563237': 51180, 'C566492': 51183, 'D052245': 51197, 'D018886': 51202, 'C536207': 51222, 'C566007': 51235, 'D013631': 51239, 'D052456': 51240, 'D007947': 51278, 'C536600': 51280, 'C537377': 51296, 'C565666': 51312, 'C536757': 51349, 'D054752': 51351, 'C562646': 51361, 'D006850': 51372, 'C537519': 51394, 'D013103': 51396, 'C535557': 51403, 'C536385': 51404, 'C537908': 51405, 'D007417': 51409, 'C566260': 51416, 'D020212': 51417, 'D052476': 51418, 'D016657': 51419, 'D055534': 51421, 'C538212': 51422, 'C537653': 51436, 'D055577': 51438, 'D006691': 51448, 'C536489': 51453, 'C564653': 51454, 'D004604': 51465, 'C566928': 51466, 'C563740': 51479, 'C563240': 51480, 'C537409': 51489, 'D020642': 51515, 'D020511': 51519, 'C565455': 51522, 'C535943': 51537, 'D056733': 51539, 'C564245': 51542, 'C565054': 51546, 'D016183': 51547, 'D005642': 51561, 'D018232': 51567, 'C566719': 51577, 'C536817': 51598, 'D057973': 51605, 'C536045': 51615, 'C535788': 51621, 'C537207': 51622, 'C537352': 51626, 'C538049': 51628, 'D053358': 51629, 'C566906': 51630, 'D065708': 51631, 'C536587': 51640, 'C535819': 51646, 'C536586': 51648, 'C536004': 51652, 'D012415': 51655, 'C564577': 51656, 'C537521': 51657, 'C536979': 51661, 'C563319': 51668, 'C536399': 51670, 'D047728': 51674, 'C537592': 51677, 'C580472': 51684, 'D057971': 51690, 'C566438': 51691, 'C536196': 51700, 'C565706': 51701, 'D004613': 51722, 'C535563': 51723, 'C562943': 51724, 'C536549': 51742, 'C563544': 51751, 'D053359': 51779, 'C536467': 51781, 'C579969': 51787, 'C536456': 51791, 'D016518': 51793, 'D020389': 51804, 'C572568': 51808, 'D054740': 51811, 'C536842': 51824, 'D013160': 51825, 'D045262': 51826, 'D054463': 51828, 'C563262': 51836, 'C536506': 51844, 'D006341': 51845, 'D016388': 51846, 'D029241': 51847, 'D048968': 51848, 'D058566': 51849, 'D059345': 51850, 'D065635': 51851, 'D005097': 51858, 'D019280': 51863, 'C562388': 51878, 'C580316': 51903, 'D016890': 51904, 'D056846': 51908, 'C536211': 51910, 'C535507': 51923, 'C538582': 51925, 'C562937': 51926, 'C537710': 51933, 'D016864': 51951, 'D013586': 51958, 'C565634': 51960, 'C562722': 51963, 'D007960': 51964, 'C536697': 51968, 'C537093': 51991, 'D038261': 51994, 'D000742': 52004, 'C535919': 52008, 'C536075': 52010, 'C537300': 52015, 'D017689': 52016, 'D054975': 52017, 'D055673': 52018, 'C537045': 52026, 'D002539': 52031, 'C537340': 52036, 'C536316': 52043, 'C535589': 52057, 'D014898': 52060, 'C537247': 52071, 'D001357': 52090, 'D054019': 52093, 'C538138': 52095, 'C565128': 52106, 'D018220': 52107, 'D012468': 52109, 'C538152': 52117, 'C537431': 52122, 'C562465': 52123, 'D058631': 52130, 'C536287': 52151, 'C536954': 52154, 'C536293': 52166, 'D014516': 52173, 'C565209': 52189, 'C565924': 52192, 'D056685': 52193, 'C535687': 52217, 'C566130': 52228, 'C535978': 52231, 'D018303': 52249, 'C565232': 52264, 'D010585': 52265, 'D007589': 52274, 'C548032': 52277, 'C535750': 52284, 'D020720': 52285, 'C537989': 52288, 'D009440': 52302, 'C566822': 52307, 'C553654': 52313, 'C537437': 52321, 'C536687': 52334, 'C567453': 52340, 'D004066': 52358, 'D003788': 52359, 'C537384': 52365, 'C537185': 52368, 'D018876': 52378, 'D017545': 52396, 'C580083': 52399, 'C536723': 52419, 'C537988': 52424, 'D015467': 52434, 'C538010': 52441, 'C536463': 52506, 'D000652': 52512, 'C536946': 52522, 'C537236': 52538, 'C562490': 52540, 'D021181': 52551, 'C538647': 52562, 'D020914': 52563, 'C566889': 52565, 'C564525': 52573, 'C536485': 52579, 'C537633': 52582, 'D020752': 52601, 'D018317': 52609, 'D020943': 52623, 'D046589': 52624, 'D009542': 52627, 'C537277': 52629, 'D007738': 52631, 'C565606': 52639, 'D020255': 52650, 'C535581': 52653, 'D003805': 52654, 'D003811': 52655, 'C535395': 52656, 'D018424': 52658, 'D014849': 52671, 'D015783': 52674, 'D055956': 52691, 'C562903': 52695, 'D001035': 52710, 'C566897': 52726, 'C537148': 52736, 'D000848': 52737, 'D053360': 52738, 'C567596': 52744, 'D056151': 52749, 'C563918': 52751, 'D016098': 52759, 'D034062': 52760, 'C566636': 52777, 'D058627': 52778, 'C566194': 52791, 'C562938': 52794, 'C562864': 52801, 'C537373': 52819, 'C536769': 52823, 'C537875': 52824, 'D018202': 52825, 'C535301': 52826, 'C563120': 52834, 'D019572': 52837, 'C535357': 52843, 'C537160': 52881, 'C564185': 52886, 'C537251': 52889, 'D065707': 52898, 'D065166': 52910, 'C537952': 52955, 'D014594': 52957, 'D016545': 52959, 'C562590': 52977, 'C562591': 52978, 'C562592': 52986, 'D018213': 52997, 'C537027': 53007, 'C535733': 53027, 'C538287': 53030, 'C567767': 53042, 'D002759': 53049, 'C536937': 53068, 'C537403': 53075, 'D054391': 53090, 'D000231': 53094, 'D056729': 53096, 'D018382': 53127, 'C564254': 53128, 'C564992': 53135, 'C536520': 53137, 'C537533': 53149, 'C531633': 53153, 'C537005': 53154, 'D057085': 53155, 'C563233': 53157, 'D053307': 53168, 'D000853': 53186, 'C536184': 53187, 'C535602': 53196, 'D015593': 53197, 'D016115': 53212, 'C567727': 53243, 'C567570': 53259, 'C536830': 53273, 'C564479': 53274, 'C536008': 53280, 'D014929': 53283, 'C538189': 53291, 'C562727': 53293, 'C536677': 53294, 'C564484': 53296, 'D003394': 53299, 'D003557': 53300, 'C538090': 53305, 'C562559': 53312, 'C538258': 53317, 'C537369': 53321, 'C580062': 53322, 'C535578': 53327, 'D013576': 53328, 'D054882': 53329, 'D018231': 53338, 'C565803': 53339, 'C564485': 53341, 'D003616': 53348, 'C535317': 53362, 'C536858': 53394, 'C537786': 53412, 'C566121': 53422, 'D050033': 53423, 'C567467': 53441, 'C563476': 53443, 'D057177': 53444, 'C538175': 53451, 'D054868': 53458, 'D058497': 53462, 'C535576': 53467, 'C537923': 53468, 'C538089': 53469, 'C564554': 53470, 'C535396': 53476, 'C536573': 53477, 'C537873': 53478, 'C564876': 53522, 'C536133': 53525, 'C565009': 53532, 'C535382': 53535, 'C537429': 53538, 'C563557': 53539, 'C537286': 53552, 'D018201': 53554, 'C562876': 53566, 'C567791': 53572, 'C562443': 53582, 'C536717': 53586, 'C565255': 53587, 'C538070': 53596, 'D055652': 53601, 'C564275': 53604, 'C537343': 53607, 'C535776': 53641, 'C536648': 53662, 'C566366': 53663, 'C535804': 53667, 'C566273': 53673, 'C536482': 53679, 'D038062': 53686, 'C536990': 53693, 'D013364': 53707, 'D001304': 53709, 'D020144': 53716, 'C548012': 53723, 'C564612': 53726, 'D001924': 53727, 'C562704': 53728, 'C565529': 53740, 'D011297': 53741, 'C536426': 53747, 'C566331': 53764, 'C536735': 53785, 'C565027': 53794, 'C563256': 53798, 'D065705': 53799, 'D015452': 53803, 'C567102': 53809, 'C537070': 53816, 'D001890': 53822, 'C537701': 53827, 'C538420': 53830, 'D005645': 53842, 'C538251': 53844, 'D009400': 53879, 'D000746': 53888, 'D006995': 53908, 'C565808': 53918, 'C564871': 53922, 'C538157': 53932, 'D010255': 53951, 'D060725': 53953, 'C563983': 53998, 'C536632': 54003, 'D015619': 54005, 'C567203': 54015, 'C536420': 54023, 'C538424': 54026, 'C564052': 54035, 'D018249': 54039, 'D006343': 54042, 'C564908': 54045, 'C536787': 54051, 'D006011': 54061, 'C536833': 54069, 'C536107': 54089, 'C536604': 54094, 'C537995': 54097, 'C562492': 54103, 'D006201': 54120, 'D000708': 54124, 'C564393': 54129, 'C535322': 54139, 'C537404': 54140, 'C562707': 54141, 'C565805': 54142, 'D001139': 54143, 'D008591': 54144, 'D025962': 54145, 'C537871': 54149, 'C537308': 54153, 'C536068': 54160, 'C566591': 54166, 'C536457': 54196, 'C537210': 54197, 'C564609': 54198, 'D054546': 54216, 'D018245': 54221, 'D005733': 54222, 'C537750': 54238, 'C565304': 54239, 'C565732': 54251, 'D049932': 54259, 'D060426': 54261, 'C537158': 54262, 'C562429': 54263, 'C562934': 54264, 'C538375': 54272, 'C538005': 54282, 'C548075': 54285, 'C548077': 54286, 'D001063': 54287, 'D011556': 54288, 'D006058': 54292, 'C536458': 54306, 'D001606': 54307, 'D024182': 54340, 'C580383': 54356, 'C537412': 54363, 'C536623': 54364, 'D003074': 54382, 'D004370': 54383, 'C562880': 54403, 'C566996': 54420, 'C536343': 54444, 'D065706': 54452, 'C564221': 54456, 'C537015': 54472, 'C536928': 54473, 'D018196': 54494, 'C537459': 54503, 'D003317': 54504, 'D014060': 54529, 'C565652': 54547, 'C538363': 54562, 'D042822': 54590, 'D002804': 54623, 'C566945': 54629, 'D049913': 54658, 'C538137': 54667, 'D019189': 54668, 'C564972': 54687, 'D008998': 54703, 'C536221': 54710, 'C580329': 54713, 'C536922': 54714, 'D012753': 54717, 'D055009': 54733, 'D005409': 54763, 'C535627': 54800, 'D001998': 54807, 'C562583': 54821, 'C536447': 54838, 'D057165': 54841, 'D007412': 54854, 'C537124': 54858, 'C537998': 54869, 'D007965': 54877, 'D017444': 54878, 'C537858': 54887, 'D006250': 54908, 'D002812': 54916, 'D001353': 54919, 'C536377': 54924, 'C535530': 54926, 'C562386': 54927, 'D014063': 54929, 'D012088': 54933, 'D020805': 54935, 'C536382': 54945, 'C563867': 54946, 'C564816': 54947, 'D056731': 54948, 'C537993': 54969, 'C537088': 54979, 'D052582': 54980, 'D013581': 54982, 'D019873': 54983, 'C557815': 54986, 'D018344': 54988, 'C537362': 54991, 'C566082': 54992, 'C537067': 54994, 'C537501': 54995, 'C538117': 54996, 'C538262': 54997, 'D002581': 54998, 'C565427': 55000, 'D011776': 55001, 'D018284': 55002, 'C535815': 55007, 'D019318': 55008, 'C538012': 55015, 'D013362': 55018, 'C567308': 55038, 'D017044': 55041, 'C535554': 55051, 'C535743': 55052, 'C537354': 55053, 'C538336': 55054, 'C563514': 55055, 'C564219': 55056, 'C567425': 55057, 'D003923': 55058, 'D005320': 55059, 'D024821': 55060, 'D044343': 55061, 'D015418': 55079, 'C562509': 55082, 'C564874': 55083, 'D005146': 55084, 'D054098': 55089, 'C535377': 55100, 'D019838': 55109, 'C536725': 55133, 'C567516': 55134, 'C557674': 55135, 'D029597': 55144, 'D000007': 55147, 'C565390': 55150, 'D004407': 55185, 'D018332': 55186, 'D003859': 55192, 'D053529': 55203, 'C580539': 55206, 'D053559': 55211, 'C538229': 55213, 'C566034': 55217, 'D007443': 55221, 'C538361': 55279, 'D010985': 55283, 'D061206': 55284, 'C536029': 55299, 'C565145': 55312, 'C537248': 55320, 'C537860': 55333, 'C563277': 55345, 'D056734': 55352, 'C538542': 55383, 'C537502': 55395, 'C535705': 55422, 'D019767': 55444, 'C537936': 55446, 'C536390': 55487, 'C538150': 55501, 'C536056': 55521, 'C563255': 55529, 'C537620': 55649, 'C563412': 55650, 'D018297': 55651, 'D044904': 55668, 'C564683': 55672, 'C564714': 55674, 'C535551': 55679, 'C563270': 55681, 'D010484': 55697, 'C566450': 55711, 'D007714': 55713, 'C537822': 55721, 'D006393': 55735, 'D013786': 55736, 'C536167': 55737, 'D018312': 55738, 'D013991': 55747, 'D058674': 55756, 'C566823': 55762, 'D015529': 55763, 'C536051': 55764, 'C566895': 55765, 'C536940': 55779, 'C565773': 55783, 'D051642': 55816, 'C565753': 55878, 'C566808': 55888, 'C536552': 55890, 'C563094': 55891, 'C564595': 55892, 'D050336': 55900, 'C535378': 55909, 'C535483': 55910, 'D049310': 55911, 'C535857': 55913, 'C536488': 55918, 'C535296': 55926, 'C535399': 55941, 'C537994': 55942, 'D012779': 55946, 'C537179': 55954, 'C531777': 55957, 'C537390': 55958, 'C537393': 55959, 'C563519': 55960, 'C563523': 55961, 'C566019': 55962, 'C537246': 55964, 'C562831': 55969, 'D057826': 56013, 'C563110': 56023, 'C566857': 56025, 'C537440': 56027, 'C536607': 56035, 'D020143': 56039, 'C535337': 56042, 'C563897': 56043, 'C565277': 56044, 'C535658': 56045, 'C536357': 56052, 'C535863': 56074, 'C566196': 56075, 'C537863': 56079, 'D020417': 56080, 'C537730': 56116, 'C564487': 56118, 'C535311': 56134, 'D054318': 56135, 'C537669': 56136, 'D015615': 56151, 'D061222': 56166, 'C538208': 56174, 'C536629': 56177, 'C562678': 56195, 'C563673': 56196, 'C535508': 56209, 'C537884': 56218, 'C562515': 56222, 'C537480': 56224, 'C562780': 56243, 'C562396': 56245, 'C537525': 56247, 'C548069': 56254, 'C564696': 56273, 'C565898': 56275, 'C563663': 56301, 'D059327': 56325, 'C538179': 56330, 'C564365': 56335, 'D015493': 56337, 'C562978': 56354, 'C563187': 56375, 'C563210': 56377, 'C567041': 56382, 'C535918': 56394, 'D007593': 56395, 'D018902': 56399, 'C536841': 56417, 'C562546': 56426, 'C567863': 56427, 'D007715': 56428, 'C565008': 56430, 'D018286': 56439, 'C535955': 56453, 'C535962': 56454, 'C537777': 56461, 'C567320': 56463, 'C536352': 56476, 'D005489': 56480, 'C535752': 56484, 'C567437': 56485, 'C535782': 56500, 'C535739': 56509, 'D039141': 56524, 'C536329': 56527, 'D002549': 56534, 'C535419': 56543, 'C564327': 56545, 'D018209': 56557, 'C563268': 56584, 'D004479': 56585, 'C536424': 56601, 'C564433': 56602, 'C564727': 56603, 'C538284': 56621, 'C537423': 56648, 'D008587': 56702, 'C564953': 56756, 'C564491': 56757, 'D008380': 56766, 'D004266': 56802, 'C565593': 56804, 'D006832': 56805, 'C538280': 56838, 'C579935': 56840, 'C538248': 56898, 'C538481': 56899, 'D005862': 56900, 'C538384': 56905, 'C535388': 56917, 'C563181': 56938, 'D015354': 56941, 'C563895': 56945, 'C565222': 56951, 'C537757': 56952, 'C535282': 57007, 'C548074': 57018, 'C565192': 57028, 'C563855': 57034, 'C537001': 57035, 'C535683': 57039, 'D053306': 57056, 'C563273': 57078, 'D007570': 57084, 'C565114': 57117, 'C536436': 57131, 'C562966': 57147, 'C537571': 57153, 'C564815': 57178, 'C535566': 57183, 'C566168': 57196, 'C537249': 57197, 'D006013': 57224, 'D003635': 57247, 'C536090': 57273, 'C564253': 57275, 'D006551': 57291, 'C537098': 57293, 'C565284': 57305, 'D005352': 57309, 'C536208': 57317, 'C564391': 57321, 'C564392': 57322, 'C535916': 57325, 'C537406': 57355, 'C564439': 57376, 'C537934': 57396, 'C566796': 57408, 'D009379': 57420, 'D018321': 57421, 'C537743': 57427, 'C565809': 57435, 'C538353': 57436, 'C538616': 57437, 'C537288': 57458, 'C565335': 57460, 'C564797': 57469, 'C536487': 57483, 'C537769': 57488, 'D051261': 57495, 'C537768': 57512, 'C535896': 57553, 'C566870': 57581, 'D011542': 57612, 'C537279': 57621, 'C565627': 57625, 'C537483': 57630, 'D016116': 57662, 'C536116': 57664, 'C565785': 57667, 'C563324': 57684, 'C537202': 57687, 'C537119': 57706, 'C536464': 57721, 'D009208': 57722, 'C566482': 57738, 'C538657': 57739, 'D016569': 57740, 'D056889': 57744, 'C564276': 57748, 'C562657': 57759, 'D009382': 57773, 'C566345': 57778, 'C538155': 57783, 'D006060': 57786, 'D057887': 57810, 'C566108': 57833, 'C562736': 57848, 'C567752': 57856, 'D009807': 57860, 'C538141': 57862, 'C563207': 57892, 'C537020': 57903, 'C537157': 57904, 'C535550': 57911, 'C535726': 57916, 'D003728': 57992, 'C565079': 58025, 'C535731': 58032, 'D020423': 58033, 'C535476': 58038, 'C535942': 58039, 'C537304': 58040, 'D055947': 58042, 'D059270': 58045, 'D002293': 58053, 'D047868': 58057, 'C538173': 58064, 'D056829': 58065, 'C537686': 58067, 'C563479': 58077, 'D009217': 58078, 'D015867': 58079, 'D017622': 58080, 'C536345': 58089, 'C536762': 58098, 'C564701': 58099, 'C566368': 58100, 'D008444': 58101, 'D009361': 58102, 'D015792': 58103, 'D057091': 58104, 'C538400': 58109, 'D015163': 58111, 'C536138': 58130, 'C536820': 58146, 'D015826': 58147, 'C566343': 58210, 'C535393': 58211, 'D014811': 58212, 'D017769': 58213, 'C563721': 58219, 'C537728': 58239, 'C535380': 58246, 'C565697': 58292, 'C536816': 58300, 'C562794': 58302, 'D018190': 58303, 'C537371': 58337, 'C563821': 58338, 'C564665': 58339, 'C567886': 58342, 'C535795': 58364, 'C563043': 58430, 'D056769': 58451, 'C564596': 58459, 'C562812': 58462, 'C531784': 58480, 'D004057': 58505, 'C536530': 58524, 'C537255': 58525, 'C563422': 58530, 'C536742': 58594, 'C567401': 58599, 'C536101': 58626, 'C537068': 58629, 'C537846': 58635, 'D001849': 58647, 'C537209': 58652, 'C537419': 58655, 'D008439': 58675, 'C565942': 58678, 'C562687': 58687, 'C565836': 58717, 'C536656': 58725, 'C536193': 58741, 'C538159': 58747, 'C537915': 58750, 'C536641': 58756, 'C536942': 58767, 'C535899': 58774, 'D009958': 58798, 'C535805': 58819, 'C536610': 58821, 'C567555': 58834, 'C535473': 58870, 'C535314': 58874, 'C536492': 58887, 'C538037': 58895, 'C535642': 58905, 'C536575': 58925, 'C563669': 58969, 'C565367': 58974, 'C536192': 58983, 'C567166': 58990, 'C536238': 58995, 'D005236': 58996, 'C537548': 59032, 'C567906': 59059, 'C536875': 59107, 'D056728': 59110, 'C536335': 59122, 'C562858': 59128, 'D018292': 59129, 'D050398': 59130, 'C538385': 59138, 'D007822': 59176, 'C537526': 59180, 'C535420': 59205, 'C537013': 59232, 'C536253': 59261, 'C536430': 59294, 'D001946': 59326, 'D006942': 59327, 'D015490': 59328, 'C564707': 59330, 'D025241': 59331, 'C562733': 59341, 'C536223': 59351, 'C567804': 59358, 'C564652': 59367, 'C535792': 59377, 'D009234': 59379, 'C536317': 59382, 'C535676': 59387, 'C536434': 59396, 'D050379': 59403, 'C563928': 59410, 'D007806': 59411, 'C536788': 59414, 'C536739': 59446, 'D018229': 59454, 'D052776': 59455, 'C536729': 59461, 'D003536': 59496, 'D003537': 59497, 'C537839': 59519, 'C536764': 59556, 'D015160': 59557, 'D018266': 59620, 'C565784': 59623, 'D005922': 82280, 'C562840': 82281, 'D007580': 82610, 'D008479': 82613, 'D010610': 82622, 'D018204': 82632, 'D005134': 82763, 'D009383': 82769, 'D007078': 82806, 'D004379': 82831, 'D012186': 82845, 'D013120': 82903}\n",
      "78 OMIM {'143890': 43723, '168600': 43838, '300082': 43839, '603663': 43840, '217000': 43876, '612348': 43981, '143470': 44372, '181800': 44373, '613724': 44413, '143095': 44590, '188890': 44638, '203700': 44686, '613290': 44711, '155310': 44754, '258660': 44819, '610251': 45075, '102510': 45084, '191900': 45097, '142700': 45392, '277300': 45415, '121700': 45457, '115650': 45869, '165800': 46046, '211750': 46047, '113900': 46161, '252500': 46606, '612862': 47072, '611809': 47075, '602081': 47195, '150800': 47525, '102530': 48038, '120970': 48047, '605376': 48597, '604588': 48669, '613207': 48931, '613508': 48981, '606035': 49061, '138800': 49136, '157600': 49169, '141500': 49224, '613729': 49247, '193235': 49300, '600791': 49345, '612551': 49376, '171200': 49377, '275120': 49585, '162000': 49621, '613091': 49698, '157700': 49727, '132100': 50368, '167959': 50741, '301050': 51651, '215150': 51687, '601696': 51703, '155600': 52098, '123320': 52255, '135300': 52496, '108420': 52745, '180500': 52853, '300049': 53471, '166260': 53527, '233300': 53820, '256600': 53974, '612852': 54987, '160800': 55004, '151900': 55062, '609165': 55210, '277000': 55390, '303800': 55670, '604391': 55786, '311250': 56155, '604273': 56678, '255310': 57419, '277580': 57723, '302045': 57900, '270100': 58088, '184460': 59352, '601308': 59456}\n",
      "127 DOID {'1725': 82652, '90': 82735, '11920': 82842, '363': 83429, '10763': 83430, '10283': 83431, '2998': 83432, '635': 83433, '1826': 83434, '2531': 83435, '4481': 83436, '3310': 83437, '1324': 83438, '9970': 83439, '8577': 83440, '3070': 83441, '1686': 83442, '4159': 83443, '9074': 83444, '1192': 83445, '418': 83446, '10534': 83447, '9352': 83448, '1909': 83449, '3083': 83450, '12365': 83451, '2841': 83452, '9008': 83453, '1793': 83454, '6364': 83455, '7147': 83456, '263': 83457, '2394': 83458, '3393': 83459, '184': 83460, '0050741': 83461, '13189': 83462, '9206': 83463, '2377': 83464, '12361': 83465, '4045': 83466, '11476': 83467, '1612': 83468, '9744': 83469, '1024': 83470, '219': 83471, '8893': 83472, '11054': 83473, '2994': 83474, '1936': 83475, '1459': 83476, '1115': 83477, '1781': 83478, '7148': 83479, '5408': 83480, '0050742': 83481, '11934': 83482, '1319': 83483, '11612': 83484, '3571': 83485, '2174': 83486, '12930': 83487, '10652': 83488, '8778': 83489, '14221': 83490, '2043': 83491, '0060073': 83492, '14227': 83493, '5041': 83494, '12236': 83495, '4989': 83496, '1312': 83497, '11714': 83498, '3277': 83499, '4362': 83500, '332': 83501, '12306': 83502, '585': 83503, '13378': 83504, '986': 83505, '13223': 83528, '10976': 83529, '2596': 83530, '119': 83531, '11819': 83532, '11949': 83533, '3312': 83534, '5875': 83535, '1245': 83536, '13499': 83537, '1993': 83538, '9835': 83539, '5559': 83540, '14268': 83541, '175': 83542, '12849': 83543, '0050425': 83544, '3121': 83545, '7693': 83546, '3565': 83547, '11615': 83548, '10021': 83549, '12995': 83550, '14004': 83551, '8850': 83552, '0060119': 83553, '5419': 83554, '10871': 83555, '5612': 83556, '8398': 83557, '1595': 83558, '0050156': 83559, '1790': 83560, '594': 83561, '10608': 83562, '824': 83563, '784': 83564, '10153': 83565, '14330': 83566, '10941': 83567, '12185': 83568, '1094': 83569, '1964': 83570, '10811': 83575, '5099': 83587, '11119': 83625, '8986': 83626}\n"
     ]
    }
   ],
   "source": [
    "for k,v in drkg_disease_dict.items():\n",
    "    print(len(v),k,v)"
   ]
  },
  {
   "cell_type": "code",
   "execution_count": 48,
   "id": "842b5a82",
   "metadata": {},
   "outputs": [
    {
     "name": "stdout",
     "output_type": "stream",
     "text": [
      "Number of common MESH diseases: 714\n"
     ]
    }
   ],
   "source": [
    "# MESH Only\n",
    "# common_disease_set = set()\n",
    "common_disease_dict = defaultdict(tuple)\n",
    "\n",
    "for mesh_dis,dmdb_id in dmdb_disease_dict['MESH'].items():\n",
    "    if mesh_dis in drkg_disease_dict['MESH'].keys():\n",
    "        # common_disease_set.add('MESH:'+ mesh_dis)       # Re-adding identifier 'MESH:'\n",
    "        common_disease_dict['MESH:'+ mesh_dis] = (dmdb_id,drkg_disease_dict['MESH'][mesh_dis])\n",
    "\n",
    "print(\"Number of common MESH diseases:\", len(common_disease_dict))"
   ]
  },
  {
   "cell_type": "code",
   "execution_count": null,
   "id": "85e90d59",
   "metadata": {},
   "outputs": [
    {
     "name": "stdout",
     "output_type": "stream",
     "text": [
      "Common disease name: MESH:D015464\n",
      "DrugMech entity dict ID: 3, DRKG entity dict ID: 25687\n"
     ]
    }
   ],
   "source": [
    "for k,v in common_disease_dict.items():\n",
    "    print('Common disease name:', k)\n",
    "    print(f'DrugMech entity dict ID: {v[0]}, DRKG entity dict ID: {v[1]}')\n",
    "    break"
   ]
  },
  {
   "cell_type": "code",
   "execution_count": 63,
   "id": "3358e208",
   "metadata": {},
   "outputs": [],
   "source": [
    "dmdb_to_drkg_disease_id_conv = {}      # TODO: messy\n",
    "\n",
    "for pair in common_disease_dict.values():\n",
    "    dmdb_to_drkg_disease_id_conv[pair[0]] = pair[1]"
   ]
  },
  {
   "cell_type": "markdown",
   "id": "80b2fbbe",
   "metadata": {},
   "source": [
    "# Common Pairs\n",
    "\n",
    "TODO : Include entity dictionary IDs for keeping track, use it in paths. "
   ]
  },
  {
   "cell_type": "markdown",
   "id": "e28e4a65",
   "metadata": {},
   "source": [
    "## Common entities in (drug-disease) pairs"
   ]
  },
  {
   "cell_type": "code",
   "execution_count": 51,
   "id": "b094e0b4",
   "metadata": {},
   "outputs": [
    {
     "name": "stdout",
     "output_type": "stream",
     "text": [
      "Number of common drug-disease pairs: 4484 / 4846\n"
     ]
    }
   ],
   "source": [
    "common_pairs_dict = defaultdict()\n",
    "\n",
    "for entry in dmdb_yaml:\n",
    "    graph_dict = entry['graph']\n",
    "    db_id = graph_dict['drugbank']\n",
    "    mesh_id = graph_dict['drug_mesh']\n",
    "    dis_id = graph_dict['disease_mesh']\n",
    "\n",
    "    if db_id in common_drug_dict and db_id != None:     # Drugbank ID\n",
    "        if dis_id in common_disease_dict:\n",
    "            common_pairs_dict[(db_id,dis_id)] = 'DB' # = ((dmdb_drug_dict['DB'][db_id],drkg_drug_dict['DB'][db_id]),(dmdb_disease_dict['MESH'][dis_id],drkg_disease_dict['MESH'][dis_id]))\n",
    "    elif mesh_id in common_drug_dict and mesh_id != None and mesh_id != 'MESH:null':    # Drug Mesh ID  - no duplicates (Drugbank ID has priority)\n",
    "        if dis_id in common_disease_dict:\n",
    "            common_pairs_dict[(mesh_id,dis_id)] = 'MESH'\n",
    "\n",
    "print(\"Number of common drug-disease pairs:\", len(common_pairs_dict),'/',len(dmdb_yaml))"
   ]
  },
  {
   "cell_type": "markdown",
   "id": "e579804d",
   "metadata": {},
   "source": [
    "#### Testing"
   ]
  },
  {
   "cell_type": "code",
   "execution_count": 53,
   "id": "657bc89f",
   "metadata": {},
   "outputs": [
    {
     "name": "stdout",
     "output_type": "stream",
     "text": [
      "('DB:DB00619', 'MESH:D015464')\n",
      "(DRUG) DMDB Entity index, DRKG Entity index: 1 8538\n",
      "(DISEASE) DMDB Entity index, DRKG Entity index: 3 25687\n",
      "\n"
     ]
    }
   ],
   "source": [
    "# Testing reverse pair search\n",
    "for i,common_pair in enumerate(common_pairs_dict.keys()):\n",
    "    print(common_pair)\n",
    "    common_drug, common_disease = common_pair\n",
    "    d_type, drug = common_drug.split(':')\n",
    "    dis_type, disease = common_disease.split(':')\n",
    "    print(\"(DRUG) DMDB Entity index, DRKG Entity index:\", dmdb_drug_dict[d_type][drug], drkg_drug_dict[d_type][drug])\n",
    "    print(\"(DISEASE) DMDB Entity index, DRKG Entity index:\", dmdb_disease_dict[dis_type][disease], drkg_disease_dict[dis_type][disease])\n",
    "    print()\n",
    "    \n",
    "    # if i == 10:\n",
    "    break"
   ]
  },
  {
   "cell_type": "code",
   "execution_count": 55,
   "id": "1b2fb45c",
   "metadata": {},
   "outputs": [
    {
     "name": "stdout",
     "output_type": "stream",
     "text": [
      "(\"Compound::DB00619\", \"Disease::MESH:D015464\"),\n"
     ]
    }
   ],
   "source": [
    "for i,common_pair in enumerate(common_pairs_dict.keys()):\n",
    "    common_drug, common_disease = common_pair\n",
    "    if \"DB\" in common_drug:\n",
    "        common_drug = common_drug.split(\":\")[1]\n",
    "    print(f'(\"Compound::{common_drug}\", \"Disease::{common_disease}\"),')\n",
    "    break\n"
   ]
  },
  {
   "cell_type": "markdown",
   "id": "65b913a3",
   "metadata": {},
   "source": [
    "## Common Pairs in triplets"
   ]
  },
  {
   "cell_type": "code",
   "execution_count": 70,
   "id": "eac97805",
   "metadata": {},
   "outputs": [],
   "source": [
    "common_pairs_set = set()\n",
    "converted_pairs_set = set()\n",
    "\n",
    "for subgraph in dmdb_subgraph_list:\n",
    "    dmdb_drug_db_id, dmdb_drug_mesh_id = subgraph['drug_db_id'], subgraph['drug_mesh_id']\n",
    "    dmdb_disease_id = subgraph['disease_id']\n",
    "\n",
    "    # Translate to drkg id if available\n",
    "    if dmdb_drug_db_id in dmdb_to_drkg_drug_id_conv and dmdb_disease_id in dmdb_to_drkg_disease_id_conv:\n",
    "        drug_drkg_conv_id = dmdb_to_drkg_drug_id_conv[dmdb_drug_db_id]\n",
    "        dis_drkg_conv_id = dmdb_to_drkg_disease_id_conv[dmdb_disease_id]\n",
    "    elif dmdb_drug_mesh_id in dmdb_to_drkg_drug_id_conv and dmdb_disease_id in dmdb_to_drkg_disease_id_conv:\n",
    "        drkg_conv_id = dmdb_to_drkg_drug_id_conv[dmdb_drug_mesh_id]\n",
    "        dis_drkg_conv_id = dmdb_to_drkg_disease_id_conv[dmdb_disease_id]\n",
    "    else:\n",
    "        # print('Pair does not exist in DRKG.')\n",
    "        continue\n",
    "\n",
    "    converted_pairs_set.add((drug_drkg_conv_id, dis_drkg_conv_id))\n",
    "\n",
    "# Check for common pairs\n",
    "for h, r, t in drkg_triplets_id_list:\n",
    "    if (h, t) in converted_pairs_set:\n",
    "        common_pairs_set.add((h, r, t))"
   ]
  },
  {
   "cell_type": "code",
   "execution_count": 69,
   "id": "856b24de",
   "metadata": {},
   "outputs": [
    {
     "name": "stdout",
     "output_type": "stream",
     "text": [
      "Number of common pairs between DrugMechDB and DRKG 2899\n"
     ]
    }
   ],
   "source": [
    "print(\"Number of common pairs between DrugMechDB and DRKG\", len(common_pairs_set))"
   ]
  },
  {
   "cell_type": "markdown",
   "id": "29a79ac3",
   "metadata": {},
   "source": [
    "# Pathing strategy for DrugMechDB\n",
    "\n",
    "Determine the data structure formatting to store the subgraph structure. Use integer IDs in entity dictionaries and focus on connections."
   ]
  }
 ],
 "metadata": {
  "kernelspec": {
   "display_name": "analysis-env",
   "language": "python",
   "name": "python3"
  },
  "language_info": {
   "codemirror_mode": {
    "name": "ipython",
    "version": 3
   },
   "file_extension": ".py",
   "mimetype": "text/x-python",
   "name": "python",
   "nbconvert_exporter": "python",
   "pygments_lexer": "ipython3",
   "version": "3.13.5"
  }
 },
 "nbformat": 4,
 "nbformat_minor": 5
}
